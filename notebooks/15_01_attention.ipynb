{
 "cells": [
  {
   "attachments": {},
   "cell_type": "markdown",
   "id": "aa3ccdd9-ace9-4c89-ad8e-0faebeec5c20",
   "metadata": {
    "tags": []
   },
   "source": [
    "# Chapter 15: Self-Attention and Transformers\n",
    "## The Attention mechanism and its implementation in PyTorch\n",
    "Computing self-attention of a sentence with GloVe embeddings and the `MultiheadAttention` class with PyTorch"
   ]
  },
  {
   "cell_type": "markdown",
   "id": "d3d90e41",
   "metadata": {},
   "source": [
    "Programs from the book: [_Python for Natural Language Processing_](https://link.springer.com/book/9783031575488)\n",
    "\n",
    "__Author__: Pierre Nugues"
   ]
  },
  {
   "attachments": {},
   "cell_type": "markdown",
   "id": "ba630853-00e0-4b64-ab86-01185c2deb0e",
   "metadata": {},
   "source": [
    "## Modules"
   ]
  },
  {
   "cell_type": "code",
   "execution_count": 1,
   "id": "0d21c1d0-b06a-4340-bf3d-419a6edaf327",
   "metadata": {},
   "outputs": [],
   "source": [
    "import torch\n",
    "import torch.nn as nn\n",
    "import torch.nn.functional as F\n",
    "import math"
   ]
  },
  {
   "cell_type": "code",
   "execution_count": 2,
   "id": "2b5940e4",
   "metadata": {},
   "outputs": [
    {
     "data": {
      "text/plain": [
       "<torch._C.Generator at 0x11add2010>"
      ]
     },
     "execution_count": 2,
     "metadata": {},
     "output_type": "execute_result"
    }
   ],
   "source": [
    "torch.manual_seed(1234)"
   ]
  },
  {
   "attachments": {},
   "cell_type": "markdown",
   "id": "9119bcd1-e5af-4b3a-bd87-45276f71c7db",
   "metadata": {
    "tags": []
   },
   "source": [
    "## Noncontextual embeddings"
   ]
  },
  {
   "attachments": {},
   "cell_type": "markdown",
   "id": "5741d7ec-e588-4a6d-9cba-f8eae75f4fad",
   "metadata": {},
   "source": [
    "We load GloVe"
   ]
  },
  {
   "cell_type": "code",
   "execution_count": 3,
   "id": "f9d84fbb-b15e-45c0-bba8-6074ec0bb393",
   "metadata": {},
   "outputs": [],
   "source": [
    "def read_embeddings(file):\n",
    "    \"\"\"\n",
    "    Return the embeddings in the from of a dictionary\n",
    "    :param file:\n",
    "    :return:\n",
    "    \"\"\"\n",
    "    embeddings = {}\n",
    "    with open(file, encoding='utf8') as glove:\n",
    "        for line in glove:\n",
    "            values = line.strip().split()\n",
    "            word = values[0]\n",
    "            vector = [float(value) for value in values[1:]]\n",
    "            vector = torch.FloatTensor(vector)\n",
    "            embeddings[word] = vector\n",
    "    return embeddings"
   ]
  },
  {
   "cell_type": "code",
   "execution_count": 4,
   "id": "d7f855dc",
   "metadata": {},
   "outputs": [],
   "source": [
    "PATH = '../../corpus/'"
   ]
  },
  {
   "cell_type": "code",
   "execution_count": 5,
   "id": "14e0a3c6-6e89-4500-b555-fb40efb5bcc5",
   "metadata": {},
   "outputs": [],
   "source": [
    "embedding_file = PATH + 'glove.6B.50d.txt'\n",
    "embeddings_dict = read_embeddings(embedding_file)"
   ]
  },
  {
   "cell_type": "code",
   "execution_count": 6,
   "id": "d6ba6dc1-a704-4e08-b89b-fc5325ebcf14",
   "metadata": {},
   "outputs": [
    {
     "data": {
      "text/plain": [
       "tensor([ 1.5213,  0.1052,  0.3816, -0.5080,  0.0324, -0.1348, -1.2474,  0.7981,\n",
       "         0.8469, -1.1010,  0.8874,  1.3749,  0.4293,  0.6572, -0.2636, -0.4176,\n",
       "        -0.4885,  0.9106, -1.7158, -0.4380,  0.7839,  0.1964, -0.4066, -0.5397,\n",
       "         0.8244, -1.7434,  0.1428,  0.2804,  1.1688,  0.1690,  2.2271, -0.5827,\n",
       "        -0.4572,  0.6281,  0.5444,  0.2846,  0.4448, -0.5534, -0.3649, -0.0164,\n",
       "         0.4088, -0.8715,  1.5513, -0.8070, -0.1004, -0.2846, -0.3322, -0.5061,\n",
       "         0.4827, -0.6620])"
      ]
     },
     "execution_count": 6,
     "metadata": {},
     "output_type": "execute_result"
    }
   ],
   "source": [
    "embeddings_dict['ship']"
   ]
  },
  {
   "attachments": {},
   "cell_type": "markdown",
   "id": "a2b9f1dd-07e7-4995-abea-8c2fe202e16e",
   "metadata": {},
   "source": [
    "## Cosine similarity"
   ]
  },
  {
   "attachments": {},
   "cell_type": "markdown",
   "id": "f5c648e3-c5f9-4e70-82f3-1b138400c1af",
   "metadata": {},
   "source": [
    "Let us compute the cosine similarity of the words in a sentence:\n",
    "> I must go back to my ship and to my crew\n",
    "\n",
    "_Odyssey_, book I \n",
    "\n",
    "Remember that:\n",
    "$$\\cos(\\mathbf{u}, \\mathbf{v}) = \\frac{\\mathbf{u} \\cdot \\mathbf{v}}{||\\mathbf{u}|| \\cdot ||\\mathbf{v} ||}$$"
   ]
  },
  {
   "cell_type": "code",
   "execution_count": 7,
   "id": "02456cd9-bc86-4ccb-ad68-e4124cb16e35",
   "metadata": {},
   "outputs": [],
   "source": [
    "sentence_odyssey = 'I must go back to my ship and to my crew'\n",
    "sentence_amazon = 'We process and ship your order'\n",
    "# in the most cost-efficient way possible"
   ]
  },
  {
   "cell_type": "code",
   "execution_count": 8,
   "id": "b0851862-27f2-4fd9-98ed-e9aa64d2dcd0",
   "metadata": {},
   "outputs": [
    {
     "data": {
      "text/plain": [
       "['i', 'must', 'go', 'back', 'to', 'my', 'ship', 'and', 'to', 'my', 'crew']"
      ]
     },
     "execution_count": 8,
     "metadata": {},
     "output_type": "execute_result"
    }
   ],
   "source": [
    "words_a = sentence_amazon.lower().split()\n",
    "words_o = sentence_odyssey.lower().split()\n",
    "words_o"
   ]
  },
  {
   "attachments": {},
   "cell_type": "markdown",
   "id": "600768d3-408b-48cc-994d-710fdb0c45df",
   "metadata": {},
   "source": [
    "We build the embedding matrix"
   ]
  },
  {
   "cell_type": "code",
   "execution_count": 9,
   "id": "ef726a70-39fb-4bc9-826b-fa4efa6f889e",
   "metadata": {},
   "outputs": [],
   "source": [
    "def embedding_matrix(words, embeddings_dict):\n",
    "    embeddings_seq = [embeddings_dict[word] for word in words]\n",
    "    embeddings_seq = torch.stack(embeddings_seq)\n",
    "    return embeddings_seq"
   ]
  },
  {
   "cell_type": "code",
   "execution_count": 10,
   "id": "d4dbf6ec",
   "metadata": {},
   "outputs": [],
   "source": [
    "X_a = embedding_matrix(words_a, embeddings_dict)\n",
    "X_o = embedding_matrix(words_o, embeddings_dict)"
   ]
  },
  {
   "cell_type": "code",
   "execution_count": 11,
   "id": "f97d5907",
   "metadata": {},
   "outputs": [
    {
     "data": {
      "text/plain": [
       "torch.Size([11, 50])"
      ]
     },
     "execution_count": 11,
     "metadata": {},
     "output_type": "execute_result"
    }
   ],
   "source": [
    "X_o.size()"
   ]
  },
  {
   "cell_type": "code",
   "execution_count": 12,
   "id": "788b9eb2",
   "metadata": {},
   "outputs": [
    {
     "data": {
      "text/plain": [
       "torch.Size([6, 50])"
      ]
     },
     "execution_count": 12,
     "metadata": {},
     "output_type": "execute_result"
    }
   ],
   "source": [
    "X_a.size()"
   ]
  },
  {
   "cell_type": "code",
   "execution_count": 13,
   "id": "807f131d",
   "metadata": {},
   "outputs": [
    {
     "data": {
      "text/plain": [
       "tensor([ 1.1891e-01,  1.5255e-01, -8.2073e-02, -7.4144e-01,  7.5917e-01,\n",
       "        -4.8328e-01, -3.1009e-01,  5.1476e-01, -9.8708e-01,  6.1757e-04])"
      ]
     },
     "execution_count": 13,
     "metadata": {},
     "output_type": "execute_result"
    }
   ],
   "source": [
    "X_o[0][:10]"
   ]
  },
  {
   "attachments": {},
   "cell_type": "markdown",
   "id": "9049e121-9f7b-4392-a4db-e99e06f25bf4",
   "metadata": {},
   "source": [
    "We compute the attention weights as the pairwise cosines of the word embeddings"
   ]
  },
  {
   "cell_type": "code",
   "execution_count": 14,
   "id": "c68fa0d6",
   "metadata": {},
   "outputs": [],
   "source": [
    "def attn_cos_weights(embeddings_mat):\n",
    "    E_normed = F.normalize(embeddings_mat)\n",
    "    attn_weights_cos = E_normed @ E_normed.T\n",
    "    return attn_weights_cos"
   ]
  },
  {
   "cell_type": "code",
   "execution_count": 15,
   "id": "e6db4f3c-57c0-4e4d-a66e-5ecb94cf5697",
   "metadata": {},
   "outputs": [],
   "source": [
    "def print_cos_weights(words, embeddings_dict):\n",
    "    embeddings = embedding_matrix(words, embeddings_dict)\n",
    "    attn_weights_cos = attn_cos_weights(embeddings)\n",
    "    print('\\t', end='')\n",
    "    for i in range(len(words)):\n",
    "        print(words[i], end='\\t')\n",
    "    print()\n",
    "\n",
    "    for i in range(attn_weights_cos.shape[0]):\n",
    "        print(words[i], end='\\t')\n",
    "        for j in range(attn_weights_cos.shape[1]):\n",
    "            print(f\"{attn_weights_cos[i,j]:.2f}\", end='\\t')\n",
    "        print()"
   ]
  },
  {
   "cell_type": "code",
   "execution_count": 16,
   "id": "76984ad3",
   "metadata": {},
   "outputs": [
    {
     "name": "stdout",
     "output_type": "stream",
     "text": [
      "\ti\tmust\tgo\tback\tto\tmy\tship\tand\tto\tmy\tcrew\t\n",
      "i\t1.00\t0.75\t0.86\t0.76\t0.73\t0.90\t0.35\t0.65\t0.73\t0.90\t0.42\t\n",
      "must\t0.75\t1.00\t0.85\t0.68\t0.87\t0.69\t0.42\t0.69\t0.87\t0.69\t0.45\t\n",
      "go\t0.86\t0.85\t1.00\t0.84\t0.84\t0.81\t0.41\t0.68\t0.84\t0.81\t0.49\t\n",
      "back\t0.76\t0.68\t0.84\t1.00\t0.83\t0.76\t0.49\t0.77\t0.83\t0.76\t0.51\t\n",
      "to\t0.73\t0.87\t0.84\t0.83\t1.00\t0.68\t0.54\t0.86\t1.00\t0.68\t0.51\t\n",
      "my\t0.90\t0.69\t0.81\t0.76\t0.68\t1.00\t0.38\t0.63\t0.68\t1.00\t0.44\t\n",
      "ship\t0.35\t0.42\t0.41\t0.49\t0.54\t0.38\t1.00\t0.46\t0.54\t0.38\t0.78\t\n",
      "and\t0.65\t0.69\t0.68\t0.77\t0.86\t0.63\t0.46\t1.00\t0.86\t0.63\t0.49\t\n",
      "to\t0.73\t0.87\t0.84\t0.83\t1.00\t0.68\t0.54\t0.86\t1.00\t0.68\t0.51\t\n",
      "my\t0.90\t0.69\t0.81\t0.76\t0.68\t1.00\t0.38\t0.63\t0.68\t1.00\t0.44\t\n",
      "crew\t0.42\t0.45\t0.49\t0.51\t0.51\t0.44\t0.78\t0.49\t0.51\t0.44\t1.00\t\n"
     ]
    }
   ],
   "source": [
    "print_cos_weights(words_o, embeddings_dict)"
   ]
  },
  {
   "cell_type": "code",
   "execution_count": 17,
   "id": "1e35e7c8",
   "metadata": {},
   "outputs": [
    {
     "name": "stdout",
     "output_type": "stream",
     "text": [
      "\twe\tprocess\tand\tship\tyour\torder\t\n",
      "we\t1.00\t0.64\t0.70\t0.36\t0.75\t0.64\t\n",
      "process\t0.64\t1.00\t0.61\t0.29\t0.52\t0.67\t\n",
      "and\t0.70\t0.61\t1.00\t0.46\t0.58\t0.69\t\n",
      "ship\t0.36\t0.29\t0.46\t1.00\t0.37\t0.52\t\n",
      "your\t0.75\t0.52\t0.58\t0.37\t1.00\t0.63\t\n",
      "order\t0.64\t0.67\t0.69\t0.52\t0.63\t1.00\t\n"
     ]
    }
   ],
   "source": [
    "print_cos_weights(words_a, embeddings_dict)"
   ]
  },
  {
   "attachments": {},
   "cell_type": "markdown",
   "id": "591c498b-1650-403a-9ba1-780ba3ef4dd5",
   "metadata": {},
   "source": [
    "## Contextual embeddings"
   ]
  },
  {
   "attachments": {},
   "cell_type": "markdown",
   "id": "958548e0-5560-4c09-bb13-9731cccf72fa",
   "metadata": {},
   "source": [
    "We design a new vector representation for _ship_ so that it receives an influence from _crew_ and the other words of its context. This influence will depend on the embeddings from te context. Let us use the cosine similarities as attention weights"
   ]
  },
  {
   "cell_type": "code",
   "execution_count": 18,
   "id": "9cedf865",
   "metadata": {},
   "outputs": [
    {
     "data": {
      "text/plain": [
       "tensor([0.3466, 0.4178, 0.4068, 0.4853, 0.5401, 0.3791, 1.0000, 0.4586, 0.5401,\n",
       "        0.3791, 0.7848])"
      ]
     },
     "execution_count": 18,
     "metadata": {},
     "output_type": "execute_result"
    }
   ],
   "source": [
    "attn_cos_weights(X_o)[6]"
   ]
  },
  {
   "attachments": {},
   "cell_type": "markdown",
   "id": "dca41244-cf33-4d0c-9bd9-d1b705f45b1f",
   "metadata": {},
   "source": [
    "We compute the new embeddings as the sum of the noncontextual embeddings weighted by the cosine similarity. We have contextual embeddings."
   ]
  },
  {
   "cell_type": "code",
   "execution_count": 19,
   "id": "2a2700f2-3bbe-4911-9e73-bc32ad1cf082",
   "metadata": {},
   "outputs": [
    {
     "data": {
      "text/plain": [
       "tensor([  3.2289,   0.6422,   1.4712,  -2.3538,   2.2414,  -0.4237,  -4.1052,\n",
       "          2.6216,   0.1719,  -2.4324,   1.3882,   3.7241,  -1.9721,   1.1893,\n",
       "          2.2511,   0.9502,  -0.7646,   1.0289,  -3.0553,  -3.6306,   0.8305,\n",
       "          2.9299,   1.3221,  -0.7092,   2.9745, -10.5959,  -1.3168,   0.2059,\n",
       "          3.5457,  -2.7711,  18.2672,   2.4817,  -3.5887,   0.3297,   1.2718,\n",
       "          0.6539,   1.5873,   0.0195,   0.7724,  -1.4620,  -0.2067,  -1.2464,\n",
       "          2.1504,  -0.1811,  -0.5026,  -0.2888,  -0.5060,  -1.9676,  -0.0605,\n",
       "         -0.6725])"
      ]
     },
     "execution_count": 19,
     "metadata": {},
     "output_type": "execute_result"
    }
   ],
   "source": [
    "new_embeddings_ship = (0.35 * embeddings_dict['i'] +\n",
    "                       0.42 * embeddings_dict['must'] +\n",
    "                       0.41 * embeddings_dict['go'] +\n",
    "                       0.49 * embeddings_dict['back'] +\n",
    "                       0.54 * embeddings_dict['to'] +\n",
    "                       0.38 * embeddings_dict['my'] +\n",
    "                       1.00 * embeddings_dict['ship'] +\n",
    "                       0.46 * embeddings_dict['and'] +\n",
    "                       0.54 * embeddings_dict['to'] +\n",
    "                       0.38 * embeddings_dict['my'] +\n",
    "                       0.78 * embeddings_dict['crew'])\n",
    "new_embeddings_ship"
   ]
  },
  {
   "attachments": {},
   "cell_type": "markdown",
   "id": "135c0613-cac0-4fbc-abc0-30f0727a79a1",
   "metadata": {},
   "source": [
    "Exact computation with torch"
   ]
  },
  {
   "cell_type": "code",
   "execution_count": 20,
   "id": "82630b84",
   "metadata": {},
   "outputs": [
    {
     "data": {
      "text/plain": [
       "tensor([ 3.2319e+00,  6.4082e-01,  1.4718e+00, -2.3434e+00,  2.2358e+00,\n",
       "        -4.1877e-01, -4.1002e+00,  2.6211e+00,  1.8010e-01, -2.4360e+00,\n",
       "         1.3923e+00,  3.7188e+00, -1.9603e+00,  1.1980e+00,  2.2394e+00,\n",
       "         9.3763e-01, -7.7049e-01,  1.0349e+00, -3.0615e+00, -3.6259e+00,\n",
       "         8.3401e-01,  2.9281e+00,  1.3165e+00, -7.1303e-01,  2.9667e+00,\n",
       "        -1.0567e+01, -1.3099e+00,  2.0283e-01,  3.5362e+00, -2.7571e+00,\n",
       "         1.8220e+01,  2.4698e+00, -3.5804e+00,  3.2604e-01,  1.2760e+00,\n",
       "         6.5701e-01,  1.5889e+00,  1.1571e-02,  7.6620e-01, -1.4560e+00,\n",
       "        -2.0362e-01, -1.2484e+00,  2.1550e+00, -1.8767e-01, -5.0253e-01,\n",
       "        -2.9128e-01, -5.1006e-01, -1.9596e+00, -5.8853e-02, -6.7380e-01])"
      ]
     },
     "execution_count": 20,
     "metadata": {},
     "output_type": "execute_result"
    }
   ],
   "source": [
    "(attn_cos_weights(X_o) @ X_o)[6]"
   ]
  },
  {
   "attachments": {},
   "cell_type": "markdown",
   "id": "61f8b7cf-0ef8-46dd-96d2-e94601dcdf45",
   "metadata": {
    "tags": []
   },
   "source": [
    "## Self-attention"
   ]
  },
  {
   "attachments": {},
   "cell_type": "markdown",
   "id": "7fe38dcb-887e-4b92-871e-011918b76140",
   "metadata": {},
   "source": [
    "Vaswani et al. (2017) defined attention as:\n",
    "$$\n",
    "\\text{Attention}({Q}, {K}, {Q}) = \\text{softmax}(\\frac{{Q}  {K}^\\intercal}{\\sqrt{d_k}})  {V},\n",
    "$$\n",
    "where\n",
    "$$\n",
    "\\begin{array}{lcl}\n",
    "{Q} &=& {X} {W}^Q,   \\\\\n",
    "{K} &=& {X} {W}^K , \\\\\n",
    "{V} &=& {X} {W}^V.\\\\\n",
    "\\end{array}\n",
    "$$\n",
    "and ${X}$ represents complete input sequence (all the tokens).\n",
    "\n",
    "$d_k$ is the dimension of the input and $\\sqrt{d_k}$ a scaling factor. The $\\text{softmax}$ function is defined as:\n",
    "$$\n",
    "\\text{softmax}(x_1, x_2, ..., x_j, ..., x_n) = (\\frac{e^{x_1}}{\\sum_{i=1}^n e^{x_i}}, \\frac{e^{x_2}}{\\sum_{i=1}^n e^{x_i}}, ..., \\frac{e^{x_j}}{\\sum_{i=1}^n e^{x_i}}, ..., \\frac{e^{x_n}}{\\sum_{i=1}^n e^{x_i}})\n",
    "$$\n",
    "\n",
    "We omit the weight matrices and we use the same embeddings for ${Q}$, ${K}$, and ${Q}$: GloVe embeddings"
   ]
  },
  {
   "attachments": {},
   "cell_type": "markdown",
   "id": "77bac5b7-2636-405a-ad9d-5ce0aec3f541",
   "metadata": {},
   "source": [
    "For the matrix above, self attention, $\\text{softmax}(\\frac{{Q}  {K}^\\intercal}{\\sqrt{d_k}})$,  for _ship_ yields:"
   ]
  },
  {
   "cell_type": "code",
   "execution_count": 21,
   "id": "edc144c8",
   "metadata": {},
   "outputs": [
    {
     "data": {
      "text/plain": [
       "tensor(50)"
      ]
     },
     "execution_count": 21,
     "metadata": {},
     "output_type": "execute_result"
    }
   ],
   "source": [
    "dk = embeddings_dict['i'].size(dim=0)\n",
    "dk = torch.tensor(dk)\n",
    "dk"
   ]
  },
  {
   "cell_type": "code",
   "execution_count": 22,
   "id": "cd81a119-112f-4eb1-9f36-7fa0514ac14c",
   "metadata": {},
   "outputs": [
    {
     "data": {
      "text/plain": [
       "tensor([0.0303, 0.0302, 0.0276, 0.0407, 0.0459, 0.0343, 0.5530, 0.0297, 0.0459,\n",
       "        0.0343, 0.1281])"
      ]
     },
     "execution_count": 22,
     "metadata": {},
     "output_type": "execute_result"
    }
   ],
   "source": [
    "attn_weights_o = F.softmax(\n",
    "    X_o @ X_o.T/torch.sqrt(dk), dim=-1)\n",
    "attn_weights_o[6]"
   ]
  },
  {
   "attachments": {},
   "cell_type": "markdown",
   "id": "f9658c8f-2804-4f0b-8c6d-c0cd5e10e0c2",
   "metadata": {},
   "source": [
    "The scaled and normalized attention weights"
   ]
  },
  {
   "cell_type": "code",
   "execution_count": 23,
   "id": "cf831af2-f40f-4512-a661-e300c467b897",
   "metadata": {},
   "outputs": [],
   "source": [
    "def print_attn_weights(words, embeddings_dict):\n",
    "    embeddings = embedding_matrix(words, embeddings_dict)\n",
    "    sent_length, dk = embeddings.size()\n",
    "    attn_weights = F.softmax(embeddings @ embeddings.T /\n",
    "                             torch.sqrt(torch.tensor(dk)), dim=-1)\n",
    "    print('\\t', end='')\n",
    "    for i in range(sent_length):\n",
    "        print(words[i], end='\\t')\n",
    "    print()\n",
    "    for i in range(sent_length):\n",
    "        print(words[i], end='\\t')\n",
    "        for j in range(sent_length):\n",
    "            print(f\"{attn_weights[i,j]:.2f}\", end='\\t')\n",
    "        print()"
   ]
  },
  {
   "cell_type": "code",
   "execution_count": 24,
   "id": "5f977f85",
   "metadata": {},
   "outputs": [
    {
     "name": "stdout",
     "output_type": "stream",
     "text": [
      "\ti\tmust\tgo\tback\tto\tmy\tship\tand\tto\tmy\tcrew\t\n",
      "i\t0.36\t0.05\t0.07\t0.05\t0.04\t0.19\t0.01\t0.02\t0.04\t0.19\t0.01\t\n",
      "must\t0.14\t0.20\t0.10\t0.06\t0.11\t0.10\t0.03\t0.05\t0.11\t0.10\t0.02\t\n",
      "go\t0.18\t0.09\t0.14\t0.09\t0.08\t0.13\t0.02\t0.04\t0.08\t0.13\t0.02\t\n",
      "back\t0.14\t0.05\t0.09\t0.19\t0.08\t0.12\t0.03\t0.06\t0.08\t0.12\t0.03\t\n",
      "to\t0.11\t0.11\t0.09\t0.09\t0.15\t0.08\t0.04\t0.07\t0.15\t0.08\t0.03\t\n",
      "my\t0.19\t0.03\t0.05\t0.04\t0.03\t0.29\t0.01\t0.02\t0.03\t0.29\t0.01\t\n",
      "ship\t0.03\t0.03\t0.03\t0.04\t0.05\t0.03\t0.55\t0.03\t0.05\t0.03\t0.13\t\n",
      "and\t0.10\t0.08\t0.07\t0.10\t0.12\t0.09\t0.04\t0.15\t0.12\t0.09\t0.04\t\n",
      "to\t0.11\t0.11\t0.09\t0.09\t0.15\t0.08\t0.04\t0.07\t0.15\t0.08\t0.03\t\n",
      "my\t0.19\t0.03\t0.05\t0.04\t0.03\t0.29\t0.01\t0.02\t0.03\t0.29\t0.01\t\n",
      "crew\t0.06\t0.05\t0.05\t0.06\t0.05\t0.06\t0.21\t0.04\t0.05\t0.06\t0.31\t\n"
     ]
    }
   ],
   "source": [
    "print_attn_weights(words_o, embeddings_dict)"
   ]
  },
  {
   "attachments": {},
   "cell_type": "markdown",
   "id": "7894ff99-35da-460d-8121-b69492a26e21",
   "metadata": {},
   "source": [
    "For _ship:_"
   ]
  },
  {
   "cell_type": "code",
   "execution_count": 25,
   "id": "e556eebb-36bd-4046-90a2-bdc0df48523b",
   "metadata": {},
   "outputs": [
    {
     "data": {
      "text/plain": [
       "tensor([0.0303, 0.0302, 0.0276, 0.0407, 0.0459, 0.0343, 0.5530, 0.0297, 0.0459,\n",
       "        0.0343, 0.1281])"
      ]
     },
     "execution_count": 25,
     "metadata": {},
     "output_type": "execute_result"
    }
   ],
   "source": [
    "attn_weights_o[6]"
   ]
  },
  {
   "attachments": {},
   "cell_type": "markdown",
   "id": "8ecb44a4-ba75-400e-96da-da4f197b51c8",
   "metadata": {},
   "source": [
    "We have the weights of 55% for _ship_ and 13% for _crew_, the rest from the other words."
   ]
  },
  {
   "attachments": {},
   "cell_type": "markdown",
   "id": "5624ca6b-c824-4e1c-a23e-2e05222d3d26",
   "metadata": {},
   "source": [
    "And the new contextual embedding is for _ship_ is a linear combination:"
   ]
  },
  {
   "cell_type": "code",
   "execution_count": 26,
   "id": "eb9d28fa-a98a-4579-9ff6-4ceba203dcb1",
   "metadata": {},
   "outputs": [
    {
     "data": {
      "text/plain": [
       "tensor([ 1.0442,  0.0966,  0.3467, -0.4238,  0.2203, -0.0956, -0.9915,  0.6637,\n",
       "         0.4368, -0.7943,  0.5639,  0.9838,  0.0240,  0.5066,  0.0732, -0.1740,\n",
       "        -0.3322,  0.5614, -1.1613, -0.5717,  0.4356,  0.4120, -0.0659, -0.3336,\n",
       "         0.6579, -1.7421, -0.0344,  0.1440,  0.8547, -0.1430,  2.6614, -0.0553,\n",
       "        -0.5376,  0.3057,  0.4068,  0.2231,  0.3959, -0.2940, -0.1163, -0.1340,\n",
       "         0.1709, -0.5332,  0.9552, -0.4178, -0.1058, -0.1715, -0.2251, -0.3923,\n",
       "         0.2098, -0.3625])"
      ]
     },
     "execution_count": 26,
     "metadata": {},
     "output_type": "execute_result"
    }
   ],
   "source": [
    "self_attention_ship = (0.03 * embeddings_dict['i'] +\n",
    "                       0.03 * embeddings_dict['must'] +\n",
    "                       0.03 * embeddings_dict['go'] +\n",
    "                       0.04 * embeddings_dict['back'] +\n",
    "                       0.05 * embeddings_dict['to'] +\n",
    "                       0.03 * embeddings_dict['my'] +\n",
    "                       0.55 * embeddings_dict['ship'] +\n",
    "                       0.03 * embeddings_dict['and'] +\n",
    "                       0.05 * embeddings_dict['to'] +\n",
    "                       0.03 * embeddings_dict['my'] +\n",
    "                       0.13 * embeddings_dict['crew'])\n",
    "self_attention_ship"
   ]
  },
  {
   "attachments": {},
   "cell_type": "markdown",
   "id": "cc714db7-aa8d-41de-b844-0e2299ae829d",
   "metadata": {},
   "source": [
    "Exact and complete computation of the whole matrix with torch of \n",
    "$$\n",
    "\\text{softmax}(\\frac{{Q}  {K}^\\intercal}{\\sqrt{d_k}})  {V} :\n",
    "$$"
   ]
  },
  {
   "cell_type": "code",
   "execution_count": 27,
   "id": "6ea8976f-3ee2-406d-9318-2ca0eecb5616",
   "metadata": {
    "tags": []
   },
   "outputs": [],
   "source": [
    "self_attention_output_o = attn_weights_o @ X_o"
   ]
  },
  {
   "attachments": {},
   "cell_type": "markdown",
   "id": "1afaa573-f2bd-49d2-9cb5-dced32b4c5a3",
   "metadata": {},
   "source": [
    "The contextual embeddings for _ship:_"
   ]
  },
  {
   "cell_type": "code",
   "execution_count": 28,
   "id": "069655f9-bd3a-4b04-903a-c65ae881baec",
   "metadata": {},
   "outputs": [
    {
     "data": {
      "text/plain": [
       "tensor([ 1.0387,  0.1033,  0.3426, -0.4320,  0.2237, -0.0958, -0.9926,  0.6662,\n",
       "         0.4424, -0.7942,  0.5638,  0.9921,  0.0205,  0.5082,  0.0743, -0.1773,\n",
       "        -0.3408,  0.5675, -1.1545, -0.5718,  0.4288,  0.4191, -0.0658, -0.3339,\n",
       "         0.6682, -1.7473, -0.0485,  0.1531,  0.8642, -0.1447,  2.6571, -0.0545,\n",
       "        -0.5343,  0.3160,  0.4041,  0.2277,  0.3958, -0.2916, -0.1126, -0.1385,\n",
       "         0.1744, -0.5375,  0.9499, -0.4145, -0.1039, -0.1755, -0.2213, -0.3995,\n",
       "         0.2119, -0.3610])"
      ]
     },
     "execution_count": 28,
     "metadata": {},
     "output_type": "execute_result"
    }
   ],
   "source": [
    "self_attention_output_o[6]"
   ]
  },
  {
   "attachments": {},
   "cell_type": "markdown",
   "id": "3011b9ef",
   "metadata": {},
   "source": [
    "We can now write an `attention` function "
   ]
  },
  {
   "cell_type": "code",
   "execution_count": 29,
   "id": "3b4c43aa",
   "metadata": {},
   "outputs": [],
   "source": [
    "def attention(Q, K, V):\n",
    "    d_k = K.size(dim=-1)\n",
    "    attn_weights = F.softmax(Q @ K.T/math.sqrt(d_k), dim=-1)\n",
    "    attn_output = attn_weights @ V\n",
    "    return attn_output, attn_weights"
   ]
  },
  {
   "attachments": {},
   "cell_type": "markdown",
   "id": "9fc9eaba",
   "metadata": {},
   "source": [
    "The word _ship_ in another context: _We process and ship your order_"
   ]
  },
  {
   "cell_type": "code",
   "execution_count": 30,
   "id": "70859d60",
   "metadata": {},
   "outputs": [],
   "source": [
    "attention_output_a, attn_weights_a = attention(X_a, X_a, X_a)"
   ]
  },
  {
   "attachments": {},
   "cell_type": "markdown",
   "id": "4cbaaf4a",
   "metadata": {},
   "source": [
    "Attention weights for _ship:_"
   ]
  },
  {
   "cell_type": "code",
   "execution_count": 31,
   "id": "a8bfb2ca",
   "metadata": {},
   "outputs": [
    {
     "data": {
      "text/plain": [
       "tensor([0.0431, 0.0258, 0.0419, 0.7811, 0.0490, 0.0590])"
      ]
     },
     "execution_count": 31,
     "metadata": {},
     "output_type": "execute_result"
    }
   ],
   "source": [
    "attn_weights_a[3]"
   ]
  },
  {
   "cell_type": "code",
   "execution_count": 32,
   "id": "a45d66fc",
   "metadata": {},
   "outputs": [
    {
     "name": "stdout",
     "output_type": "stream",
     "text": [
      "\twe\tprocess\tand\tship\tyour\torder\t\n",
      "we\t0.61\t0.06\t0.06\t0.02\t0.20\t0.05\t\n",
      "process\t0.17\t0.50\t0.08\t0.03\t0.11\t0.11\t\n",
      "and\t0.22\t0.12\t0.30\t0.08\t0.15\t0.13\t\n",
      "ship\t0.04\t0.03\t0.04\t0.78\t0.05\t0.06\t\n",
      "your\t0.14\t0.03\t0.03\t0.02\t0.74\t0.04\t\n",
      "order\t0.16\t0.13\t0.10\t0.09\t0.18\t0.34\t\n"
     ]
    }
   ],
   "source": [
    "print_attn_weights(words_a, embeddings_dict)"
   ]
  },
  {
   "attachments": {},
   "cell_type": "markdown",
   "id": "1963dec4",
   "metadata": {},
   "source": [
    "The new contextual embeddings for _ship:_"
   ]
  },
  {
   "cell_type": "code",
   "execution_count": 33,
   "id": "37a2b793",
   "metadata": {},
   "outputs": [
    {
     "data": {
      "text/plain": [
       "tensor([ 1.2758,  0.1034,  0.2720, -0.4776,  0.1746, -0.1060, -0.9901,  0.6328,\n",
       "         0.6967, -0.8847,  0.7106,  1.2264,  0.2491,  0.5023, -0.1277, -0.2361,\n",
       "        -0.3709,  0.6545, -1.2587, -0.5332,  0.6681,  0.1687, -0.2567, -0.4218,\n",
       "         0.6960, -1.7077, -0.0052,  0.1572,  1.0763,  0.0410,  2.5467, -0.3418,\n",
       "        -0.5414,  0.4175,  0.4147,  0.2666,  0.3770, -0.4228, -0.2462, -0.0377,\n",
       "         0.3202, -0.7298,  1.2020, -0.5636, -0.0899, -0.1845, -0.2390, -0.4307,\n",
       "         0.3828, -0.4905])"
      ]
     },
     "execution_count": 33,
     "metadata": {},
     "output_type": "execute_result"
    }
   ],
   "source": [
    "attention_output_a[3]"
   ]
  },
  {
   "cell_type": "markdown",
   "id": "8a45958f",
   "metadata": {},
   "source": [
    "## Attention class"
   ]
  },
  {
   "cell_type": "code",
   "execution_count": 34,
   "id": "4388274f",
   "metadata": {},
   "outputs": [],
   "source": [
    "class Attention(nn.Module):\n",
    "    def __init__(self, d_model, d_k):\n",
    "        super().__init__()\n",
    "        self.WQ = nn.Linear(d_model, d_k)\n",
    "        self.WK = nn.Linear(d_model, d_k)\n",
    "        self.WV = nn.Linear(d_model, d_k)\n",
    "\n",
    "    def forward(self, X):\n",
    "        attn_output, attn_weights = attention(self.WQ(X),\n",
    "                                              self.WK(X),\n",
    "                                              self.WV(X))\n",
    "        return attn_output, attn_weights"
   ]
  },
  {
   "cell_type": "code",
   "execution_count": 35,
   "id": "6ed4bf39",
   "metadata": {},
   "outputs": [
    {
     "data": {
      "text/plain": [
       "(tensor([[-0.3306, -0.0888, -0.3374,  0.4868,  0.6488, -0.3561, -0.0859,  0.5052,\n",
       "          -0.0991, -0.6442, -0.5368,  0.2956,  0.9112,  0.0546,  0.0191,  0.2036,\n",
       "          -0.5131,  0.3797,  0.2747,  0.0123, -0.1460,  0.2397,  0.3909, -0.1393,\n",
       "           0.1060,  0.0350, -0.3627, -0.0949,  0.0245,  0.4166,  0.1087,  0.0238,\n",
       "           0.4243, -0.3764,  0.2428, -0.5267,  0.2206,  0.0780,  0.3299, -0.6120,\n",
       "           0.2306, -0.1049,  0.5755,  0.2655,  0.4114, -0.2689,  0.2682, -0.4302,\n",
       "           0.4807,  0.0388],\n",
       "         [-0.3334, -0.0812, -0.3397,  0.4612,  0.6475, -0.3204, -0.0774,  0.4791,\n",
       "          -0.1121, -0.6310, -0.5556,  0.2988,  0.8794,  0.0519,  0.0175,  0.1988,\n",
       "          -0.5001,  0.3794,  0.2609,  0.0229, -0.1477,  0.2269,  0.3815, -0.1764,\n",
       "           0.1138,  0.0248, -0.3662, -0.0695,  0.0180,  0.4271,  0.0552,  0.0331,\n",
       "           0.4242, -0.3878,  0.2463, -0.4775,  0.2158,  0.0882,  0.3340, -0.6200,\n",
       "           0.2451, -0.1033,  0.5640,  0.2509,  0.4107, -0.2838,  0.2623, -0.4267,\n",
       "           0.4564,  0.0335],\n",
       "         [-0.3368, -0.0875, -0.3395,  0.4765,  0.6438, -0.3278, -0.0848,  0.4799,\n",
       "          -0.1083, -0.6480, -0.5550,  0.2906,  0.8890,  0.0547, -0.0010,  0.1961,\n",
       "          -0.5047,  0.3846,  0.2730,  0.0082, -0.1522,  0.2379,  0.3807, -0.1667,\n",
       "           0.1189,  0.0322, -0.3651, -0.0850,  0.0228,  0.4217,  0.0782,  0.0246,\n",
       "           0.4263, -0.3878,  0.2345, -0.5061,  0.2241,  0.0853,  0.3363, -0.6128,\n",
       "           0.2323, -0.0992,  0.5735,  0.2538,  0.4130, -0.2639,  0.2683, -0.4259,\n",
       "           0.4648,  0.0234],\n",
       "         [-0.3392, -0.0839, -0.3373,  0.4587,  0.6431, -0.3031, -0.0816,  0.4563,\n",
       "          -0.1209, -0.6409, -0.5708,  0.2902,  0.8700,  0.0553, -0.0095,  0.1873,\n",
       "          -0.4980,  0.3868,  0.2704,  0.0068, -0.1524,  0.2298,  0.3728, -0.1908,\n",
       "           0.1263,  0.0301, -0.3683, -0.0723,  0.0221,  0.4298,  0.0400,  0.0270,\n",
       "           0.4273, -0.3948,  0.2326, -0.4832,  0.2241,  0.0903,  0.3394, -0.6163,\n",
       "           0.2354, -0.0936,  0.5698,  0.2390,  0.4103, -0.2685,  0.2676, -0.4238,\n",
       "           0.4469,  0.0162],\n",
       "         [-0.3341, -0.0813, -0.3384,  0.4519,  0.6446, -0.3023, -0.0761,  0.4612,\n",
       "          -0.1217, -0.6315, -0.5656,  0.2973,  0.8665,  0.0518,  0.0081,  0.1919,\n",
       "          -0.4960,  0.3813,  0.2593,  0.0201, -0.1510,  0.2258,  0.3743, -0.1937,\n",
       "           0.1199,  0.0252, -0.3686, -0.0631,  0.0189,  0.4319,  0.0338,  0.0318,\n",
       "           0.4268, -0.3929,  0.2423, -0.4636,  0.2157,  0.0912,  0.3381, -0.6207,\n",
       "           0.2454, -0.0978,  0.5642,  0.2401,  0.4105, -0.2811,  0.2638, -0.4252,\n",
       "           0.4434,  0.0250],\n",
       "         [-0.3392, -0.0845, -0.3383,  0.4751,  0.6451, -0.3283, -0.0845,  0.4800,\n",
       "          -0.1112, -0.6467, -0.5576,  0.2907,  0.8880,  0.0560, -0.0034,  0.1948,\n",
       "          -0.5051,  0.3858,  0.2759,  0.0047, -0.1487,  0.2351,  0.3802, -0.1652,\n",
       "           0.1207,  0.0317, -0.3666, -0.0841,  0.0235,  0.4210,  0.0752,  0.0242,\n",
       "           0.4254, -0.3903,  0.2325, -0.5081,  0.2248,  0.0857,  0.3364, -0.6129,\n",
       "           0.2287, -0.0982,  0.5704,  0.2545,  0.4123, -0.2654,  0.2673, -0.4235,\n",
       "           0.4655,  0.0242],\n",
       "         [-0.3244, -0.0839, -0.3367,  0.4362,  0.6417, -0.2849, -0.0720,  0.4414,\n",
       "          -0.1327, -0.6229, -0.5697,  0.3003,  0.8522,  0.0495,  0.0133,  0.1840,\n",
       "          -0.4915,  0.3790,  0.2494,  0.0279, -0.1554,  0.2228,  0.3679, -0.2152,\n",
       "           0.1181,  0.0259, -0.3714, -0.0504,  0.0177,  0.4403,  0.0068,  0.0352,\n",
       "           0.4317, -0.3901,  0.2467, -0.4369,  0.2079,  0.0939,  0.3399, -0.6230,\n",
       "           0.2533, -0.0939,  0.5655,  0.2218,  0.4079, -0.2852,  0.2646, -0.4295,\n",
       "           0.4223,  0.0210],\n",
       "         [-0.3382, -0.0829, -0.3393,  0.4538,  0.6401, -0.2923, -0.0794,  0.4494,\n",
       "          -0.1246, -0.6408, -0.5745,  0.2909,  0.8600,  0.0527, -0.0087,  0.1867,\n",
       "          -0.4937,  0.3859,  0.2627,  0.0121, -0.1568,  0.2292,  0.3675, -0.2022,\n",
       "           0.1287,  0.0258, -0.3697, -0.0641,  0.0197,  0.4313,  0.0290,  0.0286,\n",
       "           0.4290, -0.3990,  0.2326, -0.4654,  0.2200,  0.0940,  0.3425, -0.6169,\n",
       "           0.2405, -0.0940,  0.5661,  0.2365,  0.4123, -0.2701,  0.2660, -0.4223,\n",
       "           0.4393,  0.0126],\n",
       "         [-0.3341, -0.0813, -0.3384,  0.4519,  0.6446, -0.3023, -0.0761,  0.4612,\n",
       "          -0.1217, -0.6315, -0.5656,  0.2973,  0.8665,  0.0518,  0.0081,  0.1919,\n",
       "          -0.4960,  0.3813,  0.2593,  0.0201, -0.1510,  0.2258,  0.3743, -0.1937,\n",
       "           0.1199,  0.0252, -0.3686, -0.0631,  0.0189,  0.4319,  0.0338,  0.0318,\n",
       "           0.4268, -0.3929,  0.2423, -0.4636,  0.2157,  0.0912,  0.3381, -0.6207,\n",
       "           0.2454, -0.0978,  0.5642,  0.2401,  0.4105, -0.2811,  0.2638, -0.4252,\n",
       "           0.4434,  0.0250],\n",
       "         [-0.3392, -0.0845, -0.3383,  0.4751,  0.6451, -0.3283, -0.0845,  0.4800,\n",
       "          -0.1112, -0.6467, -0.5576,  0.2907,  0.8880,  0.0560, -0.0034,  0.1948,\n",
       "          -0.5051,  0.3858,  0.2759,  0.0047, -0.1487,  0.2351,  0.3802, -0.1652,\n",
       "           0.1207,  0.0317, -0.3666, -0.0841,  0.0235,  0.4210,  0.0752,  0.0242,\n",
       "           0.4254, -0.3903,  0.2325, -0.5081,  0.2248,  0.0857,  0.3364, -0.6129,\n",
       "           0.2287, -0.0982,  0.5704,  0.2545,  0.4123, -0.2654,  0.2673, -0.4235,\n",
       "           0.4655,  0.0242],\n",
       "         [-0.3336, -0.0850, -0.3335,  0.4416,  0.6401, -0.2800, -0.0817,  0.4315,\n",
       "          -0.1309, -0.6329, -0.5821,  0.2900,  0.8582,  0.0532, -0.0059,  0.1777,\n",
       "          -0.4919,  0.3851,  0.2600,  0.0103, -0.1610,  0.2236,  0.3605, -0.2116,\n",
       "           0.1296,  0.0277, -0.3710, -0.0604,  0.0209,  0.4387,  0.0063,  0.0266,\n",
       "           0.4315, -0.3965,  0.2341, -0.4584,  0.2198,  0.0932,  0.3428, -0.6154,\n",
       "           0.2430, -0.0898,  0.5701,  0.2239,  0.4079, -0.2719,  0.2689, -0.4261,\n",
       "           0.4275,  0.0088]], grad_fn=<MmBackward0>),\n",
       " tensor([[0.1313, 0.0840, 0.0856, 0.0813, 0.0715, 0.1210, 0.0629, 0.0854, 0.0715,\n",
       "          0.1210, 0.0847],\n",
       "         [0.1266, 0.0839, 0.0888, 0.0776, 0.0764, 0.1025, 0.0817, 0.0819, 0.0764,\n",
       "          0.1025, 0.1017],\n",
       "         [0.1206, 0.0877, 0.0910, 0.0830, 0.0796, 0.1063, 0.0706, 0.0880, 0.0796,\n",
       "          0.1063, 0.0874],\n",
       "         [0.1081, 0.0931, 0.0993, 0.0815, 0.0823, 0.0941, 0.0752, 0.0901, 0.0823,\n",
       "          0.0941, 0.1000],\n",
       "         [0.1138, 0.0870, 0.0929, 0.0750, 0.0808, 0.0963, 0.0855, 0.0853, 0.0808,\n",
       "          0.0963, 0.1063],\n",
       "         [0.1250, 0.0911, 0.0912, 0.0828, 0.0779, 0.1029, 0.0673, 0.0913, 0.0779,\n",
       "          0.1029, 0.0897],\n",
       "         [0.0893, 0.0892, 0.0975, 0.0705, 0.0805, 0.0972, 0.0975, 0.0855, 0.0805,\n",
       "          0.0972, 0.1153],\n",
       "         [0.1072, 0.0928, 0.0950, 0.0783, 0.0855, 0.0905, 0.0860, 0.0886, 0.0855,\n",
       "          0.0905, 0.1002],\n",
       "         [0.1138, 0.0870, 0.0929, 0.0750, 0.0808, 0.0963, 0.0855, 0.0853, 0.0808,\n",
       "          0.0963, 0.1063],\n",
       "         [0.1250, 0.0911, 0.0912, 0.0828, 0.0779, 0.1029, 0.0673, 0.0913, 0.0779,\n",
       "          0.1029, 0.0897],\n",
       "         [0.0866, 0.1007, 0.1080, 0.0749, 0.0845, 0.0899, 0.0878, 0.0858, 0.0845,\n",
       "          0.0899, 0.1073]], grad_fn=<SoftmaxBackward0>))"
      ]
     },
     "execution_count": 35,
     "metadata": {},
     "output_type": "execute_result"
    }
   ],
   "source": [
    "attn = Attention(X_o.size(dim=1), X_o.size(dim=1))\n",
    "attn(X_o)"
   ]
  },
  {
   "attachments": {},
   "cell_type": "markdown",
   "id": "86dd9e67-74f1-4188-b5cc-8fee780a2a1d",
   "metadata": {},
   "source": [
    "## PyTorch implementation\n",
    " \n",
    "PyTorch has an implementation of self-attention encapsulated in the `MultiheadAttention` class. Before going to the attention module, the query, key value, goes through a linear layer. The output also goes through a linear layer. These three layers are initialized with Xavier's algorithm."
   ]
  },
  {
   "cell_type": "code",
   "execution_count": 55,
   "id": "69c3124e-0197-4713-a837-c880734509bd",
   "metadata": {},
   "outputs": [],
   "source": [
    "from torch.nn import MultiheadAttention\n",
    "\n",
    "att_layer = MultiheadAttention(50,\n",
    "                               1,\n",
    "                               bias=False,\n",
    "                               batch_first=True)"
   ]
  },
  {
   "cell_type": "code",
   "execution_count": 56,
   "id": "396c1d82-c5a2-4fee-be93-54229835eea1",
   "metadata": {},
   "outputs": [],
   "source": [
    "(attn_output, attn_weights) = att_layer(X_o, X_o, X_o)"
   ]
  },
  {
   "attachments": {},
   "cell_type": "markdown",
   "id": "50c42892-b9cb-4e06-a63f-b1b9f79506db",
   "metadata": {},
   "source": [
    "The attention weights for _ship:_"
   ]
  },
  {
   "cell_type": "code",
   "execution_count": 57,
   "id": "a6164627-82f0-4f9d-8c55-e48d05a6f155",
   "metadata": {},
   "outputs": [
    {
     "data": {
      "text/plain": [
       "tensor([0.1204, 0.1069, 0.0987, 0.0866, 0.0862, 0.1108, 0.0522, 0.0830, 0.0862,\n",
       "        0.1108, 0.0581], grad_fn=<SelectBackward0>)"
      ]
     },
     "execution_count": 57,
     "metadata": {},
     "output_type": "execute_result"
    }
   ],
   "source": [
    "attn_weights[6]"
   ]
  },
  {
   "cell_type": "code",
   "execution_count": 58,
   "id": "cf8e1e4b",
   "metadata": {},
   "outputs": [
    {
     "data": {
      "text/plain": [
       "tensor([ 0.5735,  0.1608,  0.0185,  0.2101, -0.0856,  0.8727,  0.2303, -0.4363,\n",
       "         0.0050,  0.0262,  0.1571,  0.1330,  0.1806, -0.1861,  0.3188,  0.3523,\n",
       "         0.4043,  0.6015, -0.0872, -0.3015, -0.6661, -0.3041, -0.6365, -0.6599,\n",
       "         0.2232,  0.2704, -0.4750, -0.1472, -0.0652,  0.1839,  0.0737, -0.0938,\n",
       "         0.1181, -0.3653, -0.0229,  0.2583,  0.3538,  0.5438, -0.2840,  0.1109,\n",
       "        -0.3475, -0.2976,  0.3744,  0.3839, -0.1429, -0.4423,  0.2946,  0.1972,\n",
       "        -0.2997, -0.6484], grad_fn=<SelectBackward0>)"
      ]
     },
     "execution_count": 58,
     "metadata": {},
     "output_type": "execute_result"
    }
   ],
   "source": [
    "attn_output[6]"
   ]
  },
  {
   "attachments": {},
   "cell_type": "markdown",
   "id": "0c724425-8380-4eb3-8610-a8942e0cad6a",
   "metadata": {},
   "source": [
    "### The initial dense layers"
   ]
  },
  {
   "attachments": {},
   "cell_type": "markdown",
   "id": "223bbf4b-0deb-4337-843a-d5a35452fed4",
   "metadata": {},
   "source": [
    "The weight initial values with the 4 matrices"
   ]
  },
  {
   "cell_type": "code",
   "execution_count": 59,
   "id": "d6b39896",
   "metadata": {},
   "outputs": [
    {
     "data": {
      "text/plain": [
       "OrderedDict([('in_proj_weight',\n",
       "              tensor([[ 0.0002, -0.0682, -0.0661,  ..., -0.0809, -0.1216, -0.0408],\n",
       "                      [-0.0031, -0.0702, -0.0123,  ...,  0.0785, -0.0356, -0.1359],\n",
       "                      [ 0.0674,  0.0228,  0.1176,  ..., -0.1003, -0.1360,  0.0018],\n",
       "                      ...,\n",
       "                      [-0.1508,  0.1119, -0.1293,  ..., -0.0043, -0.0096, -0.0231],\n",
       "                      [-0.1635, -0.0303, -0.0765,  ..., -0.0585,  0.1543, -0.0684],\n",
       "                      [ 0.1146,  0.0127, -0.1721,  ...,  0.0625, -0.1184,  0.0530]])),\n",
       "             ('out_proj.weight',\n",
       "              tensor([[ 1.2047e-01,  1.3827e-02,  7.9680e-02,  ..., -9.2163e-03,\n",
       "                       -5.6446e-03,  7.0257e-02],\n",
       "                      [ 2.7449e-03, -9.1909e-02, -8.6046e-02,  ..., -1.0462e-01,\n",
       "                        8.8011e-02, -2.3508e-02],\n",
       "                      [ 1.3978e-01, -9.3539e-02, -4.3567e-02,  ...,  6.9287e-03,\n",
       "                       -1.1058e-01,  3.8921e-03],\n",
       "                      ...,\n",
       "                      [ 5.4892e-02,  5.8610e-02, -8.8896e-05,  ..., -7.3396e-02,\n",
       "                        5.2348e-02, -5.3047e-02],\n",
       "                      [-4.9281e-02,  3.1611e-03,  6.7438e-02,  ...,  4.0435e-02,\n",
       "                        1.1712e-01,  1.0991e-01],\n",
       "                      [-8.0325e-02,  7.2219e-02,  7.1602e-02,  ...,  3.0939e-02,\n",
       "                       -7.5161e-02,  4.3971e-02]]))])"
      ]
     },
     "execution_count": 59,
     "metadata": {},
     "output_type": "execute_result"
    }
   ],
   "source": [
    "att_layer.state_dict()"
   ]
  },
  {
   "attachments": {},
   "cell_type": "markdown",
   "id": "6c3639ae",
   "metadata": {},
   "source": [
    "The three input matrices are concatenated"
   ]
  },
  {
   "cell_type": "code",
   "execution_count": 60,
   "id": "8435791e",
   "metadata": {},
   "outputs": [
    {
     "data": {
      "text/plain": [
       "torch.Size([150, 50])"
      ]
     },
     "execution_count": 60,
     "metadata": {},
     "output_type": "execute_result"
    }
   ],
   "source": [
    "att_layer.state_dict()['in_proj_weight'].size()"
   ]
  },
  {
   "attachments": {},
   "cell_type": "markdown",
   "id": "c71e7253",
   "metadata": {},
   "source": [
    "The output matrix"
   ]
  },
  {
   "cell_type": "code",
   "execution_count": 61,
   "id": "e8b77b71",
   "metadata": {},
   "outputs": [
    {
     "data": {
      "text/plain": [
       "torch.Size([50, 50])"
      ]
     },
     "execution_count": 61,
     "metadata": {},
     "output_type": "execute_result"
    }
   ],
   "source": [
    "att_layer.state_dict()['out_proj.weight'].size()"
   ]
  },
  {
   "attachments": {},
   "cell_type": "markdown",
   "id": "ce5b4492",
   "metadata": {},
   "source": [
    "### By-passing the dense layers"
   ]
  },
  {
   "attachments": {},
   "cell_type": "markdown",
   "id": "e8a3cb2d",
   "metadata": {},
   "source": [
    "We create identity matrices to pass through the dense layers and recover the attention output values and weights"
   ]
  },
  {
   "cell_type": "code",
   "execution_count": 62,
   "id": "64bd80d1",
   "metadata": {},
   "outputs": [
    {
     "data": {
      "text/plain": [
       "tensor([[1., 0., 0.,  ..., 0., 0., 0.],\n",
       "        [0., 1., 0.,  ..., 0., 0., 0.],\n",
       "        [0., 0., 1.,  ..., 0., 0., 0.],\n",
       "        ...,\n",
       "        [0., 0., 0.,  ..., 1., 0., 0.],\n",
       "        [0., 0., 0.,  ..., 0., 1., 0.],\n",
       "        [0., 0., 0.,  ..., 0., 0., 1.]])"
      ]
     },
     "execution_count": 62,
     "metadata": {},
     "output_type": "execute_result"
    }
   ],
   "source": [
    "i_50 = torch.eye(50)\n",
    "i_50"
   ]
  },
  {
   "cell_type": "code",
   "execution_count": 63,
   "id": "37832b84",
   "metadata": {},
   "outputs": [],
   "source": [
    "att_layer.state_dict()['out_proj.weight'][:] = i_50"
   ]
  },
  {
   "cell_type": "code",
   "execution_count": 64,
   "id": "169efcfa",
   "metadata": {},
   "outputs": [
    {
     "data": {
      "text/plain": [
       "torch.Size([150, 50])"
      ]
     },
     "execution_count": 64,
     "metadata": {},
     "output_type": "execute_result"
    }
   ],
   "source": [
    "att_layer.state_dict()['in_proj_weight'].size()"
   ]
  },
  {
   "cell_type": "code",
   "execution_count": 65,
   "id": "b863032a",
   "metadata": {},
   "outputs": [
    {
     "data": {
      "text/plain": [
       "torch.Size([150, 50])"
      ]
     },
     "execution_count": 65,
     "metadata": {},
     "output_type": "execute_result"
    }
   ],
   "source": [
    "i_3_50 = torch.vstack((i_50, i_50, i_50))\n",
    "i_3_50.size()"
   ]
  },
  {
   "cell_type": "code",
   "execution_count": 66,
   "id": "ea234af2",
   "metadata": {},
   "outputs": [],
   "source": [
    "att_layer.state_dict()['in_proj_weight'][:] = i_3_50"
   ]
  },
  {
   "cell_type": "code",
   "execution_count": 67,
   "id": "b879275e",
   "metadata": {},
   "outputs": [
    {
     "data": {
      "text/plain": [
       "OrderedDict([('in_proj_weight',\n",
       "              tensor([[1., 0., 0.,  ..., 0., 0., 0.],\n",
       "                      [0., 1., 0.,  ..., 0., 0., 0.],\n",
       "                      [0., 0., 1.,  ..., 0., 0., 0.],\n",
       "                      ...,\n",
       "                      [0., 0., 0.,  ..., 1., 0., 0.],\n",
       "                      [0., 0., 0.,  ..., 0., 1., 0.],\n",
       "                      [0., 0., 0.,  ..., 0., 0., 1.]])),\n",
       "             ('out_proj.weight',\n",
       "              tensor([[1., 0., 0.,  ..., 0., 0., 0.],\n",
       "                      [0., 1., 0.,  ..., 0., 0., 0.],\n",
       "                      [0., 0., 1.,  ..., 0., 0., 0.],\n",
       "                      ...,\n",
       "                      [0., 0., 0.,  ..., 1., 0., 0.],\n",
       "                      [0., 0., 0.,  ..., 0., 1., 0.],\n",
       "                      [0., 0., 0.,  ..., 0., 0., 1.]]))])"
      ]
     },
     "execution_count": 67,
     "metadata": {},
     "output_type": "execute_result"
    }
   ],
   "source": [
    "att_layer.state_dict()"
   ]
  },
  {
   "attachments": {},
   "cell_type": "markdown",
   "id": "a3f34906-38db-488d-b127-c76fc070e7b1",
   "metadata": {},
   "source": [
    "### Multihead attention without the dense layers"
   ]
  },
  {
   "attachments": {},
   "cell_type": "markdown",
   "id": "26b083c3-77b0-4115-a3aa-7041a9f8be15",
   "metadata": {},
   "source": [
    "We obtain now the same results as the `self_attention()` function for _ship:_"
   ]
  },
  {
   "attachments": {},
   "cell_type": "markdown",
   "id": "4de86e9c-c982-4eb0-a725-595ee7bd9782",
   "metadata": {},
   "source": [
    "The attention weights for _ship:_"
   ]
  },
  {
   "cell_type": "code",
   "execution_count": 68,
   "id": "9f5c93cd-f8dd-4611-bee7-98eec7e69438",
   "metadata": {},
   "outputs": [],
   "source": [
    "(attn_output, attn_weights) = att_layer(X_o, X_o, X_o)"
   ]
  },
  {
   "attachments": {},
   "cell_type": "markdown",
   "id": "e926183c-0734-49c7-9480-190f6c892adf",
   "metadata": {},
   "source": [
    "The attention vector for _ship:_"
   ]
  },
  {
   "cell_type": "code",
   "execution_count": 69,
   "id": "197dc6c5",
   "metadata": {},
   "outputs": [
    {
     "data": {
      "text/plain": [
       "tensor([0.0303, 0.0302, 0.0276, 0.0407, 0.0459, 0.0343, 0.5530, 0.0297, 0.0459,\n",
       "        0.0343, 0.1281], grad_fn=<SelectBackward0>)"
      ]
     },
     "execution_count": 69,
     "metadata": {},
     "output_type": "execute_result"
    }
   ],
   "source": [
    "attn_weights[6]"
   ]
  },
  {
   "attachments": {},
   "cell_type": "markdown",
   "id": "cb4e0315",
   "metadata": {},
   "source": [
    "The embedding vector for _ship_"
   ]
  },
  {
   "cell_type": "code",
   "execution_count": 70,
   "id": "1be2d12f-9e76-4f53-baea-8178dd5a7e4a",
   "metadata": {},
   "outputs": [
    {
     "data": {
      "text/plain": [
       "tensor([ 1.0387,  0.1033,  0.3426, -0.4320,  0.2237, -0.0958, -0.9926,  0.6662,\n",
       "         0.4424, -0.7942,  0.5638,  0.9921,  0.0205,  0.5082,  0.0743, -0.1773,\n",
       "        -0.3408,  0.5675, -1.1545, -0.5718,  0.4288,  0.4191, -0.0658, -0.3339,\n",
       "         0.6682, -1.7473, -0.0485,  0.1531,  0.8642, -0.1447,  2.6571, -0.0545,\n",
       "        -0.5343,  0.3160,  0.4041,  0.2277,  0.3958, -0.2916, -0.1126, -0.1385,\n",
       "         0.1744, -0.5375,  0.9499, -0.4145, -0.1039, -0.1755, -0.2213, -0.3995,\n",
       "         0.2119, -0.3610], grad_fn=<SelectBackward0>)"
      ]
     },
     "execution_count": 70,
     "metadata": {},
     "output_type": "execute_result"
    }
   ],
   "source": [
    "attn_output[6]"
   ]
  },
  {
   "cell_type": "markdown",
   "id": "f6e05c3b",
   "metadata": {},
   "source": [
    "## Multihead"
   ]
  },
  {
   "cell_type": "code",
   "execution_count": 71,
   "id": "1e64fba1",
   "metadata": {},
   "outputs": [],
   "source": [
    "att_layer_5 = MultiheadAttention(50,\n",
    "                                 5,\n",
    "                                 bias=False,\n",
    "                                 batch_first=True)"
   ]
  },
  {
   "cell_type": "code",
   "execution_count": 72,
   "id": "b5d364e3",
   "metadata": {},
   "outputs": [],
   "source": [
    "attn_output, attn_weights = att_layer_5(X_o, X_o, X_o)"
   ]
  },
  {
   "cell_type": "code",
   "execution_count": 73,
   "id": "ef1b2875",
   "metadata": {},
   "outputs": [
    {
     "data": {
      "text/plain": [
       "torch.Size([11, 50])"
      ]
     },
     "execution_count": 73,
     "metadata": {},
     "output_type": "execute_result"
    }
   ],
   "source": [
    "attn_output.size()"
   ]
  },
  {
   "cell_type": "code",
   "execution_count": 74,
   "id": "0ca7e566",
   "metadata": {},
   "outputs": [
    {
     "data": {
      "text/plain": [
       "torch.Size([11, 11])"
      ]
     },
     "execution_count": 74,
     "metadata": {},
     "output_type": "execute_result"
    }
   ],
   "source": [
    "attn_weights.size()"
   ]
  },
  {
   "cell_type": "code",
   "execution_count": 75,
   "id": "464ec533",
   "metadata": {},
   "outputs": [
    {
     "data": {
      "text/plain": [
       "OrderedDict([('in_proj_weight',\n",
       "              tensor([[-0.0433,  0.1710, -0.1359,  ...,  0.0287, -0.1654,  0.1329],\n",
       "                      [-0.1624, -0.1484, -0.0658,  ..., -0.1378, -0.0925, -0.0543],\n",
       "                      [ 0.0664,  0.1332, -0.1427,  ...,  0.1397, -0.0928, -0.1521],\n",
       "                      ...,\n",
       "                      [ 0.0910,  0.1242, -0.0305,  ..., -0.1691,  0.1390,  0.0234],\n",
       "                      [ 0.0617, -0.0719, -0.0593,  ...,  0.1258, -0.0982,  0.1115],\n",
       "                      [-0.1105,  0.0532,  0.1002,  ...,  0.1498, -0.0320, -0.0927]])),\n",
       "             ('out_proj.weight',\n",
       "              tensor([[-0.1033, -0.0316, -0.0938,  ..., -0.0324,  0.0871,  0.0448],\n",
       "                      [-0.1056, -0.0875,  0.0452,  ..., -0.0211, -0.1196,  0.1062],\n",
       "                      [ 0.1396,  0.1287, -0.0455,  ...,  0.0557, -0.0172,  0.0109],\n",
       "                      ...,\n",
       "                      [ 0.0929, -0.0283, -0.0895,  ...,  0.0422,  0.0151, -0.0953],\n",
       "                      [-0.0057, -0.0147,  0.1258,  ...,  0.1184, -0.0768,  0.1263],\n",
       "                      [ 0.1328, -0.1083,  0.0300,  ..., -0.0910,  0.1394, -0.0603]]))])"
      ]
     },
     "execution_count": 75,
     "metadata": {},
     "output_type": "execute_result"
    }
   ],
   "source": [
    "att_layer_5.state_dict()"
   ]
  },
  {
   "cell_type": "code",
   "execution_count": 76,
   "id": "62cf8371",
   "metadata": {},
   "outputs": [
    {
     "data": {
      "text/plain": [
       "torch.Size([150, 50])"
      ]
     },
     "execution_count": 76,
     "metadata": {},
     "output_type": "execute_result"
    }
   ],
   "source": [
    "att_layer_5.state_dict()['in_proj_weight'].size()"
   ]
  },
  {
   "cell_type": "code",
   "execution_count": 77,
   "id": "49d1ab5b",
   "metadata": {},
   "outputs": [
    {
     "data": {
      "text/plain": [
       "torch.Size([50, 50])"
      ]
     },
     "execution_count": 77,
     "metadata": {},
     "output_type": "execute_result"
    }
   ],
   "source": [
    "att_layer_5.state_dict()['out_proj.weight'].size()"
   ]
  },
  {
   "attachments": {},
   "cell_type": "markdown",
   "id": "34ad8d94-0a2d-4e16-ad54-151f2e9facad",
   "metadata": {},
   "source": [
    "## Test with a simple matrix"
   ]
  },
  {
   "attachments": {},
   "cell_type": "markdown",
   "id": "25eda3f0-52b7-4c03-9167-7e331a018853",
   "metadata": {},
   "source": [
    "Three words, dimension of embeddings: 4"
   ]
  },
  {
   "cell_type": "code",
   "execution_count": 59,
   "id": "2663ebcb-8e4b-4720-9ed3-c88a950dc214",
   "metadata": {},
   "outputs": [],
   "source": [
    "X_test = torch.tensor([[1.0, 0.0, 0.0, 1.0],\n",
    "                       [0.0, 1.5, 1.0, 1.0],\n",
    "                       [0.0, 1.0, 1.0, 1.0]])"
   ]
  },
  {
   "cell_type": "code",
   "execution_count": null,
   "id": "946d88eb-7522-476b-80d4-ceac7af6a2e4",
   "metadata": {},
   "outputs": [],
   "source": [
    "X_test.size()"
   ]
  },
  {
   "attachments": {},
   "cell_type": "markdown",
   "id": "cab40159-3c6a-45b7-87c4-3fa6f52186a3",
   "metadata": {},
   "source": [
    "### Self-attention\n",
    "We use the function above"
   ]
  },
  {
   "cell_type": "code",
   "execution_count": null,
   "id": "5bca6930-4deb-456b-8ac7-7bc92d77f51b",
   "metadata": {},
   "outputs": [],
   "source": [
    "attention(X_test, X_test, X_test)"
   ]
  },
  {
   "attachments": {},
   "cell_type": "markdown",
   "id": "e1cdbf2f-dc0a-4354-bf96-30b99cddee20",
   "metadata": {},
   "source": [
    "### Multihead attention from PyTorch"
   ]
  },
  {
   "cell_type": "code",
   "execution_count": 62,
   "id": "527fc0db-4fd9-413e-9634-a54469adb4ad",
   "metadata": {},
   "outputs": [],
   "source": [
    "att_layer = MultiheadAttention(4,\n",
    "                               1,\n",
    "                               bias=False)"
   ]
  },
  {
   "attachments": {},
   "cell_type": "markdown",
   "id": "0909144a-4c17-45de-82f1-3cb8547eb985",
   "metadata": {},
   "source": [
    "The multihead attention uses a Xavier initialization of the dense layers. The results will be different for those of `attention()`"
   ]
  },
  {
   "cell_type": "code",
   "execution_count": null,
   "id": "ffd9a3b5-4645-4fa5-8d84-06cc6dd72822",
   "metadata": {},
   "outputs": [],
   "source": [
    "att_layer(X_test,\n",
    "          X_test,\n",
    "          X_test)"
   ]
  },
  {
   "attachments": {},
   "cell_type": "markdown",
   "id": "901e889b-a828-40cc-b208-c6688be25c14",
   "metadata": {},
   "source": [
    "Weights of the dense layers"
   ]
  },
  {
   "cell_type": "code",
   "execution_count": null,
   "id": "8b597eee-fee4-4a15-9aaf-d62e7e9c1b1e",
   "metadata": {},
   "outputs": [],
   "source": [
    "att_layer.state_dict()"
   ]
  },
  {
   "attachments": {},
   "cell_type": "markdown",
   "id": "ed433e0c-ebad-4319-926c-8d67af07af67",
   "metadata": {},
   "source": [
    "### By-passing the dense layers"
   ]
  },
  {
   "attachments": {},
   "cell_type": "markdown",
   "id": "83941332-2d50-431f-ad4a-3e5e9b0722e7",
   "metadata": {},
   "source": [
    "We use weights of identity matrices"
   ]
  },
  {
   "cell_type": "code",
   "execution_count": 65,
   "id": "ad812cee",
   "metadata": {},
   "outputs": [],
   "source": [
    "i_4 = torch.eye(4)"
   ]
  },
  {
   "cell_type": "code",
   "execution_count": 66,
   "id": "2ebcab2b-c158-41e9-9d5e-4aed62d74416",
   "metadata": {},
   "outputs": [],
   "source": [
    "att_layer.state_dict()['out_proj.weight'][:] = i_4"
   ]
  },
  {
   "cell_type": "code",
   "execution_count": null,
   "id": "8bbcedb7",
   "metadata": {},
   "outputs": [],
   "source": [
    "i_3_4 = torch.vstack((i_4, i_4, i_4))\n",
    "i_3_4.size()"
   ]
  },
  {
   "attachments": {},
   "cell_type": "markdown",
   "id": "efa12ec3-7044-4440-abdc-e6786dd078eb",
   "metadata": {},
   "source": [
    "We set these weights"
   ]
  },
  {
   "cell_type": "code",
   "execution_count": 68,
   "id": "42b0789a-e4c6-4198-ab99-b74fbbc3d39c",
   "metadata": {},
   "outputs": [],
   "source": [
    "att_layer.state_dict()['in_proj_weight'][:] = i_3_4"
   ]
  },
  {
   "cell_type": "code",
   "execution_count": null,
   "id": "c8facb2d",
   "metadata": {},
   "outputs": [],
   "source": [
    "att_layer.state_dict()"
   ]
  },
  {
   "attachments": {},
   "cell_type": "markdown",
   "id": "d8892df4-4e1e-4c02-9d00-04be89fc41fd",
   "metadata": {},
   "source": [
    "Now we have the same results as with `attention()`"
   ]
  },
  {
   "cell_type": "code",
   "execution_count": null,
   "id": "67d2d604-eb6e-43e4-b51a-2d645f5eb227",
   "metadata": {},
   "outputs": [],
   "source": [
    "att_layer(X_test,\n",
    "          X_test,\n",
    "          X_test)"
   ]
  }
 ],
 "metadata": {
  "kernelspec": {
   "display_name": "Python 3.9.13 ('base')",
   "language": "python",
   "name": "python3"
  },
  "language_info": {
   "codemirror_mode": {
    "name": "ipython",
    "version": 3
   },
   "file_extension": ".py",
   "mimetype": "text/x-python",
   "name": "python",
   "nbconvert_exporter": "python",
   "pygments_lexer": "ipython3",
   "version": "3.12.4"
  },
  "vscode": {
   "interpreter": {
    "hash": "b97b11a820675205aae8f1d7f2a3f22bbd3a2c30189f44042310baf5b4cd1987"
   }
  }
 },
 "nbformat": 4,
 "nbformat_minor": 5
}
