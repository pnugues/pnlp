{
 "cells": [
  {
   "cell_type": "markdown",
   "metadata": {},
   "source": [
    "# Chapter 17: Sequence-to-Sequence Architectures: Encoder-Decoders and Decoders\n",
    "Character-level encoder-decoder translator\n"
   ]
  },
  {
   "cell_type": "markdown",
   "metadata": {},
   "source": [
    "Programs from the book: [_Python for Natural Language Processing_](https://link.springer.com/book/9783031575488)\n",
    "\n",
    "__Author__: Pierre Nugues"
   ]
  },
  {
   "cell_type": "markdown",
   "metadata": {},
   "source": [
    "## Download the data"
   ]
  },
  {
   "cell_type": "markdown",
   "metadata": {},
   "source": [
    "Have a look at the http://www.manythings.org/anki/ site and select a corpus with at least 10,000 pairs. You should understand the target language well. Ideally, it should be your mother tongue.\n",
    "Then uncomment and run the lines below."
   ]
  },
  {
   "cell_type": "code",
   "execution_count": 1,
   "metadata": {},
   "outputs": [],
   "source": [
    "#!curl -O http://www.manythings.org/anki/fra-eng.zip\n",
    "#!unzip fra-eng.zip\n",
    "#!mkdir ../datasets/tatoeba\n",
    "#!mv fra.txt ../datasets/tatoeba\n",
    "#!rm fra-eng.zip _about.txt"
   ]
  },
  {
   "cell_type": "markdown",
   "metadata": {},
   "source": [
    "## Modules"
   ]
  },
  {
   "cell_type": "code",
   "execution_count": 2,
   "metadata": {},
   "outputs": [],
   "source": [
    "import torch\n",
    "import torch.nn as nn\n",
    "from torch.utils.data import Dataset, DataLoader\n",
    "from torch.nn.utils.rnn import pad_sequence\n",
    "from torch.optim.lr_scheduler import LambdaLR\n",
    "\n",
    "import random\n",
    "import numpy as np\n",
    "import math\n",
    "\n",
    "import matplotlib.pyplot as plt\n",
    "from tqdm import tqdm"
   ]
  },
  {
   "cell_type": "code",
   "execution_count": 3,
   "metadata": {},
   "outputs": [
    {
     "data": {
      "text/plain": [
       "<torch._C.Generator at 0x12720e110>"
      ]
     },
     "execution_count": 3,
     "metadata": {},
     "output_type": "execute_result"
    }
   ],
   "source": [
    "random.seed(1234)\n",
    "np.random.seed(1234)\n",
    "torch.manual_seed(1234)"
   ]
  },
  {
   "cell_type": "code",
   "execution_count": 4,
   "metadata": {},
   "outputs": [],
   "source": [
    "num_samples = 50000  # Number of samples to train on.\n",
    "max_len = 100  # max number of characters per sentence"
   ]
  },
  {
   "cell_type": "code",
   "execution_count": 5,
   "metadata": {},
   "outputs": [
    {
     "data": {
      "text/plain": [
       "device(type='mps')"
      ]
     },
     "execution_count": 5,
     "metadata": {},
     "output_type": "execute_result"
    }
   ],
   "source": [
    "if torch.cuda.is_available():\n",
    "    device = 'cuda'\n",
    "elif torch.backends.mps.is_available():\n",
    "    device = 'mps'\n",
    "else:\n",
    "    device = 'cpu'\n",
    "DEVICE = torch.device(device)\n",
    "DEVICE"
   ]
  },
  {
   "cell_type": "markdown",
   "metadata": {},
   "source": [
    "## Dataset"
   ]
  },
  {
   "cell_type": "markdown",
   "metadata": {},
   "source": [
    "### Creating the pairs"
   ]
  },
  {
   "cell_type": "code",
   "execution_count": 6,
   "metadata": {},
   "outputs": [],
   "source": [
    "PATH = '../datasets/tatoeba/'"
   ]
  },
  {
   "cell_type": "code",
   "execution_count": 7,
   "metadata": {},
   "outputs": [],
   "source": [
    "data_file = PATH + 'fra.txt'"
   ]
  },
  {
   "cell_type": "code",
   "execution_count": 8,
   "metadata": {},
   "outputs": [],
   "source": [
    "with open(data_file, 'r', encoding='utf-8') as f:\n",
    "    lines = f.read().strip().split('\\n')"
   ]
  },
  {
   "cell_type": "code",
   "execution_count": 9,
   "metadata": {},
   "outputs": [
    {
     "data": {
      "text/plain": [
       "232736"
      ]
     },
     "execution_count": 9,
     "metadata": {},
     "output_type": "execute_result"
    }
   ],
   "source": [
    "len(lines)"
   ]
  },
  {
   "cell_type": "code",
   "execution_count": 10,
   "metadata": {},
   "outputs": [],
   "source": [
    "# lines = lines[:num_samples]"
   ]
  },
  {
   "cell_type": "code",
   "execution_count": 11,
   "metadata": {},
   "outputs": [],
   "source": [
    "def create_pairs(lines, max_len, num_samples, shuffle=True, anki=True):\n",
    "    src_seqs = []\n",
    "    tgt_seqs = []\n",
    "    if shuffle:\n",
    "        random.shuffle(lines)\n",
    "    for line in lines:\n",
    "        src_seq, tgt_seq, _ = line.split('\\t')\n",
    "        if len(src_seq) <= max_len and len(tgt_seq) <= max_len:\n",
    "            src_seqs.append(src_seq)\n",
    "            tgt_seqs.append(tgt_seq)\n",
    "    return src_seqs[:num_samples], tgt_seqs[:num_samples]"
   ]
  },
  {
   "cell_type": "code",
   "execution_count": 12,
   "metadata": {},
   "outputs": [],
   "source": [
    "tgt_seqs, src_seqs = create_pairs(lines, max_len, num_samples)"
   ]
  },
  {
   "cell_type": "code",
   "execution_count": 13,
   "metadata": {},
   "outputs": [
    {
     "data": {
      "text/plain": [
       "50000"
      ]
     },
     "execution_count": 13,
     "metadata": {},
     "output_type": "execute_result"
    }
   ],
   "source": [
    "len(src_seqs)"
   ]
  },
  {
   "cell_type": "code",
   "execution_count": 14,
   "metadata": {},
   "outputs": [
    {
     "data": {
      "text/plain": [
       "\"L'Italie n'est pas la Grèce.\""
      ]
     },
     "execution_count": 14,
     "metadata": {},
     "output_type": "execute_result"
    }
   ],
   "source": [
    "src_seqs[5]"
   ]
  },
  {
   "cell_type": "code",
   "execution_count": 15,
   "metadata": {},
   "outputs": [
    {
     "data": {
      "text/plain": [
       "\"Italy isn't Greece.\""
      ]
     },
     "execution_count": 15,
     "metadata": {},
     "output_type": "execute_result"
    }
   ],
   "source": [
    "tgt_seqs[5]"
   ]
  },
  {
   "cell_type": "code",
   "execution_count": 16,
   "metadata": {},
   "outputs": [
    {
     "data": {
      "text/plain": [
       "(100, 99)"
      ]
     },
     "execution_count": 16,
     "metadata": {},
     "output_type": "execute_result"
    }
   ],
   "source": [
    "max(map(len, src_seqs)), max(map(len, tgt_seqs))"
   ]
  },
  {
   "cell_type": "markdown",
   "metadata": {},
   "source": [
    "### Train/Validation"
   ]
  },
  {
   "cell_type": "markdown",
   "metadata": {},
   "source": [
    "Percentage train/validation"
   ]
  },
  {
   "cell_type": "code",
   "execution_count": 17,
   "metadata": {},
   "outputs": [
    {
     "data": {
      "text/plain": [
       "40000"
      ]
     },
     "execution_count": 17,
     "metadata": {},
     "output_type": "execute_result"
    }
   ],
   "source": [
    "TRAIN_PERCENTAGE = 0.8\n",
    "train_val = int(TRAIN_PERCENTAGE * num_samples)\n",
    "train_val"
   ]
  },
  {
   "cell_type": "markdown",
   "metadata": {},
   "source": [
    "We split the lists"
   ]
  },
  {
   "cell_type": "code",
   "execution_count": 18,
   "metadata": {},
   "outputs": [],
   "source": [
    "train_src_seqs = src_seqs[:train_val]\n",
    "train_tgt_seqs = tgt_seqs[:train_val]\n",
    "\n",
    "val_src_seqs = src_seqs[train_val:]\n",
    "val_tgt_seqs = tgt_seqs[train_val:]"
   ]
  },
  {
   "cell_type": "markdown",
   "metadata": {},
   "source": [
    "### The input and output symbols: Characters\n",
    "The language pair shares the same vocabulary as in _Attention Is All You Need_"
   ]
  },
  {
   "cell_type": "code",
   "execution_count": 19,
   "metadata": {},
   "outputs": [
    {
     "data": {
      "text/plain": [
       "[' ',\n",
       " '!',\n",
       " '\"',\n",
       " '$',\n",
       " '%',\n",
       " \"'\",\n",
       " ',',\n",
       " '-',\n",
       " '.',\n",
       " '/',\n",
       " '0',\n",
       " '1',\n",
       " '2',\n",
       " '3',\n",
       " '4',\n",
       " '5',\n",
       " '6',\n",
       " '7',\n",
       " '8',\n",
       " '9',\n",
       " ':',\n",
       " ';',\n",
       " '?',\n",
       " 'A',\n",
       " 'B',\n",
       " 'C',\n",
       " 'D',\n",
       " 'E',\n",
       " 'F',\n",
       " 'G',\n",
       " 'H',\n",
       " 'I',\n",
       " 'J',\n",
       " 'K',\n",
       " 'L',\n",
       " 'M',\n",
       " 'N',\n",
       " 'O',\n",
       " 'P',\n",
       " 'Q',\n",
       " 'R',\n",
       " 'S',\n",
       " 'T',\n",
       " 'U',\n",
       " 'V',\n",
       " 'W',\n",
       " 'X',\n",
       " 'Y',\n",
       " 'Z',\n",
       " 'a',\n",
       " 'b',\n",
       " 'c',\n",
       " 'd',\n",
       " 'e',\n",
       " 'f',\n",
       " 'g',\n",
       " 'h',\n",
       " 'i',\n",
       " 'j',\n",
       " 'k',\n",
       " 'l',\n",
       " 'm',\n",
       " 'n',\n",
       " 'o',\n",
       " 'p',\n",
       " 'q',\n",
       " 'r',\n",
       " 's',\n",
       " 't',\n",
       " 'u',\n",
       " 'v',\n",
       " 'w',\n",
       " 'x',\n",
       " 'y',\n",
       " 'z',\n",
       " '\\xa0',\n",
       " '«',\n",
       " '°',\n",
       " '»',\n",
       " 'À',\n",
       " 'Ç',\n",
       " 'É',\n",
       " 'Ê',\n",
       " 'Ô',\n",
       " 'à',\n",
       " 'â',\n",
       " 'ç',\n",
       " 'è',\n",
       " 'é',\n",
       " 'ê',\n",
       " 'ë',\n",
       " 'î',\n",
       " 'ï',\n",
       " 'ô',\n",
       " 'ù',\n",
       " 'û',\n",
       " 'œ',\n",
       " '\\u2009',\n",
       " '\\u200b',\n",
       " '’',\n",
       " '\\u202f']"
      ]
     },
     "execution_count": 19,
     "metadata": {},
     "output_type": "execute_result"
    }
   ],
   "source": [
    "src_chars = set(''.join(train_src_seqs))\n",
    "tgt_chars = set(''.join(train_tgt_seqs))\n",
    "charset = sorted(\n",
    "    list(set.union(src_chars,\n",
    "                   tgt_chars)))\n",
    "charset"
   ]
  },
  {
   "cell_type": "code",
   "execution_count": 20,
   "metadata": {},
   "outputs": [
    {
     "data": {
      "text/plain": [
       "101"
      ]
     },
     "execution_count": 20,
     "metadata": {},
     "output_type": "execute_result"
    }
   ],
   "source": [
    "len(charset)"
   ]
  },
  {
   "cell_type": "markdown",
   "metadata": {},
   "source": [
    "### Special symbols"
   ]
  },
  {
   "cell_type": "code",
   "execution_count": 21,
   "metadata": {},
   "outputs": [],
   "source": [
    "# Make sure the tokens are in order of their indices to properly insert them in vocab\n",
    "special_tokens = ['<pad>', '<unk>', '<s>', '</s>']"
   ]
  },
  {
   "cell_type": "code",
   "execution_count": 22,
   "metadata": {},
   "outputs": [],
   "source": [
    "charset = special_tokens + charset"
   ]
  },
  {
   "cell_type": "code",
   "execution_count": 23,
   "metadata": {},
   "outputs": [
    {
     "data": {
      "text/plain": [
       "{0: '<pad>',\n",
       " 1: '<unk>',\n",
       " 2: '<s>',\n",
       " 3: '</s>',\n",
       " 4: ' ',\n",
       " 5: '!',\n",
       " 6: '\"',\n",
       " 7: '$',\n",
       " 8: '%',\n",
       " 9: \"'\",\n",
       " 10: ',',\n",
       " 11: '-',\n",
       " 12: '.',\n",
       " 13: '/',\n",
       " 14: '0',\n",
       " 15: '1',\n",
       " 16: '2',\n",
       " 17: '3',\n",
       " 18: '4',\n",
       " 19: '5',\n",
       " 20: '6',\n",
       " 21: '7',\n",
       " 22: '8',\n",
       " 23: '9',\n",
       " 24: ':',\n",
       " 25: ';',\n",
       " 26: '?',\n",
       " 27: 'A',\n",
       " 28: 'B',\n",
       " 29: 'C',\n",
       " 30: 'D',\n",
       " 31: 'E',\n",
       " 32: 'F',\n",
       " 33: 'G',\n",
       " 34: 'H',\n",
       " 35: 'I',\n",
       " 36: 'J',\n",
       " 37: 'K',\n",
       " 38: 'L',\n",
       " 39: 'M',\n",
       " 40: 'N',\n",
       " 41: 'O',\n",
       " 42: 'P',\n",
       " 43: 'Q',\n",
       " 44: 'R',\n",
       " 45: 'S',\n",
       " 46: 'T',\n",
       " 47: 'U',\n",
       " 48: 'V',\n",
       " 49: 'W',\n",
       " 50: 'X',\n",
       " 51: 'Y',\n",
       " 52: 'Z',\n",
       " 53: 'a',\n",
       " 54: 'b',\n",
       " 55: 'c',\n",
       " 56: 'd',\n",
       " 57: 'e',\n",
       " 58: 'f',\n",
       " 59: 'g',\n",
       " 60: 'h',\n",
       " 61: 'i',\n",
       " 62: 'j',\n",
       " 63: 'k',\n",
       " 64: 'l',\n",
       " 65: 'm',\n",
       " 66: 'n',\n",
       " 67: 'o',\n",
       " 68: 'p',\n",
       " 69: 'q',\n",
       " 70: 'r',\n",
       " 71: 's',\n",
       " 72: 't',\n",
       " 73: 'u',\n",
       " 74: 'v',\n",
       " 75: 'w',\n",
       " 76: 'x',\n",
       " 77: 'y',\n",
       " 78: 'z',\n",
       " 79: '\\xa0',\n",
       " 80: '«',\n",
       " 81: '°',\n",
       " 82: '»',\n",
       " 83: 'À',\n",
       " 84: 'Ç',\n",
       " 85: 'É',\n",
       " 86: 'Ê',\n",
       " 87: 'Ô',\n",
       " 88: 'à',\n",
       " 89: 'â',\n",
       " 90: 'ç',\n",
       " 91: 'è',\n",
       " 92: 'é',\n",
       " 93: 'ê',\n",
       " 94: 'ë',\n",
       " 95: 'î',\n",
       " 96: 'ï',\n",
       " 97: 'ô',\n",
       " 98: 'ù',\n",
       " 99: 'û',\n",
       " 100: 'œ',\n",
       " 101: '\\u2009',\n",
       " 102: '\\u200b',\n",
       " 103: '’',\n",
       " 104: '\\u202f'}"
      ]
     },
     "execution_count": 23,
     "metadata": {},
     "output_type": "execute_result"
    }
   ],
   "source": [
    "idx2token = dict(enumerate(charset))\n",
    "idx2token"
   ]
  },
  {
   "cell_type": "code",
   "execution_count": 24,
   "metadata": {},
   "outputs": [
    {
     "data": {
      "text/plain": [
       "{'<pad>': 0,\n",
       " '<unk>': 1,\n",
       " '<s>': 2,\n",
       " '</s>': 3,\n",
       " ' ': 4,\n",
       " '!': 5,\n",
       " '\"': 6,\n",
       " '$': 7,\n",
       " '%': 8,\n",
       " \"'\": 9,\n",
       " ',': 10,\n",
       " '-': 11,\n",
       " '.': 12,\n",
       " '/': 13,\n",
       " '0': 14,\n",
       " '1': 15,\n",
       " '2': 16,\n",
       " '3': 17,\n",
       " '4': 18,\n",
       " '5': 19,\n",
       " '6': 20,\n",
       " '7': 21,\n",
       " '8': 22,\n",
       " '9': 23,\n",
       " ':': 24,\n",
       " ';': 25,\n",
       " '?': 26,\n",
       " 'A': 27,\n",
       " 'B': 28,\n",
       " 'C': 29,\n",
       " 'D': 30,\n",
       " 'E': 31,\n",
       " 'F': 32,\n",
       " 'G': 33,\n",
       " 'H': 34,\n",
       " 'I': 35,\n",
       " 'J': 36,\n",
       " 'K': 37,\n",
       " 'L': 38,\n",
       " 'M': 39,\n",
       " 'N': 40,\n",
       " 'O': 41,\n",
       " 'P': 42,\n",
       " 'Q': 43,\n",
       " 'R': 44,\n",
       " 'S': 45,\n",
       " 'T': 46,\n",
       " 'U': 47,\n",
       " 'V': 48,\n",
       " 'W': 49,\n",
       " 'X': 50,\n",
       " 'Y': 51,\n",
       " 'Z': 52,\n",
       " 'a': 53,\n",
       " 'b': 54,\n",
       " 'c': 55,\n",
       " 'd': 56,\n",
       " 'e': 57,\n",
       " 'f': 58,\n",
       " 'g': 59,\n",
       " 'h': 60,\n",
       " 'i': 61,\n",
       " 'j': 62,\n",
       " 'k': 63,\n",
       " 'l': 64,\n",
       " 'm': 65,\n",
       " 'n': 66,\n",
       " 'o': 67,\n",
       " 'p': 68,\n",
       " 'q': 69,\n",
       " 'r': 70,\n",
       " 's': 71,\n",
       " 't': 72,\n",
       " 'u': 73,\n",
       " 'v': 74,\n",
       " 'w': 75,\n",
       " 'x': 76,\n",
       " 'y': 77,\n",
       " 'z': 78,\n",
       " '\\xa0': 79,\n",
       " '«': 80,\n",
       " '°': 81,\n",
       " '»': 82,\n",
       " 'À': 83,\n",
       " 'Ç': 84,\n",
       " 'É': 85,\n",
       " 'Ê': 86,\n",
       " 'Ô': 87,\n",
       " 'à': 88,\n",
       " 'â': 89,\n",
       " 'ç': 90,\n",
       " 'è': 91,\n",
       " 'é': 92,\n",
       " 'ê': 93,\n",
       " 'ë': 94,\n",
       " 'î': 95,\n",
       " 'ï': 96,\n",
       " 'ô': 97,\n",
       " 'ù': 98,\n",
       " 'û': 99,\n",
       " 'œ': 100,\n",
       " '\\u2009': 101,\n",
       " '\\u200b': 102,\n",
       " '’': 103,\n",
       " '\\u202f': 104}"
      ]
     },
     "execution_count": 24,
     "metadata": {},
     "output_type": "execute_result"
    }
   ],
   "source": [
    "token2idx = {char: idx for idx, char\n",
    "             in idx2token.items()}\n",
    "token2idx"
   ]
  },
  {
   "cell_type": "code",
   "execution_count": 25,
   "metadata": {},
   "outputs": [
    {
     "data": {
      "text/plain": [
       "105"
      ]
     },
     "execution_count": 25,
     "metadata": {},
     "output_type": "execute_result"
    }
   ],
   "source": [
    "len(idx2token)"
   ]
  },
  {
   "cell_type": "markdown",
   "metadata": {},
   "source": [
    "### Text Encoding"
   ]
  },
  {
   "cell_type": "code",
   "execution_count": 26,
   "metadata": {},
   "outputs": [],
   "source": [
    "def seqs2tensors(seqs, token2idx):\n",
    "    tensors = []\n",
    "    for seq in seqs:\n",
    "        seq = ['<s>'] + list(seq) + ['</s>']\n",
    "        tensors += torch.tensor([\n",
    "            list(map(lambda x: token2idx.get(x, 1),\n",
    "                     seq))])  # <unk> -> 1\n",
    "    return tensors"
   ]
  },
  {
   "cell_type": "code",
   "execution_count": 27,
   "metadata": {},
   "outputs": [
    {
     "data": {
      "text/plain": [
       "['Vous pouvez vous en aller.', 'Quel remède recommandez-vous\\u202f?']"
      ]
     },
     "execution_count": 27,
     "metadata": {},
     "output_type": "execute_result"
    }
   ],
   "source": [
    "train_src_seqs[:2]"
   ]
  },
  {
   "cell_type": "code",
   "execution_count": 28,
   "metadata": {},
   "outputs": [
    {
     "data": {
      "text/plain": [
       "['You may go.', 'What medicine do you recommend?']"
      ]
     },
     "execution_count": 28,
     "metadata": {},
     "output_type": "execute_result"
    }
   ],
   "source": [
    "train_tgt_seqs[:2]"
   ]
  },
  {
   "cell_type": "code",
   "execution_count": 29,
   "metadata": {},
   "outputs": [
    {
     "data": {
      "text/plain": [
       "[tensor([ 2, 51, 67, 73,  4, 65, 53, 77,  4, 59, 67, 12,  3]),\n",
       " tensor([ 2, 49, 60, 53, 72,  4, 65, 57, 56, 61, 55, 61, 66, 57,  4, 56, 67,  4,\n",
       "         77, 67, 73,  4, 70, 57, 55, 67, 65, 65, 57, 66, 56, 26,  3])]"
      ]
     },
     "execution_count": 29,
     "metadata": {},
     "output_type": "execute_result"
    }
   ],
   "source": [
    "seqs2tensors(train_tgt_seqs[:2], token2idx)"
   ]
  },
  {
   "cell_type": "code",
   "execution_count": 30,
   "metadata": {},
   "outputs": [
    {
     "data": {
      "text/plain": [
       "[tensor([ 2, 51, 67, 73,  4, 65, 53, 77,  4, 59, 67, 12,  3]),\n",
       " tensor([ 2, 49, 60, 53, 72,  4, 65, 57, 56, 61, 55, 61, 66, 57,  4, 56, 67,  4,\n",
       "         77, 67, 73,  4, 70, 57, 55, 67, 65, 65, 57, 66, 56, 26,  3]),\n",
       " tensor([ 2, 29, 67, 65, 57,  4, 54, 53, 55, 63,  4, 64, 53, 72, 57, 70, 12,  3])]"
      ]
     },
     "execution_count": 30,
     "metadata": {},
     "output_type": "execute_result"
    }
   ],
   "source": [
    "seqs2tensors(train_tgt_seqs, token2idx)[:3]"
   ]
  },
  {
   "cell_type": "code",
   "execution_count": 31,
   "metadata": {},
   "outputs": [],
   "source": [
    "def tensors2seqs(tensors, idx2token):\n",
    "    seqs = []\n",
    "    for tensor in tensors:\n",
    "        tensor = list(tensor)\n",
    "        seqs += [list(\n",
    "            map(lambda x: idx2token.get(x.item(), '<unk>'),\n",
    "                tensor))]\n",
    "    return seqs"
   ]
  },
  {
   "cell_type": "code",
   "execution_count": 32,
   "metadata": {},
   "outputs": [
    {
     "data": {
      "text/plain": [
       "[['<s>',\n",
       "  'V',\n",
       "  'o',\n",
       "  'u',\n",
       "  's',\n",
       "  ' ',\n",
       "  'p',\n",
       "  'o',\n",
       "  'u',\n",
       "  'v',\n",
       "  'e',\n",
       "  'z',\n",
       "  ' ',\n",
       "  'v',\n",
       "  'o',\n",
       "  'u',\n",
       "  's',\n",
       "  ' ',\n",
       "  'e',\n",
       "  'n',\n",
       "  ' ',\n",
       "  'a',\n",
       "  'l',\n",
       "  'l',\n",
       "  'e',\n",
       "  'r',\n",
       "  '.',\n",
       "  '</s>'],\n",
       " ['<s>',\n",
       "  'Q',\n",
       "  'u',\n",
       "  'e',\n",
       "  'l',\n",
       "  ' ',\n",
       "  'r',\n",
       "  'e',\n",
       "  'm',\n",
       "  'è',\n",
       "  'd',\n",
       "  'e',\n",
       "  ' ',\n",
       "  'r',\n",
       "  'e',\n",
       "  'c',\n",
       "  'o',\n",
       "  'm',\n",
       "  'm',\n",
       "  'a',\n",
       "  'n',\n",
       "  'd',\n",
       "  'e',\n",
       "  'z',\n",
       "  '-',\n",
       "  'v',\n",
       "  'o',\n",
       "  'u',\n",
       "  's',\n",
       "  '\\u202f',\n",
       "  '?',\n",
       "  '</s>'],\n",
       " ['<s>',\n",
       "  'R',\n",
       "  'e',\n",
       "  'v',\n",
       "  'i',\n",
       "  'e',\n",
       "  'n',\n",
       "  's',\n",
       "  ' ',\n",
       "  'p',\n",
       "  'l',\n",
       "  'u',\n",
       "  's',\n",
       "  ' ',\n",
       "  't',\n",
       "  'a',\n",
       "  'r',\n",
       "  'd',\n",
       "  '.',\n",
       "  '</s>']]"
      ]
     },
     "execution_count": 32,
     "metadata": {},
     "output_type": "execute_result"
    }
   ],
   "source": [
    "tensors2seqs(seqs2tensors(train_src_seqs, token2idx)[:3], idx2token)"
   ]
  },
  {
   "cell_type": "markdown",
   "metadata": {},
   "source": [
    "## Model"
   ]
  },
  {
   "cell_type": "code",
   "execution_count": 33,
   "metadata": {},
   "outputs": [],
   "source": [
    "class Embedding(nn.Module):\n",
    "    def __init__(self,\n",
    "                 vocab_size,\n",
    "                 d_model,\n",
    "                 dropout=0.1,\n",
    "                 max_len=100):\n",
    "        super().__init__()\n",
    "        self.d_model = d_model\n",
    "        self.input_embedding = nn.Embedding(vocab_size, d_model,\n",
    "                                            padding_idx=0)\n",
    "        pe = self.pos_encoding(max_len, d_model)\n",
    "        self.pos_embedding = nn.Embedding.from_pretrained(\n",
    "            pe, freeze=True)\n",
    "        self.dropout = nn.Dropout(dropout)\n",
    "\n",
    "    def forward(self, X):\n",
    "        pos_mat = torch.arange(X.size(dim=-1))\n",
    "        X = self.input_embedding(X) * math.sqrt(self.d_model)\n",
    "        X += self.pos_embedding(pos_mat)\n",
    "        return self.dropout(X)\n",
    "\n",
    "    def pos_encoding(self, max_len, d_model):\n",
    "        dividend = torch.arange(max_len).unsqueeze(0).T\n",
    "        divisor = torch.pow(10000.0,\n",
    "                            torch.arange(0, d_model, 2)/d_model)\n",
    "        angles = dividend / divisor\n",
    "        pe = torch.zeros((max_len, d_model))\n",
    "        pe[:, 0::2] = torch.sin(angles)\n",
    "        pe[:, 1::2] = torch.cos(angles)\n",
    "        return pe"
   ]
  },
  {
   "cell_type": "code",
   "execution_count": 34,
   "metadata": {},
   "outputs": [],
   "source": [
    "embeddings = Embedding(5, 10, dropout=0.0)"
   ]
  },
  {
   "cell_type": "code",
   "execution_count": 35,
   "metadata": {},
   "outputs": [
    {
     "data": {
      "text/plain": [
       "Embedding(\n",
       "  (input_embedding): Embedding(5, 10, padding_idx=0)\n",
       "  (pos_embedding): Embedding(100, 10)\n",
       "  (dropout): Dropout(p=0.0, inplace=False)\n",
       ")"
      ]
     },
     "execution_count": 35,
     "metadata": {},
     "output_type": "execute_result"
    }
   ],
   "source": [
    "embeddings"
   ]
  },
  {
   "cell_type": "code",
   "execution_count": 36,
   "metadata": {},
   "outputs": [],
   "source": [
    "class Translator(nn.Module):\n",
    "    def __init__(self,\n",
    "                 d_model=512,\n",
    "                 nhead=8,\n",
    "                 num_encoder_layers=6,\n",
    "                 num_decoder_layers=6,\n",
    "                 dim_feedforward=2048,  # 4 x d_model\n",
    "                 dropout=0.1,\n",
    "                 vocab_size=30000,\n",
    "                 max_len=128):\n",
    "        super().__init__()\n",
    "        self.embedding = Embedding(vocab_size,\n",
    "                                   d_model,\n",
    "                                   max_len=max_len)\n",
    "        self.transformer = nn.Transformer(\n",
    "            d_model,\n",
    "            nhead,\n",
    "            num_encoder_layers,\n",
    "            num_decoder_layers,\n",
    "            dim_feedforward,\n",
    "            dropout,\n",
    "            batch_first=True)\n",
    "        self.fc = nn.Linear(d_model, vocab_size)\n",
    "        self.fc.weight = \\\n",
    "            self.embedding.input_embedding.weight\n",
    "\n",
    "    def forward(self, src, tgt,\n",
    "                src_padding, tgt_padding):\n",
    "        src_embs = self.embedding(src)\n",
    "        tgt_embs = self.embedding(tgt)\n",
    "        tgt_mask = \\\n",
    "            nn.Transformer.generate_square_subsequent_mask(\n",
    "                tgt.size(dim=1))\n",
    "        x = self.transformer(\n",
    "            src_embs,\n",
    "            tgt_embs,\n",
    "            tgt_mask=tgt_mask,\n",
    "            src_key_padding_mask=src_padding,\n",
    "            memory_key_padding_mask=src_padding,\n",
    "            tgt_key_padding_mask=tgt_padding)\n",
    "        return self.fc(x)"
   ]
  },
  {
   "cell_type": "code",
   "execution_count": 37,
   "metadata": {},
   "outputs": [],
   "source": [
    "translator = Translator(vocab_size=len(idx2token))"
   ]
  },
  {
   "cell_type": "code",
   "execution_count": 38,
   "metadata": {},
   "outputs": [],
   "source": [
    "src_batch = pad_sequence(seqs2tensors(\n",
    "    train_src_seqs[:32], token2idx),\n",
    "    batch_first=True, padding_value=0)\n",
    "tgt_batch = pad_sequence(seqs2tensors(\n",
    "    train_tgt_seqs[:32], token2idx),\n",
    "    batch_first=True, padding_value=0)"
   ]
  },
  {
   "cell_type": "code",
   "execution_count": 39,
   "metadata": {},
   "outputs": [
    {
     "data": {
      "text/plain": [
       "torch.Size([32, 70, 105])"
      ]
     },
     "execution_count": 39,
     "metadata": {},
     "output_type": "execute_result"
    }
   ],
   "source": [
    "translator.eval()\n",
    "translator(src_batch, tgt_batch, None, None).size()"
   ]
  },
  {
   "cell_type": "code",
   "execution_count": 40,
   "metadata": {},
   "outputs": [],
   "source": [
    "src_padding_mask = (src_batch == 0)\n",
    "tgt_padding_mask = (tgt_batch == 0).float()"
   ]
  },
  {
   "cell_type": "code",
   "execution_count": 41,
   "metadata": {},
   "outputs": [
    {
     "data": {
      "text/plain": [
       "tensor([[False, False, False,  ...,  True,  True,  True],\n",
       "        [False, False, False,  ...,  True,  True,  True],\n",
       "        [False, False, False,  ...,  True,  True,  True],\n",
       "        ...,\n",
       "        [False, False, False,  ...,  True,  True,  True],\n",
       "        [False, False, False,  ...,  True,  True,  True],\n",
       "        [False, False, False,  ...,  True,  True,  True]])"
      ]
     },
     "execution_count": 41,
     "metadata": {},
     "output_type": "execute_result"
    }
   ],
   "source": [
    "src_padding_mask"
   ]
  },
  {
   "cell_type": "code",
   "execution_count": 42,
   "metadata": {},
   "outputs": [
    {
     "data": {
      "text/plain": [
       "tensor([[0., 0., 0.,  ..., 1., 1., 1.],\n",
       "        [0., 0., 0.,  ..., 1., 1., 1.],\n",
       "        [0., 0., 0.,  ..., 1., 1., 1.],\n",
       "        ...,\n",
       "        [0., 0., 0.,  ..., 1., 1., 1.],\n",
       "        [0., 0., 0.,  ..., 1., 1., 1.],\n",
       "        [0., 0., 0.,  ..., 1., 1., 1.]])"
      ]
     },
     "execution_count": 42,
     "metadata": {},
     "output_type": "execute_result"
    }
   ],
   "source": [
    "tgt_padding_mask"
   ]
  },
  {
   "cell_type": "code",
   "execution_count": 43,
   "metadata": {},
   "outputs": [
    {
     "data": {
      "text/plain": [
       "torch.Size([32, 70, 105])"
      ]
     },
     "execution_count": 43,
     "metadata": {},
     "output_type": "execute_result"
    }
   ],
   "source": [
    "translator(src_batch, tgt_batch,\n",
    "           src_padding_mask, tgt_padding_mask).size()"
   ]
  },
  {
   "cell_type": "code",
   "execution_count": 44,
   "metadata": {},
   "outputs": [
    {
     "data": {
      "text/plain": [
       "[['j',\n",
       "  'î',\n",
       "  'î',\n",
       "  'î',\n",
       "  'î',\n",
       "  'î',\n",
       "  'a',\n",
       "  'j',\n",
       "  'î',\n",
       "  'r',\n",
       "  'o',\n",
       "  'î',\n",
       "  'î',\n",
       "  'î',\n",
       "  'î',\n",
       "  'î',\n",
       "  'j',\n",
       "  'j',\n",
       "  'j',\n",
       "  'î',\n",
       "  'î',\n",
       "  'j',\n",
       "  'r',\n",
       "  'r',\n",
       "  'r',\n",
       "  'r',\n",
       "  'r',\n",
       "  'j',\n",
       "  'j',\n",
       "  'j',\n",
       "  'j',\n",
       "  'j',\n",
       "  'j',\n",
       "  'j',\n",
       "  'j',\n",
       "  'j',\n",
       "  'j',\n",
       "  'r',\n",
       "  'j',\n",
       "  'j',\n",
       "  'j',\n",
       "  'j',\n",
       "  'j',\n",
       "  'j',\n",
       "  'j',\n",
       "  'j',\n",
       "  'î',\n",
       "  'î',\n",
       "  'j',\n",
       "  'j',\n",
       "  'j',\n",
       "  'j',\n",
       "  'j',\n",
       "  'j',\n",
       "  'j',\n",
       "  'j',\n",
       "  'j',\n",
       "  'j',\n",
       "  'j',\n",
       "  'j',\n",
       "  'î',\n",
       "  'î',\n",
       "  'î',\n",
       "  'î',\n",
       "  'î',\n",
       "  'î',\n",
       "  'î',\n",
       "  'î',\n",
       "  'î',\n",
       "  'î'],\n",
       " ['a',\n",
       "  'a',\n",
       "  'h',\n",
       "  'a',\n",
       "  'a',\n",
       "  'a',\n",
       "  'a',\n",
       "  'a',\n",
       "  'a',\n",
       "  'a',\n",
       "  'a',\n",
       "  'a',\n",
       "  'n',\n",
       "  'a',\n",
       "  'a',\n",
       "  'a',\n",
       "  'o',\n",
       "  'a',\n",
       "  'a',\n",
       "  'o',\n",
       "  'a',\n",
       "  'a',\n",
       "  'a',\n",
       "  'a',\n",
       "  'a',\n",
       "  'o',\n",
       "  'a',\n",
       "  'a',\n",
       "  'a',\n",
       "  'n',\n",
       "  'a',\n",
       "  '?',\n",
       "  'a',\n",
       "  'a',\n",
       "  'a',\n",
       "  'a',\n",
       "  'a',\n",
       "  'a',\n",
       "  'a',\n",
       "  'a',\n",
       "  'a',\n",
       "  'a',\n",
       "  'a',\n",
       "  'a',\n",
       "  'a',\n",
       "  'a',\n",
       "  'a',\n",
       "  'a',\n",
       "  'a',\n",
       "  'a',\n",
       "  'a',\n",
       "  'a',\n",
       "  'a',\n",
       "  'a',\n",
       "  'a',\n",
       "  'a',\n",
       "  'a',\n",
       "  'a',\n",
       "  'a',\n",
       "  'a',\n",
       "  'a',\n",
       "  'a',\n",
       "  'a',\n",
       "  'a',\n",
       "  'a',\n",
       "  'a',\n",
       "  'a',\n",
       "  'a',\n",
       "  'a',\n",
       "  'a'],\n",
       " ['j',\n",
       "  'î',\n",
       "  'î',\n",
       "  'î',\n",
       "  'î',\n",
       "  'r',\n",
       "  'b',\n",
       "  'a',\n",
       "  'r',\n",
       "  'j',\n",
       "  'î',\n",
       "  'î',\n",
       "  'a',\n",
       "  'î',\n",
       "  'î',\n",
       "  'r',\n",
       "  'j',\n",
       "  'î',\n",
       "  'î',\n",
       "  'î',\n",
       "  'î',\n",
       "  'î',\n",
       "  'î',\n",
       "  'î',\n",
       "  'î',\n",
       "  'î',\n",
       "  'î',\n",
       "  'î',\n",
       "  'î',\n",
       "  'î',\n",
       "  'î',\n",
       "  'î',\n",
       "  'î',\n",
       "  'î',\n",
       "  'î',\n",
       "  'î',\n",
       "  'î',\n",
       "  'î',\n",
       "  'î',\n",
       "  'î',\n",
       "  'î',\n",
       "  'î',\n",
       "  'î',\n",
       "  'j',\n",
       "  'î',\n",
       "  'î',\n",
       "  'î',\n",
       "  'î',\n",
       "  'î',\n",
       "  'î',\n",
       "  'î',\n",
       "  'î',\n",
       "  'î',\n",
       "  'î',\n",
       "  'î',\n",
       "  'î',\n",
       "  'î',\n",
       "  'î',\n",
       "  'î',\n",
       "  'î',\n",
       "  'î',\n",
       "  'î',\n",
       "  'î',\n",
       "  'î',\n",
       "  'î',\n",
       "  'î',\n",
       "  'î',\n",
       "  'î',\n",
       "  'î',\n",
       "  'î'],\n",
       " ['j',\n",
       "  'î',\n",
       "  'o',\n",
       "  'î',\n",
       "  'e',\n",
       "  'î',\n",
       "  'a',\n",
       "  'î',\n",
       "  'a',\n",
       "  'k',\n",
       "  'e',\n",
       "  'î',\n",
       "  'î',\n",
       "  'a',\n",
       "  'a',\n",
       "  'e',\n",
       "  'î',\n",
       "  'î',\n",
       "  'o',\n",
       "  'r',\n",
       "  'l',\n",
       "  'î',\n",
       "  'î',\n",
       "  'a',\n",
       "  'o',\n",
       "  'î',\n",
       "  'r',\n",
       "  'o',\n",
       "  'a',\n",
       "  'n',\n",
       "  'î',\n",
       "  'a',\n",
       "  'î',\n",
       "  'î',\n",
       "  'î',\n",
       "  'a',\n",
       "  'a',\n",
       "  'î',\n",
       "  'î',\n",
       "  'î',\n",
       "  'î',\n",
       "  'î',\n",
       "  'î',\n",
       "  'î',\n",
       "  'î',\n",
       "  'î',\n",
       "  'î',\n",
       "  'î',\n",
       "  'î',\n",
       "  'î',\n",
       "  'î',\n",
       "  'î',\n",
       "  'î',\n",
       "  'a',\n",
       "  'a',\n",
       "  'î',\n",
       "  'î',\n",
       "  'î',\n",
       "  'î',\n",
       "  'î',\n",
       "  'î',\n",
       "  'î',\n",
       "  'a',\n",
       "  'î',\n",
       "  'î',\n",
       "  'î',\n",
       "  'a',\n",
       "  'a',\n",
       "  'a',\n",
       "  'a'],\n",
       " ['j',\n",
       "  'j',\n",
       "  'e',\n",
       "  'î',\n",
       "  'a',\n",
       "  'r',\n",
       "  'r',\n",
       "  'î',\n",
       "  'î',\n",
       "  'e',\n",
       "  'î',\n",
       "  'î',\n",
       "  'a',\n",
       "  'î',\n",
       "  'î',\n",
       "  'î',\n",
       "  'î',\n",
       "  'î',\n",
       "  'î',\n",
       "  'î',\n",
       "  'î',\n",
       "  'î',\n",
       "  'î',\n",
       "  'î',\n",
       "  'î',\n",
       "  'î',\n",
       "  'î',\n",
       "  'î',\n",
       "  'î',\n",
       "  'î',\n",
       "  'î',\n",
       "  'î',\n",
       "  'î',\n",
       "  'î',\n",
       "  'î',\n",
       "  'î',\n",
       "  'î',\n",
       "  'î',\n",
       "  'î',\n",
       "  'î',\n",
       "  'î',\n",
       "  'î',\n",
       "  'î',\n",
       "  'î',\n",
       "  'î',\n",
       "  'î',\n",
       "  'î',\n",
       "  'î',\n",
       "  'î',\n",
       "  'î',\n",
       "  'î',\n",
       "  'î',\n",
       "  'î',\n",
       "  'î',\n",
       "  'î',\n",
       "  'î',\n",
       "  'î',\n",
       "  'î',\n",
       "  'î',\n",
       "  'î',\n",
       "  'î',\n",
       "  'î',\n",
       "  'î',\n",
       "  'î',\n",
       "  'î',\n",
       "  'î',\n",
       "  'î',\n",
       "  'î',\n",
       "  'î',\n",
       "  'î'],\n",
       " ['j',\n",
       "  'î',\n",
       "  'î',\n",
       "  'a',\n",
       "  'î',\n",
       "  'î',\n",
       "  'î',\n",
       "  'î',\n",
       "  'î',\n",
       "  'î',\n",
       "  'î',\n",
       "  'î',\n",
       "  'î',\n",
       "  'î',\n",
       "  'r',\n",
       "  'î',\n",
       "  'î',\n",
       "  'î',\n",
       "  'î',\n",
       "  'î',\n",
       "  'î',\n",
       "  'î',\n",
       "  'î',\n",
       "  'î',\n",
       "  'î',\n",
       "  'î',\n",
       "  'î',\n",
       "  'î',\n",
       "  'î',\n",
       "  'P',\n",
       "  'P',\n",
       "  'î',\n",
       "  'î',\n",
       "  'î',\n",
       "  'î',\n",
       "  'î',\n",
       "  'î',\n",
       "  'î',\n",
       "  'î',\n",
       "  'î',\n",
       "  'î',\n",
       "  'P',\n",
       "  'P',\n",
       "  'î',\n",
       "  'P',\n",
       "  'î',\n",
       "  'î',\n",
       "  'î',\n",
       "  'î',\n",
       "  'î',\n",
       "  'î',\n",
       "  'P',\n",
       "  'P',\n",
       "  'P',\n",
       "  'P',\n",
       "  'P',\n",
       "  'P',\n",
       "  'P',\n",
       "  'P',\n",
       "  'P',\n",
       "  'P',\n",
       "  'P',\n",
       "  'P',\n",
       "  'P',\n",
       "  'P',\n",
       "  'î',\n",
       "  'î',\n",
       "  'P',\n",
       "  'P',\n",
       "  'P'],\n",
       " ['j',\n",
       "  'j',\n",
       "  'j',\n",
       "  'j',\n",
       "  'j',\n",
       "  'j',\n",
       "  'j',\n",
       "  'j',\n",
       "  'î',\n",
       "  's',\n",
       "  'j',\n",
       "  'j',\n",
       "  'j',\n",
       "  'î',\n",
       "  'j',\n",
       "  'j',\n",
       "  'j',\n",
       "  'j',\n",
       "  'j',\n",
       "  'î',\n",
       "  'j',\n",
       "  'î',\n",
       "  'j',\n",
       "  'î',\n",
       "  'î',\n",
       "  'î',\n",
       "  'j',\n",
       "  'j',\n",
       "  'j',\n",
       "  'j',\n",
       "  'î',\n",
       "  'î',\n",
       "  'î',\n",
       "  'î',\n",
       "  'î',\n",
       "  'î',\n",
       "  'î',\n",
       "  'î',\n",
       "  'î',\n",
       "  'î',\n",
       "  'î',\n",
       "  'j',\n",
       "  'j',\n",
       "  'j',\n",
       "  'j',\n",
       "  'j',\n",
       "  'î',\n",
       "  'î',\n",
       "  'j',\n",
       "  'j',\n",
       "  'î',\n",
       "  'î',\n",
       "  'î',\n",
       "  'î',\n",
       "  'î',\n",
       "  'î',\n",
       "  'î',\n",
       "  'j',\n",
       "  'j',\n",
       "  'j',\n",
       "  'r',\n",
       "  'r',\n",
       "  'î',\n",
       "  'j',\n",
       "  'j',\n",
       "  'j',\n",
       "  'j',\n",
       "  'j',\n",
       "  'j',\n",
       "  'î'],\n",
       " ['j',\n",
       "  'j',\n",
       "  'o',\n",
       "  'î',\n",
       "  ' ',\n",
       "  'd',\n",
       "  'j',\n",
       "  'a',\n",
       "  'î',\n",
       "  'î',\n",
       "  'o',\n",
       "  'j',\n",
       "  ' ',\n",
       "  'j',\n",
       "  'e',\n",
       "  'î',\n",
       "  ' ',\n",
       "  'o',\n",
       "  'j',\n",
       "  'î',\n",
       "  ' ',\n",
       "  'o',\n",
       "  'î',\n",
       "  ' ',\n",
       "  'î',\n",
       "  'o',\n",
       "  'j',\n",
       "  'r',\n",
       "  'î',\n",
       "  'r',\n",
       "  'o',\n",
       "  'o',\n",
       "  'î',\n",
       "  '?',\n",
       "  'î',\n",
       "  'a',\n",
       "  'î',\n",
       "  'î',\n",
       "  'î',\n",
       "  'î',\n",
       "  'î',\n",
       "  'î',\n",
       "  'î',\n",
       "  'î',\n",
       "  'î',\n",
       "  'î',\n",
       "  'î',\n",
       "  'î',\n",
       "  'î',\n",
       "  'î',\n",
       "  'î',\n",
       "  'j',\n",
       "  'j',\n",
       "  'î',\n",
       "  'î',\n",
       "  'î',\n",
       "  'î',\n",
       "  'j',\n",
       "  'î',\n",
       "  'î',\n",
       "  'î',\n",
       "  'î',\n",
       "  'î',\n",
       "  'î',\n",
       "  'î',\n",
       "  'î',\n",
       "  'î',\n",
       "  'î',\n",
       "  'î',\n",
       "  'î'],\n",
       " ['î',\n",
       "  'î',\n",
       "  'î',\n",
       "  'e',\n",
       "  'r',\n",
       "  'e',\n",
       "  'î',\n",
       "  'î',\n",
       "  'e',\n",
       "  'r',\n",
       "  'e',\n",
       "  'î',\n",
       "  'o',\n",
       "  'î',\n",
       "  'l',\n",
       "  'î',\n",
       "  'î',\n",
       "  'î',\n",
       "  'î',\n",
       "  'î',\n",
       "  'î',\n",
       "  'î',\n",
       "  'î',\n",
       "  'o',\n",
       "  'î',\n",
       "  'î',\n",
       "  'î',\n",
       "  'î',\n",
       "  'a',\n",
       "  'î',\n",
       "  'î',\n",
       "  'î',\n",
       "  'î',\n",
       "  'î',\n",
       "  'î',\n",
       "  'î',\n",
       "  'î',\n",
       "  'î',\n",
       "  'î',\n",
       "  'î',\n",
       "  'î',\n",
       "  'î',\n",
       "  'î',\n",
       "  'î',\n",
       "  'î',\n",
       "  'î',\n",
       "  'î',\n",
       "  'î',\n",
       "  'î',\n",
       "  'î',\n",
       "  'î',\n",
       "  'î',\n",
       "  'î',\n",
       "  'î',\n",
       "  'î',\n",
       "  'î',\n",
       "  'î',\n",
       "  'î',\n",
       "  'î',\n",
       "  'î',\n",
       "  'î',\n",
       "  'î',\n",
       "  'î',\n",
       "  'î',\n",
       "  'î',\n",
       "  'î',\n",
       "  'î',\n",
       "  'î',\n",
       "  'î',\n",
       "  'î'],\n",
       " ['î',\n",
       "  'î',\n",
       "  'î',\n",
       "  'î',\n",
       "  'î',\n",
       "  'a',\n",
       "  'î',\n",
       "  'r',\n",
       "  'a',\n",
       "  'î',\n",
       "  'î',\n",
       "  'î',\n",
       "  'î',\n",
       "  'î',\n",
       "  'a',\n",
       "  'î',\n",
       "  'î',\n",
       "  'î',\n",
       "  'o',\n",
       "  'î',\n",
       "  'î',\n",
       "  'r',\n",
       "  'e',\n",
       "  'î',\n",
       "  'î',\n",
       "  'î',\n",
       "  'î',\n",
       "  'î',\n",
       "  'a',\n",
       "  'î',\n",
       "  'î',\n",
       "  'e',\n",
       "  'r',\n",
       "  'î',\n",
       "  'î',\n",
       "  'î',\n",
       "  'î',\n",
       "  'î',\n",
       "  'î',\n",
       "  'î',\n",
       "  'î',\n",
       "  'î',\n",
       "  'î',\n",
       "  'î',\n",
       "  'î',\n",
       "  'î',\n",
       "  'î',\n",
       "  'î',\n",
       "  'î',\n",
       "  'î',\n",
       "  'î',\n",
       "  'î',\n",
       "  'î',\n",
       "  'î',\n",
       "  'î',\n",
       "  'î',\n",
       "  'î',\n",
       "  'î',\n",
       "  'î',\n",
       "  'î',\n",
       "  'î',\n",
       "  'î',\n",
       "  'î',\n",
       "  'î',\n",
       "  'î',\n",
       "  'î',\n",
       "  'î',\n",
       "  'î',\n",
       "  'î',\n",
       "  'î'],\n",
       " ['j',\n",
       "  'j',\n",
       "  'î',\n",
       "  'j',\n",
       "  'î',\n",
       "  'î',\n",
       "  'î',\n",
       "  'î',\n",
       "  'î',\n",
       "  'î',\n",
       "  'î',\n",
       "  'î',\n",
       "  'e',\n",
       "  'e',\n",
       "  'î',\n",
       "  'î',\n",
       "  'î',\n",
       "  'î',\n",
       "  'î',\n",
       "  'a',\n",
       "  'î',\n",
       "  'î',\n",
       "  'e',\n",
       "  'r',\n",
       "  'î',\n",
       "  'î',\n",
       "  'î',\n",
       "  'î',\n",
       "  'î',\n",
       "  'î',\n",
       "  'î',\n",
       "  'î',\n",
       "  'î',\n",
       "  'î',\n",
       "  'î',\n",
       "  'î',\n",
       "  'î',\n",
       "  'î',\n",
       "  'î',\n",
       "  'î',\n",
       "  'î',\n",
       "  'î',\n",
       "  'î',\n",
       "  'î',\n",
       "  'î',\n",
       "  'î',\n",
       "  'î',\n",
       "  'î',\n",
       "  'î',\n",
       "  'î',\n",
       "  'î',\n",
       "  'î',\n",
       "  'î',\n",
       "  'î',\n",
       "  'î',\n",
       "  'î',\n",
       "  'î',\n",
       "  'î',\n",
       "  'î',\n",
       "  'î',\n",
       "  'î',\n",
       "  'î',\n",
       "  'î',\n",
       "  'î',\n",
       "  'î',\n",
       "  'î',\n",
       "  'î',\n",
       "  'î',\n",
       "  'î',\n",
       "  'î'],\n",
       " ['j',\n",
       "  'j',\n",
       "  'î',\n",
       "  'î',\n",
       "  'a',\n",
       "  'î',\n",
       "  'î',\n",
       "  'î',\n",
       "  'î',\n",
       "  'o',\n",
       "  'î',\n",
       "  'h',\n",
       "  'o',\n",
       "  'l',\n",
       "  'î',\n",
       "  'î',\n",
       "  'î',\n",
       "  'o',\n",
       "  'î',\n",
       "  'r',\n",
       "  'î',\n",
       "  'h',\n",
       "  'a',\n",
       "  'î',\n",
       "  'î',\n",
       "  'î',\n",
       "  'î',\n",
       "  'î',\n",
       "  'î',\n",
       "  'î',\n",
       "  'î',\n",
       "  'î',\n",
       "  'î',\n",
       "  'î',\n",
       "  'î',\n",
       "  'î',\n",
       "  'î',\n",
       "  'î',\n",
       "  'î',\n",
       "  'î',\n",
       "  'î',\n",
       "  'î',\n",
       "  'î',\n",
       "  'î',\n",
       "  'î',\n",
       "  'î',\n",
       "  'î',\n",
       "  'î',\n",
       "  'î',\n",
       "  'î',\n",
       "  'î',\n",
       "  'î',\n",
       "  'e',\n",
       "  'î',\n",
       "  'î',\n",
       "  'î',\n",
       "  'î',\n",
       "  'î',\n",
       "  'î',\n",
       "  'î',\n",
       "  'î',\n",
       "  'î',\n",
       "  'î',\n",
       "  'î',\n",
       "  'î',\n",
       "  'î',\n",
       "  'î',\n",
       "  'e',\n",
       "  'e',\n",
       "  'e'],\n",
       " ['î',\n",
       "  'î',\n",
       "  'î',\n",
       "  'î',\n",
       "  'b',\n",
       "  'î',\n",
       "  'r',\n",
       "  'î',\n",
       "  'î',\n",
       "  'î',\n",
       "  'î',\n",
       "  'î',\n",
       "  'î',\n",
       "  'î',\n",
       "  'î',\n",
       "  'î',\n",
       "  'î',\n",
       "  'a',\n",
       "  'r',\n",
       "  'î',\n",
       "  'î',\n",
       "  'î',\n",
       "  'î',\n",
       "  'î',\n",
       "  'î',\n",
       "  'î',\n",
       "  'î',\n",
       "  'î',\n",
       "  'î',\n",
       "  'î',\n",
       "  'î',\n",
       "  'î',\n",
       "  'î',\n",
       "  'î',\n",
       "  'î',\n",
       "  'î',\n",
       "  'î',\n",
       "  'î',\n",
       "  'î',\n",
       "  'î',\n",
       "  'î',\n",
       "  'î',\n",
       "  'î',\n",
       "  'î',\n",
       "  'î',\n",
       "  'î',\n",
       "  'î',\n",
       "  'î',\n",
       "  'î',\n",
       "  'î',\n",
       "  'î',\n",
       "  'î',\n",
       "  'î',\n",
       "  'î',\n",
       "  'î',\n",
       "  'î',\n",
       "  'î',\n",
       "  'î',\n",
       "  'î',\n",
       "  'î',\n",
       "  'î',\n",
       "  'î',\n",
       "  'î',\n",
       "  'î',\n",
       "  'î',\n",
       "  'î',\n",
       "  'î',\n",
       "  'î',\n",
       "  'î',\n",
       "  'î'],\n",
       " ['î',\n",
       "  'î',\n",
       "  'î',\n",
       "  'î',\n",
       "  'î',\n",
       "  'î',\n",
       "  'a',\n",
       "  'î',\n",
       "  'î',\n",
       "  'î',\n",
       "  'î',\n",
       "  'î',\n",
       "  'î',\n",
       "  'î',\n",
       "  'î',\n",
       "  'î',\n",
       "  'î',\n",
       "  'î',\n",
       "  'î',\n",
       "  'î',\n",
       "  'î',\n",
       "  'î',\n",
       "  'î',\n",
       "  'î',\n",
       "  'î',\n",
       "  'î',\n",
       "  'î',\n",
       "  'î',\n",
       "  'î',\n",
       "  'î',\n",
       "  'î',\n",
       "  'î',\n",
       "  'î',\n",
       "  'î',\n",
       "  'î',\n",
       "  'î',\n",
       "  'î',\n",
       "  'î',\n",
       "  'î',\n",
       "  'î',\n",
       "  'î',\n",
       "  'î',\n",
       "  'î',\n",
       "  'î',\n",
       "  'î',\n",
       "  'î',\n",
       "  'î',\n",
       "  'î',\n",
       "  'î',\n",
       "  'î',\n",
       "  'î',\n",
       "  'î',\n",
       "  'î',\n",
       "  'î',\n",
       "  'î',\n",
       "  'î',\n",
       "  'î',\n",
       "  'î',\n",
       "  'î',\n",
       "  'î',\n",
       "  'î',\n",
       "  'î',\n",
       "  'î',\n",
       "  'î',\n",
       "  'î',\n",
       "  'î',\n",
       "  'î',\n",
       "  'î',\n",
       "  'î',\n",
       "  'î'],\n",
       " ['j',\n",
       "  'î',\n",
       "  'o',\n",
       "  'î',\n",
       "  'î',\n",
       "  'A',\n",
       "  'P',\n",
       "  'n',\n",
       "  'î',\n",
       "  'P',\n",
       "  'î',\n",
       "  'A',\n",
       "  'î',\n",
       "  'A',\n",
       "  'î',\n",
       "  'î',\n",
       "  'j',\n",
       "  'î',\n",
       "  'n',\n",
       "  'a',\n",
       "  'î',\n",
       "  'î',\n",
       "  'î',\n",
       "  'î',\n",
       "  'j',\n",
       "  'î',\n",
       "  'î',\n",
       "  'a',\n",
       "  'r',\n",
       "  'î',\n",
       "  'î',\n",
       "  'î',\n",
       "  'î',\n",
       "  'î',\n",
       "  'î',\n",
       "  'î',\n",
       "  'î',\n",
       "  'î',\n",
       "  'î',\n",
       "  'î',\n",
       "  'A',\n",
       "  'A',\n",
       "  'A',\n",
       "  'A',\n",
       "  'A',\n",
       "  'î',\n",
       "  'î',\n",
       "  'î',\n",
       "  'î',\n",
       "  'î',\n",
       "  'î',\n",
       "  'î',\n",
       "  'î',\n",
       "  'î',\n",
       "  'î',\n",
       "  'î',\n",
       "  'P',\n",
       "  'P',\n",
       "  'î',\n",
       "  'î',\n",
       "  'î',\n",
       "  'î',\n",
       "  'î',\n",
       "  'î',\n",
       "  'î',\n",
       "  'î',\n",
       "  'î',\n",
       "  'î',\n",
       "  'î',\n",
       "  'î'],\n",
       " ['j',\n",
       "  'j',\n",
       "  'î',\n",
       "  'j',\n",
       "  'î',\n",
       "  'î',\n",
       "  'î',\n",
       "  'î',\n",
       "  'î',\n",
       "  'a',\n",
       "  'î',\n",
       "  'î',\n",
       "  'î',\n",
       "  'î',\n",
       "  'î',\n",
       "  'î',\n",
       "  'î',\n",
       "  'î',\n",
       "  'î',\n",
       "  'î',\n",
       "  'î',\n",
       "  'î',\n",
       "  'î',\n",
       "  'î',\n",
       "  'î',\n",
       "  'î',\n",
       "  'î',\n",
       "  'a',\n",
       "  'î',\n",
       "  'î',\n",
       "  'î',\n",
       "  'î',\n",
       "  'î',\n",
       "  'î',\n",
       "  'î',\n",
       "  'î',\n",
       "  'î',\n",
       "  'î',\n",
       "  'b',\n",
       "  'e',\n",
       "  'î',\n",
       "  'a',\n",
       "  'b',\n",
       "  'î',\n",
       "  'e',\n",
       "  'î',\n",
       "  'î',\n",
       "  'o',\n",
       "  'î',\n",
       "  'î',\n",
       "  'o',\n",
       "  'î',\n",
       "  'e',\n",
       "  'î',\n",
       "  'î',\n",
       "  'o',\n",
       "  'î',\n",
       "  'î',\n",
       "  'o',\n",
       "  'î',\n",
       "  'r',\n",
       "  'î',\n",
       "  'î',\n",
       "  'î',\n",
       "  'î',\n",
       "  'î',\n",
       "  'î',\n",
       "  'î',\n",
       "  'î',\n",
       "  'î'],\n",
       " ['î',\n",
       "  'î',\n",
       "  'î',\n",
       "  'î',\n",
       "  'î',\n",
       "  'î',\n",
       "  'a',\n",
       "  'î',\n",
       "  'î',\n",
       "  'î',\n",
       "  'î',\n",
       "  'î',\n",
       "  'î',\n",
       "  'î',\n",
       "  'î',\n",
       "  'î',\n",
       "  'î',\n",
       "  'î',\n",
       "  'î',\n",
       "  'î',\n",
       "  'a',\n",
       "  'î',\n",
       "  'î',\n",
       "  'î',\n",
       "  'î',\n",
       "  'a',\n",
       "  'î',\n",
       "  'î',\n",
       "  'î',\n",
       "  'î',\n",
       "  'î',\n",
       "  'î',\n",
       "  'î',\n",
       "  'î',\n",
       "  'b',\n",
       "  'î',\n",
       "  'î',\n",
       "  'î',\n",
       "  'a',\n",
       "  'î',\n",
       "  'î',\n",
       "  'î',\n",
       "  'î',\n",
       "  'î',\n",
       "  'î',\n",
       "  'î',\n",
       "  'î',\n",
       "  'î',\n",
       "  'î',\n",
       "  'î',\n",
       "  'î',\n",
       "  'î',\n",
       "  'î',\n",
       "  'î',\n",
       "  'î',\n",
       "  'î',\n",
       "  'î',\n",
       "  'î',\n",
       "  'î',\n",
       "  'î',\n",
       "  'î',\n",
       "  'î',\n",
       "  'î',\n",
       "  'î',\n",
       "  'î',\n",
       "  'î',\n",
       "  'î',\n",
       "  'î',\n",
       "  'î',\n",
       "  'î'],\n",
       " ['j',\n",
       "  'j',\n",
       "  'j',\n",
       "  'j',\n",
       "  'j',\n",
       "  'î',\n",
       "  'î',\n",
       "  'P',\n",
       "  'î',\n",
       "  'î',\n",
       "  'j',\n",
       "  'î',\n",
       "  'r',\n",
       "  'î',\n",
       "  'î',\n",
       "  'î',\n",
       "  'î',\n",
       "  'î',\n",
       "  'î',\n",
       "  'a',\n",
       "  'î',\n",
       "  'î',\n",
       "  'î',\n",
       "  'î',\n",
       "  'î',\n",
       "  'î',\n",
       "  'î',\n",
       "  'î',\n",
       "  'î',\n",
       "  'a',\n",
       "  'r',\n",
       "  'î',\n",
       "  'î',\n",
       "  'î',\n",
       "  'î',\n",
       "  'î',\n",
       "  'î',\n",
       "  'î',\n",
       "  'î',\n",
       "  'î',\n",
       "  'j',\n",
       "  'j',\n",
       "  'j',\n",
       "  'j',\n",
       "  'j',\n",
       "  'j',\n",
       "  'î',\n",
       "  'î',\n",
       "  'î',\n",
       "  'r',\n",
       "  'P',\n",
       "  'P',\n",
       "  'î',\n",
       "  'î',\n",
       "  'î',\n",
       "  'î',\n",
       "  'î',\n",
       "  'P',\n",
       "  'P',\n",
       "  'î',\n",
       "  'î',\n",
       "  'P',\n",
       "  'P',\n",
       "  'P',\n",
       "  'P',\n",
       "  'î',\n",
       "  'î',\n",
       "  'î',\n",
       "  'î',\n",
       "  'î'],\n",
       " ['j',\n",
       "  'j',\n",
       "  'î',\n",
       "  'î',\n",
       "  'h',\n",
       "  'î',\n",
       "  'î',\n",
       "  'k',\n",
       "  'î',\n",
       "  'î',\n",
       "  'e',\n",
       "  'î',\n",
       "  'r',\n",
       "  'e',\n",
       "  'î',\n",
       "  'î',\n",
       "  'o',\n",
       "  'î',\n",
       "  'e',\n",
       "  'î',\n",
       "  'î',\n",
       "  'î',\n",
       "  'î',\n",
       "  'î',\n",
       "  'î',\n",
       "  'î',\n",
       "  'î',\n",
       "  'î',\n",
       "  'î',\n",
       "  'î',\n",
       "  'î',\n",
       "  'î',\n",
       "  'î',\n",
       "  'î',\n",
       "  'î',\n",
       "  'î',\n",
       "  'î',\n",
       "  'î',\n",
       "  'î',\n",
       "  'î',\n",
       "  'î',\n",
       "  'î',\n",
       "  'î',\n",
       "  'î',\n",
       "  'î',\n",
       "  'î',\n",
       "  'î',\n",
       "  'î',\n",
       "  'î',\n",
       "  'î',\n",
       "  'î',\n",
       "  'î',\n",
       "  'î',\n",
       "  'î',\n",
       "  'î',\n",
       "  'î',\n",
       "  'î',\n",
       "  'î',\n",
       "  'î',\n",
       "  'î',\n",
       "  'î',\n",
       "  'î',\n",
       "  'î',\n",
       "  'î',\n",
       "  'î',\n",
       "  'î',\n",
       "  'î',\n",
       "  'î',\n",
       "  'î',\n",
       "  'î'],\n",
       " ['î',\n",
       "  'î',\n",
       "  'h',\n",
       "  'e',\n",
       "  'î',\n",
       "  'b',\n",
       "  'î',\n",
       "  'b',\n",
       "  'â',\n",
       "  'a',\n",
       "  'î',\n",
       "  'î',\n",
       "  'î',\n",
       "  'o',\n",
       "  'î',\n",
       "  'î',\n",
       "  'î',\n",
       "  'î',\n",
       "  'î',\n",
       "  'î',\n",
       "  'î',\n",
       "  'î',\n",
       "  'î',\n",
       "  'e',\n",
       "  'î',\n",
       "  'î',\n",
       "  'î',\n",
       "  'o',\n",
       "  'î',\n",
       "  'î',\n",
       "  'l',\n",
       "  'î',\n",
       "  'î',\n",
       "  'b',\n",
       "  'î',\n",
       "  'î',\n",
       "  'r',\n",
       "  'e',\n",
       "  'e',\n",
       "  'î',\n",
       "  'î',\n",
       "  'a',\n",
       "  'î',\n",
       "  'l',\n",
       "  'o',\n",
       "  'î',\n",
       "  'î',\n",
       "  'î',\n",
       "  'î',\n",
       "  'î',\n",
       "  'î',\n",
       "  'î',\n",
       "  'î',\n",
       "  'î',\n",
       "  'î',\n",
       "  'î',\n",
       "  'î',\n",
       "  'î',\n",
       "  'î',\n",
       "  'î',\n",
       "  'î',\n",
       "  'î',\n",
       "  'P',\n",
       "  'P',\n",
       "  'P',\n",
       "  'P',\n",
       "  'î',\n",
       "  'P',\n",
       "  'î',\n",
       "  'î'],\n",
       " ['j',\n",
       "  'î',\n",
       "  'î',\n",
       "  'e',\n",
       "  'î',\n",
       "  'l',\n",
       "  'a',\n",
       "  'î',\n",
       "  'î',\n",
       "  'î',\n",
       "  'î',\n",
       "  'î',\n",
       "  'î',\n",
       "  'e',\n",
       "  'î',\n",
       "  'î',\n",
       "  'î',\n",
       "  'î',\n",
       "  'a',\n",
       "  'î',\n",
       "  'î',\n",
       "  'î',\n",
       "  'o',\n",
       "  'î',\n",
       "  'î',\n",
       "  'î',\n",
       "  'e',\n",
       "  'î',\n",
       "  'î',\n",
       "  'a',\n",
       "  'î',\n",
       "  'î',\n",
       "  'î',\n",
       "  'a',\n",
       "  'l',\n",
       "  'î',\n",
       "  'î',\n",
       "  'î',\n",
       "  'î',\n",
       "  'î',\n",
       "  'o',\n",
       "  'î',\n",
       "  'î',\n",
       "  'î',\n",
       "  'r',\n",
       "  'î',\n",
       "  'î',\n",
       "  'î',\n",
       "  'î',\n",
       "  'e',\n",
       "  'î',\n",
       "  'î',\n",
       "  'î',\n",
       "  'î',\n",
       "  'î',\n",
       "  'î',\n",
       "  'î',\n",
       "  'î',\n",
       "  'î',\n",
       "  'î',\n",
       "  'î',\n",
       "  'î',\n",
       "  'î',\n",
       "  'î',\n",
       "  'î',\n",
       "  'î',\n",
       "  'î',\n",
       "  'î',\n",
       "  'î',\n",
       "  'î'],\n",
       " ['î',\n",
       "  'î',\n",
       "  'a',\n",
       "  'î',\n",
       "  'î',\n",
       "  'î',\n",
       "  'î',\n",
       "  'o',\n",
       "  'î',\n",
       "  'î',\n",
       "  'î',\n",
       "  'î',\n",
       "  'î',\n",
       "  'î',\n",
       "  'î',\n",
       "  'î',\n",
       "  'î',\n",
       "  'î',\n",
       "  'î',\n",
       "  'î',\n",
       "  'î',\n",
       "  'î',\n",
       "  'î',\n",
       "  'l',\n",
       "  'a',\n",
       "  'î',\n",
       "  'î',\n",
       "  'î',\n",
       "  'î',\n",
       "  'o',\n",
       "  'î',\n",
       "  'î',\n",
       "  'î',\n",
       "  'a',\n",
       "  'î',\n",
       "  'î',\n",
       "  'î',\n",
       "  'î',\n",
       "  'a',\n",
       "  'r',\n",
       "  'î',\n",
       "  'î',\n",
       "  'î',\n",
       "  'o',\n",
       "  'r',\n",
       "  'î',\n",
       "  'î',\n",
       "  'î',\n",
       "  'r',\n",
       "  'î',\n",
       "  'î',\n",
       "  'î',\n",
       "  'î',\n",
       "  'a',\n",
       "  'î',\n",
       "  'î',\n",
       "  'î',\n",
       "  'î',\n",
       "  'î',\n",
       "  'î',\n",
       "  'î',\n",
       "  'î',\n",
       "  'î',\n",
       "  'î',\n",
       "  'î',\n",
       "  'î',\n",
       "  'î',\n",
       "  'î',\n",
       "  'î',\n",
       "  'î'],\n",
       " ['j',\n",
       "  'î',\n",
       "  'î',\n",
       "  'P',\n",
       "  'P',\n",
       "  'î',\n",
       "  'î',\n",
       "  'P',\n",
       "  'î',\n",
       "  'î',\n",
       "  'î',\n",
       "  'î',\n",
       "  'î',\n",
       "  'î',\n",
       "  'î',\n",
       "  'î',\n",
       "  'o',\n",
       "  'P',\n",
       "  'e',\n",
       "  'î',\n",
       "  'î',\n",
       "  'o',\n",
       "  'P',\n",
       "  'î',\n",
       "  'î',\n",
       "  'î',\n",
       "  'j',\n",
       "  'î',\n",
       "  'j',\n",
       "  'î',\n",
       "  'î',\n",
       "  'î',\n",
       "  'î',\n",
       "  'î',\n",
       "  'n',\n",
       "  'î',\n",
       "  'î',\n",
       "  'î',\n",
       "  'î',\n",
       "  'î',\n",
       "  'î',\n",
       "  'î',\n",
       "  'î',\n",
       "  'î',\n",
       "  'î',\n",
       "  'î',\n",
       "  'î',\n",
       "  'î',\n",
       "  'î',\n",
       "  'î',\n",
       "  'î',\n",
       "  'î',\n",
       "  'î',\n",
       "  'î',\n",
       "  'î',\n",
       "  'î',\n",
       "  'î',\n",
       "  'P',\n",
       "  'î',\n",
       "  'î',\n",
       "  'î',\n",
       "  'î',\n",
       "  'P',\n",
       "  'P',\n",
       "  'î',\n",
       "  'î',\n",
       "  'î',\n",
       "  'î',\n",
       "  'P',\n",
       "  'î'],\n",
       " ['j',\n",
       "  'T',\n",
       "  'h',\n",
       "  'e',\n",
       "  'P',\n",
       "  'î',\n",
       "  'î',\n",
       "  'r',\n",
       "  'e',\n",
       "  'P',\n",
       "  'î',\n",
       "  'K',\n",
       "  'r',\n",
       "  'î',\n",
       "  'b',\n",
       "  'e',\n",
       "  'n',\n",
       "  'b',\n",
       "  'b',\n",
       "  'î',\n",
       "  'b',\n",
       "  'a',\n",
       "  'n',\n",
       "  'î',\n",
       "  'e',\n",
       "  'a',\n",
       "  'î',\n",
       "  'K',\n",
       "  'î',\n",
       "  'K',\n",
       "  'K',\n",
       "  'n',\n",
       "  'd',\n",
       "  'K',\n",
       "  'b',\n",
       "  'd',\n",
       "  'e',\n",
       "  'î',\n",
       "  'K',\n",
       "  'r',\n",
       "  'o',\n",
       "  'î',\n",
       "  'e',\n",
       "  'K',\n",
       "  'b',\n",
       "  'K',\n",
       "  'K',\n",
       "  'e',\n",
       "  'b',\n",
       "  'î',\n",
       "  'e',\n",
       "  'n',\n",
       "  'K',\n",
       "  'e',\n",
       "  'r',\n",
       "  'b',\n",
       "  'o',\n",
       "  'b',\n",
       "  'b',\n",
       "  'K',\n",
       "  'K',\n",
       "  'e',\n",
       "  'b',\n",
       "  'î',\n",
       "  'K',\n",
       "  'K',\n",
       "  'î',\n",
       "  'K',\n",
       "  'î',\n",
       "  'î'],\n",
       " ['j',\n",
       "  'j',\n",
       "  'j',\n",
       "  'j',\n",
       "  'î',\n",
       "  'î',\n",
       "  'a',\n",
       "  'î',\n",
       "  'î',\n",
       "  'î',\n",
       "  'r',\n",
       "  'î',\n",
       "  'î',\n",
       "  'h',\n",
       "  'î',\n",
       "  'î',\n",
       "  'î',\n",
       "  'î',\n",
       "  'î',\n",
       "  'h',\n",
       "  'î',\n",
       "  'î',\n",
       "  'e',\n",
       "  'î',\n",
       "  'î',\n",
       "  'î',\n",
       "  'î',\n",
       "  'î',\n",
       "  'î',\n",
       "  'î',\n",
       "  'î',\n",
       "  'î',\n",
       "  'î',\n",
       "  'î',\n",
       "  'î',\n",
       "  'î',\n",
       "  'î',\n",
       "  'j',\n",
       "  'î',\n",
       "  'î',\n",
       "  'î',\n",
       "  'j',\n",
       "  'j',\n",
       "  'j',\n",
       "  'j',\n",
       "  'j',\n",
       "  'î',\n",
       "  'î',\n",
       "  'î',\n",
       "  'î',\n",
       "  'î',\n",
       "  'î',\n",
       "  'î',\n",
       "  'î',\n",
       "  'î',\n",
       "  'î',\n",
       "  'î',\n",
       "  'î',\n",
       "  'î',\n",
       "  'î',\n",
       "  'î',\n",
       "  'î',\n",
       "  'î',\n",
       "  'î',\n",
       "  'î',\n",
       "  'î',\n",
       "  'î',\n",
       "  'î',\n",
       "  'e',\n",
       "  'j'],\n",
       " ['î',\n",
       "  'î',\n",
       "  'î',\n",
       "  'î',\n",
       "  'î',\n",
       "  'î',\n",
       "  'î',\n",
       "  'î',\n",
       "  'r',\n",
       "  'î',\n",
       "  'î',\n",
       "  'î',\n",
       "  'î',\n",
       "  'e',\n",
       "  'î',\n",
       "  'î',\n",
       "  'î',\n",
       "  'a',\n",
       "  'r',\n",
       "  'î',\n",
       "  'î',\n",
       "  'î',\n",
       "  'î',\n",
       "  'î',\n",
       "  'î',\n",
       "  'î',\n",
       "  'î',\n",
       "  'î',\n",
       "  'î',\n",
       "  'a',\n",
       "  'î',\n",
       "  'î',\n",
       "  'î',\n",
       "  'î',\n",
       "  'î',\n",
       "  'î',\n",
       "  'î',\n",
       "  'î',\n",
       "  'î',\n",
       "  'î',\n",
       "  'î',\n",
       "  'î',\n",
       "  'î',\n",
       "  'î',\n",
       "  'î',\n",
       "  'î',\n",
       "  'î',\n",
       "  'î',\n",
       "  'î',\n",
       "  'î',\n",
       "  'î',\n",
       "  'î',\n",
       "  'î',\n",
       "  'î',\n",
       "  'î',\n",
       "  'î',\n",
       "  'î',\n",
       "  'î',\n",
       "  'î',\n",
       "  'î',\n",
       "  'î',\n",
       "  'î',\n",
       "  'î',\n",
       "  'î',\n",
       "  'î',\n",
       "  'î',\n",
       "  'î',\n",
       "  'î',\n",
       "  'î',\n",
       "  'î'],\n",
       " ['î',\n",
       "  'î',\n",
       "  'î',\n",
       "  'î',\n",
       "  'a',\n",
       "  'î',\n",
       "  'î',\n",
       "  'î',\n",
       "  'î',\n",
       "  'î',\n",
       "  'î',\n",
       "  'î',\n",
       "  'î',\n",
       "  'î',\n",
       "  'î',\n",
       "  'î',\n",
       "  'î',\n",
       "  'î',\n",
       "  'î',\n",
       "  'î',\n",
       "  'î',\n",
       "  'î',\n",
       "  'î',\n",
       "  'î',\n",
       "  'î',\n",
       "  'î',\n",
       "  'î',\n",
       "  'î',\n",
       "  'î',\n",
       "  'î',\n",
       "  'î',\n",
       "  'î',\n",
       "  'î',\n",
       "  'î',\n",
       "  'î',\n",
       "  'î',\n",
       "  'î',\n",
       "  'î',\n",
       "  'î',\n",
       "  'î',\n",
       "  'î',\n",
       "  'î',\n",
       "  'î',\n",
       "  'î',\n",
       "  'î',\n",
       "  'î',\n",
       "  'î',\n",
       "  'î',\n",
       "  'î',\n",
       "  'î',\n",
       "  'î',\n",
       "  'î',\n",
       "  'î',\n",
       "  'î',\n",
       "  'î',\n",
       "  'î',\n",
       "  'î',\n",
       "  'î',\n",
       "  'î',\n",
       "  'î',\n",
       "  'î',\n",
       "  'î',\n",
       "  'î',\n",
       "  'î',\n",
       "  'î',\n",
       "  'î',\n",
       "  'î',\n",
       "  'î',\n",
       "  'î',\n",
       "  'î'],\n",
       " ['j',\n",
       "  'j',\n",
       "  'h',\n",
       "  'a',\n",
       "  'j',\n",
       "  'î',\n",
       "  'b',\n",
       "  'j',\n",
       "  'j',\n",
       "  'j',\n",
       "  'î',\n",
       "  'j',\n",
       "  'j',\n",
       "  'î',\n",
       "  'î',\n",
       "  'j',\n",
       "  'j',\n",
       "  'î',\n",
       "  'î',\n",
       "  'j',\n",
       "  'r',\n",
       "  'î',\n",
       "  'j',\n",
       "  'î',\n",
       "  'h',\n",
       "  'î',\n",
       "  'î',\n",
       "  'î',\n",
       "  'î',\n",
       "  'î',\n",
       "  'î',\n",
       "  'î',\n",
       "  'î',\n",
       "  'î',\n",
       "  'î',\n",
       "  'î',\n",
       "  'P',\n",
       "  'P',\n",
       "  'P',\n",
       "  'P',\n",
       "  'P',\n",
       "  'P',\n",
       "  'P',\n",
       "  'P',\n",
       "  'î',\n",
       "  'î',\n",
       "  'î',\n",
       "  'î',\n",
       "  'î',\n",
       "  'î',\n",
       "  'P',\n",
       "  'P',\n",
       "  'î',\n",
       "  'î',\n",
       "  'î',\n",
       "  'î',\n",
       "  'î',\n",
       "  'P',\n",
       "  'P',\n",
       "  'î',\n",
       "  'î',\n",
       "  'P',\n",
       "  'P',\n",
       "  'P',\n",
       "  'P',\n",
       "  'P',\n",
       "  'î',\n",
       "  'î',\n",
       "  'î',\n",
       "  'î'],\n",
       " ['j',\n",
       "  'î',\n",
       "  'î',\n",
       "  'î',\n",
       "  'î',\n",
       "  'o',\n",
       "  'î',\n",
       "  'î',\n",
       "  'î',\n",
       "  'o',\n",
       "  'î',\n",
       "  'î',\n",
       "  'î',\n",
       "  'a',\n",
       "  'î',\n",
       "  'î',\n",
       "  'î',\n",
       "  'î',\n",
       "  'î',\n",
       "  'î',\n",
       "  'î',\n",
       "  'e',\n",
       "  'î',\n",
       "  'î',\n",
       "  'î',\n",
       "  'î',\n",
       "  'î',\n",
       "  'î',\n",
       "  'î',\n",
       "  'î',\n",
       "  'î',\n",
       "  'î',\n",
       "  'î',\n",
       "  'î',\n",
       "  'î',\n",
       "  'î',\n",
       "  'î',\n",
       "  'î',\n",
       "  'î',\n",
       "  'î',\n",
       "  'î',\n",
       "  'î',\n",
       "  'î',\n",
       "  'î',\n",
       "  'î',\n",
       "  'î',\n",
       "  'î',\n",
       "  'î',\n",
       "  'î',\n",
       "  'î',\n",
       "  'î',\n",
       "  'î',\n",
       "  'î',\n",
       "  'î',\n",
       "  'î',\n",
       "  'î',\n",
       "  'î',\n",
       "  'î',\n",
       "  'î',\n",
       "  'î',\n",
       "  'î',\n",
       "  'î',\n",
       "  'î',\n",
       "  'î',\n",
       "  'î',\n",
       "  'î',\n",
       "  'î',\n",
       "  'a',\n",
       "  'î',\n",
       "  'î'],\n",
       " ['î',\n",
       "  'î',\n",
       "  'î',\n",
       "  'î',\n",
       "  'î',\n",
       "  'e',\n",
       "  'î',\n",
       "  'î',\n",
       "  'î',\n",
       "  'î',\n",
       "  'î',\n",
       "  'î',\n",
       "  'î',\n",
       "  'î',\n",
       "  'î',\n",
       "  'î',\n",
       "  'î',\n",
       "  'î',\n",
       "  'î',\n",
       "  'r',\n",
       "  'î',\n",
       "  'î',\n",
       "  'î',\n",
       "  'o',\n",
       "  'î',\n",
       "  'î',\n",
       "  'î',\n",
       "  'î',\n",
       "  'î',\n",
       "  'î',\n",
       "  'î',\n",
       "  'î',\n",
       "  'î',\n",
       "  'î',\n",
       "  'î',\n",
       "  'î',\n",
       "  'î',\n",
       "  'î',\n",
       "  'î',\n",
       "  'î',\n",
       "  'î',\n",
       "  'î',\n",
       "  'î',\n",
       "  'î',\n",
       "  'î',\n",
       "  'î',\n",
       "  'î',\n",
       "  'î',\n",
       "  'î',\n",
       "  'î',\n",
       "  'î',\n",
       "  'î',\n",
       "  'î',\n",
       "  'î',\n",
       "  'î',\n",
       "  'î',\n",
       "  'î',\n",
       "  'î',\n",
       "  'î',\n",
       "  'î',\n",
       "  'î',\n",
       "  'î',\n",
       "  'î',\n",
       "  'î',\n",
       "  'î',\n",
       "  'î',\n",
       "  'î',\n",
       "  'î',\n",
       "  'î',\n",
       "  'î'],\n",
       " ['j',\n",
       "  'T',\n",
       "  'h',\n",
       "  'e',\n",
       "  'î',\n",
       "  'î',\n",
       "  'a',\n",
       "  'î',\n",
       "  'î',\n",
       "  'î',\n",
       "  'e',\n",
       "  'l',\n",
       "  'l',\n",
       "  'î',\n",
       "  'a',\n",
       "  's',\n",
       "  'l',\n",
       "  'e',\n",
       "  'e',\n",
       "  'î',\n",
       "  'î',\n",
       "  'î',\n",
       "  'î',\n",
       "  'r',\n",
       "  'l',\n",
       "  'e',\n",
       "  'î',\n",
       "  'b',\n",
       "  'î',\n",
       "  'î',\n",
       "  'b',\n",
       "  'î',\n",
       "  'n',\n",
       "  'b',\n",
       "  'î',\n",
       "  'r',\n",
       "  'o',\n",
       "  'n',\n",
       "  'î',\n",
       "  'b',\n",
       "  'o',\n",
       "  'î',\n",
       "  'b',\n",
       "  'î',\n",
       "  'b',\n",
       "  'e',\n",
       "  'b',\n",
       "  'î',\n",
       "  'î',\n",
       "  'r',\n",
       "  'e',\n",
       "  'î',\n",
       "  'l',\n",
       "  'a',\n",
       "  'î',\n",
       "  'e',\n",
       "  'î',\n",
       "  'î',\n",
       "  'î',\n",
       "  'î',\n",
       "  'î',\n",
       "  'î',\n",
       "  'î',\n",
       "  'î',\n",
       "  'î',\n",
       "  'î',\n",
       "  'î',\n",
       "  'î',\n",
       "  'î',\n",
       "  'î'],\n",
       " ['j',\n",
       "  'A',\n",
       "  'r',\n",
       "  'e',\n",
       "  'A',\n",
       "  'î',\n",
       "  'o',\n",
       "  'A',\n",
       "  'î',\n",
       "  'g',\n",
       "  'o',\n",
       "  'a',\n",
       "  'n',\n",
       "  'a',\n",
       "  'î',\n",
       "  'o',\n",
       "  'r',\n",
       "  'î',\n",
       "  'n',\n",
       "  'o',\n",
       "  'a',\n",
       "  '?',\n",
       "  'î',\n",
       "  'î',\n",
       "  'î',\n",
       "  'î',\n",
       "  'î',\n",
       "  'î',\n",
       "  'î',\n",
       "  'î',\n",
       "  'î',\n",
       "  'î',\n",
       "  'î',\n",
       "  'î',\n",
       "  'î',\n",
       "  'î',\n",
       "  '7',\n",
       "  'î',\n",
       "  'î',\n",
       "  'î',\n",
       "  'î',\n",
       "  'î',\n",
       "  '7',\n",
       "  '7',\n",
       "  'î',\n",
       "  'î',\n",
       "  'î',\n",
       "  'î',\n",
       "  'î',\n",
       "  'î',\n",
       "  'î',\n",
       "  'î',\n",
       "  'î',\n",
       "  'î',\n",
       "  'î',\n",
       "  'î',\n",
       "  'î',\n",
       "  'î',\n",
       "  'î',\n",
       "  'î',\n",
       "  'î',\n",
       "  'î',\n",
       "  'î',\n",
       "  'î',\n",
       "  'î',\n",
       "  'î',\n",
       "  'î',\n",
       "  'î',\n",
       "  'î',\n",
       "  'î']]"
      ]
     },
     "execution_count": 44,
     "metadata": {},
     "output_type": "execute_result"
    }
   ],
   "source": [
    "tensors2seqs(\n",
    "    torch.argmax(\n",
    "        translator(src_batch, tgt_batch,\n",
    "                   src_padding_mask, tgt_padding_mask),\n",
    "        dim=-1),\n",
    "    idx2token)"
   ]
  },
  {
   "cell_type": "markdown",
   "metadata": {},
   "source": [
    "## Model Creation"
   ]
  },
  {
   "cell_type": "code",
   "execution_count": 45,
   "metadata": {},
   "outputs": [
    {
     "data": {
      "text/plain": [
       "{'<pad>': 0,\n",
       " '<unk>': 1,\n",
       " '<s>': 2,\n",
       " '</s>': 3,\n",
       " ' ': 4,\n",
       " '!': 5,\n",
       " '\"': 6,\n",
       " '$': 7,\n",
       " '%': 8,\n",
       " \"'\": 9,\n",
       " ',': 10,\n",
       " '-': 11,\n",
       " '.': 12,\n",
       " '/': 13,\n",
       " '0': 14,\n",
       " '1': 15,\n",
       " '2': 16,\n",
       " '3': 17,\n",
       " '4': 18,\n",
       " '5': 19,\n",
       " '6': 20,\n",
       " '7': 21,\n",
       " '8': 22,\n",
       " '9': 23,\n",
       " ':': 24,\n",
       " ';': 25,\n",
       " '?': 26,\n",
       " 'A': 27,\n",
       " 'B': 28,\n",
       " 'C': 29,\n",
       " 'D': 30,\n",
       " 'E': 31,\n",
       " 'F': 32,\n",
       " 'G': 33,\n",
       " 'H': 34,\n",
       " 'I': 35,\n",
       " 'J': 36,\n",
       " 'K': 37,\n",
       " 'L': 38,\n",
       " 'M': 39,\n",
       " 'N': 40,\n",
       " 'O': 41,\n",
       " 'P': 42,\n",
       " 'Q': 43,\n",
       " 'R': 44,\n",
       " 'S': 45,\n",
       " 'T': 46,\n",
       " 'U': 47,\n",
       " 'V': 48,\n",
       " 'W': 49,\n",
       " 'X': 50,\n",
       " 'Y': 51,\n",
       " 'Z': 52,\n",
       " 'a': 53,\n",
       " 'b': 54,\n",
       " 'c': 55,\n",
       " 'd': 56,\n",
       " 'e': 57,\n",
       " 'f': 58,\n",
       " 'g': 59,\n",
       " 'h': 60,\n",
       " 'i': 61,\n",
       " 'j': 62,\n",
       " 'k': 63,\n",
       " 'l': 64,\n",
       " 'm': 65,\n",
       " 'n': 66,\n",
       " 'o': 67,\n",
       " 'p': 68,\n",
       " 'q': 69,\n",
       " 'r': 70,\n",
       " 's': 71,\n",
       " 't': 72,\n",
       " 'u': 73,\n",
       " 'v': 74,\n",
       " 'w': 75,\n",
       " 'x': 76,\n",
       " 'y': 77,\n",
       " 'z': 78,\n",
       " '\\xa0': 79,\n",
       " '«': 80,\n",
       " '°': 81,\n",
       " '»': 82,\n",
       " 'À': 83,\n",
       " 'Ç': 84,\n",
       " 'É': 85,\n",
       " 'Ê': 86,\n",
       " 'Ô': 87,\n",
       " 'à': 88,\n",
       " 'â': 89,\n",
       " 'ç': 90,\n",
       " 'è': 91,\n",
       " 'é': 92,\n",
       " 'ê': 93,\n",
       " 'ë': 94,\n",
       " 'î': 95,\n",
       " 'ï': 96,\n",
       " 'ô': 97,\n",
       " 'ù': 98,\n",
       " 'û': 99,\n",
       " 'œ': 100,\n",
       " '\\u2009': 101,\n",
       " '\\u200b': 102,\n",
       " '’': 103,\n",
       " '\\u202f': 104}"
      ]
     },
     "execution_count": 45,
     "metadata": {},
     "output_type": "execute_result"
    }
   ],
   "source": [
    "token2idx"
   ]
  },
  {
   "cell_type": "code",
   "execution_count": 46,
   "metadata": {},
   "outputs": [],
   "source": [
    "VOCAB_SIZE = len(token2idx)\n",
    "D_MODEL = 512\n",
    "NHEAD = 8\n",
    "DIM_FF = 512\n",
    "BATCH_SIZE = 32\n",
    "NUM_ENCODER_LAYERS = 3\n",
    "NUM_DECODER_LAYERS = 3\n",
    "MAX_LEN = max_len + 2  # start and end\n",
    "WARMUP_STEPS = 4000"
   ]
  },
  {
   "cell_type": "code",
   "execution_count": 47,
   "metadata": {},
   "outputs": [
    {
     "data": {
      "text/plain": [
       "{'<pad>': 0,\n",
       " '<unk>': 1,\n",
       " '<s>': 2,\n",
       " '</s>': 3,\n",
       " ' ': 4,\n",
       " '!': 5,\n",
       " '\"': 6,\n",
       " '$': 7,\n",
       " '%': 8,\n",
       " \"'\": 9,\n",
       " ',': 10,\n",
       " '-': 11,\n",
       " '.': 12,\n",
       " '/': 13,\n",
       " '0': 14,\n",
       " '1': 15,\n",
       " '2': 16,\n",
       " '3': 17,\n",
       " '4': 18,\n",
       " '5': 19,\n",
       " '6': 20,\n",
       " '7': 21,\n",
       " '8': 22,\n",
       " '9': 23,\n",
       " ':': 24,\n",
       " ';': 25,\n",
       " '?': 26,\n",
       " 'A': 27,\n",
       " 'B': 28,\n",
       " 'C': 29,\n",
       " 'D': 30,\n",
       " 'E': 31,\n",
       " 'F': 32,\n",
       " 'G': 33,\n",
       " 'H': 34,\n",
       " 'I': 35,\n",
       " 'J': 36,\n",
       " 'K': 37,\n",
       " 'L': 38,\n",
       " 'M': 39,\n",
       " 'N': 40,\n",
       " 'O': 41,\n",
       " 'P': 42,\n",
       " 'Q': 43,\n",
       " 'R': 44,\n",
       " 'S': 45,\n",
       " 'T': 46,\n",
       " 'U': 47,\n",
       " 'V': 48,\n",
       " 'W': 49,\n",
       " 'X': 50,\n",
       " 'Y': 51,\n",
       " 'Z': 52,\n",
       " 'a': 53,\n",
       " 'b': 54,\n",
       " 'c': 55,\n",
       " 'd': 56,\n",
       " 'e': 57,\n",
       " 'f': 58,\n",
       " 'g': 59,\n",
       " 'h': 60,\n",
       " 'i': 61,\n",
       " 'j': 62,\n",
       " 'k': 63,\n",
       " 'l': 64,\n",
       " 'm': 65,\n",
       " 'n': 66,\n",
       " 'o': 67,\n",
       " 'p': 68,\n",
       " 'q': 69,\n",
       " 'r': 70,\n",
       " 's': 71,\n",
       " 't': 72,\n",
       " 'u': 73,\n",
       " 'v': 74,\n",
       " 'w': 75,\n",
       " 'x': 76,\n",
       " 'y': 77,\n",
       " 'z': 78,\n",
       " '\\xa0': 79,\n",
       " '«': 80,\n",
       " '°': 81,\n",
       " '»': 82,\n",
       " 'À': 83,\n",
       " 'Ç': 84,\n",
       " 'É': 85,\n",
       " 'Ê': 86,\n",
       " 'Ô': 87,\n",
       " 'à': 88,\n",
       " 'â': 89,\n",
       " 'ç': 90,\n",
       " 'è': 91,\n",
       " 'é': 92,\n",
       " 'ê': 93,\n",
       " 'ë': 94,\n",
       " 'î': 95,\n",
       " 'ï': 96,\n",
       " 'ô': 97,\n",
       " 'ù': 98,\n",
       " 'û': 99,\n",
       " 'œ': 100,\n",
       " '\\u2009': 101,\n",
       " '\\u200b': 102,\n",
       " '’': 103,\n",
       " '\\u202f': 104}"
      ]
     },
     "execution_count": 47,
     "metadata": {},
     "output_type": "execute_result"
    }
   ],
   "source": [
    "token2idx"
   ]
  },
  {
   "cell_type": "code",
   "execution_count": 48,
   "metadata": {},
   "outputs": [],
   "source": [
    "translator = Translator(d_model=D_MODEL,\n",
    "                        nhead=NHEAD,\n",
    "                        num_decoder_layers=NUM_ENCODER_LAYERS,\n",
    "                        num_encoder_layers=NUM_DECODER_LAYERS,\n",
    "                        dim_feedforward=DIM_FF,\n",
    "                        vocab_size=VOCAB_SIZE,\n",
    "                        max_len=MAX_LEN)"
   ]
  },
  {
   "cell_type": "code",
   "execution_count": 49,
   "metadata": {},
   "outputs": [
    {
     "data": {
      "text/plain": [
       "Translator(\n",
       "  (embedding): Embedding(\n",
       "    (input_embedding): Embedding(105, 512, padding_idx=0)\n",
       "    (pos_embedding): Embedding(102, 512)\n",
       "    (dropout): Dropout(p=0.1, inplace=False)\n",
       "  )\n",
       "  (transformer): Transformer(\n",
       "    (encoder): TransformerEncoder(\n",
       "      (layers): ModuleList(\n",
       "        (0-2): 3 x TransformerEncoderLayer(\n",
       "          (self_attn): MultiheadAttention(\n",
       "            (out_proj): NonDynamicallyQuantizableLinear(in_features=512, out_features=512, bias=True)\n",
       "          )\n",
       "          (linear1): Linear(in_features=512, out_features=512, bias=True)\n",
       "          (dropout): Dropout(p=0.1, inplace=False)\n",
       "          (linear2): Linear(in_features=512, out_features=512, bias=True)\n",
       "          (norm1): LayerNorm((512,), eps=1e-05, elementwise_affine=True)\n",
       "          (norm2): LayerNorm((512,), eps=1e-05, elementwise_affine=True)\n",
       "          (dropout1): Dropout(p=0.1, inplace=False)\n",
       "          (dropout2): Dropout(p=0.1, inplace=False)\n",
       "        )\n",
       "      )\n",
       "      (norm): LayerNorm((512,), eps=1e-05, elementwise_affine=True)\n",
       "    )\n",
       "    (decoder): TransformerDecoder(\n",
       "      (layers): ModuleList(\n",
       "        (0-2): 3 x TransformerDecoderLayer(\n",
       "          (self_attn): MultiheadAttention(\n",
       "            (out_proj): NonDynamicallyQuantizableLinear(in_features=512, out_features=512, bias=True)\n",
       "          )\n",
       "          (multihead_attn): MultiheadAttention(\n",
       "            (out_proj): NonDynamicallyQuantizableLinear(in_features=512, out_features=512, bias=True)\n",
       "          )\n",
       "          (linear1): Linear(in_features=512, out_features=512, bias=True)\n",
       "          (dropout): Dropout(p=0.1, inplace=False)\n",
       "          (linear2): Linear(in_features=512, out_features=512, bias=True)\n",
       "          (norm1): LayerNorm((512,), eps=1e-05, elementwise_affine=True)\n",
       "          (norm2): LayerNorm((512,), eps=1e-05, elementwise_affine=True)\n",
       "          (norm3): LayerNorm((512,), eps=1e-05, elementwise_affine=True)\n",
       "          (dropout1): Dropout(p=0.1, inplace=False)\n",
       "          (dropout2): Dropout(p=0.1, inplace=False)\n",
       "          (dropout3): Dropout(p=0.1, inplace=False)\n",
       "        )\n",
       "      )\n",
       "      (norm): LayerNorm((512,), eps=1e-05, elementwise_affine=True)\n",
       "    )\n",
       "  )\n",
       "  (fc): Linear(in_features=512, out_features=105, bias=True)\n",
       ")"
      ]
     },
     "execution_count": 49,
     "metadata": {},
     "output_type": "execute_result"
    }
   ],
   "source": [
    "translator"
   ]
  },
  {
   "cell_type": "code",
   "execution_count": 50,
   "metadata": {},
   "outputs": [],
   "source": [
    "for p in translator.parameters():\n",
    "    if p.requires_grad and p.dim() > 1:\n",
    "        nn.init.xavier_uniform_(p)"
   ]
  },
  {
   "cell_type": "code",
   "execution_count": 51,
   "metadata": {},
   "outputs": [],
   "source": [
    "loss_fn = torch.nn.CrossEntropyLoss(label_smoothing=0.1, ignore_index=0)"
   ]
  },
  {
   "cell_type": "markdown",
   "metadata": {},
   "source": [
    "We set the learning rate to 1 as we will use a scheduler. Otherwise `lr=0.0001`"
   ]
  },
  {
   "cell_type": "code",
   "execution_count": 52,
   "metadata": {},
   "outputs": [
    {
     "data": {
      "text/plain": [
       "'optimizer = torch.optim.NAdam(translator.parameters())'"
      ]
     },
     "execution_count": 52,
     "metadata": {},
     "output_type": "execute_result"
    }
   ],
   "source": [
    "optimizer = torch.optim.Adam(\n",
    "    translator.parameters(), lr=1, betas=(0.9, 0.98),\n",
    "    eps=1e-9)\n",
    "\"\"\"optimizer = torch.optim.NAdam(translator.parameters())\"\"\""
   ]
  },
  {
   "cell_type": "markdown",
   "metadata": {},
   "source": [
    "## Warmup Steps"
   ]
  },
  {
   "cell_type": "markdown",
   "metadata": {},
   "source": [
    "We use the definition from Vaswani and a possible scaling factor"
   ]
  },
  {
   "cell_type": "code",
   "execution_count": 53,
   "metadata": {},
   "outputs": [],
   "source": [
    "def learning_rate(step_num, d_model, factor, warmup_steps):\n",
    "    if step_num == 0:\n",
    "        step_num = 1\n",
    "    return factor * (\n",
    "        d_model ** (-0.5) * min(step_num * warmup_steps **\n",
    "                                (-1.5), step_num ** (-0.5))\n",
    "    )"
   ]
  },
  {
   "cell_type": "code",
   "execution_count": 54,
   "metadata": {},
   "outputs": [],
   "source": [
    "lr_scheduler = LambdaLR(\n",
    "    optimizer=optimizer,\n",
    "    lr_lambda=lambda step_num: learning_rate(\n",
    "        step_num, d_model=D_MODEL, factor=1.0, warmup_steps=WARMUP_STEPS\n",
    "    ),\n",
    ")"
   ]
  },
  {
   "cell_type": "code",
   "execution_count": 55,
   "metadata": {},
   "outputs": [
    {
     "data": {
      "text/plain": [
       "[<matplotlib.lines.Line2D at 0x31f69fc20>]"
      ]
     },
     "execution_count": 55,
     "metadata": {},
     "output_type": "execute_result"
    },
    {
     "data": {
      "image/png": "[encoded data removed]",
      "text/plain": [
       "<Figure size 640x480 with 1 Axes>"
      ]
     },
     "metadata": {},
     "output_type": "display_data"
    }
   ],
   "source": [
    "plt.plot([learning_rate(i, D_MODEL, 1.0, WARMUP_STEPS)\n",
    "         for i in range(0, 20000)])"
   ]
  },
  {
   "cell_type": "markdown",
   "metadata": {},
   "source": [
    "## Formatting the Data\n",
    "We use `Dataset` and `DataLoader`. `Dataset` implements two methods: `__init__`, `__len__` and `__getitem__`. The last method returns an item of the dataset given an index. Using `collate_fn`, `DataLoader` returns a batch of `batch_size` samples."
   ]
  },
  {
   "cell_type": "code",
   "execution_count": 56,
   "metadata": {},
   "outputs": [],
   "source": [
    "from torch.utils.data import Dataset, DataLoader"
   ]
  },
  {
   "cell_type": "code",
   "execution_count": 57,
   "metadata": {},
   "outputs": [],
   "source": [
    "class PairDataset(Dataset):\n",
    "    def __init__(self, src_seqs, tgt_seqs,\n",
    "                 token2idx):\n",
    "        self.src_seqs = src_seqs\n",
    "        self.tgt_seqs = tgt_seqs\n",
    "        self.token2idx = token2idx\n",
    "\n",
    "    def __len__(self):\n",
    "        return len(self.src_seqs)\n",
    "\n",
    "    def __getitem__(self, idx):\n",
    "        src_batch = seqs2tensors([self.src_seqs[idx]],\n",
    "                                 self.token2idx)\n",
    "        tgt_batch = seqs2tensors([self.tgt_seqs[idx]],\n",
    "                                 self.token2idx)\n",
    "\n",
    "        return src_batch[0], tgt_batch[0]\n",
    "\n",
    "    def collate(self, batch):\n",
    "        src_batch, tgt_batch = list(zip(*batch))\n",
    "        src_batch = pad_sequence(src_batch, batch_first=True,\n",
    "                                 padding_value=0)\n",
    "        tgt_batch = pad_sequence(tgt_batch, batch_first=True,\n",
    "                                 padding_value=0)\n",
    "\n",
    "        return src_batch, tgt_batch"
   ]
  },
  {
   "cell_type": "code",
   "execution_count": 58,
   "metadata": {},
   "outputs": [],
   "source": [
    "train_dataset = PairDataset(train_src_seqs, train_tgt_seqs,\n",
    "                            token2idx)\n",
    "train_dataloader = DataLoader(train_dataset, batch_size=32,\n",
    "                              shuffle=True,\n",
    "                              collate_fn=train_dataset.collate)"
   ]
  },
  {
   "cell_type": "code",
   "execution_count": 59,
   "metadata": {},
   "outputs": [],
   "source": [
    "val_dataset = PairDataset(val_src_seqs, val_tgt_seqs, token2idx)\n",
    "val_dataloader = DataLoader(\n",
    "    val_dataset, batch_size=32, collate_fn=val_dataset.collate)"
   ]
  },
  {
   "cell_type": "markdown",
   "metadata": {},
   "source": [
    "## Training Loop"
   ]
  },
  {
   "cell_type": "code",
   "execution_count": 60,
   "metadata": {},
   "outputs": [
    {
     "data": {
      "text/plain": [
       "tensor([[ 2, 48, 67,  ...,  0,  0,  0],\n",
       "        [ 2, 43, 73,  ...,  0,  0,  0],\n",
       "        [ 2, 44, 57,  ...,  0,  0,  0],\n",
       "        ...,\n",
       "        [ 2, 36, 57,  ...,  0,  0,  0],\n",
       "        [ 2, 38, 57,  ...,  0,  0,  0],\n",
       "        [ 2, 48, 57,  ...,  0,  0,  0]])"
      ]
     },
     "execution_count": 60,
     "metadata": {},
     "output_type": "execute_result"
    }
   ],
   "source": [
    "src_batch"
   ]
  },
  {
   "cell_type": "code",
   "execution_count": 61,
   "metadata": {},
   "outputs": [
    {
     "data": {
      "text/plain": [
       "tensor([[48, 67, 73,  ...,  0,  0,  0],\n",
       "        [43, 73, 57,  ...,  0,  0,  0],\n",
       "        [44, 57, 74,  ...,  0,  0,  0],\n",
       "        ...,\n",
       "        [36, 57,  4,  ...,  0,  0,  0],\n",
       "        [38, 57,  4,  ...,  0,  0,  0],\n",
       "        [48, 57, 66,  ...,  0,  0,  0]])"
      ]
     },
     "execution_count": 61,
     "metadata": {},
     "output_type": "execute_result"
    }
   ],
   "source": [
    "src_batch[:, 1:]"
   ]
  },
  {
   "cell_type": "code",
   "execution_count": 62,
   "metadata": {},
   "outputs": [],
   "source": [
    "def evaluate(model, loss_fn, dataloader):\n",
    "    model.eval()\n",
    "    with torch.no_grad():\n",
    "        t_loss = 0\n",
    "        t_correct, t_chars = 0, 0\n",
    "        for src_batch, tgt_batch in dataloader:\n",
    "            tgt_input = tgt_batch[:, :-1]\n",
    "            tgt_output = tgt_batch[:, 1:]\n",
    "            src_padding_mask = (src_batch == 0)\n",
    "            tgt_padding_mask = (tgt_input == 0).float()\n",
    "            tgt_output_pred = model(src_batch, tgt_input,\n",
    "                                    src_padding_mask,\n",
    "                                    tgt_padding_mask)\n",
    "            loss = loss_fn(\n",
    "                tgt_output_pred.reshape(\n",
    "                    -1,\n",
    "                    tgt_output_pred.size(dim=-1)),\n",
    "                tgt_output.reshape(-1))\n",
    "            n_chars = (tgt_output != 0).sum()\n",
    "            t_chars += n_chars\n",
    "            t_loss += loss.item() * n_chars\n",
    "            char_pred = torch.argmax(tgt_output_pred, dim=-1)\n",
    "            char_correct = torch.mul((char_pred == tgt_output),\n",
    "                                     (tgt_output != 0)).sum()\n",
    "            t_correct += char_correct.item()\n",
    "        return t_loss / t_chars, t_correct / t_chars"
   ]
  },
  {
   "cell_type": "code",
   "execution_count": 63,
   "metadata": {},
   "outputs": [],
   "source": [
    "# evaluate(translator, loss_fn, val_dataloader)"
   ]
  },
  {
   "cell_type": "code",
   "execution_count": 64,
   "metadata": {},
   "outputs": [],
   "source": [
    "def train(model, loss_fn, optimizer, dataloader):\n",
    "    model.train()\n",
    "    t_loss = 0\n",
    "    t_correct, t_chars = 0, 0\n",
    "    for src_batch, tgt_batch in tqdm(dataloader):\n",
    "        tgt_input = tgt_batch[:, :-1]\n",
    "        tgt_output = tgt_batch[:, 1:]\n",
    "        src_padding_mask = (src_batch == 0)\n",
    "        tgt_padding_mask = (tgt_input == 0).float()\n",
    "        tgt_output_pred = model(src_batch, tgt_input,\n",
    "                                src_padding_mask,\n",
    "                                tgt_padding_mask)\n",
    "        optimizer.zero_grad()\n",
    "        loss = loss_fn(\n",
    "            tgt_output_pred.reshape(\n",
    "                -1,\n",
    "                tgt_output_pred.size(dim=-1)),\n",
    "            tgt_output.reshape(-1))\n",
    "        loss.backward()\n",
    "        optimizer.step()\n",
    "        lr_scheduler.step()\n",
    "        with torch.no_grad():\n",
    "            n_chars = (tgt_output != 0).sum()\n",
    "            t_chars += n_chars\n",
    "            t_loss += loss.item() * n_chars\n",
    "            char_pred = torch.argmax(tgt_output_pred, dim=-1)\n",
    "            char_correct = torch.mul((char_pred == tgt_output),\n",
    "                                     (tgt_output != 0)).sum()\n",
    "            t_correct += char_correct.item()\n",
    "\n",
    "    return t_loss / t_chars, t_correct / t_chars"
   ]
  },
  {
   "cell_type": "code",
   "execution_count": 65,
   "metadata": {},
   "outputs": [],
   "source": [
    "translator = torch.compile(translator)"
   ]
  },
  {
   "cell_type": "markdown",
   "metadata": {},
   "source": [
    "About the loss. Overall, it should computed by individual prediction and divided by the number of chars. By default the crossentropy loss uses the mean. Then we use the mean of the mean. The trend is correct, but the values are not exact. A possible improvement would be to sum and pass through the mask."
   ]
  },
  {
   "cell_type": "code",
   "execution_count": 66,
   "metadata": {},
   "outputs": [
    {
     "name": "stderr",
     "output_type": "stream",
     "text": [
      "100%|██████████| 1250/1250 [09:31<00:00,  2.19it/s]\n",
      "/opt/anaconda3/lib/python3.12/site-packages/torch/nn/modules/transformer.py:502: UserWarning: The PyTorch API of nested tensors is in prototype stage and will change in the near future. (Triggered internally at /Users/runner/work/pytorch/pytorch/pytorch/aten/src/ATen/NestedTensorImpl.cpp:180.)\n",
      "  output = torch._nested_tensor_from_mask(\n"
     ]
    },
    {
     "name": "stdout",
     "output_type": "stream",
     "text": [
      "Epoch: 0, Train loss: 2.738, Val loss: 2.120, Train acc.: 0.367, Val acc.: 0.538\n"
     ]
    },
    {
     "name": "stderr",
     "output_type": "stream",
     "text": [
      "100%|██████████| 1250/1250 [08:45<00:00,  2.38it/s]\n"
     ]
    },
    {
     "name": "stdout",
     "output_type": "stream",
     "text": [
      "Epoch: 1, Train loss: 2.042, Val loss: 1.848, Train acc.: 0.562, Val acc.: 0.630\n"
     ]
    },
    {
     "name": "stderr",
     "output_type": "stream",
     "text": [
      "100%|██████████| 1250/1250 [08:49<00:00,  2.36it/s]\n"
     ]
    },
    {
     "name": "stdout",
     "output_type": "stream",
     "text": [
      "Epoch: 2, Train loss: 1.868, Val loss: 1.753, Train acc.: 0.621, Val acc.: 0.662\n"
     ]
    },
    {
     "name": "stderr",
     "output_type": "stream",
     "text": [
      "100%|██████████| 1250/1250 [08:44<00:00,  2.38it/s]\n"
     ]
    },
    {
     "name": "stdout",
     "output_type": "stream",
     "text": [
      "Epoch: 3, Train loss: 1.774, Val loss: 1.651, Train acc.: 0.653, Val acc.: 0.696\n"
     ]
    },
    {
     "name": "stderr",
     "output_type": "stream",
     "text": [
      "100%|██████████| 1250/1250 [08:48<00:00,  2.37it/s]\n"
     ]
    },
    {
     "name": "stdout",
     "output_type": "stream",
     "text": [
      "Epoch: 4, Train loss: 1.658, Val loss: 1.547, Train acc.: 0.695, Val acc.: 0.738\n"
     ]
    },
    {
     "name": "stderr",
     "output_type": "stream",
     "text": [
      "100%|██████████| 1250/1250 [09:13<00:00,  2.26it/s]\n"
     ]
    },
    {
     "name": "stdout",
     "output_type": "stream",
     "text": [
      "Epoch: 5, Train loss: 1.564, Val loss: 1.466, Train acc.: 0.729, Val acc.: 0.769\n"
     ]
    },
    {
     "name": "stderr",
     "output_type": "stream",
     "text": [
      "100%|██████████| 1250/1250 [08:55<00:00,  2.34it/s]\n"
     ]
    },
    {
     "name": "stdout",
     "output_type": "stream",
     "text": [
      "Epoch: 6, Train loss: 1.488, Val loss: 1.402, Train acc.: 0.758, Val acc.: 0.792\n"
     ]
    },
    {
     "name": "stderr",
     "output_type": "stream",
     "text": [
      "100%|██████████| 1250/1250 [08:39<00:00,  2.41it/s]\n"
     ]
    },
    {
     "name": "stdout",
     "output_type": "stream",
     "text": [
      "Epoch: 7, Train loss: 1.426, Val loss: 1.355, Train acc.: 0.780, Val acc.: 0.810\n"
     ]
    },
    {
     "name": "stderr",
     "output_type": "stream",
     "text": [
      "100%|██████████| 1250/1250 [08:44<00:00,  2.38it/s]\n"
     ]
    },
    {
     "name": "stdout",
     "output_type": "stream",
     "text": [
      "Epoch: 8, Train loss: 1.377, Val loss: 1.315, Train acc.: 0.798, Val acc.: 0.824\n"
     ]
    },
    {
     "name": "stderr",
     "output_type": "stream",
     "text": [
      "100%|██████████| 1250/1250 [08:35<00:00,  2.42it/s]\n"
     ]
    },
    {
     "name": "stdout",
     "output_type": "stream",
     "text": [
      "Epoch: 9, Train loss: 1.337, Val loss: 1.283, Train acc.: 0.812, Val acc.: 0.836\n"
     ]
    },
    {
     "name": "stderr",
     "output_type": "stream",
     "text": [
      "100%|██████████| 1250/1250 [08:37<00:00,  2.42it/s]\n"
     ]
    },
    {
     "name": "stdout",
     "output_type": "stream",
     "text": [
      "Epoch: 10, Train loss: 1.304, Val loss: 1.260, Train acc.: 0.824, Val acc.: 0.844\n"
     ]
    },
    {
     "name": "stderr",
     "output_type": "stream",
     "text": [
      "100%|██████████| 1250/1250 [08:36<00:00,  2.42it/s]\n"
     ]
    },
    {
     "name": "stdout",
     "output_type": "stream",
     "text": [
      "Epoch: 11, Train loss: 1.276, Val loss: 1.244, Train acc.: 0.834, Val acc.: 0.849\n"
     ]
    },
    {
     "name": "stderr",
     "output_type": "stream",
     "text": [
      "100%|██████████| 1250/1250 [08:35<00:00,  2.43it/s]\n"
     ]
    },
    {
     "name": "stdout",
     "output_type": "stream",
     "text": [
      "Epoch: 12, Train loss: 1.251, Val loss: 1.227, Train acc.: 0.842, Val acc.: 0.856\n"
     ]
    },
    {
     "name": "stderr",
     "output_type": "stream",
     "text": [
      "100%|██████████| 1250/1250 [08:39<00:00,  2.40it/s]\n"
     ]
    },
    {
     "name": "stdout",
     "output_type": "stream",
     "text": [
      "Epoch: 13, Train loss: 1.230, Val loss: 1.208, Train acc.: 0.849, Val acc.: 0.862\n"
     ]
    },
    {
     "name": "stderr",
     "output_type": "stream",
     "text": [
      "100%|██████████| 1250/1250 [08:52<00:00,  2.35it/s]\n"
     ]
    },
    {
     "name": "stdout",
     "output_type": "stream",
     "text": [
      "Epoch: 14, Train loss: 1.211, Val loss: 1.198, Train acc.: 0.856, Val acc.: 0.866\n"
     ]
    },
    {
     "name": "stderr",
     "output_type": "stream",
     "text": [
      "100%|██████████| 1250/1250 [08:38<00:00,  2.41it/s]\n"
     ]
    },
    {
     "name": "stdout",
     "output_type": "stream",
     "text": [
      "Epoch: 15, Train loss: 1.194, Val loss: 1.189, Train acc.: 0.862, Val acc.: 0.869\n"
     ]
    },
    {
     "name": "stderr",
     "output_type": "stream",
     "text": [
      "100%|██████████| 1250/1250 [09:16<00:00,  2.24it/s]\n"
     ]
    },
    {
     "name": "stdout",
     "output_type": "stream",
     "text": [
      "Epoch: 16, Train loss: 1.179, Val loss: 1.179, Train acc.: 0.867, Val acc.: 0.873\n"
     ]
    },
    {
     "name": "stderr",
     "output_type": "stream",
     "text": [
      "100%|██████████| 1250/1250 [09:02<00:00,  2.30it/s]\n"
     ]
    },
    {
     "name": "stdout",
     "output_type": "stream",
     "text": [
      "Epoch: 17, Train loss: 1.165, Val loss: 1.173, Train acc.: 0.871, Val acc.: 0.875\n"
     ]
    },
    {
     "name": "stderr",
     "output_type": "stream",
     "text": [
      "100%|██████████| 1250/1250 [1:17:03<00:00,  3.70s/it]    \n"
     ]
    },
    {
     "name": "stdout",
     "output_type": "stream",
     "text": [
      "Epoch: 18, Train loss: 1.152, Val loss: 1.165, Train acc.: 0.876, Val acc.: 0.879\n"
     ]
    },
    {
     "name": "stderr",
     "output_type": "stream",
     "text": [
      "100%|██████████| 1250/1250 [10:00<00:00,  2.08it/s]\n"
     ]
    },
    {
     "name": "stdout",
     "output_type": "stream",
     "text": [
      "Epoch: 19, Train loss: 1.141, Val loss: 1.159, Train acc.: 0.879, Val acc.: 0.880\n"
     ]
    },
    {
     "name": "stderr",
     "output_type": "stream",
     "text": [
      "100%|██████████| 1250/1250 [08:43<00:00,  2.39it/s]\n"
     ]
    },
    {
     "name": "stdout",
     "output_type": "stream",
     "text": [
      "Epoch: 20, Train loss: 1.131, Val loss: 1.153, Train acc.: 0.883, Val acc.: 0.883\n"
     ]
    },
    {
     "name": "stderr",
     "output_type": "stream",
     "text": [
      "100%|██████████| 1250/1250 [08:54<00:00,  2.34it/s]\n"
     ]
    },
    {
     "name": "stdout",
     "output_type": "stream",
     "text": [
      "Epoch: 21, Train loss: 1.121, Val loss: 1.149, Train acc.: 0.886, Val acc.: 0.884\n"
     ]
    },
    {
     "name": "stderr",
     "output_type": "stream",
     "text": [
      "100%|██████████| 1250/1250 [08:58<00:00,  2.32it/s]\n"
     ]
    },
    {
     "name": "stdout",
     "output_type": "stream",
     "text": [
      "Epoch: 22, Train loss: 1.111, Val loss: 1.143, Train acc.: 0.889, Val acc.: 0.887\n"
     ]
    },
    {
     "name": "stderr",
     "output_type": "stream",
     "text": [
      "100%|██████████| 1250/1250 [08:39<00:00,  2.41it/s]\n"
     ]
    },
    {
     "name": "stdout",
     "output_type": "stream",
     "text": [
      "Epoch: 23, Train loss: 1.102, Val loss: 1.141, Train acc.: 0.892, Val acc.: 0.888\n"
     ]
    },
    {
     "name": "stderr",
     "output_type": "stream",
     "text": [
      "100%|██████████| 1250/1250 [08:39<00:00,  2.41it/s]\n"
     ]
    },
    {
     "name": "stdout",
     "output_type": "stream",
     "text": [
      "Epoch: 24, Train loss: 1.094, Val loss: 1.141, Train acc.: 0.895, Val acc.: 0.888\n"
     ]
    },
    {
     "name": "stderr",
     "output_type": "stream",
     "text": [
      "100%|██████████| 1250/1250 [08:25<00:00,  2.47it/s]\n"
     ]
    },
    {
     "name": "stdout",
     "output_type": "stream",
     "text": [
      "Epoch: 25, Train loss: 1.086, Val loss: 1.134, Train acc.: 0.897, Val acc.: 0.890\n"
     ]
    },
    {
     "name": "stderr",
     "output_type": "stream",
     "text": [
      "100%|██████████| 1250/1250 [08:23<00:00,  2.48it/s]\n"
     ]
    },
    {
     "name": "stdout",
     "output_type": "stream",
     "text": [
      "Epoch: 26, Train loss: 1.079, Val loss: 1.130, Train acc.: 0.900, Val acc.: 0.892\n"
     ]
    },
    {
     "name": "stderr",
     "output_type": "stream",
     "text": [
      "100%|██████████| 1250/1250 [08:21<00:00,  2.49it/s]\n"
     ]
    },
    {
     "name": "stdout",
     "output_type": "stream",
     "text": [
      "Epoch: 27, Train loss: 1.072, Val loss: 1.128, Train acc.: 0.902, Val acc.: 0.893\n"
     ]
    },
    {
     "name": "stderr",
     "output_type": "stream",
     "text": [
      "100%|██████████| 1250/1250 [08:25<00:00,  2.47it/s]\n"
     ]
    },
    {
     "name": "stdout",
     "output_type": "stream",
     "text": [
      "Epoch: 28, Train loss: 1.065, Val loss: 1.127, Train acc.: 0.905, Val acc.: 0.893\n"
     ]
    },
    {
     "name": "stderr",
     "output_type": "stream",
     "text": [
      "100%|██████████| 1250/1250 [08:26<00:00,  2.47it/s]\n"
     ]
    },
    {
     "name": "stdout",
     "output_type": "stream",
     "text": [
      "Epoch: 29, Train loss: 1.059, Val loss: 1.125, Train acc.: 0.906, Val acc.: 0.895\n"
     ]
    },
    {
     "name": "stderr",
     "output_type": "stream",
     "text": [
      "100%|██████████| 1250/1250 [08:55<00:00,  2.34it/s]\n"
     ]
    },
    {
     "name": "stdout",
     "output_type": "stream",
     "text": [
      "Epoch: 30, Train loss: 1.052, Val loss: 1.124, Train acc.: 0.909, Val acc.: 0.895\n"
     ]
    },
    {
     "name": "stderr",
     "output_type": "stream",
     "text": [
      "100%|██████████| 1250/1250 [09:25<00:00,  2.21it/s]\n"
     ]
    },
    {
     "name": "stdout",
     "output_type": "stream",
     "text": [
      "Epoch: 31, Train loss: 1.048, Val loss: 1.118, Train acc.: 0.910, Val acc.: 0.896\n"
     ]
    },
    {
     "name": "stderr",
     "output_type": "stream",
     "text": [
      "100%|██████████| 1250/1250 [08:45<00:00,  2.38it/s]\n"
     ]
    },
    {
     "name": "stdout",
     "output_type": "stream",
     "text": [
      "Epoch: 32, Train loss: 1.042, Val loss: 1.120, Train acc.: 0.912, Val acc.: 0.897\n"
     ]
    },
    {
     "name": "stderr",
     "output_type": "stream",
     "text": [
      "100%|██████████| 1250/1250 [08:36<00:00,  2.42it/s]\n"
     ]
    },
    {
     "name": "stdout",
     "output_type": "stream",
     "text": [
      "Epoch: 33, Train loss: 1.037, Val loss: 1.120, Train acc.: 0.914, Val acc.: 0.897\n"
     ]
    },
    {
     "name": "stderr",
     "output_type": "stream",
     "text": [
      "100%|██████████| 1250/1250 [09:08<00:00,  2.28it/s]\n"
     ]
    },
    {
     "name": "stdout",
     "output_type": "stream",
     "text": [
      "Epoch: 34, Train loss: 1.031, Val loss: 1.117, Train acc.: 0.916, Val acc.: 0.898\n"
     ]
    },
    {
     "name": "stderr",
     "output_type": "stream",
     "text": [
      "100%|██████████| 1250/1250 [08:38<00:00,  2.41it/s]\n"
     ]
    },
    {
     "name": "stdout",
     "output_type": "stream",
     "text": [
      "Epoch: 35, Train loss: 1.026, Val loss: 1.117, Train acc.: 0.917, Val acc.: 0.899\n"
     ]
    },
    {
     "name": "stderr",
     "output_type": "stream",
     "text": [
      "100%|██████████| 1250/1250 [08:39<00:00,  2.40it/s]\n"
     ]
    },
    {
     "name": "stdout",
     "output_type": "stream",
     "text": [
      "Epoch: 36, Train loss: 1.023, Val loss: 1.116, Train acc.: 0.918, Val acc.: 0.900\n"
     ]
    },
    {
     "name": "stderr",
     "output_type": "stream",
     "text": [
      "100%|██████████| 1250/1250 [08:41<00:00,  2.40it/s]\n"
     ]
    },
    {
     "name": "stdout",
     "output_type": "stream",
     "text": [
      "Epoch: 37, Train loss: 1.018, Val loss: 1.114, Train acc.: 0.920, Val acc.: 0.901\n"
     ]
    },
    {
     "name": "stderr",
     "output_type": "stream",
     "text": [
      "100%|██████████| 1250/1250 [08:58<00:00,  2.32it/s]\n"
     ]
    },
    {
     "name": "stdout",
     "output_type": "stream",
     "text": [
      "Epoch: 38, Train loss: 1.014, Val loss: 1.112, Train acc.: 0.921, Val acc.: 0.901\n"
     ]
    },
    {
     "name": "stderr",
     "output_type": "stream",
     "text": [
      "100%|██████████| 1250/1250 [08:54<00:00,  2.34it/s]\n"
     ]
    },
    {
     "name": "stdout",
     "output_type": "stream",
     "text": [
      "Epoch: 39, Train loss: 1.009, Val loss: 1.112, Train acc.: 0.923, Val acc.: 0.901\n"
     ]
    },
    {
     "name": "stderr",
     "output_type": "stream",
     "text": [
      "100%|██████████| 1250/1250 [09:02<00:00,  2.30it/s]\n"
     ]
    },
    {
     "name": "stdout",
     "output_type": "stream",
     "text": [
      "Epoch: 40, Train loss: 1.006, Val loss: 1.112, Train acc.: 0.924, Val acc.: 0.902\n"
     ]
    },
    {
     "name": "stderr",
     "output_type": "stream",
     "text": [
      "100%|██████████| 1250/1250 [08:40<00:00,  2.40it/s]\n"
     ]
    },
    {
     "name": "stdout",
     "output_type": "stream",
     "text": [
      "Epoch: 41, Train loss: 1.002, Val loss: 1.112, Train acc.: 0.925, Val acc.: 0.902\n"
     ]
    },
    {
     "name": "stderr",
     "output_type": "stream",
     "text": [
      "100%|██████████| 1250/1250 [09:06<00:00,  2.29it/s]\n"
     ]
    },
    {
     "name": "stdout",
     "output_type": "stream",
     "text": [
      "Epoch: 42, Train loss: 0.998, Val loss: 1.109, Train acc.: 0.927, Val acc.: 0.903\n"
     ]
    },
    {
     "name": "stderr",
     "output_type": "stream",
     "text": [
      "100%|██████████| 1250/1250 [09:22<00:00,  2.22it/s]\n"
     ]
    },
    {
     "name": "stdout",
     "output_type": "stream",
     "text": [
      "Epoch: 43, Train loss: 0.995, Val loss: 1.110, Train acc.: 0.927, Val acc.: 0.903\n"
     ]
    },
    {
     "name": "stderr",
     "output_type": "stream",
     "text": [
      "100%|██████████| 1250/1250 [09:42<00:00,  2.15it/s]\n"
     ]
    },
    {
     "name": "stdout",
     "output_type": "stream",
     "text": [
      "Epoch: 44, Train loss: 0.992, Val loss: 1.111, Train acc.: 0.929, Val acc.: 0.903\n"
     ]
    },
    {
     "name": "stderr",
     "output_type": "stream",
     "text": [
      "100%|██████████| 1250/1250 [09:37<00:00,  2.16it/s]\n"
     ]
    },
    {
     "name": "stdout",
     "output_type": "stream",
     "text": [
      "Epoch: 45, Train loss: 0.988, Val loss: 1.108, Train acc.: 0.930, Val acc.: 0.903\n"
     ]
    },
    {
     "name": "stderr",
     "output_type": "stream",
     "text": [
      "100%|██████████| 1250/1250 [09:04<00:00,  2.30it/s]\n"
     ]
    },
    {
     "name": "stdout",
     "output_type": "stream",
     "text": [
      "Epoch: 46, Train loss: 0.985, Val loss: 1.109, Train acc.: 0.931, Val acc.: 0.904\n"
     ]
    },
    {
     "name": "stderr",
     "output_type": "stream",
     "text": [
      "100%|██████████| 1250/1250 [08:20<00:00,  2.50it/s]\n"
     ]
    },
    {
     "name": "stdout",
     "output_type": "stream",
     "text": [
      "Epoch: 47, Train loss: 0.981, Val loss: 1.109, Train acc.: 0.932, Val acc.: 0.905\n"
     ]
    },
    {
     "name": "stderr",
     "output_type": "stream",
     "text": [
      "100%|██████████| 1250/1250 [08:25<00:00,  2.47it/s]\n"
     ]
    },
    {
     "name": "stdout",
     "output_type": "stream",
     "text": [
      "Epoch: 48, Train loss: 0.978, Val loss: 1.110, Train acc.: 0.933, Val acc.: 0.904\n"
     ]
    },
    {
     "name": "stderr",
     "output_type": "stream",
     "text": [
      "100%|██████████| 1250/1250 [08:25<00:00,  2.47it/s]\n"
     ]
    },
    {
     "name": "stdout",
     "output_type": "stream",
     "text": [
      "Epoch: 49, Train loss: 0.975, Val loss: 1.110, Train acc.: 0.934, Val acc.: 0.904\n"
     ]
    },
    {
     "name": "stderr",
     "output_type": "stream",
     "text": [
      "100%|██████████| 1250/1250 [08:26<00:00,  2.47it/s]\n"
     ]
    },
    {
     "name": "stdout",
     "output_type": "stream",
     "text": [
      "Epoch: 50, Train loss: 0.972, Val loss: 1.111, Train acc.: 0.935, Val acc.: 0.905\n"
     ]
    },
    {
     "name": "stderr",
     "output_type": "stream",
     "text": [
      "100%|██████████| 1250/1250 [08:22<00:00,  2.49it/s]\n"
     ]
    },
    {
     "name": "stdout",
     "output_type": "stream",
     "text": [
      "Epoch: 51, Train loss: 0.970, Val loss: 1.110, Train acc.: 0.936, Val acc.: 0.905\n"
     ]
    },
    {
     "name": "stderr",
     "output_type": "stream",
     "text": [
      "100%|██████████| 1250/1250 [08:28<00:00,  2.46it/s]\n"
     ]
    },
    {
     "name": "stdout",
     "output_type": "stream",
     "text": [
      "Epoch: 52, Train loss: 0.967, Val loss: 1.110, Train acc.: 0.937, Val acc.: 0.905\n"
     ]
    },
    {
     "name": "stderr",
     "output_type": "stream",
     "text": [
      "100%|██████████| 1250/1250 [08:23<00:00,  2.48it/s]\n"
     ]
    },
    {
     "name": "stdout",
     "output_type": "stream",
     "text": [
      "Epoch: 53, Train loss: 0.965, Val loss: 1.109, Train acc.: 0.937, Val acc.: 0.905\n"
     ]
    },
    {
     "name": "stderr",
     "output_type": "stream",
     "text": [
      "100%|██████████| 1250/1250 [08:29<00:00,  2.46it/s]\n"
     ]
    },
    {
     "name": "stdout",
     "output_type": "stream",
     "text": [
      "Epoch: 54, Train loss: 0.962, Val loss: 1.109, Train acc.: 0.938, Val acc.: 0.905\n"
     ]
    },
    {
     "name": "stderr",
     "output_type": "stream",
     "text": [
      "100%|██████████| 1250/1250 [09:20<00:00,  2.23it/s]\n"
     ]
    },
    {
     "name": "stdout",
     "output_type": "stream",
     "text": [
      "Epoch: 55, Train loss: 0.959, Val loss: 1.109, Train acc.: 0.940, Val acc.: 0.906\n"
     ]
    },
    {
     "name": "stderr",
     "output_type": "stream",
     "text": [
      "100%|██████████| 1250/1250 [09:33<00:00,  2.18it/s]\n"
     ]
    },
    {
     "name": "stdout",
     "output_type": "stream",
     "text": [
      "Epoch: 56, Train loss: 0.957, Val loss: 1.110, Train acc.: 0.940, Val acc.: 0.906\n"
     ]
    },
    {
     "name": "stderr",
     "output_type": "stream",
     "text": [
      "100%|██████████| 1250/1250 [09:29<00:00,  2.19it/s]\n"
     ]
    },
    {
     "name": "stdout",
     "output_type": "stream",
     "text": [
      "Epoch: 57, Train loss: 0.954, Val loss: 1.107, Train acc.: 0.941, Val acc.: 0.907\n"
     ]
    },
    {
     "name": "stderr",
     "output_type": "stream",
     "text": [
      "100%|██████████| 1250/1250 [09:24<00:00,  2.21it/s]\n"
     ]
    },
    {
     "name": "stdout",
     "output_type": "stream",
     "text": [
      "Epoch: 58, Train loss: 0.952, Val loss: 1.107, Train acc.: 0.942, Val acc.: 0.908\n"
     ]
    },
    {
     "name": "stderr",
     "output_type": "stream",
     "text": [
      "100%|██████████| 1250/1250 [09:38<00:00,  2.16it/s]\n"
     ]
    },
    {
     "name": "stdout",
     "output_type": "stream",
     "text": [
      "Epoch: 59, Train loss: 0.950, Val loss: 1.110, Train acc.: 0.943, Val acc.: 0.907\n"
     ]
    },
    {
     "name": "stderr",
     "output_type": "stream",
     "text": [
      "100%|██████████| 1250/1250 [09:30<00:00,  2.19it/s]\n"
     ]
    },
    {
     "name": "stdout",
     "output_type": "stream",
     "text": [
      "Epoch: 60, Train loss: 0.948, Val loss: 1.109, Train acc.: 0.943, Val acc.: 0.907\n"
     ]
    },
    {
     "name": "stderr",
     "output_type": "stream",
     "text": [
      "100%|██████████| 1250/1250 [08:30<00:00,  2.45it/s]\n"
     ]
    },
    {
     "name": "stdout",
     "output_type": "stream",
     "text": [
      "Epoch: 61, Train loss: 0.946, Val loss: 1.109, Train acc.: 0.944, Val acc.: 0.907\n"
     ]
    },
    {
     "name": "stderr",
     "output_type": "stream",
     "text": [
      "100%|██████████| 1250/1250 [08:31<00:00,  2.44it/s]\n"
     ]
    },
    {
     "name": "stdout",
     "output_type": "stream",
     "text": [
      "Epoch: 62, Train loss: 0.943, Val loss: 1.111, Train acc.: 0.945, Val acc.: 0.907\n"
     ]
    },
    {
     "name": "stderr",
     "output_type": "stream",
     "text": [
      "100%|██████████| 1250/1250 [08:27<00:00,  2.46it/s]\n"
     ]
    },
    {
     "name": "stdout",
     "output_type": "stream",
     "text": [
      "Epoch: 63, Train loss: 0.942, Val loss: 1.109, Train acc.: 0.945, Val acc.: 0.907\n"
     ]
    },
    {
     "name": "stderr",
     "output_type": "stream",
     "text": [
      "100%|██████████| 1250/1250 [08:28<00:00,  2.46it/s]\n"
     ]
    },
    {
     "name": "stdout",
     "output_type": "stream",
     "text": [
      "Epoch: 64, Train loss: 0.939, Val loss: 1.111, Train acc.: 0.946, Val acc.: 0.907\n"
     ]
    },
    {
     "name": "stderr",
     "output_type": "stream",
     "text": [
      "100%|██████████| 1250/1250 [08:27<00:00,  2.46it/s]\n"
     ]
    },
    {
     "name": "stdout",
     "output_type": "stream",
     "text": [
      "Epoch: 65, Train loss: 0.938, Val loss: 1.111, Train acc.: 0.947, Val acc.: 0.907\n"
     ]
    },
    {
     "name": "stderr",
     "output_type": "stream",
     "text": [
      "100%|██████████| 1250/1250 [08:25<00:00,  2.47it/s]\n"
     ]
    },
    {
     "name": "stdout",
     "output_type": "stream",
     "text": [
      "Epoch: 66, Train loss: 0.935, Val loss: 1.112, Train acc.: 0.947, Val acc.: 0.908\n"
     ]
    },
    {
     "name": "stderr",
     "output_type": "stream",
     "text": [
      "100%|██████████| 1250/1250 [08:27<00:00,  2.46it/s]\n"
     ]
    },
    {
     "name": "stdout",
     "output_type": "stream",
     "text": [
      "Epoch: 67, Train loss: 0.934, Val loss: 1.113, Train acc.: 0.948, Val acc.: 0.908\n"
     ]
    },
    {
     "name": "stderr",
     "output_type": "stream",
     "text": [
      "100%|██████████| 1250/1250 [09:10<00:00,  2.27it/s]\n"
     ]
    },
    {
     "name": "stdout",
     "output_type": "stream",
     "text": [
      "Epoch: 68, Train loss: 0.932, Val loss: 1.112, Train acc.: 0.949, Val acc.: 0.908\n"
     ]
    },
    {
     "name": "stderr",
     "output_type": "stream",
     "text": [
      "100%|██████████| 1250/1250 [09:40<00:00,  2.15it/s]\n"
     ]
    },
    {
     "name": "stdout",
     "output_type": "stream",
     "text": [
      "Epoch: 69, Train loss: 0.930, Val loss: 1.112, Train acc.: 0.949, Val acc.: 0.908\n"
     ]
    },
    {
     "name": "stderr",
     "output_type": "stream",
     "text": [
      "100%|██████████| 1250/1250 [09:33<00:00,  2.18it/s]\n"
     ]
    },
    {
     "name": "stdout",
     "output_type": "stream",
     "text": [
      "Epoch: 70, Train loss: 0.928, Val loss: 1.112, Train acc.: 0.950, Val acc.: 0.908\n"
     ]
    },
    {
     "name": "stderr",
     "output_type": "stream",
     "text": [
      "100%|██████████| 1250/1250 [09:38<00:00,  2.16it/s]\n"
     ]
    },
    {
     "name": "stdout",
     "output_type": "stream",
     "text": [
      "Epoch: 71, Train loss: 0.927, Val loss: 1.110, Train acc.: 0.950, Val acc.: 0.908\n"
     ]
    },
    {
     "name": "stderr",
     "output_type": "stream",
     "text": [
      "100%|██████████| 1250/1250 [08:21<00:00,  2.49it/s]\n"
     ]
    },
    {
     "name": "stdout",
     "output_type": "stream",
     "text": [
      "Epoch: 72, Train loss: 0.925, Val loss: 1.112, Train acc.: 0.951, Val acc.: 0.908\n"
     ]
    },
    {
     "name": "stderr",
     "output_type": "stream",
     "text": [
      "100%|██████████| 1250/1250 [08:22<00:00,  2.49it/s]\n"
     ]
    },
    {
     "name": "stdout",
     "output_type": "stream",
     "text": [
      "Epoch: 73, Train loss: 0.923, Val loss: 1.109, Train acc.: 0.951, Val acc.: 0.909\n"
     ]
    },
    {
     "name": "stderr",
     "output_type": "stream",
     "text": [
      "100%|██████████| 1250/1250 [09:20<00:00,  2.23it/s]\n"
     ]
    },
    {
     "name": "stdout",
     "output_type": "stream",
     "text": [
      "Epoch: 74, Train loss: 0.921, Val loss: 1.113, Train acc.: 0.952, Val acc.: 0.909\n"
     ]
    },
    {
     "name": "stderr",
     "output_type": "stream",
     "text": [
      "100%|██████████| 1250/1250 [09:36<00:00,  2.17it/s]\n"
     ]
    },
    {
     "name": "stdout",
     "output_type": "stream",
     "text": [
      "Epoch: 75, Train loss: 0.921, Val loss: 1.114, Train acc.: 0.952, Val acc.: 0.909\n"
     ]
    },
    {
     "name": "stderr",
     "output_type": "stream",
     "text": [
      "100%|██████████| 1250/1250 [09:29<00:00,  2.20it/s]\n"
     ]
    },
    {
     "name": "stdout",
     "output_type": "stream",
     "text": [
      "Epoch: 76, Train loss: 0.919, Val loss: 1.113, Train acc.: 0.953, Val acc.: 0.909\n"
     ]
    },
    {
     "name": "stderr",
     "output_type": "stream",
     "text": [
      "100%|██████████| 1250/1250 [09:36<00:00,  2.17it/s]\n"
     ]
    },
    {
     "name": "stdout",
     "output_type": "stream",
     "text": [
      "Epoch: 77, Train loss: 0.918, Val loss: 1.115, Train acc.: 0.953, Val acc.: 0.909\n"
     ]
    },
    {
     "name": "stderr",
     "output_type": "stream",
     "text": [
      "100%|██████████| 1250/1250 [09:30<00:00,  2.19it/s]\n"
     ]
    },
    {
     "name": "stdout",
     "output_type": "stream",
     "text": [
      "Epoch: 78, Train loss: 0.916, Val loss: 1.115, Train acc.: 0.954, Val acc.: 0.909\n"
     ]
    },
    {
     "name": "stderr",
     "output_type": "stream",
     "text": [
      "100%|██████████| 1250/1250 [09:34<00:00,  2.17it/s]\n"
     ]
    },
    {
     "name": "stdout",
     "output_type": "stream",
     "text": [
      "Epoch: 79, Train loss: 0.915, Val loss: 1.114, Train acc.: 0.954, Val acc.: 0.909\n"
     ]
    }
   ],
   "source": [
    "EPOCHS = 80\n",
    "history = {}\n",
    "history['accuracy'] = []\n",
    "history['loss'] = []\n",
    "history['val_accuracy'] = []\n",
    "history['val_loss'] = []\n",
    "\n",
    "for epoch in range(EPOCHS):\n",
    "    train_loss, train_acc = train(\n",
    "        translator, loss_fn, optimizer, train_dataloader)\n",
    "    history['loss'] += [train_loss]\n",
    "    history['accuracy'] += [train_acc]\n",
    "    val_loss, val_acc = evaluate(translator, loss_fn, val_dataloader)\n",
    "    history['val_loss'] += [val_loss]\n",
    "    history['val_accuracy'] += [val_acc]\n",
    "    print((f\"Epoch: {epoch}, Train loss: {train_loss:.3f}, Val loss: {val_loss:.3f}, Train acc.: {train_acc:.3f}, Val acc.: {val_acc:.3f}\"))"
   ]
  },
  {
   "cell_type": "markdown",
   "metadata": {},
   "source": [
    "## Plotting the Loss"
   ]
  },
  {
   "cell_type": "code",
   "execution_count": 67,
   "metadata": {},
   "outputs": [],
   "source": [
    "epochs = range(EPOCHS)"
   ]
  },
  {
   "cell_type": "code",
   "execution_count": 68,
   "metadata": {},
   "outputs": [
    {
     "data": {
      "image/png": "[encoded data removed]",
      "text/plain": [
       "<Figure size 640x480 with 1 Axes>"
      ]
     },
     "metadata": {},
     "output_type": "display_data"
    }
   ],
   "source": [
    "plt.plot(epochs, history['loss'], 'bo', label='Training loss')\n",
    "plt.plot(epochs, history['val_loss'], 'b', label='Validation loss')\n",
    "plt.title('Training and validation loss')\n",
    "plt.xlabel('Epochs')\n",
    "plt.ylabel('Loss')\n",
    "plt.legend()\n",
    "plt.show()"
   ]
  },
  {
   "cell_type": "code",
   "execution_count": 69,
   "metadata": {},
   "outputs": [
    {
     "data": {
      "image/png": "[encoded data removed]",
      "text/plain": [
       "<Figure size 640x480 with 1 Axes>"
      ]
     },
     "metadata": {},
     "output_type": "display_data"
    }
   ],
   "source": [
    "plt.plot(epochs, history['accuracy'], 'bo', label='Training acc')\n",
    "plt.plot(epochs, history['val_accuracy'], 'b', label='Validation acc')\n",
    "plt.title('Training and validation accuracy')\n",
    "plt.xlabel('Epochs')\n",
    "plt.ylabel('Accuracy')\n",
    "plt.legend()\n",
    "plt.show()"
   ]
  },
  {
   "cell_type": "markdown",
   "metadata": {},
   "source": [
    "## Application"
   ]
  },
  {
   "cell_type": "code",
   "execution_count": 70,
   "metadata": {},
   "outputs": [],
   "source": [
    "def greedy_decode(model, src_seq, max_len):\n",
    "    src_embs = model.embedding(src_seq)\n",
    "    memory = model.transformer.encoder(src_embs)\n",
    "    tgt_seq = torch.LongTensor([2])  # <s>\n",
    "    tgt_embs = model.embedding(tgt_seq)\n",
    "    for i in range(max_len-1):\n",
    "        tgt_mask = nn.Transformer.generate_square_subsequent_mask(\n",
    "            tgt_embs.size(dim=0))\n",
    "        tgt_output = model.transformer.decoder(tgt_embs,\n",
    "                                               memory,\n",
    "                                               tgt_mask)\n",
    "        char_prob = model.fc(tgt_output[-1])\n",
    "        next_char = torch.argmax(char_prob)\n",
    "        tgt_seq = torch.cat(\n",
    "            (tgt_seq,\n",
    "             torch.unsqueeze(next_char, dim=0)), dim=0)\n",
    "        tgt_embs = model.embedding(tgt_seq)\n",
    "        if next_char.item() == 3:  # </s>\n",
    "            break\n",
    "    return tgt_seq[1:]"
   ]
  },
  {
   "cell_type": "code",
   "execution_count": 71,
   "metadata": {},
   "outputs": [],
   "source": [
    "def translate(model, src_sentence):\n",
    "    model.eval()\n",
    "    src = seqs2tensors([src_sentence], token2idx)[0]\n",
    "    num_chars = src.size(dim=0)\n",
    "    tgt_chars = greedy_decode(\n",
    "        model, src, max_len=num_chars + 20)\n",
    "    tgt_chars = tensors2seqs([tgt_chars], idx2token)[0]\n",
    "    if tgt_chars[-1] == '</s>':\n",
    "        tgt_chars = tgt_chars[:-1]\n",
    "    tgt_str = ''.join(tgt_chars)\n",
    "    return tgt_str"
   ]
  },
  {
   "cell_type": "code",
   "execution_count": 72,
   "metadata": {},
   "outputs": [
    {
     "data": {
      "text/plain": [
       "'Come ate food.'"
      ]
     },
     "execution_count": 72,
     "metadata": {},
     "output_type": "execute_result"
    }
   ],
   "source": [
    "tgt_sent = translate(translator, \"Viens manger\")\n",
    "tgt_sent"
   ]
  },
  {
   "cell_type": "code",
   "execution_count": 73,
   "metadata": {},
   "outputs": [
    {
     "data": {
      "text/plain": [
       "'Deflast fleer.'"
      ]
     },
     "execution_count": 73,
     "metadata": {},
     "output_type": "execute_result"
    }
   ],
   "source": [
    "tgt_sent = translate(translator, \"Redkalösköldsfklöte !\")\n",
    "tgt_sent"
   ]
  },
  {
   "cell_type": "markdown",
   "metadata": {},
   "source": [
    "## Save model"
   ]
  },
  {
   "cell_type": "code",
   "execution_count": 74,
   "metadata": {},
   "outputs": [],
   "source": [
    "torch.save(translator.state_dict(), 'simple_params_20240622.pth')"
   ]
  }
 ],
 "metadata": {
  "kernelspec": {
   "display_name": "base",
   "language": "python",
   "name": "python3"
  },
  "language_info": {
   "codemirror_mode": {
    "name": "ipython",
    "version": 3
   },
   "file_extension": ".py",
   "mimetype": "text/x-python",
   "name": "python",
   "nbconvert_exporter": "python",
   "pygments_lexer": "ipython3",
   "version": "3.12.4"
  }
 },
 "nbformat": 4,
 "nbformat_minor": 4
}
