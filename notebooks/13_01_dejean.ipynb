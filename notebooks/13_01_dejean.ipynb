{
 "cells": [
  {
   "attachments": {},
   "cell_type": "markdown",
   "metadata": {},
   "source": [
    "# Chapter 13: Subword Segmentation\n",
    "Discovery of Morphemes using Déjean's algorithm: https://aclanthology.org/W98-1239.pdf"
   ]
  },
  {
   "cell_type": "markdown",
   "metadata": {},
   "source": [
    "Programs from the book: [_Python for Natural Language Processing_](https://link.springer.com/book/9783031575488)\n",
    "\n",
    "__Author__: Pierre Nugues"
   ]
  },
  {
   "cell_type": "markdown",
   "metadata": {},
   "source": [
    "## Modules"
   ]
  },
  {
   "cell_type": "code",
   "execution_count": 1,
   "metadata": {},
   "outputs": [],
   "source": [
    "import os\n",
    "import regex as re\n",
    "from collections import Counter"
   ]
  },
  {
   "cell_type": "markdown",
   "metadata": {},
   "source": [
    "## Reading a Corpus\n",
    "Utility function to read all the files in a folder"
   ]
  },
  {
   "cell_type": "code",
   "execution_count": 2,
   "metadata": {},
   "outputs": [],
   "source": [
    "\n",
    "def get_files(dir, suffix):\n",
    "    \"\"\"\n",
    "    Returns all the files in a folder ending with suffix\n",
    "    :param dir:\n",
    "    :param suffix:\n",
    "    :return: the list of file names\n",
    "    \"\"\"\n",
    "    files = []\n",
    "    for file in os.listdir(dir):\n",
    "        if file.endswith(suffix):\n",
    "            files.append(file)\n",
    "    return files"
   ]
  },
  {
   "cell_type": "markdown",
   "metadata": {},
   "source": [
    "## Tokenizer\n",
    "An elemetary tokenizer"
   ]
  },
  {
   "cell_type": "code",
   "execution_count": 3,
   "metadata": {},
   "outputs": [],
   "source": [
    "def tokenize(text):\n",
    "    \"\"\"\n",
    "    Uses the letters to break the text into words.\n",
    "    Returns a list of match objects\n",
    "    \"\"\"\n",
    "    words = re.findall(r'\\p{L}+', text)\n",
    "    return words"
   ]
  },
  {
   "cell_type": "markdown",
   "metadata": {},
   "source": [
    "## Reading the Files\n",
    "We read a corpus of novels from Dickens"
   ]
  },
  {
   "cell_type": "code",
   "execution_count": 4,
   "metadata": {},
   "outputs": [],
   "source": [
    "PATH = '../datasets/dickens/'"
   ]
  },
  {
   "cell_type": "code",
   "execution_count": 5,
   "metadata": {},
   "outputs": [
    {
     "data": {
      "text/plain": [
       "['Hard Times.txt',\n",
       " 'Oliver Twist.txt',\n",
       " 'Great Expectations.txt',\n",
       " 'The Old Curiosity Shop.txt',\n",
       " 'A Tale of Two Cities.txt',\n",
       " 'Dombey and Son.txt',\n",
       " 'The Pickwick Papers.txt',\n",
       " 'Bleak House.txt',\n",
       " 'Our Mutual Friend.txt',\n",
       " 'The Mystery of Edwin Drood.txt',\n",
       " 'Nicholas Nickleby.txt',\n",
       " 'David Copperfield.txt',\n",
       " 'Little Dorrit.txt',\n",
       " 'A Christmas Carol in Prose.txt']"
      ]
     },
     "execution_count": 5,
     "metadata": {},
     "output_type": "execute_result"
    }
   ],
   "source": [
    "files = get_files(PATH, 'txt')\n",
    "files"
   ]
  },
  {
   "cell_type": "markdown",
   "metadata": {},
   "source": [
    "We tokenize the texts"
   ]
  },
  {
   "cell_type": "code",
   "execution_count": 6,
   "metadata": {},
   "outputs": [
    {
     "data": {
      "text/plain": [
       "['hard',\n",
       " 'times',\n",
       " 'and',\n",
       " 'reprinted',\n",
       " 'pieces',\n",
       " 'by',\n",
       " 'charles',\n",
       " 'dickens',\n",
       " 'with',\n",
       " 'illustrations']"
      ]
     },
     "execution_count": 6,
     "metadata": {},
     "output_type": "execute_result"
    }
   ],
   "source": [
    "words = []\n",
    "for file in files:\n",
    "    text = open(PATH + file).read().lower().strip()\n",
    "    words += tokenize(text)\n",
    "words[:10]"
   ]
  },
  {
   "attachments": {},
   "cell_type": "markdown",
   "metadata": {},
   "source": [
    "## Finding the Prefixed Morphemes"
   ]
  },
  {
   "cell_type": "code",
   "execution_count": 7,
   "metadata": {},
   "outputs": [],
   "source": [
    "uniq_words = Counter(words)"
   ]
  },
  {
   "cell_type": "code",
   "execution_count": 8,
   "metadata": {},
   "outputs": [
    {
     "data": {
      "text/plain": [
       "[('the', 157339),\n",
       " ('and', 116892),\n",
       " ('to', 89323),\n",
       " ('of', 84232),\n",
       " ('a', 73244),\n",
       " ('i', 67115),\n",
       " ('in', 55744),\n",
       " ('that', 46216),\n",
       " ('it', 45471),\n",
       " ('he', 41988)]"
      ]
     },
     "execution_count": 8,
     "metadata": {},
     "output_type": "execute_result"
    }
   ],
   "source": [
    "uniq_words.most_common(10)"
   ]
  },
  {
   "cell_type": "markdown",
   "metadata": {},
   "source": [
    "We extract the characters and we count them "
   ]
  },
  {
   "cell_type": "code",
   "execution_count": 9,
   "metadata": {},
   "outputs": [],
   "source": [
    "chars = list(''.join(words))\n",
    "uniq_chars = Counter(chars)"
   ]
  },
  {
   "cell_type": "code",
   "execution_count": 10,
   "metadata": {},
   "outputs": [
    {
     "data": {
      "text/plain": [
       "Counter({'e': 1704052,\n",
       "         't': 1240514,\n",
       "         'a': 1132119,\n",
       "         'o': 1077682,\n",
       "         'i': 997135,\n",
       "         'n': 984100,\n",
       "         'h': 887415,\n",
       "         's': 878534,\n",
       "         'r': 831589,\n",
       "         'd': 647770,\n",
       "         'l': 554244,\n",
       "         'u': 400424,\n",
       "         'm': 399958,\n",
       "         'w': 339181,\n",
       "         'c': 333347,\n",
       "         'y': 305103,\n",
       "         'f': 299386,\n",
       "         'g': 297893,\n",
       "         'p': 247241,\n",
       "         'b': 216644,\n",
       "         'k': 128233,\n",
       "         'v': 127503,\n",
       "         'x': 19707,\n",
       "         'j': 18095,\n",
       "         'q': 16253,\n",
       "         'z': 4579,\n",
       "         'ë': 3,\n",
       "         'æ': 2,\n",
       "         'é': 2,\n",
       "         'ô': 1,\n",
       "         'ê': 1,\n",
       "         'œ': 1,\n",
       "         'ö': 1})"
      ]
     },
     "execution_count": 10,
     "metadata": {},
     "output_type": "execute_result"
    }
   ],
   "source": [
    "uniq_chars"
   ]
  },
  {
   "cell_type": "code",
   "execution_count": 11,
   "metadata": {},
   "outputs": [
    {
     "data": {
      "text/plain": [
       "33"
      ]
     },
     "execution_count": 11,
     "metadata": {},
     "output_type": "execute_result"
    }
   ],
   "source": [
    "len(uniq_chars)"
   ]
  },
  {
   "cell_type": "markdown",
   "metadata": {},
   "source": [
    "## Morpheme Discovery"
   ]
  },
  {
   "cell_type": "code",
   "execution_count": 12,
   "metadata": {},
   "outputs": [],
   "source": [
    "prefix_size = 4\n",
    "cutoff = 100"
   ]
  },
  {
   "cell_type": "code",
   "execution_count": 13,
   "metadata": {},
   "outputs": [],
   "source": [
    "prefixes = [word[:prefix_size]\n",
    "            for word in uniq_words if len(word) > prefix_size]"
   ]
  },
  {
   "cell_type": "code",
   "execution_count": 14,
   "metadata": {},
   "outputs": [],
   "source": [
    "wordlist = uniq_words.keys()"
   ]
  },
  {
   "cell_type": "markdown",
   "metadata": {},
   "source": [
    "For a given prefix and a wordlist, we compute the distribution of the following character"
   ]
  },
  {
   "cell_type": "code",
   "execution_count": 15,
   "metadata": {},
   "outputs": [],
   "source": [
    "def next_char_dist(prefix, wordlist):\n",
    "    next_chars = []\n",
    "    prefix_len = len(prefix)\n",
    "    for word in wordlist:\n",
    "        if word.startswith(prefix) and len(word) > prefix_len:\n",
    "            next_chars += word[prefix_len]\n",
    "    dist = Counter(next_chars)\n",
    "    return dist"
   ]
  },
  {
   "attachments": {},
   "cell_type": "markdown",
   "metadata": {},
   "source": [
    "Déjean's first rule to determine if a prefix is a morpheme"
   ]
  },
  {
   "cell_type": "code",
   "execution_count": 16,
   "metadata": {},
   "outputs": [],
   "source": [
    "def is_morpheme(prefix, wordlist):\n",
    "    dist = next_char_dist(prefix, wordlist)\n",
    "    cnt_next_char = sum(dist.values())\n",
    "    if len(dist) > len(uniq_chars) / 2 and dist.most_common()[0][1] < cnt_next_char / 2:\n",
    "        return True\n",
    "    else:\n",
    "        return False"
   ]
  },
  {
   "cell_type": "code",
   "execution_count": 17,
   "metadata": {},
   "outputs": [
    {
     "data": {
      "text/plain": [
       "True"
      ]
     },
     "execution_count": 17,
     "metadata": {},
     "output_type": "execute_result"
    }
   ],
   "source": [
    "is_morpheme('in', wordlist)"
   ]
  },
  {
   "cell_type": "code",
   "execution_count": 18,
   "metadata": {},
   "outputs": [],
   "source": [
    "def prefix_count(prefix, wordlist):\n",
    "    return sum(map(lambda x: x.startswith(prefix) and len(x) > len(prefix), wordlist))"
   ]
  },
  {
   "cell_type": "code",
   "execution_count": 19,
   "metadata": {},
   "outputs": [
    {
     "data": {
      "text/plain": [
       "61"
      ]
     },
     "execution_count": 19,
     "metadata": {},
     "output_type": "execute_result"
    }
   ],
   "source": [
    "prefix_count('fore', wordlist)"
   ]
  },
  {
   "attachments": {},
   "cell_type": "markdown",
   "metadata": {},
   "source": [
    "A function to extract the prefixed morphemes of a given size. "
   ]
  },
  {
   "cell_type": "code",
   "execution_count": 20,
   "metadata": {},
   "outputs": [],
   "source": [
    "def extract_prefix_morphemes(wordlist, prefix_size):\n",
    "    morphemes = {}\n",
    "    prefixes = set([word[:prefix_size]\n",
    "                   for word in wordlist if len(word) > prefix_size])\n",
    "    for prefix in prefixes:\n",
    "        if is_morpheme(prefix, wordlist):\n",
    "            morphemes[prefix + '-'] = prefix_count(prefix, wordlist)\n",
    "    return morphemes"
   ]
  },
  {
   "attachments": {},
   "cell_type": "markdown",
   "metadata": {},
   "source": [
    "We now extract the prefixes and suffixes"
   ]
  },
  {
   "cell_type": "code",
   "execution_count": 21,
   "metadata": {},
   "outputs": [],
   "source": [
    "def extract_morphemes(wordlist, prefix_size):\n",
    "    # The prefixes\n",
    "    morphemes = extract_prefix_morphemes(wordlist, prefix_size)\n",
    "    # The suffixes\n",
    "    rev_wordlist = [word[::-1] for word in wordlist]\n",
    "    rev_morphemes = extract_prefix_morphemes(rev_wordlist, prefix_size)\n",
    "    for key, value in rev_morphemes.items():\n",
    "        morphemes[key[::-1]] = value\n",
    "    return morphemes"
   ]
  },
  {
   "cell_type": "code",
   "execution_count": 22,
   "metadata": {},
   "outputs": [],
   "source": [
    "morphemes = extract_morphemes(wordlist, 4)"
   ]
  },
  {
   "cell_type": "code",
   "execution_count": 23,
   "metadata": {},
   "outputs": [
    {
     "data": {
      "text/plain": [
       "{'fore-': 61,\n",
       " 'over-': 140,\n",
       " '-ants': 50,\n",
       " '-ance': 128,\n",
       " '-ling': 346,\n",
       " '-less': 155,\n",
       " '-ings': 313,\n",
       " '-ated': 305,\n",
       " '-ates': 113,\n",
       " '-able': 355,\n",
       " '-ines': 41,\n",
       " '-ered': 228,\n",
       " '-ness': 448,\n",
       " '-ages': 49,\n",
       " '-ards': 49,\n",
       " '-ined': 101,\n",
       " '-ably': 87,\n",
       " '-ment': 201}"
      ]
     },
     "execution_count": 23,
     "metadata": {},
     "output_type": "execute_result"
    }
   ],
   "source": [
    "morphemes"
   ]
  },
  {
   "attachments": {},
   "cell_type": "markdown",
   "metadata": {},
   "source": [
    "## Segmentation\n",
    "We use Déjean's list of suffixed morphemes."
   ]
  },
  {
   "cell_type": "code",
   "execution_count": 24,
   "metadata": {},
   "outputs": [],
   "source": [
    "prefix_morphemes = ['over-', 'fore-', 're-']\n",
    "suffix_morphemes = ['-e', '-s', '-ed', '-ing',\n",
    "                    '-al', '-ation', '-ly', '-ic', '-ent']"
   ]
  },
  {
   "attachments": {},
   "cell_type": "markdown",
   "metadata": {},
   "source": [
    "We create regexes for the prefixes and suffixes, where we reverse the suffixes"
   ]
  },
  {
   "cell_type": "code",
   "execution_count": 25,
   "metadata": {},
   "outputs": [
    {
     "data": {
      "text/plain": [
       "['^fore', '^over', '^re']"
      ]
     },
     "execution_count": 25,
     "metadata": {},
     "output_type": "execute_result"
    }
   ],
   "source": [
    "p_patterns = sorted(['^' + prefix[:-1] for prefix in prefix_morphemes],\n",
    "                    key=lambda x: (-len(x), x))\n",
    "p_patterns"
   ]
  },
  {
   "cell_type": "code",
   "execution_count": 26,
   "metadata": {},
   "outputs": [
    {
     "data": {
      "text/plain": [
       "['^noita', '^gni', '^tne', '^ci', '^de', '^la', '^yl', '^e', '^s']"
      ]
     },
     "execution_count": 26,
     "metadata": {},
     "output_type": "execute_result"
    }
   ],
   "source": [
    "s_patterns = sorted(['^' + suffix[1:][::-1] for suffix in suffix_morphemes],\n",
    "                    key=lambda x: (-len(x), x))\n",
    "s_patterns"
   ]
  },
  {
   "cell_type": "code",
   "execution_count": 27,
   "metadata": {},
   "outputs": [
    {
     "data": {
      "text/plain": [
       "'^fore|^over|^re'"
      ]
     },
     "execution_count": 27,
     "metadata": {},
     "output_type": "execute_result"
    }
   ],
   "source": [
    "p_regex = '|'.join(p_patterns)\n",
    "p_regex"
   ]
  },
  {
   "cell_type": "code",
   "execution_count": 28,
   "metadata": {},
   "outputs": [
    {
     "data": {
      "text/plain": [
       "'^noita|^gni|^tne|^ci|^de|^la|^yl|^e|^s'"
      ]
     },
     "execution_count": 28,
     "metadata": {},
     "output_type": "execute_result"
    }
   ],
   "source": [
    "s_regex = '|'.join(s_patterns)\n",
    "s_regex"
   ]
  },
  {
   "cell_type": "code",
   "execution_count": 29,
   "metadata": {},
   "outputs": [],
   "source": [
    "def segment_morphemes(p_regex, s_regex, word):\n",
    "    prefix_rest = re.findall(p_regex + r'|\\p{L}+', word)\n",
    "    if len(prefix_rest) == 1:  # no prefix\n",
    "        prefix = ''\n",
    "        rest = word\n",
    "    elif len(prefix_rest) == 2:  # we have a prefix\n",
    "        prefix = prefix_rest[0]\n",
    "        rest = prefix_rest[1]\n",
    "    else:\n",
    "        print('Error')\n",
    "\n",
    "    stem_suffix = re.findall(s_regex + r'|\\p{L}+', rest[::-1])\n",
    "    if len(stem_suffix) == 1:  # no suffix\n",
    "        stem = rest\n",
    "        suffix = ''\n",
    "    elif len(stem_suffix) == 2:  # we have a suffix\n",
    "        stem = stem_suffix[1][::-1]\n",
    "        suffix = stem_suffix[0][::-1]\n",
    "    else:\n",
    "        print('Error')\n",
    "    return list(filter(None, [prefix] + [stem] + [suffix]))"
   ]
  },
  {
   "cell_type": "code",
   "execution_count": 30,
   "metadata": {},
   "outputs": [
    {
     "data": {
      "text/plain": [
       "['re', 'celebr', 'ation']"
      ]
     },
     "execution_count": 30,
     "metadata": {},
     "output_type": "execute_result"
    }
   ],
   "source": [
    "segment_morphemes(p_regex, s_regex, 'recelebration')"
   ]
  },
  {
   "cell_type": "code",
   "execution_count": 31,
   "metadata": {},
   "outputs": [
    {
     "name": "stdout",
     "output_type": "stream",
     "text": [
      "['a']\n",
      "['aaron']\n",
      "['aback']\n",
      "['abaft']\n",
      "['abandon']\n",
      "['abandon', 'ed']\n",
      "['abandon', 'ing']\n",
      "['abandonm', 'ent']\n",
      "['abandon', 's']\n",
      "['abas', 'e']\n",
      "['abas', 'ed']\n",
      "['abasem', 'ent']\n",
      "['abase', 's']\n",
      "['abash']\n",
      "['abash', 'ed']\n",
      "['abas', 'ing']\n",
      "['abat', 'e']\n",
      "['abat', 'ed']\n",
      "['abatem', 'ent']\n",
      "['abate', 's']\n"
     ]
    }
   ],
   "source": [
    "for word in sorted(uniq_words)[:20]:\n",
    "    print(segment_morphemes(p_regex, s_regex, word))"
   ]
  }
 ],
 "metadata": {
  "kernelspec": {
   "display_name": "base",
   "language": "python",
   "name": "python3"
  },
  "language_info": {
   "codemirror_mode": {
    "name": "ipython",
    "version": 3
   },
   "file_extension": ".py",
   "mimetype": "text/x-python",
   "name": "python",
   "nbconvert_exporter": "python",
   "pygments_lexer": "ipython3",
   "version": "3.13.5"
  }
 },
 "nbformat": 4,
 "nbformat_minor": 4
}
