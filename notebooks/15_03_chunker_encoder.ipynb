{
 "cells": [
  {
   "attachments": {},
   "cell_type": "markdown",
   "metadata": {},
   "source": [
    "# Chapter 15: Self-Attention and Transformers\n",
    "Extraction of Named Entities with an Encoder Trained from Scratch"
   ]
  },
  {
   "cell_type": "markdown",
   "metadata": {},
   "source": [
    "Programs from the book: [_Python for Natural Language Processing_](https://link.springer.com/book/9783031575488)\n",
    "\n",
    "__Author__: Pierre Nugues"
   ]
  },
  {
   "cell_type": "markdown",
   "metadata": {},
   "source": [
    "## Preliminaries"
   ]
  },
  {
   "attachments": {},
   "cell_type": "markdown",
   "metadata": {},
   "source": [
    "### Modules"
   ]
  },
  {
   "cell_type": "code",
   "execution_count": 1,
   "metadata": {},
   "outputs": [],
   "source": [
    "import matplotlib.pyplot as plt\n",
    "from tqdm import tqdm\n",
    "import random\n",
    "import math\n",
    "\n",
    "import torch\n",
    "import torch.nn as nn\n",
    "import torch.nn.functional as F\n",
    "from torch.nn.utils.rnn import pad_sequence\n",
    "from torch.utils.data import TensorDataset, DataLoader"
   ]
  },
  {
   "cell_type": "markdown",
   "metadata": {},
   "source": [
    "### Seeds\n",
    "Making things reproduceable"
   ]
  },
  {
   "cell_type": "code",
   "execution_count": 2,
   "metadata": {},
   "outputs": [
    {
     "data": {
      "text/plain": [
       "<torch._C.Generator at 0x11873f8b0>"
      ]
     },
     "execution_count": 2,
     "metadata": {},
     "output_type": "execute_result"
    }
   ],
   "source": [
    "random.seed(1234)\n",
    "torch.manual_seed(1234)"
   ]
  },
  {
   "cell_type": "markdown",
   "metadata": {},
   "source": [
    "### Constants"
   ]
  },
  {
   "cell_type": "code",
   "execution_count": 3,
   "metadata": {},
   "outputs": [],
   "source": [
    "BATCH_SIZE = 128\n",
    "EPOCHS = 50\n",
    "dropout = 0.5\n",
    "EMB_LARGE = True  # GloVe 50 or 100\n",
    "d_model = 100\n",
    "FREEZE_EMBS = False\n",
    "# LR = 0.000075\n",
    "LR = 0.0005\n",
    "\n",
    "nhead = 5\n",
    "num_layers = 4\n",
    "dim_feedforward = 128"
   ]
  },
  {
   "cell_type": "code",
   "execution_count": 4,
   "metadata": {},
   "outputs": [],
   "source": [
    "config = {'EPOCHS': EPOCHS,\n",
    "          'num_layers': num_layers,\n",
    "          'DROPOUT': dropout,\n",
    "          'EMB_LARGE': EMB_LARGE,\n",
    "          'FREEZE_EMBS': FREEZE_EMBS}"
   ]
  },
  {
   "cell_type": "markdown",
   "metadata": {},
   "source": [
    "## Datasets"
   ]
  },
  {
   "cell_type": "code",
   "execution_count": 5,
   "metadata": {},
   "outputs": [],
   "source": [
    "PATH = '../datasets/'"
   ]
  },
  {
   "cell_type": "markdown",
   "metadata": {},
   "source": [
    "Install conlleval and download the dataset if not on your machine."
   ]
  },
  {
   "cell_type": "code",
   "execution_count": 6,
   "metadata": {},
   "outputs": [],
   "source": [
    "#!pip install conlleval"
   ]
  },
  {
   "cell_type": "code",
   "execution_count": 7,
   "metadata": {},
   "outputs": [],
   "source": [
    "import conlleval"
   ]
  },
  {
   "cell_type": "markdown",
   "metadata": {},
   "source": [
    "Uncomment and run this cell to download the CoNLL 2003 dataset"
   ]
  },
  {
   "cell_type": "code",
   "execution_count": 8,
   "metadata": {},
   "outputs": [
    {
     "data": {
      "text/plain": [
       "'!wget https://data.deepai.org/conll2003.zip\\n!unzip -u conll2003.zip\\n!mkdir ../datasets/conll2003\\n!mv train.txt valid.txt test.txt ../datasets/conll2003\\n!rm conll2003.zip'"
      ]
     },
     "execution_count": 8,
     "metadata": {},
     "output_type": "execute_result"
    }
   ],
   "source": [
    "\"\"\"!wget https://data.deepai.org/conll2003.zip\n",
    "!unzip -u conll2003.zip\n",
    "!mkdir ../datasets/conll2003\n",
    "!mv train.txt valid.txt test.txt ../datasets/conll2003\n",
    "!rm conll2003.zip\"\"\""
   ]
  },
  {
   "cell_type": "markdown",
   "metadata": {},
   "source": [
    "You may need to adjust the paths to load the datasets from your machine."
   ]
  },
  {
   "cell_type": "code",
   "execution_count": 9,
   "metadata": {},
   "outputs": [],
   "source": [
    "train_file = PATH + 'conll2003/train.txt'\n",
    "val_file = PATH + 'conll2003/valid.txt'\n",
    "test_file = PATH + 'conll2003/test.txt'"
   ]
  },
  {
   "cell_type": "markdown",
   "metadata": {},
   "source": [
    "## Reading the files"
   ]
  },
  {
   "cell_type": "markdown",
   "metadata": {},
   "source": [
    "### Loading the Embeddings\n",
    "We will use GloVe embeddings and load them"
   ]
  },
  {
   "cell_type": "code",
   "execution_count": 10,
   "metadata": {},
   "outputs": [],
   "source": [
    "if EMB_LARGE:\n",
    "    embedding_file = PATH + 'embeddings/glove.6B.100d.txt'\n",
    "    EMBEDDING_DIM = 100\n",
    "else:\n",
    "    embedding_file = PATH + 'embeddings/glove.6B.50d.txt'\n",
    "    EMBEDDING_DIM = 50"
   ]
  },
  {
   "cell_type": "code",
   "execution_count": 11,
   "metadata": {},
   "outputs": [],
   "source": [
    "def read_embeddings(file):\n",
    "    \"\"\"\n",
    "    Return the embeddings in the from of a dictionary\n",
    "    :param file:\n",
    "    :return:\n",
    "    \"\"\"\n",
    "    embeddings = {}\n",
    "    glove = open(file, encoding='utf8')\n",
    "    for line in glove:\n",
    "        values = line.strip().split()\n",
    "        word = values[0]\n",
    "        vector = torch.FloatTensor(list(map(float, values[1:])))\n",
    "        embeddings[word] = vector\n",
    "    glove.close()\n",
    "    return embeddings"
   ]
  },
  {
   "cell_type": "code",
   "execution_count": 12,
   "metadata": {},
   "outputs": [],
   "source": [
    "embeddings_dict = read_embeddings(embedding_file)"
   ]
  },
  {
   "cell_type": "code",
   "execution_count": 13,
   "metadata": {},
   "outputs": [
    {
     "data": {
      "text/plain": [
       "tensor([-0.6145,  0.8969,  0.5677,  0.3910, -0.2244,  0.4904,  0.1087,  0.2741,\n",
       "        -0.2383, -0.5215,  0.7355, -0.3265,  0.5130,  0.3241, -0.4671,  0.6805,\n",
       "        -0.2550, -0.0405, -0.5442, -1.0548, -0.4669,  0.2356,  0.3123, -0.3454,\n",
       "         0.1479, -0.5375, -0.4322, -0.4872, -0.5102, -0.9051, -0.1792, -0.0184,\n",
       "         0.0972, -0.3162,  0.7512,  0.9224, -0.4997,  0.1404, -0.2830, -0.9744,\n",
       "        -0.0094, -0.6294,  0.1471, -0.9438,  0.0075,  0.1857, -0.9917,  0.0728,\n",
       "        -0.1847, -0.5290,  0.3900, -0.4568, -0.2193,  1.3723, -0.2964, -2.2342,\n",
       "        -0.3667,  0.0499,  0.6342,  0.5328, -0.5396,  0.3140, -0.4470, -0.3839,\n",
       "         0.0667, -0.0217,  0.2056,  0.5946, -0.2489, -0.5279, -0.3761,  0.0771,\n",
       "         0.7522, -0.2647, -0.0587,  0.6754, -0.1656, -0.4928, -0.2633, -0.2121,\n",
       "         0.2432,  0.1701, -0.2926, -0.5009, -0.5664, -0.4038, -0.4845, -0.3254,\n",
       "         0.7529,  0.0050, -0.3212,  0.2890, -0.0424,  0.6386, -0.2033, -0.4678,\n",
       "        -0.1566,  0.2179,  1.4143,  0.4003])"
      ]
     },
     "execution_count": 13,
     "metadata": {},
     "output_type": "execute_result"
    }
   ],
   "source": [
    "embeddings_dict['table']"
   ]
  },
  {
   "cell_type": "markdown",
   "metadata": {},
   "source": [
    "### Loading the Corpus"
   ]
  },
  {
   "cell_type": "code",
   "execution_count": 14,
   "metadata": {},
   "outputs": [],
   "source": [
    "def read_sentences(file):\n",
    "    \"\"\"\n",
    "    Creates a list of sentences from the corpus\n",
    "    Each sentence is a string\n",
    "    :param file:\n",
    "    :return:\n",
    "    \"\"\"\n",
    "    f = open(file).read().strip()\n",
    "    sentences = f.split('\\n\\n')\n",
    "    return sentences"
   ]
  },
  {
   "cell_type": "code",
   "execution_count": 15,
   "metadata": {},
   "outputs": [],
   "source": [
    "def split_rows(sentences, column_names):\n",
    "    \"\"\"\n",
    "    Creates a list of sentence where each sentence is a list of lines\n",
    "    Each line is a dictionary of columns\n",
    "    :param sentences:\n",
    "    :param column_names:\n",
    "    :return:\n",
    "    \"\"\"\n",
    "    new_sentences = []\n",
    "    for sentence in sentences:\n",
    "        rows = sentence.split('\\n')\n",
    "        sentence = [dict(zip(column_names, row.split())) for row in rows]\n",
    "        new_sentences.append(sentence)\n",
    "    return new_sentences"
   ]
  },
  {
   "cell_type": "markdown",
   "metadata": {},
   "source": [
    "### Loading dictionaries"
   ]
  },
  {
   "attachments": {},
   "cell_type": "markdown",
   "metadata": {},
   "source": [
    "The CoNLL 2002 files have four columns: The wordform, `form`, its predicted part of speech, `ppos`, the predicted tag denoting the syntactic group also called the chunk tag, `pchunk`, and finally the named entity tag `ner`."
   ]
  },
  {
   "cell_type": "code",
   "execution_count": 16,
   "metadata": {},
   "outputs": [],
   "source": [
    "column_names = ['FORM', 'PPOS', 'PCHUNK', 'NER']"
   ]
  },
  {
   "cell_type": "markdown",
   "metadata": {},
   "source": [
    "We load the corpus as a list of dictionaries"
   ]
  },
  {
   "cell_type": "code",
   "execution_count": 17,
   "metadata": {},
   "outputs": [
    {
     "data": {
      "text/plain": [
       "[{'FORM': 'EU', 'PPOS': 'NNP', 'PCHUNK': 'B-NP', 'NER': 'B-ORG'},\n",
       " {'FORM': 'rejects', 'PPOS': 'VBZ', 'PCHUNK': 'B-VP', 'NER': 'O'},\n",
       " {'FORM': 'German', 'PPOS': 'JJ', 'PCHUNK': 'B-NP', 'NER': 'B-MISC'},\n",
       " {'FORM': 'call', 'PPOS': 'NN', 'PCHUNK': 'I-NP', 'NER': 'O'},\n",
       " {'FORM': 'to', 'PPOS': 'TO', 'PCHUNK': 'B-VP', 'NER': 'O'},\n",
       " {'FORM': 'boycott', 'PPOS': 'VB', 'PCHUNK': 'I-VP', 'NER': 'O'},\n",
       " {'FORM': 'British', 'PPOS': 'JJ', 'PCHUNK': 'B-NP', 'NER': 'B-MISC'},\n",
       " {'FORM': 'lamb', 'PPOS': 'NN', 'PCHUNK': 'I-NP', 'NER': 'O'},\n",
       " {'FORM': '.', 'PPOS': '.', 'PCHUNK': 'O', 'NER': 'O'}]"
      ]
     },
     "execution_count": 17,
     "metadata": {},
     "output_type": "execute_result"
    }
   ],
   "source": [
    "train_sentences = read_sentences(train_file)\n",
    "train_dict = split_rows(train_sentences, column_names)\n",
    "\n",
    "val_sentences = read_sentences(val_file)\n",
    "val_dict = split_rows(val_sentences, column_names)\n",
    "\n",
    "test_sentences = read_sentences(test_file)\n",
    "test_dict = split_rows(test_sentences, column_names)\n",
    "\n",
    "train_dict[1]"
   ]
  },
  {
   "cell_type": "markdown",
   "metadata": {},
   "source": [
    "### Function to build the two-way sequences\n",
    "Two vectors: $\\mathbf{x}$ and $\\mathbf{y}$"
   ]
  },
  {
   "cell_type": "code",
   "execution_count": 18,
   "metadata": {},
   "outputs": [],
   "source": [
    "def extract_cols(sent_dict, x='FORM', y='NER'):\n",
    "    (input, target) = ([], [])\n",
    "    for word in sent_dict:\n",
    "        input += [word[x]]\n",
    "        target += [word.get(y, None)]\n",
    "    return input, target"
   ]
  },
  {
   "cell_type": "code",
   "execution_count": 19,
   "metadata": {},
   "outputs": [],
   "source": [
    "train_cols = [extract_cols(sent_dict)\n",
    "              for sent_dict in train_dict]\n",
    "val_cols = [extract_cols(sent_dict)\n",
    "            for sent_dict in val_dict]\n",
    "test_cols = [extract_cols(sent_dict)\n",
    "             for sent_dict in test_dict]"
   ]
  },
  {
   "cell_type": "code",
   "execution_count": 20,
   "metadata": {},
   "outputs": [],
   "source": [
    "train_sent_words, train_sent_ner = zip(*train_cols)\n",
    "val_sent_words, val_sent_ner = zip(*val_cols)\n",
    "test_sent_words, test_sent_ner = zip(*test_cols)"
   ]
  },
  {
   "cell_type": "code",
   "execution_count": 21,
   "metadata": {},
   "outputs": [
    {
     "data": {
      "text/plain": [
       "['He',\n",
       " 'said',\n",
       " 'Talbott',\n",
       " ',',\n",
       " 'who',\n",
       " 'was',\n",
       " 'scheduled',\n",
       " 'to',\n",
       " 'return',\n",
       " 'on',\n",
       " 'Tuesday',\n",
       " ',',\n",
       " 'would',\n",
       " 'also',\n",
       " 'to',\n",
       " 'meet',\n",
       " 'his',\n",
       " 'Canadian',\n",
       " 'counterpart',\n",
       " ',',\n",
       " 'Gordon',\n",
       " 'Smith',\n",
       " ',',\n",
       " 'in',\n",
       " 'Ottawa',\n",
       " 'for',\n",
       " 'talks',\n",
       " 'that',\n",
       " 'would',\n",
       " 'include',\n",
       " 'the',\n",
       " 'situation',\n",
       " 'in',\n",
       " 'Haiti',\n",
       " '.']"
      ]
     },
     "execution_count": 21,
     "metadata": {},
     "output_type": "execute_result"
    }
   ],
   "source": [
    "train_sent_words[8131]"
   ]
  },
  {
   "cell_type": "code",
   "execution_count": 22,
   "metadata": {},
   "outputs": [],
   "source": [
    "train_sent_words = [list(map(str.lower, sentence))\n",
    "                    for sentence in train_sent_words]\n",
    "val_sent_words = [list(map(str.lower, sentence))\n",
    "                  for sentence in val_sent_words]\n",
    "test_sent_words = [list(map(str.lower, sentence))\n",
    "                   for sentence in test_sent_words]"
   ]
  },
  {
   "cell_type": "code",
   "execution_count": 23,
   "metadata": {},
   "outputs": [
    {
     "data": {
      "text/plain": [
       "['eu', 'rejects', 'german', 'call', 'to', 'boycott', 'british', 'lamb', '.']"
      ]
     },
     "execution_count": 23,
     "metadata": {},
     "output_type": "execute_result"
    }
   ],
   "source": [
    "train_sent_words[1]"
   ]
  },
  {
   "cell_type": "code",
   "execution_count": 24,
   "metadata": {},
   "outputs": [
    {
     "data": {
      "text/plain": [
       "['B-ORG', 'O', 'B-MISC', 'O', 'O', 'O', 'B-MISC', 'O', 'O']"
      ]
     },
     "execution_count": 24,
     "metadata": {},
     "output_type": "execute_result"
    }
   ],
   "source": [
    "train_sent_ner[1]"
   ]
  },
  {
   "cell_type": "markdown",
   "metadata": {},
   "source": [
    "### Extracting the Unique Words and Parts of Speech"
   ]
  },
  {
   "cell_type": "code",
   "execution_count": 25,
   "metadata": {},
   "outputs": [],
   "source": [
    "corpus_words = sorted(set([word\n",
    "                           for sentence in train_sent_words\n",
    "                           for word in sentence]))"
   ]
  },
  {
   "cell_type": "code",
   "execution_count": 26,
   "metadata": {},
   "outputs": [],
   "source": [
    "ner_list = sorted(set([pos\n",
    "                  for sentence in train_sent_ner\n",
    "                  for pos in sentence]))"
   ]
  },
  {
   "cell_type": "code",
   "execution_count": 27,
   "metadata": {},
   "outputs": [
    {
     "data": {
      "text/plain": [
       "['B-LOC', 'B-MISC', 'B-ORG', 'B-PER', 'I-LOC', 'I-MISC', 'I-ORG', 'I-PER', 'O']"
      ]
     },
     "execution_count": 27,
     "metadata": {},
     "output_type": "execute_result"
    }
   ],
   "source": [
    "ner_list"
   ]
  },
  {
   "cell_type": "code",
   "execution_count": 28,
   "metadata": {},
   "outputs": [
    {
     "data": {
      "text/plain": [
       "9"
      ]
     },
     "execution_count": 28,
     "metadata": {},
     "output_type": "execute_result"
    }
   ],
   "source": [
    "NB_CLASSES = len(ner_list)\n",
    "NB_CLASSES"
   ]
  },
  {
   "cell_type": "markdown",
   "metadata": {},
   "source": [
    "### We create the dictionary\n",
    "We add two words for the padding symbol and unknown words"
   ]
  },
  {
   "cell_type": "code",
   "execution_count": 29,
   "metadata": {},
   "outputs": [
    {
     "name": "stdout",
     "output_type": "stream",
     "text": [
      "Words in GloVe: 400000\n",
      "# unique words in the vocabulary: embeddings and corpus: 402597\n"
     ]
    }
   ],
   "source": [
    "embeddings_words = embeddings_dict.keys()\n",
    "print('Words in GloVe:',  len(embeddings_dict.keys()))\n",
    "vocabulary = sorted(list(set(corpus_words +\n",
    "                             list(embeddings_words))))\n",
    "vocab_size = len(vocabulary) + 2\n",
    "print('# unique words in the vocabulary: embeddings and corpus:',\n",
    "      vocab_size)"
   ]
  },
  {
   "cell_type": "markdown",
   "metadata": {},
   "source": [
    "### Function to convert the words or parts of speech to indices"
   ]
  },
  {
   "cell_type": "code",
   "execution_count": 30,
   "metadata": {},
   "outputs": [
    {
     "name": "stdout",
     "output_type": "stream",
     "text": [
      "word index: [('!', 2), ('!!', 3), ('!!!', 4), ('!!!!', 5), ('!!!!!', 6), ('!?', 7), ('!?!', 8), ('\"', 9), ('#', 10), ('##', 11)]\n",
      "NER index: [('B-LOC', 1), ('B-MISC', 2), ('B-ORG', 3), ('B-PER', 4), ('I-LOC', 5), ('I-MISC', 6), ('I-ORG', 7), ('I-PER', 8), ('O', 9)]\n"
     ]
    }
   ],
   "source": [
    "# We start at one to make provision for the padding symbol 0\n",
    "# in RNN and LSTMs and 1 for the unknown words\n",
    "idx2word = dict(enumerate(vocabulary, start=2))\n",
    "idx2ner = dict(enumerate(ner_list, start=1))\n",
    "word2idx = {v: k for k, v in idx2word.items()}\n",
    "ner2idx = {v: k for k, v in idx2ner.items()}\n",
    "print('word index:', list(word2idx.items())[:10])\n",
    "print('NER index:', list(ner2idx.items())[:10])"
   ]
  },
  {
   "cell_type": "code",
   "execution_count": 31,
   "metadata": {},
   "outputs": [],
   "source": [
    "def to_index(X: list[list[str]],\n",
    "             word2idx: dict[str, int],\n",
    "             unk: int = 1) -> torch.LongTensor:\n",
    "    \"\"\"\n",
    "    Convert the word lists (or POS lists) to indexes\n",
    "    :param X: List of word (or POS) lists\n",
    "    :param idx: word to idx dictionary\n",
    "    :return:\n",
    "    \"\"\"\n",
    "    X_idx = []\n",
    "    for x in X:\n",
    "        # We map the unknown words to one\n",
    "        x_idx = torch.LongTensor(\n",
    "            list(map(lambda x:\n",
    "                     word2idx.get(x, unk), x)))\n",
    "        X_idx += [x_idx]\n",
    "    return X_idx"
   ]
  },
  {
   "cell_type": "markdown",
   "metadata": {},
   "source": [
    "### We create the indexes"
   ]
  },
  {
   "cell_type": "code",
   "execution_count": 32,
   "metadata": {},
   "outputs": [
    {
     "name": "stdout",
     "output_type": "stream",
     "text": [
      "First sentences, word indices [tensor([935]), tensor([142143, 307143, 161836,  91321, 363368,  83766,  85852, 218260,    936]), tensor([284434,  79019])]\n",
      "First sentences, NER indices [tensor([9]), tensor([3, 9, 2, 9, 9, 9, 2, 9, 9]), tensor([4, 8])]\n"
     ]
    }
   ],
   "source": [
    "# We create the parallel sequences of indexes\n",
    "X_train_idx = to_index(train_sent_words, word2idx)\n",
    "Y_train_idx = to_index(train_sent_ner, ner2idx)\n",
    "\n",
    "X_val_idx = to_index(val_sent_words, word2idx)\n",
    "Y_val_idx = to_index(val_sent_ner, ner2idx)\n",
    "\n",
    "X_test_idx = to_index(test_sent_words, word2idx)\n",
    "Y_test_idx = to_index(test_sent_ner, ner2idx)\n",
    "\n",
    "print('First sentences, word indices', X_train_idx[:3])\n",
    "print('First sentences, NER indices', Y_train_idx[:3])"
   ]
  },
  {
   "cell_type": "markdown",
   "metadata": {},
   "source": [
    "### We pad the sentences\n",
    "We keep the traditional order to avoid changing the dataloader"
   ]
  },
  {
   "cell_type": "code",
   "execution_count": 33,
   "metadata": {},
   "outputs": [],
   "source": [
    "X_train = pad_sequence(X_train_idx, batch_first=True)\n",
    "Y_train = pad_sequence(Y_train_idx, batch_first=True)\n",
    "\n",
    "X_val = pad_sequence(X_val_idx, batch_first=True)\n",
    "Y_val = pad_sequence(Y_val_idx, batch_first=True)\n",
    "\n",
    "X_test = pad_sequence(X_test_idx, batch_first=True)\n",
    "Y_test = pad_sequence(Y_test_idx, batch_first=True)"
   ]
  },
  {
   "cell_type": "code",
   "execution_count": 34,
   "metadata": {},
   "outputs": [
    {
     "data": {
      "text/plain": [
       "tensor([[9, 0, 0,  ..., 0, 0, 0],\n",
       "        [3, 9, 2,  ..., 0, 0, 0],\n",
       "        [4, 8, 0,  ..., 0, 0, 0],\n",
       "        ...,\n",
       "        [3, 9, 3,  ..., 0, 0, 0],\n",
       "        [9, 9, 0,  ..., 0, 0, 0],\n",
       "        [3, 9, 3,  ..., 0, 0, 0]])"
      ]
     },
     "execution_count": 34,
     "metadata": {},
     "output_type": "execute_result"
    }
   ],
   "source": [
    "Y_train"
   ]
  },
  {
   "cell_type": "code",
   "execution_count": 35,
   "metadata": {},
   "outputs": [
    {
     "data": {
      "text/plain": [
       "[tensor([176967, 318004, 354554,    517, 389433, 386048, 322755, 363368, 309292,\n",
       "         271939, 369376,    517, 392694,  53898, 363368, 241803, 181212,  92077,\n",
       "         111905,    517, 166368, 337765,    517, 190291, 274846, 153033, 354663,\n",
       "         359644, 392694, 190648, 359698, 335549, 190291, 173081,    936]),\n",
       " tensor([935]),\n",
       " tensor([371668, 245894, 182065, 236839, 325743, 344614, 369376,    679, 365911,\n",
       "            936])]"
      ]
     },
     "execution_count": 35,
     "metadata": {},
     "output_type": "execute_result"
    }
   ],
   "source": [
    "X_train_idx[8131:8134]"
   ]
  },
  {
   "cell_type": "code",
   "execution_count": 36,
   "metadata": {},
   "outputs": [
    {
     "data": {
      "text/plain": [
       "tensor([[176967, 318004, 354554,    517, 389433, 386048, 322755, 363368, 309292,\n",
       "         271939, 369376,    517, 392694,  53898, 363368, 241803, 181212,  92077,\n",
       "         111905,    517, 166368, 337765,    517, 190291, 274846, 153033, 354663,\n",
       "         359644, 392694, 190648, 359698, 335549, 190291, 173081,    936],\n",
       "        [   935,      0,      0,      0,      0,      0,      0,      0,      0,\n",
       "              0,      0,      0,      0,      0,      0,      0,      0,      0,\n",
       "              0,      0,      0,      0,      0,      0,      0,      0,      0,\n",
       "              0,      0,      0,      0,      0,      0,      0,      0],\n",
       "        [371668, 245894, 182065, 236839, 325743, 344614, 369376,    679, 365911,\n",
       "            936,      0,      0,      0,      0,      0,      0,      0,      0,\n",
       "              0,      0,      0,      0,      0,      0,      0,      0,      0,\n",
       "              0,      0,      0,      0,      0,      0,      0,      0]])"
      ]
     },
     "execution_count": 36,
     "metadata": {},
     "output_type": "execute_result"
    }
   ],
   "source": [
    "pad_sequence(X_train_idx[8131:8134], batch_first=True)"
   ]
  },
  {
   "cell_type": "code",
   "execution_count": 37,
   "metadata": {},
   "outputs": [
    {
     "data": {
      "text/plain": [
       "tensor([[176967,    935, 371668],\n",
       "        [318004,      0, 245894],\n",
       "        [354554,      0, 182065],\n",
       "        [   517,      0, 236839],\n",
       "        [389433,      0, 325743],\n",
       "        [386048,      0, 344614],\n",
       "        [322755,      0, 369376],\n",
       "        [363368,      0,    679],\n",
       "        [309292,      0, 365911],\n",
       "        [271939,      0,    936],\n",
       "        [369376,      0,      0],\n",
       "        [   517,      0,      0],\n",
       "        [392694,      0,      0],\n",
       "        [ 53898,      0,      0],\n",
       "        [363368,      0,      0],\n",
       "        [241803,      0,      0],\n",
       "        [181212,      0,      0],\n",
       "        [ 92077,      0,      0],\n",
       "        [111905,      0,      0],\n",
       "        [   517,      0,      0],\n",
       "        [166368,      0,      0],\n",
       "        [337765,      0,      0],\n",
       "        [   517,      0,      0],\n",
       "        [190291,      0,      0],\n",
       "        [274846,      0,      0],\n",
       "        [153033,      0,      0],\n",
       "        [354663,      0,      0],\n",
       "        [359644,      0,      0],\n",
       "        [392694,      0,      0],\n",
       "        [190648,      0,      0],\n",
       "        [359698,      0,      0],\n",
       "        [335549,      0,      0],\n",
       "        [190291,      0,      0],\n",
       "        [173081,      0,      0],\n",
       "        [   936,      0,      0]])"
      ]
     },
     "execution_count": 37,
     "metadata": {},
     "output_type": "execute_result"
    }
   ],
   "source": [
    "pad_sequence(X_train_idx[8131:8134])"
   ]
  },
  {
   "cell_type": "markdown",
   "metadata": {},
   "source": [
    "## Embedding matrix\n",
    "0 is the padding symbol and index one is a unknown word"
   ]
  },
  {
   "cell_type": "code",
   "execution_count": 38,
   "metadata": {},
   "outputs": [],
   "source": [
    "embedding_table = torch.randn(\n",
    "    (len(vocabulary) + 2, d_model))/10\n",
    "# embedding_table = torch.rand(\n",
    "#    (len(vocabulary) + 2, EMBEDDING_DIM))/10 - 0.05  # range: -0.05, 0.05,"
   ]
  },
  {
   "cell_type": "code",
   "execution_count": 39,
   "metadata": {},
   "outputs": [
    {
     "data": {
      "text/plain": [
       "torch.Size([402597, 100])"
      ]
     },
     "execution_count": 39,
     "metadata": {},
     "output_type": "execute_result"
    }
   ],
   "source": [
    "embedding_table.size()"
   ]
  },
  {
   "cell_type": "code",
   "execution_count": 40,
   "metadata": {},
   "outputs": [],
   "source": [
    "for word in vocabulary:\n",
    "    if word in embeddings_dict:\n",
    "        # If the words are in the embeddings, we fill them with a value\n",
    "        embedding_table[word2idx[word]] = embeddings_dict[word]"
   ]
  },
  {
   "cell_type": "markdown",
   "metadata": {},
   "source": [
    "Embedding of table"
   ]
  },
  {
   "cell_type": "code",
   "execution_count": 41,
   "metadata": {},
   "outputs": [
    {
     "data": {
      "text/plain": [
       "tensor([-0.6145,  0.8969,  0.5677,  0.3910, -0.2244,  0.4904,  0.1087,  0.2741,\n",
       "        -0.2383, -0.5215,  0.7355, -0.3265,  0.5130,  0.3241, -0.4671,  0.6805,\n",
       "        -0.2550, -0.0405, -0.5442, -1.0548, -0.4669,  0.2356,  0.3123, -0.3454,\n",
       "         0.1479, -0.5375, -0.4322, -0.4872, -0.5102, -0.9051, -0.1792, -0.0184,\n",
       "         0.0972, -0.3162,  0.7512,  0.9224, -0.4997,  0.1404, -0.2830, -0.9744,\n",
       "        -0.0094, -0.6294,  0.1471, -0.9438,  0.0075,  0.1857, -0.9917,  0.0728,\n",
       "        -0.1847, -0.5290,  0.3900, -0.4568, -0.2193,  1.3723, -0.2964, -2.2342,\n",
       "        -0.3667,  0.0499,  0.6342,  0.5328, -0.5396,  0.3140, -0.4470, -0.3839,\n",
       "         0.0667, -0.0217,  0.2056,  0.5946, -0.2489, -0.5279, -0.3761,  0.0771,\n",
       "         0.7522, -0.2647, -0.0587,  0.6754, -0.1656, -0.4928, -0.2633, -0.2121,\n",
       "         0.2432,  0.1701, -0.2926, -0.5009, -0.5664, -0.4038, -0.4845, -0.3254,\n",
       "         0.7529,  0.0050, -0.3212,  0.2890, -0.0424,  0.6386, -0.2033, -0.4678,\n",
       "        -0.1566,  0.2179,  1.4143,  0.4003])"
      ]
     },
     "execution_count": 41,
     "metadata": {},
     "output_type": "execute_result"
    }
   ],
   "source": [
    "embedding_table[word2idx['table']]"
   ]
  },
  {
   "cell_type": "markdown",
   "metadata": {},
   "source": [
    "Embedding of the padding symbol, idx 0, random numbers"
   ]
  },
  {
   "cell_type": "code",
   "execution_count": 42,
   "metadata": {},
   "outputs": [
    {
     "data": {
      "text/plain": [
       "tensor([-0.0112, -0.0497,  0.0163, -0.0882,  0.0054,  0.0668, -0.0060, -0.0467,\n",
       "        -0.0215,  0.0884, -0.0758, -0.0369, -0.0342, -0.1402,  0.0321, -0.1022,\n",
       "         0.0799, -0.0092, -0.0705, -0.1602,  0.0289,  0.0490, -0.0385, -0.0712,\n",
       "        -0.0171, -0.1459,  0.0221,  0.0246, -0.1325,  0.0697, -0.0663,  0.1216,\n",
       "        -0.1495,  0.0881, -0.1179, -0.0934, -0.0568, -0.0277, -0.2183,  0.0367,\n",
       "         0.0938,  0.0008, -0.0314, -0.1157,  0.1841, -0.1017,  0.1219,  0.0160,\n",
       "         0.1598, -0.0047, -0.1527, -0.2014, -0.1517,  0.0388, -0.1185,  0.0690,\n",
       "         0.1323,  0.1817,  0.0681,  0.0724,  0.0032, -0.1659, -0.1877,  0.0737,\n",
       "         0.0926,  0.0925,  0.0183, -0.0074,  0.0315, -0.1037,  0.0210,  0.0614,\n",
       "         0.0063, -0.0330, -0.1797,  0.0873,  0.0767, -0.0114, -0.0943,  0.0754,\n",
       "         0.0141, -0.0694, -0.0616, -0.0730,  0.0431,  0.0286, -0.0248,  0.0204,\n",
       "         0.0852, -0.1410, -0.0107, -0.0802,  0.0277,  0.2560, -0.1695,  0.0189,\n",
       "         0.0739,  0.1590, -0.0195, -0.0241])"
      ]
     },
     "execution_count": 42,
     "metadata": {},
     "output_type": "execute_result"
    }
   ],
   "source": [
    "embedding_table[0]"
   ]
  },
  {
   "attachments": {},
   "cell_type": "markdown",
   "metadata": {},
   "source": [
    "The size of the matrix"
   ]
  },
  {
   "cell_type": "code",
   "execution_count": 43,
   "metadata": {},
   "outputs": [
    {
     "data": {
      "text/plain": [
       "torch.Size([402597, 100])"
      ]
     },
     "execution_count": 43,
     "metadata": {},
     "output_type": "execute_result"
    }
   ],
   "source": [
    "embedding_table.size()"
   ]
  },
  {
   "cell_type": "markdown",
   "metadata": {},
   "source": [
    "## Network Architecture"
   ]
  },
  {
   "cell_type": "code",
   "execution_count": 44,
   "metadata": {},
   "outputs": [],
   "source": [
    "class Embedding(nn.Module):\n",
    "    def __init__(self,\n",
    "                 vocab_size,\n",
    "                 d_model,\n",
    "                 dropout=0.1,\n",
    "                 max_len=500):\n",
    "        super().__init__()\n",
    "        self.d_model = d_model\n",
    "        self.input_embedding = nn.Embedding(vocab_size, d_model)\n",
    "        pe = self.pos_encoding(max_len, d_model)\n",
    "        self.pos_embedding = nn.Embedding.from_pretrained(\n",
    "            pe, freeze=True)\n",
    "        self.dropout = nn.Dropout(dropout)\n",
    "\n",
    "    def forward(self, X):\n",
    "        pos_mat = torch.arange(X.size(dim=-1))\n",
    "        X = self.input_embedding(X) * math.sqrt(self.d_model)\n",
    "        X += self.pos_embedding(pos_mat)\n",
    "        return self.dropout(X)\n",
    "\n",
    "    def pos_encoding(self, max_len, d_model):\n",
    "        dividend = torch.arange(max_len).unsqueeze(0).T\n",
    "        divisor = torch.pow(10000.0,\n",
    "                            torch.arange(0, d_model, 2)/d_model)\n",
    "        angles = dividend / divisor\n",
    "        pe = torch.zeros((max_len, d_model))\n",
    "        pe[:, 0::2] = torch.sin(angles)\n",
    "        pe[:, 1::2] = torch.cos(angles)\n",
    "        return pe"
   ]
  },
  {
   "cell_type": "code",
   "execution_count": 45,
   "metadata": {},
   "outputs": [],
   "source": [
    "class Model(nn.Module):\n",
    "    def __init__(self,\n",
    "                 embeddings,\n",
    "                 d_model,\n",
    "                 nhead,\n",
    "                 num_layers,\n",
    "                 nbr_classes,\n",
    "                 dim_feedforward=2048,\n",
    "                 dropout=0.1):\n",
    "        super().__init__()\n",
    "        self.embeddings = embeddings\n",
    "        self.encoder_layer = nn.TransformerEncoderLayer(\n",
    "            d_model,\n",
    "            nhead,\n",
    "            batch_first=True,\n",
    "            dropout=dropout,\n",
    "            dim_feedforward=dim_feedforward)\n",
    "        self.encoder = nn.TransformerEncoder(\n",
    "            self.encoder_layer, num_layers)\n",
    "        self.fc = nn.Linear(d_model, nbr_classes)\n",
    "\n",
    "    def forward(self, X):\n",
    "        padding_mask = (X == 0)\n",
    "        X = self.embeddings(X)\n",
    "        X = self.encoder(\n",
    "            X, src_key_padding_mask=padding_mask)\n",
    "        return self.fc(X)"
   ]
  },
  {
   "cell_type": "markdown",
   "metadata": {},
   "source": [
    "We create the embedding table"
   ]
  },
  {
   "cell_type": "code",
   "execution_count": 46,
   "metadata": {},
   "outputs": [],
   "source": [
    "embedding = Embedding(vocab_size, d_model, dropout=dropout)"
   ]
  },
  {
   "cell_type": "code",
   "execution_count": 47,
   "metadata": {},
   "outputs": [],
   "source": [
    "embedding.input_embedding.weight = nn.Parameter(embedding_table)"
   ]
  },
  {
   "cell_type": "code",
   "execution_count": 48,
   "metadata": {},
   "outputs": [
    {
     "name": "stderr",
     "output_type": "stream",
     "text": [
      "/opt/anaconda3/lib/python3.11/site-packages/torch/nn/modules/transformer.py:306: UserWarning: enable_nested_tensor is True, but self.use_nested_tensor is False because encoder_layer.self_attn.num_heads is odd\n",
      "  warnings.warn(f\"enable_nested_tensor is True, but self.use_nested_tensor is False because {why_not_sparsity_fast_path}\")\n"
     ]
    }
   ],
   "source": [
    "model = Model(embedding,\n",
    "              d_model,\n",
    "              nhead,\n",
    "              num_layers,\n",
    "              NB_CLASSES + 1,\n",
    "              dim_feedforward=dim_feedforward,\n",
    "              dropout=dropout)"
   ]
  },
  {
   "cell_type": "code",
   "execution_count": 49,
   "metadata": {},
   "outputs": [],
   "source": [
    "tt = torch.LongTensor([[371668, 245894, 182065, 236839, 325743, 344614, 369376],\n",
    "                       [245894, 371668, 182065, 236839, 325743, 344614, 369376]])"
   ]
  },
  {
   "cell_type": "code",
   "execution_count": 50,
   "metadata": {},
   "outputs": [
    {
     "data": {
      "text/plain": [
       "Model(\n",
       "  (embeddings): Embedding(\n",
       "    (input_embedding): Embedding(402597, 100)\n",
       "    (pos_embedding): Embedding(500, 100)\n",
       "    (dropout): Dropout(p=0.5, inplace=False)\n",
       "  )\n",
       "  (encoder_layer): TransformerEncoderLayer(\n",
       "    (self_attn): MultiheadAttention(\n",
       "      (out_proj): NonDynamicallyQuantizableLinear(in_features=100, out_features=100, bias=True)\n",
       "    )\n",
       "    (linear1): Linear(in_features=100, out_features=128, bias=True)\n",
       "    (dropout): Dropout(p=0.5, inplace=False)\n",
       "    (linear2): Linear(in_features=128, out_features=100, bias=True)\n",
       "    (norm1): LayerNorm((100,), eps=1e-05, elementwise_affine=True)\n",
       "    (norm2): LayerNorm((100,), eps=1e-05, elementwise_affine=True)\n",
       "    (dropout1): Dropout(p=0.5, inplace=False)\n",
       "    (dropout2): Dropout(p=0.5, inplace=False)\n",
       "  )\n",
       "  (encoder): TransformerEncoder(\n",
       "    (layers): ModuleList(\n",
       "      (0-3): 4 x TransformerEncoderLayer(\n",
       "        (self_attn): MultiheadAttention(\n",
       "          (out_proj): NonDynamicallyQuantizableLinear(in_features=100, out_features=100, bias=True)\n",
       "        )\n",
       "        (linear1): Linear(in_features=100, out_features=128, bias=True)\n",
       "        (dropout): Dropout(p=0.5, inplace=False)\n",
       "        (linear2): Linear(in_features=128, out_features=100, bias=True)\n",
       "        (norm1): LayerNorm((100,), eps=1e-05, elementwise_affine=True)\n",
       "        (norm2): LayerNorm((100,), eps=1e-05, elementwise_affine=True)\n",
       "        (dropout1): Dropout(p=0.5, inplace=False)\n",
       "        (dropout2): Dropout(p=0.5, inplace=False)\n",
       "      )\n",
       "    )\n",
       "  )\n",
       "  (fc): Linear(in_features=100, out_features=10, bias=True)\n",
       ")"
      ]
     },
     "execution_count": 50,
     "metadata": {},
     "output_type": "execute_result"
    }
   ],
   "source": [
    "model.eval()"
   ]
  },
  {
   "cell_type": "code",
   "execution_count": 51,
   "metadata": {},
   "outputs": [
    {
     "data": {
      "text/plain": [
       "tensor([[[ 0.0868, -0.1844, -0.6645, -0.4558, -0.7237, -0.5885, -0.0501,\n",
       "           0.0168,  0.4181, -0.6112],\n",
       "         [ 0.5107, -0.8600,  0.0356, -0.6797, -0.4875,  0.4446,  0.4987,\n",
       "          -0.0962,  0.1016, -0.6308],\n",
       "         [-0.6386, -0.4005, -0.0806,  0.1498, -0.3325, -0.2327,  0.3884,\n",
       "           0.6235,  0.5851, -0.1949],\n",
       "         [ 0.2550,  0.1719, -0.5210, -0.4140, -0.7340, -0.3835,  0.1289,\n",
       "           0.6769,  0.7852, -0.2913],\n",
       "         [-0.3051,  0.0929, -0.4410, -0.3048, -0.1174, -0.1868, -0.2033,\n",
       "           0.2880, -0.2011, -0.1127],\n",
       "         [ 0.3391,  0.1393, -0.6261, -0.7418,  0.3060,  0.3583,  0.3795,\n",
       "          -0.1162,  0.1328, -0.2875],\n",
       "         [ 0.0015,  0.1672, -0.5817, -0.6465, -0.4192,  0.2476, -0.5080,\n",
       "           0.3122,  0.3554, -1.1629]],\n",
       "\n",
       "        [[ 0.5098, -0.8552,  0.0296, -0.6970, -0.4621,  0.4393,  0.4799,\n",
       "          -0.0782,  0.1239, -0.6417],\n",
       "         [ 0.0811, -0.1758, -0.6553, -0.4462, -0.7399, -0.5910, -0.0452,\n",
       "           0.0024,  0.4187, -0.6169],\n",
       "         [-0.6397, -0.4067, -0.0842,  0.1554, -0.3394, -0.2476,  0.3817,\n",
       "           0.6310,  0.5934, -0.2007],\n",
       "         [ 0.2564,  0.1695, -0.5201, -0.4166, -0.7311, -0.3848,  0.1322,\n",
       "           0.6737,  0.7929, -0.2920],\n",
       "         [-0.3072,  0.0915, -0.4380, -0.3031, -0.1218, -0.1869, -0.2001,\n",
       "           0.2794, -0.1954, -0.1161],\n",
       "         [ 0.3384,  0.1396, -0.6243, -0.7419,  0.3059,  0.3605,  0.3776,\n",
       "          -0.1159,  0.1324, -0.2952],\n",
       "         [ 0.0031,  0.1692, -0.5730, -0.6433, -0.4280,  0.2311, -0.5056,\n",
       "           0.3055,  0.3656, -1.1631]]], grad_fn=<ViewBackward0>)"
      ]
     },
     "execution_count": 51,
     "metadata": {},
     "output_type": "execute_result"
    }
   ],
   "source": [
    "Y = model(tt)\n",
    "Y"
   ]
  },
  {
   "cell_type": "code",
   "execution_count": 52,
   "metadata": {},
   "outputs": [
    {
     "data": {
      "text/plain": [
       "tensor([[ 0.0868, -0.1844, -0.6645, -0.4558, -0.7237, -0.5885, -0.0501,  0.0168,\n",
       "          0.4181, -0.6112],\n",
       "        [ 0.5098, -0.8552,  0.0296, -0.6970, -0.4621,  0.4393,  0.4799, -0.0782,\n",
       "          0.1239, -0.6417]], grad_fn=<SliceBackward0>)"
      ]
     },
     "execution_count": 52,
     "metadata": {},
     "output_type": "execute_result"
    }
   ],
   "source": [
    "Y[:, 0, :]"
   ]
  },
  {
   "cell_type": "code",
   "execution_count": 53,
   "metadata": {},
   "outputs": [
    {
     "data": {
      "text/plain": [
       "tensor([-0.0112, -0.0497,  0.0163, -0.0882,  0.0054,  0.0668, -0.0060, -0.0467,\n",
       "        -0.0215,  0.0884, -0.0758, -0.0369, -0.0342, -0.1402,  0.0321, -0.1022,\n",
       "         0.0799, -0.0092, -0.0705, -0.1602,  0.0289,  0.0490, -0.0385, -0.0712,\n",
       "        -0.0171, -0.1459,  0.0221,  0.0246, -0.1325,  0.0697, -0.0663,  0.1216,\n",
       "        -0.1495,  0.0881, -0.1179, -0.0934, -0.0568, -0.0277, -0.2183,  0.0367,\n",
       "         0.0938,  0.0008, -0.0314, -0.1157,  0.1841, -0.1017,  0.1219,  0.0160,\n",
       "         0.1598, -0.0047, -0.1527, -0.2014, -0.1517,  0.0388, -0.1185,  0.0690,\n",
       "         0.1323,  0.1817,  0.0681,  0.0724,  0.0032, -0.1659, -0.1877,  0.0737,\n",
       "         0.0926,  0.0925,  0.0183, -0.0074,  0.0315, -0.1037,  0.0210,  0.0614,\n",
       "         0.0063, -0.0330, -0.1797,  0.0873,  0.0767, -0.0114, -0.0943,  0.0754,\n",
       "         0.0141, -0.0694, -0.0616, -0.0730,  0.0431,  0.0286, -0.0248,  0.0204,\n",
       "         0.0852, -0.1410, -0.0107, -0.0802,  0.0277,  0.2560, -0.1695,  0.0189,\n",
       "         0.0739,  0.1590, -0.0195, -0.0241], grad_fn=<SelectBackward0>)"
      ]
     },
     "execution_count": 53,
     "metadata": {},
     "output_type": "execute_result"
    }
   ],
   "source": [
    "model.embeddings.input_embedding.weight[0]"
   ]
  },
  {
   "cell_type": "code",
   "execution_count": 54,
   "metadata": {},
   "outputs": [
    {
     "data": {
      "text/plain": [
       "tensor([ 0.1320,  0.1600, -0.1079, -0.0340, -0.0678, -0.0126, -0.1677,  0.1207,\n",
       "         0.0572,  0.0065, -0.0023,  0.0888,  0.0957, -0.0551,  0.2662,  0.2148,\n",
       "        -0.0855, -0.0721,  0.1375,  0.0999,  0.0147, -0.0905, -0.0359,  0.1637,\n",
       "         0.0690, -0.0584,  0.0908,  0.0485, -0.0263, -0.0543, -0.1641,  0.0929,\n",
       "         0.1291,  0.0261, -0.0586, -0.1511, -0.2015,  0.0696, -0.0668, -0.0842,\n",
       "         0.0529, -0.0545,  0.0810,  0.1123, -0.0613,  0.0223,  0.0459, -0.1703,\n",
       "        -0.1278, -0.0743,  0.0971,  0.0355, -0.1517, -0.0357,  0.0945, -0.2172,\n",
       "        -0.0804, -0.0453, -0.0222, -0.2090, -0.0177, -0.0898, -0.0983,  0.0756,\n",
       "         0.0347,  0.0286, -0.0050,  0.0622, -0.1922, -0.1318,  0.1229,  0.0702,\n",
       "        -0.0017, -0.0283, -0.0645, -0.0020,  0.0112, -0.0660, -0.0624, -0.0742,\n",
       "         0.0342, -0.0287, -0.0673,  0.0884,  0.0721,  0.0221, -0.0274,  0.0861,\n",
       "        -0.0061,  0.2107, -0.0993,  0.1408, -0.0795,  0.0614, -0.0273,  0.1656,\n",
       "         0.1394,  0.0606,  0.0221, -0.0825], grad_fn=<SelectBackward0>)"
      ]
     },
     "execution_count": 54,
     "metadata": {},
     "output_type": "execute_result"
    }
   ],
   "source": [
    "model.embeddings.input_embedding.weight[1]"
   ]
  },
  {
   "cell_type": "code",
   "execution_count": 55,
   "metadata": {},
   "outputs": [
    {
     "data": {
      "text/plain": [
       "tensor([-0.6610, -0.0730,  0.9238, -0.0718,  1.0945,  0.1950,  0.4511, -0.3000,\n",
       "        -0.4472, -0.1123,  1.3161, -0.3353,  0.0174, -0.1921,  0.1070,  0.3756,\n",
       "         0.8463,  0.6620,  0.0450,  1.2140,  1.0393,  0.1577,  0.2752,  0.2246,\n",
       "         0.5684,  0.2948,  1.2411, -0.0132,  1.0577,  0.0702, -0.1073,  0.4655,\n",
       "         0.1687,  0.4505, -0.8855,  0.8223, -0.8329, -0.4462,  0.3347, -0.1175,\n",
       "         0.2707, -0.2720, -0.2407,  0.1367, -0.0264, -0.2577, -0.1063,  0.3439,\n",
       "         0.1640, -0.5715, -0.4084,  0.3890, -0.2821,  0.5552, -0.1509, -2.1747,\n",
       "        -0.1657, -0.0418,  0.5616,  0.3790, -0.2015, -0.3954, -1.0113,  0.3326,\n",
       "         0.9866, -0.1064, -0.6649,  0.5415,  0.3460,  0.6742, -0.6132,  0.0484,\n",
       "        -0.6179,  1.9346,  0.2311,  0.7830,  0.4083,  0.0910, -0.3833, -1.0883,\n",
       "        -0.3142, -0.1635, -0.3189, -0.5546,  0.4838, -0.2736,  0.0746, -1.4758,\n",
       "        -0.1847,  1.1626, -0.6364,  0.7753,  0.1519,  1.0319, -0.8456, -0.2495,\n",
       "        -0.3340, -0.2256,  0.8148, -0.4405], grad_fn=<SelectBackward0>)"
      ]
     },
     "execution_count": 55,
     "metadata": {},
     "output_type": "execute_result"
    }
   ],
   "source": [
    "model.embeddings.input_embedding.weight[10]"
   ]
  },
  {
   "cell_type": "code",
   "execution_count": 56,
   "metadata": {},
   "outputs": [
    {
     "data": {
      "text/plain": [
       "tensor([-0.5440, -0.8391,  0.8944, -0.4472,  0.5933,  0.8050, -0.5045,  0.8634,\n",
       "        -0.9973,  0.0738, -0.7443, -0.6679, -0.1689, -0.9856,  0.3777, -0.9259,\n",
       "         0.7518, -0.6594,  0.9445, -0.3285,  0.9999, -0.0141,  0.9683,  0.2499,\n",
       "         0.8896,  0.4567,  0.7907,  0.6122,  0.6879,  0.7258,  0.5899,  0.8075,\n",
       "         0.5010,  0.8654,  0.4228,  0.9062,  0.3552,  0.9348,  0.2974,  0.9547,\n",
       "         0.2486,  0.9686,  0.2074,  0.9783,  0.1729,  0.9849,  0.1440,  0.9896,\n",
       "         0.1199,  0.9928,  0.0998,  0.9950,  0.0831,  0.9965,  0.0691,  0.9976,\n",
       "         0.0575,  0.9983,  0.0478,  0.9989,  0.0398,  0.9992,  0.0331,  0.9995,\n",
       "         0.0275,  0.9996,  0.0229,  0.9997,  0.0191,  0.9998,  0.0158,  0.9999,\n",
       "         0.0132,  0.9999,  0.0110,  0.9999,  0.0091,  1.0000,  0.0076,  1.0000,\n",
       "         0.0063,  1.0000,  0.0052,  1.0000,  0.0044,  1.0000,  0.0036,  1.0000,\n",
       "         0.0030,  1.0000,  0.0025,  1.0000,  0.0021,  1.0000,  0.0017,  1.0000,\n",
       "         0.0014,  1.0000,  0.0012,  1.0000])"
      ]
     },
     "execution_count": 56,
     "metadata": {},
     "output_type": "execute_result"
    }
   ],
   "source": [
    "model.embeddings.pos_embedding.weight[10]"
   ]
  },
  {
   "cell_type": "code",
   "execution_count": 57,
   "metadata": {},
   "outputs": [],
   "source": [
    "X = X_train[:32]"
   ]
  },
  {
   "cell_type": "code",
   "execution_count": 58,
   "metadata": {},
   "outputs": [],
   "source": [
    "e = embedding(X)"
   ]
  },
  {
   "cell_type": "code",
   "execution_count": 59,
   "metadata": {},
   "outputs": [
    {
     "data": {
      "text/plain": [
       "torch.Size([32, 113, 10])"
      ]
     },
     "execution_count": 59,
     "metadata": {},
     "output_type": "execute_result"
    }
   ],
   "source": [
    "model(X).size()"
   ]
  },
  {
   "attachments": {},
   "cell_type": "markdown",
   "metadata": {},
   "source": [
    "The loss `loss_fn` and optimizer `optimizer`.\n"
   ]
  },
  {
   "cell_type": "code",
   "execution_count": 60,
   "metadata": {},
   "outputs": [],
   "source": [
    "loss_fn = nn.CrossEntropyLoss(ignore_index=0)    # cross entropy loss\n",
    "# optimizer = torch.optim.NAdam(model.parameters(), lr=LR)\n",
    "optimizer = torch.optim.AdamW(model.parameters())\n",
    "# optimizer = torch.optim.AdamW(model.parameters(), lr=LR, weight_decay=0.5)\n",
    "# optimizer = torch.optim.RMSprop(model.parameters(), lr=LR)"
   ]
  },
  {
   "cell_type": "markdown",
   "metadata": {},
   "source": [
    "## Data Loaders"
   ]
  },
  {
   "cell_type": "code",
   "execution_count": 61,
   "metadata": {},
   "outputs": [],
   "source": [
    "train_dataset = TensorDataset(X_train, Y_train)\n",
    "train_dataloader = DataLoader(\n",
    "    train_dataset, batch_size=BATCH_SIZE, shuffle=True)\n",
    "\n",
    "val_dataset = TensorDataset(X_val, Y_val)\n",
    "val_dataloader = DataLoader(\n",
    "    val_dataset, batch_size=2048, shuffle=False)\n",
    "\n",
    "test_dataset = TensorDataset(X_test, Y_test)\n",
    "test_dataloader = DataLoader(\n",
    "    test_dataset, batch_size=2048, shuffle=False)"
   ]
  },
  {
   "attachments": {},
   "cell_type": "markdown",
   "metadata": {},
   "source": [
    "## A Few Experiments\n",
    "\n",
    "### Flattening the tensors"
   ]
  },
  {
   "cell_type": "code",
   "execution_count": 62,
   "metadata": {},
   "outputs": [
    {
     "data": {
      "text/plain": [
       "torch.Size([14987, 113])"
      ]
     },
     "execution_count": 62,
     "metadata": {},
     "output_type": "execute_result"
    }
   ],
   "source": [
    "Y_train.size()"
   ]
  },
  {
   "cell_type": "code",
   "execution_count": 63,
   "metadata": {},
   "outputs": [
    {
     "data": {
      "text/plain": [
       "tensor([9, 0, 0, 0, 0, 0, 0, 0, 0, 0, 0, 0, 0, 0, 0, 0, 0, 0, 0, 0, 0, 0, 0, 0,\n",
       "        0, 0, 0, 0, 0, 0, 0, 0, 0, 0, 0, 0, 0, 0, 0, 0, 0, 0, 0, 0, 0, 0, 0, 0,\n",
       "        0, 0, 0, 0, 0, 0, 0, 0, 0, 0, 0, 0, 0, 0, 0, 0, 0, 0, 0, 0, 0, 0, 0, 0,\n",
       "        0, 0, 0, 0, 0, 0, 0, 0, 0, 0, 0, 0, 0, 0, 0, 0, 0, 0, 0, 0, 0, 0, 0, 0,\n",
       "        0, 0, 0, 0, 0, 0, 0, 0, 0, 0, 0, 0, 0, 0, 0, 0, 0, 3, 9, 2, 9, 9, 9, 2,\n",
       "        9, 9, 0, 0, 0, 0, 0, 0, 0, 0, 0, 0, 0, 0, 0, 0, 0, 0, 0, 0, 0, 0, 0, 0,\n",
       "        0, 0, 0, 0, 0, 0, 0, 0, 0, 0, 0, 0, 0, 0, 0, 0, 0, 0, 0, 0, 0, 0, 0, 0,\n",
       "        0, 0, 0, 0, 0, 0, 0, 0, 0, 0, 0, 0, 0, 0, 0, 0, 0, 0, 0, 0, 0, 0, 0, 0,\n",
       "        0, 0, 0, 0, 0, 0, 0, 0, 0, 0, 0, 0, 0, 0, 0, 0, 0, 0, 0, 0, 0, 0, 0, 0,\n",
       "        0, 0, 0, 0, 0, 0, 0, 0, 0, 0, 4, 8, 0, 0, 0, 0, 0, 0, 0, 0, 0, 0, 0, 0,\n",
       "        0, 0, 0, 0, 0, 0, 0, 0, 0, 0, 0, 0, 0, 0, 0, 0, 0, 0, 0, 0, 0, 0, 0, 0,\n",
       "        0, 0, 0, 0, 0, 0, 0, 0, 0, 0, 0, 0, 0, 0, 0, 0, 0, 0, 0, 0, 0, 0, 0, 0,\n",
       "        0, 0, 0, 0, 0, 0, 0, 0, 0, 0, 0, 0, 0, 0, 0, 0, 0, 0, 0, 0, 0, 0, 0, 0,\n",
       "        0, 0, 0, 0, 0, 0, 0, 0, 0, 0, 0, 0, 0, 0, 0, 0, 0, 0, 0, 0, 0, 0, 0, 0,\n",
       "        0, 0, 0, 1, 9, 0, 0, 0, 0, 0, 0, 0, 0, 0, 0, 0, 0, 0, 0, 0, 0, 0, 0, 0,\n",
       "        0, 0, 0, 0, 0, 0, 0, 0, 0, 0, 0, 0, 0, 0, 0, 0, 0, 0, 0, 0, 0, 0, 0, 0,\n",
       "        0, 0, 0, 0, 0, 0, 0, 0, 0, 0, 0, 0, 0, 0, 0, 0, 0, 0, 0, 0, 0, 0, 0, 0,\n",
       "        0, 0, 0, 0, 0, 0, 0, 0, 0, 0, 0, 0, 0, 0, 0, 0, 0, 0, 0, 0, 0, 0, 0, 0,\n",
       "        0, 0, 0, 0, 0, 0, 0, 0, 0, 0, 0, 0, 0, 0, 0, 0, 0, 0, 0, 0, 9, 3, 7, 9,\n",
       "        9, 9, 9, 9, 9, 2, 9, 9, 9, 9, 9, 2, 9, 9, 9, 9, 9, 9, 9, 9, 9, 9, 9, 9,\n",
       "        9, 9, 0, 0, 0, 0, 0, 0, 0, 0, 0, 0, 0, 0, 0, 0, 0, 0, 0, 0, 0, 0, 0, 0,\n",
       "        0, 0, 0, 0, 0, 0, 0, 0, 0, 0, 0, 0, 0, 0, 0, 0, 0, 0, 0, 0, 0, 0, 0, 0,\n",
       "        0, 0, 0, 0, 0, 0, 0, 0, 0, 0, 0, 0, 0, 0, 0, 0, 0, 0, 0, 0, 0, 0, 0, 0,\n",
       "        0, 0, 0, 0, 0, 0, 0, 0, 0, 0, 0, 0, 0, 1, 9, 9, 9, 9, 3, 7, 9, 9, 9, 4,\n",
       "        8, 9, 9, 9, 9, 9, 9, 9, 9, 9, 9, 9, 1, 9, 9, 9, 9, 9, 9, 9, 0, 0, 0, 0,\n",
       "        0, 0, 0, 0, 0, 0, 0, 0, 0, 0, 0, 0, 0, 0, 0, 0, 0, 0, 0, 0, 0, 0, 0, 0,\n",
       "        0, 0, 0, 0, 0, 0, 0, 0, 0, 0, 0, 0, 0, 0, 0, 0, 0, 0, 0, 0, 0, 0, 0, 0,\n",
       "        0, 0, 0, 0, 0, 0, 0, 0, 0, 0, 0, 0, 0, 0, 0, 0, 0, 0, 0, 0, 0, 0, 0, 0,\n",
       "        0, 0, 0, 0, 0, 0, 9, 9, 9, 9, 9, 9, 9, 9, 9, 9, 9, 9, 9, 9, 9, 9, 9, 9,\n",
       "        9, 9, 3, 9, 9, 9, 4, 8, 8, 8, 9, 9, 9, 9, 9, 0, 0, 0, 0, 0, 0, 0, 0, 0,\n",
       "        0, 0, 0, 0, 0, 0, 0, 0, 0, 0, 0, 0, 0, 0, 0, 0, 0, 0, 0, 0, 0, 0, 0, 0,\n",
       "        0, 0, 0, 0, 0, 0, 0, 0, 0, 0, 0, 0, 0, 0, 0, 0, 0, 0, 0, 0, 0, 0, 0, 0,\n",
       "        0, 0, 0, 0, 0, 0, 0, 0, 0, 0, 0, 0, 0, 0, 0, 0, 0, 0, 0, 0, 0, 0, 0, 9,\n",
       "        9, 9, 9, 9, 9, 9, 9, 9, 9, 9, 9, 9, 9, 9, 9, 9, 9, 9, 9, 9, 9, 3, 7, 9,\n",
       "        0, 0, 0, 0, 0, 0, 0, 0, 0, 0, 0, 0, 0, 0, 0, 0, 0, 0, 0, 0, 0, 0, 0, 0,\n",
       "        0, 0, 0, 0, 0, 0, 0, 0, 0, 0, 0, 0, 0, 0, 0, 0, 0, 0, 0, 0, 0, 0, 0, 0,\n",
       "        0, 0, 0, 0, 0, 0, 0, 0, 0, 0, 0, 0, 0, 0, 0, 0, 0, 0, 0, 0, 0, 0, 0, 0,\n",
       "        0, 0, 0, 0, 0, 0, 0, 0, 0, 0, 0, 0, 0, 0, 0, 0, 9, 9, 9, 9, 9, 9, 9, 3,\n",
       "        9, 9, 4, 8, 9, 9, 9, 9, 9, 9, 9, 9, 9, 9, 9, 9, 9, 9, 9, 9, 9, 9, 9, 9,\n",
       "        9, 9, 9, 9, 9, 9, 9, 9, 0, 0, 0, 0, 0, 0, 0, 0, 0, 0, 0, 0, 0, 0, 0, 0,\n",
       "        0, 0, 0, 0, 0, 0, 0, 0, 0, 0, 0, 0, 0, 0, 0, 0, 0, 0, 0, 0, 0, 0, 0, 0,\n",
       "        0, 0, 0, 0, 0, 0, 0, 0, 0, 0, 0, 0, 0, 0, 0, 0])"
      ]
     },
     "execution_count": 63,
     "metadata": {},
     "output_type": "execute_result"
    }
   ],
   "source": [
    "Y_train.view(-1)[:1000]"
   ]
  },
  {
   "cell_type": "code",
   "execution_count": 64,
   "metadata": {},
   "outputs": [
    {
     "data": {
      "text/plain": [
       "torch.Size([1693531])"
      ]
     },
     "execution_count": 64,
     "metadata": {},
     "output_type": "execute_result"
    }
   ],
   "source": [
    "Y_train.reshape(-1).size()"
   ]
  },
  {
   "attachments": {},
   "cell_type": "markdown",
   "metadata": {},
   "source": [
    "### Applying the Model"
   ]
  },
  {
   "attachments": {},
   "cell_type": "markdown",
   "metadata": {},
   "source": [
    "We apply the model to the whole training set by batch"
   ]
  },
  {
   "cell_type": "code",
   "execution_count": 65,
   "metadata": {},
   "outputs": [],
   "source": [
    "def batch_inference(model, dataloader):\n",
    "    with torch.no_grad():\n",
    "        y_pred = []\n",
    "        for X_batch, _ in dataloader:\n",
    "            y_pred += [model(X_batch)]\n",
    "    return torch.vstack(y_pred)"
   ]
  },
  {
   "cell_type": "code",
   "execution_count": 66,
   "metadata": {},
   "outputs": [
    {
     "data": {
      "text/plain": [
       "tensor([[   935,      0,      0,      0,      0,      0,      0,      0,      0,\n",
       "              0,      0,      0,      0,      0,      0,      0,      0,      0,\n",
       "              0,      0,      0,      0,      0,      0,      0,      0,      0,\n",
       "              0,      0,      0,      0,      0,      0,      0,      0,      0,\n",
       "              0,      0,      0,      0,      0,      0,      0,      0,      0,\n",
       "              0,      0,      0,      0,      0,      0,      0,      0,      0,\n",
       "              0,      0,      0,      0,      0,      0,      0,      0,      0,\n",
       "              0,      0,      0,      0,      0,      0,      0,      0,      0,\n",
       "              0,      0,      0,      0,      0,      0,      0,      0,      0,\n",
       "              0,      0,      0,      0,      0,      0,      0,      0,      0,\n",
       "              0,      0,      0,      0,      0,      0,      0,      0,      0,\n",
       "              0,      0,      0,      0,      0,      0,      0,      0,      0,\n",
       "              0,      0,      0,      0,      0],\n",
       "        [142143, 307143, 161836,  91321, 363368,  83766,  85852, 218260,    936,\n",
       "              0,      0,      0,      0,      0,      0,      0,      0,      0,\n",
       "              0,      0,      0,      0,      0,      0,      0,      0,      0,\n",
       "              0,      0,      0,      0,      0,      0,      0,      0,      0,\n",
       "              0,      0,      0,      0,      0,      0,      0,      0,      0,\n",
       "              0,      0,      0,      0,      0,      0,      0,      0,      0,\n",
       "              0,      0,      0,      0,      0,      0,      0,      0,      0,\n",
       "              0,      0,      0,      0,      0,      0,      0,      0,      0,\n",
       "              0,      0,      0,      0,      0,      0,      0,      0,      0,\n",
       "              0,      0,      0,      0,      0,      0,      0,      0,      0,\n",
       "              0,      0,      0,      0,      0,      0,      0,      0,      0,\n",
       "              0,      0,      0,      0,      0,      0,      0,      0,      0,\n",
       "              0,      0,      0,      0,      0],\n",
       "        [284434,  79019,      0,      0,      0,      0,      0,      0,      0,\n",
       "              0,      0,      0,      0,      0,      0,      0,      0,      0,\n",
       "              0,      0,      0,      0,      0,      0,      0,      0,      0,\n",
       "              0,      0,      0,      0,      0,      0,      0,      0,      0,\n",
       "              0,      0,      0,      0,      0,      0,      0,      0,      0,\n",
       "              0,      0,      0,      0,      0,      0,      0,      0,      0,\n",
       "              0,      0,      0,      0,      0,      0,      0,      0,      0,\n",
       "              0,      0,      0,      0,      0,      0,      0,      0,      0,\n",
       "              0,      0,      0,      0,      0,      0,      0,      0,      0,\n",
       "              0,      0,      0,      0,      0,      0,      0,      0,      0,\n",
       "              0,      0,      0,      0,      0,      0,      0,      0,      0,\n",
       "              0,      0,      0,      0,      0,      0,      0,      0,      0,\n",
       "              0,      0,      0,      0,      0]])"
      ]
     },
     "execution_count": 66,
     "metadata": {},
     "output_type": "execute_result"
    }
   ],
   "source": [
    "X_train[:3]"
   ]
  },
  {
   "cell_type": "markdown",
   "metadata": {},
   "source": [
    "## Training the Model"
   ]
  },
  {
   "attachments": {},
   "cell_type": "markdown",
   "metadata": {},
   "source": [
    "We create a dictionary to store the accuracy and the loss. We compute them in the training loop. We exclude the the padding symbols from your counts. To do this, we use a multiplicative mask with the terms Y_train > 0 or Y_val > 0. This is not critical though as we will evaluate the final results with another script. "
   ]
  },
  {
   "cell_type": "code",
   "execution_count": 67,
   "metadata": {},
   "outputs": [],
   "source": [
    "def evaluate(model,\n",
    "             loss_fn,\n",
    "             dataloader) -> tuple[float, float]:\n",
    "    model.eval()\n",
    "    with torch.no_grad():\n",
    "        y_pred = []\n",
    "        y = []\n",
    "        for X_batch, Y_batch in dataloader:\n",
    "            y_pred += [model(X_batch)]\n",
    "            y += [Y_batch]\n",
    "        Y_pred = torch.vstack(y_pred)\n",
    "        Y = torch.vstack(y)\n",
    "        loss = loss_fn(\n",
    "            Y_pred.reshape(\n",
    "                -1,\n",
    "                Y_pred.size(dim=-1)),\n",
    "            Y.reshape(-1))\n",
    "        acc = torch.sum(\n",
    "            torch.mul(\n",
    "                torch.argmax(\n",
    "                    Y_pred, dim=-1) == Y,\n",
    "                Y > 0))\n",
    "        return loss.item(), (acc/torch.sum(Y > 0)).item()"
   ]
  },
  {
   "cell_type": "code",
   "execution_count": 68,
   "metadata": {},
   "outputs": [],
   "source": [
    "history = {}\n",
    "history['accuracy'] = []\n",
    "history['loss'] = []\n",
    "history['val_accuracy'] = []\n",
    "history['val_loss'] = []"
   ]
  },
  {
   "cell_type": "markdown",
   "metadata": {},
   "source": [
    "We fit the model"
   ]
  },
  {
   "cell_type": "code",
   "execution_count": 69,
   "metadata": {},
   "outputs": [
    {
     "name": "stderr",
     "output_type": "stream",
     "text": [
      "100%|██████████| 118/118 [01:02<00:00,  1.90it/s]\n"
     ]
    },
    {
     "name": "stdout",
     "output_type": "stream",
     "text": [
      "accuracy: [tensor(0.8301)]\n",
      "val_accuracy: [0.8755670785903931]\n"
     ]
    },
    {
     "name": "stderr",
     "output_type": "stream",
     "text": [
      "100%|██████████| 118/118 [01:02<00:00,  1.89it/s]\n"
     ]
    },
    {
     "name": "stdout",
     "output_type": "stream",
     "text": [
      "accuracy: [tensor(0.8301), tensor(0.8632)]\n",
      "val_accuracy: [0.8755670785903931, 0.910756528377533]\n"
     ]
    },
    {
     "name": "stderr",
     "output_type": "stream",
     "text": [
      "100%|██████████| 118/118 [00:59<00:00,  1.99it/s]\n"
     ]
    },
    {
     "name": "stdout",
     "output_type": "stream",
     "text": [
      "accuracy: [tensor(0.8301), tensor(0.8632), tensor(0.8821)]\n",
      "val_accuracy: [0.8755670785903931, 0.910756528377533, 0.9243669509887695]\n"
     ]
    },
    {
     "name": "stderr",
     "output_type": "stream",
     "text": [
      "100%|██████████| 118/118 [00:58<00:00,  2.01it/s]\n"
     ]
    },
    {
     "name": "stdout",
     "output_type": "stream",
     "text": [
      "accuracy: [tensor(0.8301), tensor(0.8632), tensor(0.8821), tensor(0.8952)]\n",
      "val_accuracy: [0.8755670785903931, 0.910756528377533, 0.9243669509887695, 0.9289425611495972]\n"
     ]
    },
    {
     "name": "stderr",
     "output_type": "stream",
     "text": [
      "100%|██████████| 118/118 [00:58<00:00,  2.01it/s]\n"
     ]
    },
    {
     "name": "stdout",
     "output_type": "stream",
     "text": [
      "accuracy: [tensor(0.8301), tensor(0.8632), tensor(0.8821), tensor(0.8952), tensor(0.9038)]\n",
      "val_accuracy: [0.8755670785903931, 0.910756528377533, 0.9243669509887695, 0.9289425611495972, 0.9364264011383057]\n"
     ]
    },
    {
     "name": "stderr",
     "output_type": "stream",
     "text": [
      "100%|██████████| 118/118 [00:58<00:00,  2.00it/s]\n"
     ]
    },
    {
     "name": "stdout",
     "output_type": "stream",
     "text": [
      "accuracy: [tensor(0.8301), tensor(0.8632), tensor(0.8821), tensor(0.8952), tensor(0.9038), tensor(0.9101)]\n",
      "val_accuracy: [0.8755670785903931, 0.910756528377533, 0.9243669509887695, 0.9289425611495972, 0.9364264011383057, 0.9385396838188171]\n"
     ]
    },
    {
     "name": "stderr",
     "output_type": "stream",
     "text": [
      "100%|██████████| 118/118 [01:00<00:00,  1.95it/s]\n"
     ]
    },
    {
     "name": "stdout",
     "output_type": "stream",
     "text": [
      "accuracy: [tensor(0.8301), tensor(0.8632), tensor(0.8821), tensor(0.8952), tensor(0.9038), tensor(0.9101), tensor(0.9163)]\n",
      "val_accuracy: [0.8755670785903931, 0.910756528377533, 0.9243669509887695, 0.9289425611495972, 0.9364264011383057, 0.9385396838188171, 0.9410213828086853]\n"
     ]
    },
    {
     "name": "stderr",
     "output_type": "stream",
     "text": [
      "100%|██████████| 118/118 [00:58<00:00,  2.01it/s]\n"
     ]
    },
    {
     "name": "stdout",
     "output_type": "stream",
     "text": [
      "accuracy: [tensor(0.8301), tensor(0.8632), tensor(0.8821), tensor(0.8952), tensor(0.9038), tensor(0.9101), tensor(0.9163), tensor(0.9207)]\n",
      "val_accuracy: [0.8755670785903931, 0.910756528377533, 0.9243669509887695, 0.9289425611495972, 0.9364264011383057, 0.9385396838188171, 0.9410213828086853, 0.9421652555465698]\n"
     ]
    },
    {
     "name": "stderr",
     "output_type": "stream",
     "text": [
      "100%|██████████| 118/118 [00:58<00:00,  2.00it/s]\n"
     ]
    },
    {
     "name": "stdout",
     "output_type": "stream",
     "text": [
      "accuracy: [tensor(0.8301), tensor(0.8632), tensor(0.8821), tensor(0.8952), tensor(0.9038), tensor(0.9101), tensor(0.9163), tensor(0.9207), tensor(0.9250)]\n",
      "val_accuracy: [0.8755670785903931, 0.910756528377533, 0.9243669509887695, 0.9289425611495972, 0.9364264011383057, 0.9385396838188171, 0.9410213828086853, 0.9421652555465698, 0.944646954536438]\n"
     ]
    },
    {
     "name": "stderr",
     "output_type": "stream",
     "text": [
      "100%|██████████| 118/118 [00:58<00:00,  2.00it/s]\n"
     ]
    },
    {
     "name": "stdout",
     "output_type": "stream",
     "text": [
      "accuracy: [tensor(0.8301), tensor(0.8632), tensor(0.8821), tensor(0.8952), tensor(0.9038), tensor(0.9101), tensor(0.9163), tensor(0.9207), tensor(0.9250), tensor(0.9272)]\n",
      "val_accuracy: [0.8755670785903931, 0.910756528377533, 0.9243669509887695, 0.9289425611495972, 0.9364264011383057, 0.9385396838188171, 0.9410213828086853, 0.9421652555465698, 0.944646954536438, 0.9470316767692566]\n"
     ]
    },
    {
     "name": "stderr",
     "output_type": "stream",
     "text": [
      "100%|██████████| 118/118 [00:59<00:00,  1.99it/s]\n"
     ]
    },
    {
     "name": "stdout",
     "output_type": "stream",
     "text": [
      "accuracy: [tensor(0.8301), tensor(0.8632), tensor(0.8821), tensor(0.8952), tensor(0.9038), tensor(0.9101), tensor(0.9163), tensor(0.9207), tensor(0.9250), tensor(0.9272), tensor(0.9315)]\n",
      "val_accuracy: [0.8755670785903931, 0.910756528377533, 0.9243669509887695, 0.9289425611495972, 0.9364264011383057, 0.9385396838188171, 0.9410213828086853, 0.9421652555465698, 0.944646954536438, 0.9470316767692566, 0.9478071928024292]\n"
     ]
    },
    {
     "name": "stderr",
     "output_type": "stream",
     "text": [
      "100%|██████████| 118/118 [01:00<00:00,  1.96it/s]\n"
     ]
    },
    {
     "name": "stdout",
     "output_type": "stream",
     "text": [
      "accuracy: [tensor(0.8301), tensor(0.8632), tensor(0.8821), tensor(0.8952), tensor(0.9038), tensor(0.9101), tensor(0.9163), tensor(0.9207), tensor(0.9250), tensor(0.9272), tensor(0.9315), tensor(0.9345)]\n",
      "val_accuracy: [0.8755670785903931, 0.910756528377533, 0.9243669509887695, 0.9289425611495972, 0.9364264011383057, 0.9385396838188171, 0.9410213828086853, 0.9421652555465698, 0.944646954536438, 0.9470316767692566, 0.9478071928024292, 0.9491062164306641]\n"
     ]
    },
    {
     "name": "stderr",
     "output_type": "stream",
     "text": [
      "100%|██████████| 118/118 [00:58<00:00,  2.01it/s]\n"
     ]
    },
    {
     "name": "stdout",
     "output_type": "stream",
     "text": [
      "accuracy: [tensor(0.8301), tensor(0.8632), tensor(0.8821), tensor(0.8952), tensor(0.9038), tensor(0.9101), tensor(0.9163), tensor(0.9207), tensor(0.9250), tensor(0.9272), tensor(0.9315), tensor(0.9345), tensor(0.9378)]\n",
      "val_accuracy: [0.8755670785903931, 0.910756528377533, 0.9243669509887695, 0.9289425611495972, 0.9364264011383057, 0.9385396838188171, 0.9410213828086853, 0.9421652555465698, 0.944646954536438, 0.9470316767692566, 0.9478071928024292, 0.9491062164306641, 0.9505021572113037]\n"
     ]
    },
    {
     "name": "stderr",
     "output_type": "stream",
     "text": [
      "100%|██████████| 118/118 [00:58<00:00,  2.00it/s]\n"
     ]
    },
    {
     "name": "stdout",
     "output_type": "stream",
     "text": [
      "accuracy: [tensor(0.8301), tensor(0.8632), tensor(0.8821), tensor(0.8952), tensor(0.9038), tensor(0.9101), tensor(0.9163), tensor(0.9207), tensor(0.9250), tensor(0.9272), tensor(0.9315), tensor(0.9345), tensor(0.9378), tensor(0.9400)]\n",
      "val_accuracy: [0.8755670785903931, 0.910756528377533, 0.9243669509887695, 0.9289425611495972, 0.9364264011383057, 0.9385396838188171, 0.9410213828086853, 0.9421652555465698, 0.944646954536438, 0.9470316767692566, 0.9478071928024292, 0.9491062164306641, 0.9505021572113037, 0.9503082633018494]\n"
     ]
    },
    {
     "name": "stderr",
     "output_type": "stream",
     "text": [
      "100%|██████████| 118/118 [00:58<00:00,  2.00it/s]\n"
     ]
    },
    {
     "name": "stdout",
     "output_type": "stream",
     "text": [
      "accuracy: [tensor(0.8301), tensor(0.8632), tensor(0.8821), tensor(0.8952), tensor(0.9038), tensor(0.9101), tensor(0.9163), tensor(0.9207), tensor(0.9250), tensor(0.9272), tensor(0.9315), tensor(0.9345), tensor(0.9378), tensor(0.9400), tensor(0.9423)]\n",
      "val_accuracy: [0.8755670785903931, 0.910756528377533, 0.9243669509887695, 0.9289425611495972, 0.9364264011383057, 0.9385396838188171, 0.9410213828086853, 0.9421652555465698, 0.944646954536438, 0.9470316767692566, 0.9478071928024292, 0.9491062164306641, 0.9505021572113037, 0.9503082633018494, 0.9521501660346985]\n"
     ]
    },
    {
     "name": "stderr",
     "output_type": "stream",
     "text": [
      "100%|██████████| 118/118 [00:59<00:00,  1.99it/s]\n"
     ]
    },
    {
     "name": "stdout",
     "output_type": "stream",
     "text": [
      "accuracy: [tensor(0.8301), tensor(0.8632), tensor(0.8821), tensor(0.8952), tensor(0.9038), tensor(0.9101), tensor(0.9163), tensor(0.9207), tensor(0.9250), tensor(0.9272), tensor(0.9315), tensor(0.9345), tensor(0.9378), tensor(0.9400), tensor(0.9423), tensor(0.9446)]\n",
      "val_accuracy: [0.8755670785903931, 0.910756528377533, 0.9243669509887695, 0.9289425611495972, 0.9364264011383057, 0.9385396838188171, 0.9410213828086853, 0.9421652555465698, 0.944646954536438, 0.9470316767692566, 0.9478071928024292, 0.9491062164306641, 0.9505021572113037, 0.9503082633018494, 0.9521501660346985, 0.952324628829956]\n"
     ]
    },
    {
     "name": "stderr",
     "output_type": "stream",
     "text": [
      "100%|██████████| 118/118 [01:00<00:00,  1.95it/s]\n"
     ]
    },
    {
     "name": "stdout",
     "output_type": "stream",
     "text": [
      "accuracy: [tensor(0.8301), tensor(0.8632), tensor(0.8821), tensor(0.8952), tensor(0.9038), tensor(0.9101), tensor(0.9163), tensor(0.9207), tensor(0.9250), tensor(0.9272), tensor(0.9315), tensor(0.9345), tensor(0.9378), tensor(0.9400), tensor(0.9423), tensor(0.9446), tensor(0.9470)]\n",
      "val_accuracy: [0.8755670785903931, 0.910756528377533, 0.9243669509887695, 0.9289425611495972, 0.9364264011383057, 0.9385396838188171, 0.9410213828086853, 0.9421652555465698, 0.944646954536438, 0.9470316767692566, 0.9478071928024292, 0.9491062164306641, 0.9505021572113037, 0.9503082633018494, 0.9521501660346985, 0.952324628829956, 0.9534685611724854]\n"
     ]
    },
    {
     "name": "stderr",
     "output_type": "stream",
     "text": [
      "100%|██████████| 118/118 [00:59<00:00,  1.99it/s]\n"
     ]
    },
    {
     "name": "stdout",
     "output_type": "stream",
     "text": [
      "accuracy: [tensor(0.8301), tensor(0.8632), tensor(0.8821), tensor(0.8952), tensor(0.9038), tensor(0.9101), tensor(0.9163), tensor(0.9207), tensor(0.9250), tensor(0.9272), tensor(0.9315), tensor(0.9345), tensor(0.9378), tensor(0.9400), tensor(0.9423), tensor(0.9446), tensor(0.9470), tensor(0.9486)]\n",
      "val_accuracy: [0.8755670785903931, 0.910756528377533, 0.9243669509887695, 0.9289425611495972, 0.9364264011383057, 0.9385396838188171, 0.9410213828086853, 0.9421652555465698, 0.944646954536438, 0.9470316767692566, 0.9478071928024292, 0.9491062164306641, 0.9505021572113037, 0.9503082633018494, 0.9521501660346985, 0.952324628829956, 0.9534685611724854, 0.9529062509536743]\n"
     ]
    },
    {
     "name": "stderr",
     "output_type": "stream",
     "text": [
      "100%|██████████| 118/118 [00:58<00:00,  2.01it/s]\n"
     ]
    },
    {
     "name": "stdout",
     "output_type": "stream",
     "text": [
      "accuracy: [tensor(0.8301), tensor(0.8632), tensor(0.8821), tensor(0.8952), tensor(0.9038), tensor(0.9101), tensor(0.9163), tensor(0.9207), tensor(0.9250), tensor(0.9272), tensor(0.9315), tensor(0.9345), tensor(0.9378), tensor(0.9400), tensor(0.9423), tensor(0.9446), tensor(0.9470), tensor(0.9486), tensor(0.9500)]\n",
      "val_accuracy: [0.8755670785903931, 0.910756528377533, 0.9243669509887695, 0.9289425611495972, 0.9364264011383057, 0.9385396838188171, 0.9410213828086853, 0.9421652555465698, 0.944646954536438, 0.9470316767692566, 0.9478071928024292, 0.9491062164306641, 0.9505021572113037, 0.9503082633018494, 0.9521501660346985, 0.952324628829956, 0.9534685611724854, 0.9529062509536743, 0.9540695548057556]\n"
     ]
    },
    {
     "name": "stderr",
     "output_type": "stream",
     "text": [
      "100%|██████████| 118/118 [00:58<00:00,  2.00it/s]\n"
     ]
    },
    {
     "name": "stdout",
     "output_type": "stream",
     "text": [
      "accuracy: [tensor(0.8301), tensor(0.8632), tensor(0.8821), tensor(0.8952), tensor(0.9038), tensor(0.9101), tensor(0.9163), tensor(0.9207), tensor(0.9250), tensor(0.9272), tensor(0.9315), tensor(0.9345), tensor(0.9378), tensor(0.9400), tensor(0.9423), tensor(0.9446), tensor(0.9470), tensor(0.9486), tensor(0.9500), tensor(0.9516)]\n",
      "val_accuracy: [0.8755670785903931, 0.910756528377533, 0.9243669509887695, 0.9289425611495972, 0.9364264011383057, 0.9385396838188171, 0.9410213828086853, 0.9421652555465698, 0.944646954536438, 0.9470316767692566, 0.9478071928024292, 0.9491062164306641, 0.9505021572113037, 0.9503082633018494, 0.9521501660346985, 0.952324628829956, 0.9534685611724854, 0.9529062509536743, 0.9540695548057556, 0.9524215459823608]\n"
     ]
    },
    {
     "name": "stderr",
     "output_type": "stream",
     "text": [
      "100%|██████████| 118/118 [00:59<00:00,  1.98it/s]\n"
     ]
    },
    {
     "name": "stdout",
     "output_type": "stream",
     "text": [
      "accuracy: [tensor(0.8301), tensor(0.8632), tensor(0.8821), tensor(0.8952), tensor(0.9038), tensor(0.9101), tensor(0.9163), tensor(0.9207), tensor(0.9250), tensor(0.9272), tensor(0.9315), tensor(0.9345), tensor(0.9378), tensor(0.9400), tensor(0.9423), tensor(0.9446), tensor(0.9470), tensor(0.9486), tensor(0.9500), tensor(0.9516), tensor(0.9525)]\n",
      "val_accuracy: [0.8755670785903931, 0.910756528377533, 0.9243669509887695, 0.9289425611495972, 0.9364264011383057, 0.9385396838188171, 0.9410213828086853, 0.9421652555465698, 0.944646954536438, 0.9470316767692566, 0.9478071928024292, 0.9491062164306641, 0.9505021572113037, 0.9503082633018494, 0.9521501660346985, 0.952324628829956, 0.9534685611724854, 0.9529062509536743, 0.9540695548057556, 0.9524215459823608, 0.9537011981010437]\n"
     ]
    },
    {
     "name": "stderr",
     "output_type": "stream",
     "text": [
      "100%|██████████| 118/118 [01:01<00:00,  1.93it/s]\n"
     ]
    },
    {
     "name": "stdout",
     "output_type": "stream",
     "text": [
      "accuracy: [tensor(0.8301), tensor(0.8632), tensor(0.8821), tensor(0.8952), tensor(0.9038), tensor(0.9101), tensor(0.9163), tensor(0.9207), tensor(0.9250), tensor(0.9272), tensor(0.9315), tensor(0.9345), tensor(0.9378), tensor(0.9400), tensor(0.9423), tensor(0.9446), tensor(0.9470), tensor(0.9486), tensor(0.9500), tensor(0.9516), tensor(0.9525), tensor(0.9547)]\n",
      "val_accuracy: [0.8755670785903931, 0.910756528377533, 0.9243669509887695, 0.9289425611495972, 0.9364264011383057, 0.9385396838188171, 0.9410213828086853, 0.9421652555465698, 0.944646954536438, 0.9470316767692566, 0.9478071928024292, 0.9491062164306641, 0.9505021572113037, 0.9503082633018494, 0.9521501660346985, 0.952324628829956, 0.9534685611724854, 0.9529062509536743, 0.9540695548057556, 0.9524215459823608, 0.9537011981010437, 0.9551553130149841]\n"
     ]
    },
    {
     "name": "stderr",
     "output_type": "stream",
     "text": [
      "100%|██████████| 118/118 [01:00<00:00,  1.94it/s]\n"
     ]
    },
    {
     "name": "stdout",
     "output_type": "stream",
     "text": [
      "accuracy: [tensor(0.8301), tensor(0.8632), tensor(0.8821), tensor(0.8952), tensor(0.9038), tensor(0.9101), tensor(0.9163), tensor(0.9207), tensor(0.9250), tensor(0.9272), tensor(0.9315), tensor(0.9345), tensor(0.9378), tensor(0.9400), tensor(0.9423), tensor(0.9446), tensor(0.9470), tensor(0.9486), tensor(0.9500), tensor(0.9516), tensor(0.9525), tensor(0.9547), tensor(0.9555)]\n",
      "val_accuracy: [0.8755670785903931, 0.910756528377533, 0.9243669509887695, 0.9289425611495972, 0.9364264011383057, 0.9385396838188171, 0.9410213828086853, 0.9421652555465698, 0.944646954536438, 0.9470316767692566, 0.9478071928024292, 0.9491062164306641, 0.9505021572113037, 0.9503082633018494, 0.9521501660346985, 0.952324628829956, 0.9534685611724854, 0.9529062509536743, 0.9540695548057556, 0.9524215459823608, 0.9537011981010437, 0.9551553130149841, 0.9549614191055298]\n"
     ]
    },
    {
     "name": "stderr",
     "output_type": "stream",
     "text": [
      "100%|██████████| 118/118 [01:00<00:00,  1.94it/s]\n"
     ]
    },
    {
     "name": "stdout",
     "output_type": "stream",
     "text": [
      "accuracy: [tensor(0.8301), tensor(0.8632), tensor(0.8821), tensor(0.8952), tensor(0.9038), tensor(0.9101), tensor(0.9163), tensor(0.9207), tensor(0.9250), tensor(0.9272), tensor(0.9315), tensor(0.9345), tensor(0.9378), tensor(0.9400), tensor(0.9423), tensor(0.9446), tensor(0.9470), tensor(0.9486), tensor(0.9500), tensor(0.9516), tensor(0.9525), tensor(0.9547), tensor(0.9555), tensor(0.9571)]\n",
      "val_accuracy: [0.8755670785903931, 0.910756528377533, 0.9243669509887695, 0.9289425611495972, 0.9364264011383057, 0.9385396838188171, 0.9410213828086853, 0.9421652555465698, 0.944646954536438, 0.9470316767692566, 0.9478071928024292, 0.9491062164306641, 0.9505021572113037, 0.9503082633018494, 0.9521501660346985, 0.952324628829956, 0.9534685611724854, 0.9529062509536743, 0.9540695548057556, 0.9524215459823608, 0.9537011981010437, 0.9551553130149841, 0.9549614191055298, 0.9548063278198242]\n"
     ]
    },
    {
     "name": "stderr",
     "output_type": "stream",
     "text": [
      "100%|██████████| 118/118 [01:01<00:00,  1.93it/s]\n"
     ]
    },
    {
     "name": "stdout",
     "output_type": "stream",
     "text": [
      "accuracy: [tensor(0.8301), tensor(0.8632), tensor(0.8821), tensor(0.8952), tensor(0.9038), tensor(0.9101), tensor(0.9163), tensor(0.9207), tensor(0.9250), tensor(0.9272), tensor(0.9315), tensor(0.9345), tensor(0.9378), tensor(0.9400), tensor(0.9423), tensor(0.9446), tensor(0.9470), tensor(0.9486), tensor(0.9500), tensor(0.9516), tensor(0.9525), tensor(0.9547), tensor(0.9555), tensor(0.9571), tensor(0.9573)]\n",
      "val_accuracy: [0.8755670785903931, 0.910756528377533, 0.9243669509887695, 0.9289425611495972, 0.9364264011383057, 0.9385396838188171, 0.9410213828086853, 0.9421652555465698, 0.944646954536438, 0.9470316767692566, 0.9478071928024292, 0.9491062164306641, 0.9505021572113037, 0.9503082633018494, 0.9521501660346985, 0.952324628829956, 0.9534685611724854, 0.9529062509536743, 0.9540695548057556, 0.9524215459823608, 0.9537011981010437, 0.9551553130149841, 0.9549614191055298, 0.9548063278198242, 0.9538756608963013]\n"
     ]
    },
    {
     "name": "stderr",
     "output_type": "stream",
     "text": [
      "100%|██████████| 118/118 [01:01<00:00,  1.91it/s]\n"
     ]
    },
    {
     "name": "stdout",
     "output_type": "stream",
     "text": [
      "accuracy: [tensor(0.8301), tensor(0.8632), tensor(0.8821), tensor(0.8952), tensor(0.9038), tensor(0.9101), tensor(0.9163), tensor(0.9207), tensor(0.9250), tensor(0.9272), tensor(0.9315), tensor(0.9345), tensor(0.9378), tensor(0.9400), tensor(0.9423), tensor(0.9446), tensor(0.9470), tensor(0.9486), tensor(0.9500), tensor(0.9516), tensor(0.9525), tensor(0.9547), tensor(0.9555), tensor(0.9571), tensor(0.9573), tensor(0.9589)]\n",
      "val_accuracy: [0.8755670785903931, 0.910756528377533, 0.9243669509887695, 0.9289425611495972, 0.9364264011383057, 0.9385396838188171, 0.9410213828086853, 0.9421652555465698, 0.944646954536438, 0.9470316767692566, 0.9478071928024292, 0.9491062164306641, 0.9505021572113037, 0.9503082633018494, 0.9521501660346985, 0.952324628829956, 0.9534685611724854, 0.9529062509536743, 0.9540695548057556, 0.9524215459823608, 0.9537011981010437, 0.9551553130149841, 0.9549614191055298, 0.9548063278198242, 0.9538756608963013, 0.9559114575386047]\n"
     ]
    },
    {
     "name": "stderr",
     "output_type": "stream",
     "text": [
      "100%|██████████| 118/118 [01:01<00:00,  1.91it/s]\n"
     ]
    },
    {
     "name": "stdout",
     "output_type": "stream",
     "text": [
      "accuracy: [tensor(0.8301), tensor(0.8632), tensor(0.8821), tensor(0.8952), tensor(0.9038), tensor(0.9101), tensor(0.9163), tensor(0.9207), tensor(0.9250), tensor(0.9272), tensor(0.9315), tensor(0.9345), tensor(0.9378), tensor(0.9400), tensor(0.9423), tensor(0.9446), tensor(0.9470), tensor(0.9486), tensor(0.9500), tensor(0.9516), tensor(0.9525), tensor(0.9547), tensor(0.9555), tensor(0.9571), tensor(0.9573), tensor(0.9589), tensor(0.9603)]\n",
      "val_accuracy: [0.8755670785903931, 0.910756528377533, 0.9243669509887695, 0.9289425611495972, 0.9364264011383057, 0.9385396838188171, 0.9410213828086853, 0.9421652555465698, 0.944646954536438, 0.9470316767692566, 0.9478071928024292, 0.9491062164306641, 0.9505021572113037, 0.9503082633018494, 0.9521501660346985, 0.952324628829956, 0.9534685611724854, 0.9529062509536743, 0.9540695548057556, 0.9524215459823608, 0.9537011981010437, 0.9551553130149841, 0.9549614191055298, 0.9548063278198242, 0.9538756608963013, 0.9559114575386047, 0.9553297758102417]\n"
     ]
    },
    {
     "name": "stderr",
     "output_type": "stream",
     "text": [
      "100%|██████████| 118/118 [01:00<00:00,  1.94it/s]\n"
     ]
    },
    {
     "name": "stdout",
     "output_type": "stream",
     "text": [
      "accuracy: [tensor(0.8301), tensor(0.8632), tensor(0.8821), tensor(0.8952), tensor(0.9038), tensor(0.9101), tensor(0.9163), tensor(0.9207), tensor(0.9250), tensor(0.9272), tensor(0.9315), tensor(0.9345), tensor(0.9378), tensor(0.9400), tensor(0.9423), tensor(0.9446), tensor(0.9470), tensor(0.9486), tensor(0.9500), tensor(0.9516), tensor(0.9525), tensor(0.9547), tensor(0.9555), tensor(0.9571), tensor(0.9573), tensor(0.9589), tensor(0.9603), tensor(0.9607)]\n",
      "val_accuracy: [0.8755670785903931, 0.910756528377533, 0.9243669509887695, 0.9289425611495972, 0.9364264011383057, 0.9385396838188171, 0.9410213828086853, 0.9421652555465698, 0.944646954536438, 0.9470316767692566, 0.9478071928024292, 0.9491062164306641, 0.9505021572113037, 0.9503082633018494, 0.9521501660346985, 0.952324628829956, 0.9534685611724854, 0.9529062509536743, 0.9540695548057556, 0.9524215459823608, 0.9537011981010437, 0.9551553130149841, 0.9549614191055298, 0.9548063278198242, 0.9538756608963013, 0.9559114575386047, 0.9553297758102417, 0.9543022513389587]\n"
     ]
    },
    {
     "name": "stderr",
     "output_type": "stream",
     "text": [
      "100%|██████████| 118/118 [01:00<00:00,  1.94it/s]\n"
     ]
    },
    {
     "name": "stdout",
     "output_type": "stream",
     "text": [
      "accuracy: [tensor(0.8301), tensor(0.8632), tensor(0.8821), tensor(0.8952), tensor(0.9038), tensor(0.9101), tensor(0.9163), tensor(0.9207), tensor(0.9250), tensor(0.9272), tensor(0.9315), tensor(0.9345), tensor(0.9378), tensor(0.9400), tensor(0.9423), tensor(0.9446), tensor(0.9470), tensor(0.9486), tensor(0.9500), tensor(0.9516), tensor(0.9525), tensor(0.9547), tensor(0.9555), tensor(0.9571), tensor(0.9573), tensor(0.9589), tensor(0.9603), tensor(0.9607), tensor(0.9620)]\n",
      "val_accuracy: [0.8755670785903931, 0.910756528377533, 0.9243669509887695, 0.9289425611495972, 0.9364264011383057, 0.9385396838188171, 0.9410213828086853, 0.9421652555465698, 0.944646954536438, 0.9470316767692566, 0.9478071928024292, 0.9491062164306641, 0.9505021572113037, 0.9503082633018494, 0.9521501660346985, 0.952324628829956, 0.9534685611724854, 0.9529062509536743, 0.9540695548057556, 0.9524215459823608, 0.9537011981010437, 0.9551553130149841, 0.9549614191055298, 0.9548063278198242, 0.9538756608963013, 0.9559114575386047, 0.9553297758102417, 0.9543022513389587, 0.9561828970909119]\n"
     ]
    },
    {
     "name": "stderr",
     "output_type": "stream",
     "text": [
      "100%|██████████| 118/118 [01:00<00:00,  1.94it/s]\n"
     ]
    },
    {
     "name": "stdout",
     "output_type": "stream",
     "text": [
      "accuracy: [tensor(0.8301), tensor(0.8632), tensor(0.8821), tensor(0.8952), tensor(0.9038), tensor(0.9101), tensor(0.9163), tensor(0.9207), tensor(0.9250), tensor(0.9272), tensor(0.9315), tensor(0.9345), tensor(0.9378), tensor(0.9400), tensor(0.9423), tensor(0.9446), tensor(0.9470), tensor(0.9486), tensor(0.9500), tensor(0.9516), tensor(0.9525), tensor(0.9547), tensor(0.9555), tensor(0.9571), tensor(0.9573), tensor(0.9589), tensor(0.9603), tensor(0.9607), tensor(0.9620), tensor(0.9626)]\n",
      "val_accuracy: [0.8755670785903931, 0.910756528377533, 0.9243669509887695, 0.9289425611495972, 0.9364264011383057, 0.9385396838188171, 0.9410213828086853, 0.9421652555465698, 0.944646954536438, 0.9470316767692566, 0.9478071928024292, 0.9491062164306641, 0.9505021572113037, 0.9503082633018494, 0.9521501660346985, 0.952324628829956, 0.9534685611724854, 0.9529062509536743, 0.9540695548057556, 0.9524215459823608, 0.9537011981010437, 0.9551553130149841, 0.9549614191055298, 0.9548063278198242, 0.9538756608963013, 0.9559114575386047, 0.9553297758102417, 0.9543022513389587, 0.9561828970909119, 0.9565512537956238]\n"
     ]
    },
    {
     "name": "stderr",
     "output_type": "stream",
     "text": [
      "100%|██████████| 118/118 [01:02<00:00,  1.90it/s]\n"
     ]
    },
    {
     "name": "stdout",
     "output_type": "stream",
     "text": [
      "accuracy: [tensor(0.8301), tensor(0.8632), tensor(0.8821), tensor(0.8952), tensor(0.9038), tensor(0.9101), tensor(0.9163), tensor(0.9207), tensor(0.9250), tensor(0.9272), tensor(0.9315), tensor(0.9345), tensor(0.9378), tensor(0.9400), tensor(0.9423), tensor(0.9446), tensor(0.9470), tensor(0.9486), tensor(0.9500), tensor(0.9516), tensor(0.9525), tensor(0.9547), tensor(0.9555), tensor(0.9571), tensor(0.9573), tensor(0.9589), tensor(0.9603), tensor(0.9607), tensor(0.9620), tensor(0.9626), tensor(0.9631)]\n",
      "val_accuracy: [0.8755670785903931, 0.910756528377533, 0.9243669509887695, 0.9289425611495972, 0.9364264011383057, 0.9385396838188171, 0.9410213828086853, 0.9421652555465698, 0.944646954536438, 0.9470316767692566, 0.9478071928024292, 0.9491062164306641, 0.9505021572113037, 0.9503082633018494, 0.9521501660346985, 0.952324628829956, 0.9534685611724854, 0.9529062509536743, 0.9540695548057556, 0.9524215459823608, 0.9537011981010437, 0.9551553130149841, 0.9549614191055298, 0.9548063278198242, 0.9538756608963013, 0.9559114575386047, 0.9553297758102417, 0.9543022513389587, 0.9561828970909119, 0.9565512537956238, 0.9555624723434448]\n"
     ]
    },
    {
     "name": "stderr",
     "output_type": "stream",
     "text": [
      "100%|██████████| 118/118 [01:01<00:00,  1.92it/s]\n"
     ]
    },
    {
     "name": "stdout",
     "output_type": "stream",
     "text": [
      "accuracy: [tensor(0.8301), tensor(0.8632), tensor(0.8821), tensor(0.8952), tensor(0.9038), tensor(0.9101), tensor(0.9163), tensor(0.9207), tensor(0.9250), tensor(0.9272), tensor(0.9315), tensor(0.9345), tensor(0.9378), tensor(0.9400), tensor(0.9423), tensor(0.9446), tensor(0.9470), tensor(0.9486), tensor(0.9500), tensor(0.9516), tensor(0.9525), tensor(0.9547), tensor(0.9555), tensor(0.9571), tensor(0.9573), tensor(0.9589), tensor(0.9603), tensor(0.9607), tensor(0.9620), tensor(0.9626), tensor(0.9631), tensor(0.9638)]\n",
      "val_accuracy: [0.8755670785903931, 0.910756528377533, 0.9243669509887695, 0.9289425611495972, 0.9364264011383057, 0.9385396838188171, 0.9410213828086853, 0.9421652555465698, 0.944646954536438, 0.9470316767692566, 0.9478071928024292, 0.9491062164306641, 0.9505021572113037, 0.9503082633018494, 0.9521501660346985, 0.952324628829956, 0.9534685611724854, 0.9529062509536743, 0.9540695548057556, 0.9524215459823608, 0.9537011981010437, 0.9551553130149841, 0.9549614191055298, 0.9548063278198242, 0.9538756608963013, 0.9559114575386047, 0.9553297758102417, 0.9543022513389587, 0.9561828970909119, 0.9565512537956238, 0.9555624723434448, 0.9549614191055298]\n"
     ]
    },
    {
     "name": "stderr",
     "output_type": "stream",
     "text": [
      "100%|██████████| 118/118 [01:00<00:00,  1.94it/s]\n"
     ]
    },
    {
     "name": "stdout",
     "output_type": "stream",
     "text": [
      "accuracy: [tensor(0.8301), tensor(0.8632), tensor(0.8821), tensor(0.8952), tensor(0.9038), tensor(0.9101), tensor(0.9163), tensor(0.9207), tensor(0.9250), tensor(0.9272), tensor(0.9315), tensor(0.9345), tensor(0.9378), tensor(0.9400), tensor(0.9423), tensor(0.9446), tensor(0.9470), tensor(0.9486), tensor(0.9500), tensor(0.9516), tensor(0.9525), tensor(0.9547), tensor(0.9555), tensor(0.9571), tensor(0.9573), tensor(0.9589), tensor(0.9603), tensor(0.9607), tensor(0.9620), tensor(0.9626), tensor(0.9631), tensor(0.9638), tensor(0.9640)]\n",
      "val_accuracy: [0.8755670785903931, 0.910756528377533, 0.9243669509887695, 0.9289425611495972, 0.9364264011383057, 0.9385396838188171, 0.9410213828086853, 0.9421652555465698, 0.944646954536438, 0.9470316767692566, 0.9478071928024292, 0.9491062164306641, 0.9505021572113037, 0.9503082633018494, 0.9521501660346985, 0.952324628829956, 0.9534685611724854, 0.9529062509536743, 0.9540695548057556, 0.9524215459823608, 0.9537011981010437, 0.9551553130149841, 0.9549614191055298, 0.9548063278198242, 0.9538756608963013, 0.9559114575386047, 0.9553297758102417, 0.9543022513389587, 0.9561828970909119, 0.9565512537956238, 0.9555624723434448, 0.9549614191055298, 0.9556787610054016]\n"
     ]
    },
    {
     "name": "stderr",
     "output_type": "stream",
     "text": [
      "100%|██████████| 118/118 [01:00<00:00,  1.94it/s]\n"
     ]
    },
    {
     "name": "stdout",
     "output_type": "stream",
     "text": [
      "accuracy: [tensor(0.8301), tensor(0.8632), tensor(0.8821), tensor(0.8952), tensor(0.9038), tensor(0.9101), tensor(0.9163), tensor(0.9207), tensor(0.9250), tensor(0.9272), tensor(0.9315), tensor(0.9345), tensor(0.9378), tensor(0.9400), tensor(0.9423), tensor(0.9446), tensor(0.9470), tensor(0.9486), tensor(0.9500), tensor(0.9516), tensor(0.9525), tensor(0.9547), tensor(0.9555), tensor(0.9571), tensor(0.9573), tensor(0.9589), tensor(0.9603), tensor(0.9607), tensor(0.9620), tensor(0.9626), tensor(0.9631), tensor(0.9638), tensor(0.9640), tensor(0.9647)]\n",
      "val_accuracy: [0.8755670785903931, 0.910756528377533, 0.9243669509887695, 0.9289425611495972, 0.9364264011383057, 0.9385396838188171, 0.9410213828086853, 0.9421652555465698, 0.944646954536438, 0.9470316767692566, 0.9478071928024292, 0.9491062164306641, 0.9505021572113037, 0.9503082633018494, 0.9521501660346985, 0.952324628829956, 0.9534685611724854, 0.9529062509536743, 0.9540695548057556, 0.9524215459823608, 0.9537011981010437, 0.9551553130149841, 0.9549614191055298, 0.9548063278198242, 0.9538756608963013, 0.9559114575386047, 0.9553297758102417, 0.9543022513389587, 0.9561828970909119, 0.9565512537956238, 0.9555624723434448, 0.9549614191055298, 0.9556787610054016, 0.9557951092720032]\n"
     ]
    },
    {
     "name": "stderr",
     "output_type": "stream",
     "text": [
      "100%|██████████| 118/118 [01:00<00:00,  1.95it/s]\n"
     ]
    },
    {
     "name": "stdout",
     "output_type": "stream",
     "text": [
      "accuracy: [tensor(0.8301), tensor(0.8632), tensor(0.8821), tensor(0.8952), tensor(0.9038), tensor(0.9101), tensor(0.9163), tensor(0.9207), tensor(0.9250), tensor(0.9272), tensor(0.9315), tensor(0.9345), tensor(0.9378), tensor(0.9400), tensor(0.9423), tensor(0.9446), tensor(0.9470), tensor(0.9486), tensor(0.9500), tensor(0.9516), tensor(0.9525), tensor(0.9547), tensor(0.9555), tensor(0.9571), tensor(0.9573), tensor(0.9589), tensor(0.9603), tensor(0.9607), tensor(0.9620), tensor(0.9626), tensor(0.9631), tensor(0.9638), tensor(0.9640), tensor(0.9647), tensor(0.9660)]\n",
      "val_accuracy: [0.8755670785903931, 0.910756528377533, 0.9243669509887695, 0.9289425611495972, 0.9364264011383057, 0.9385396838188171, 0.9410213828086853, 0.9421652555465698, 0.944646954536438, 0.9470316767692566, 0.9478071928024292, 0.9491062164306641, 0.9505021572113037, 0.9503082633018494, 0.9521501660346985, 0.952324628829956, 0.9534685611724854, 0.9529062509536743, 0.9540695548057556, 0.9524215459823608, 0.9537011981010437, 0.9551553130149841, 0.9549614191055298, 0.9548063278198242, 0.9538756608963013, 0.9559114575386047, 0.9553297758102417, 0.9543022513389587, 0.9561828970909119, 0.9565512537956238, 0.9555624723434448, 0.9549614191055298, 0.9556787610054016, 0.9557951092720032, 0.955892026424408]\n"
     ]
    },
    {
     "name": "stderr",
     "output_type": "stream",
     "text": [
      "100%|██████████| 118/118 [01:02<00:00,  1.88it/s]\n"
     ]
    },
    {
     "name": "stdout",
     "output_type": "stream",
     "text": [
      "accuracy: [tensor(0.8301), tensor(0.8632), tensor(0.8821), tensor(0.8952), tensor(0.9038), tensor(0.9101), tensor(0.9163), tensor(0.9207), tensor(0.9250), tensor(0.9272), tensor(0.9315), tensor(0.9345), tensor(0.9378), tensor(0.9400), tensor(0.9423), tensor(0.9446), tensor(0.9470), tensor(0.9486), tensor(0.9500), tensor(0.9516), tensor(0.9525), tensor(0.9547), tensor(0.9555), tensor(0.9571), tensor(0.9573), tensor(0.9589), tensor(0.9603), tensor(0.9607), tensor(0.9620), tensor(0.9626), tensor(0.9631), tensor(0.9638), tensor(0.9640), tensor(0.9647), tensor(0.9660), tensor(0.9665)]\n",
      "val_accuracy: [0.8755670785903931, 0.910756528377533, 0.9243669509887695, 0.9289425611495972, 0.9364264011383057, 0.9385396838188171, 0.9410213828086853, 0.9421652555465698, 0.944646954536438, 0.9470316767692566, 0.9478071928024292, 0.9491062164306641, 0.9505021572113037, 0.9503082633018494, 0.9521501660346985, 0.952324628829956, 0.9534685611724854, 0.9529062509536743, 0.9540695548057556, 0.9524215459823608, 0.9537011981010437, 0.9551553130149841, 0.9549614191055298, 0.9548063278198242, 0.9538756608963013, 0.9559114575386047, 0.9553297758102417, 0.9543022513389587, 0.9561828970909119, 0.9565512537956238, 0.9555624723434448, 0.9549614191055298, 0.9556787610054016, 0.9557951092720032, 0.955892026424408, 0.9564349055290222]\n"
     ]
    },
    {
     "name": "stderr",
     "output_type": "stream",
     "text": [
      "100%|██████████| 118/118 [01:01<00:00,  1.93it/s]\n"
     ]
    },
    {
     "name": "stdout",
     "output_type": "stream",
     "text": [
      "accuracy: [tensor(0.8301), tensor(0.8632), tensor(0.8821), tensor(0.8952), tensor(0.9038), tensor(0.9101), tensor(0.9163), tensor(0.9207), tensor(0.9250), tensor(0.9272), tensor(0.9315), tensor(0.9345), tensor(0.9378), tensor(0.9400), tensor(0.9423), tensor(0.9446), tensor(0.9470), tensor(0.9486), tensor(0.9500), tensor(0.9516), tensor(0.9525), tensor(0.9547), tensor(0.9555), tensor(0.9571), tensor(0.9573), tensor(0.9589), tensor(0.9603), tensor(0.9607), tensor(0.9620), tensor(0.9626), tensor(0.9631), tensor(0.9638), tensor(0.9640), tensor(0.9647), tensor(0.9660), tensor(0.9665), tensor(0.9665)]\n",
      "val_accuracy: [0.8755670785903931, 0.910756528377533, 0.9243669509887695, 0.9289425611495972, 0.9364264011383057, 0.9385396838188171, 0.9410213828086853, 0.9421652555465698, 0.944646954536438, 0.9470316767692566, 0.9478071928024292, 0.9491062164306641, 0.9505021572113037, 0.9503082633018494, 0.9521501660346985, 0.952324628829956, 0.9534685611724854, 0.9529062509536743, 0.9540695548057556, 0.9524215459823608, 0.9537011981010437, 0.9551553130149841, 0.9549614191055298, 0.9548063278198242, 0.9538756608963013, 0.9559114575386047, 0.9553297758102417, 0.9543022513389587, 0.9561828970909119, 0.9565512537956238, 0.9555624723434448, 0.9549614191055298, 0.9556787610054016, 0.9557951092720032, 0.955892026424408, 0.9564349055290222, 0.9563379883766174]\n"
     ]
    },
    {
     "name": "stderr",
     "output_type": "stream",
     "text": [
      "100%|██████████| 118/118 [01:00<00:00,  1.94it/s]\n"
     ]
    },
    {
     "name": "stdout",
     "output_type": "stream",
     "text": [
      "accuracy: [tensor(0.8301), tensor(0.8632), tensor(0.8821), tensor(0.8952), tensor(0.9038), tensor(0.9101), tensor(0.9163), tensor(0.9207), tensor(0.9250), tensor(0.9272), tensor(0.9315), tensor(0.9345), tensor(0.9378), tensor(0.9400), tensor(0.9423), tensor(0.9446), tensor(0.9470), tensor(0.9486), tensor(0.9500), tensor(0.9516), tensor(0.9525), tensor(0.9547), tensor(0.9555), tensor(0.9571), tensor(0.9573), tensor(0.9589), tensor(0.9603), tensor(0.9607), tensor(0.9620), tensor(0.9626), tensor(0.9631), tensor(0.9638), tensor(0.9640), tensor(0.9647), tensor(0.9660), tensor(0.9665), tensor(0.9665), tensor(0.9669)]\n",
      "val_accuracy: [0.8755670785903931, 0.910756528377533, 0.9243669509887695, 0.9289425611495972, 0.9364264011383057, 0.9385396838188171, 0.9410213828086853, 0.9421652555465698, 0.944646954536438, 0.9470316767692566, 0.9478071928024292, 0.9491062164306641, 0.9505021572113037, 0.9503082633018494, 0.9521501660346985, 0.952324628829956, 0.9534685611724854, 0.9529062509536743, 0.9540695548057556, 0.9524215459823608, 0.9537011981010437, 0.9551553130149841, 0.9549614191055298, 0.9548063278198242, 0.9538756608963013, 0.9559114575386047, 0.9553297758102417, 0.9543022513389587, 0.9561828970909119, 0.9565512537956238, 0.9555624723434448, 0.9549614191055298, 0.9556787610054016, 0.9557951092720032, 0.955892026424408, 0.9564349055290222, 0.9563379883766174, 0.9560277462005615]\n"
     ]
    },
    {
     "name": "stderr",
     "output_type": "stream",
     "text": [
      "100%|██████████| 118/118 [01:00<00:00,  1.94it/s]\n"
     ]
    },
    {
     "name": "stdout",
     "output_type": "stream",
     "text": [
      "accuracy: [tensor(0.8301), tensor(0.8632), tensor(0.8821), tensor(0.8952), tensor(0.9038), tensor(0.9101), tensor(0.9163), tensor(0.9207), tensor(0.9250), tensor(0.9272), tensor(0.9315), tensor(0.9345), tensor(0.9378), tensor(0.9400), tensor(0.9423), tensor(0.9446), tensor(0.9470), tensor(0.9486), tensor(0.9500), tensor(0.9516), tensor(0.9525), tensor(0.9547), tensor(0.9555), tensor(0.9571), tensor(0.9573), tensor(0.9589), tensor(0.9603), tensor(0.9607), tensor(0.9620), tensor(0.9626), tensor(0.9631), tensor(0.9638), tensor(0.9640), tensor(0.9647), tensor(0.9660), tensor(0.9665), tensor(0.9665), tensor(0.9669), tensor(0.9680)]\n",
      "val_accuracy: [0.8755670785903931, 0.910756528377533, 0.9243669509887695, 0.9289425611495972, 0.9364264011383057, 0.9385396838188171, 0.9410213828086853, 0.9421652555465698, 0.944646954536438, 0.9470316767692566, 0.9478071928024292, 0.9491062164306641, 0.9505021572113037, 0.9503082633018494, 0.9521501660346985, 0.952324628829956, 0.9534685611724854, 0.9529062509536743, 0.9540695548057556, 0.9524215459823608, 0.9537011981010437, 0.9551553130149841, 0.9549614191055298, 0.9548063278198242, 0.9538756608963013, 0.9559114575386047, 0.9553297758102417, 0.9543022513389587, 0.9561828970909119, 0.9565512537956238, 0.9555624723434448, 0.9549614191055298, 0.9556787610054016, 0.9557951092720032, 0.955892026424408, 0.9564349055290222, 0.9563379883766174, 0.9560277462005615, 0.9561440944671631]\n"
     ]
    },
    {
     "name": "stderr",
     "output_type": "stream",
     "text": [
      "100%|██████████| 118/118 [01:01<00:00,  1.93it/s]\n"
     ]
    },
    {
     "name": "stdout",
     "output_type": "stream",
     "text": [
      "accuracy: [tensor(0.8301), tensor(0.8632), tensor(0.8821), tensor(0.8952), tensor(0.9038), tensor(0.9101), tensor(0.9163), tensor(0.9207), tensor(0.9250), tensor(0.9272), tensor(0.9315), tensor(0.9345), tensor(0.9378), tensor(0.9400), tensor(0.9423), tensor(0.9446), tensor(0.9470), tensor(0.9486), tensor(0.9500), tensor(0.9516), tensor(0.9525), tensor(0.9547), tensor(0.9555), tensor(0.9571), tensor(0.9573), tensor(0.9589), tensor(0.9603), tensor(0.9607), tensor(0.9620), tensor(0.9626), tensor(0.9631), tensor(0.9638), tensor(0.9640), tensor(0.9647), tensor(0.9660), tensor(0.9665), tensor(0.9665), tensor(0.9669), tensor(0.9680), tensor(0.9682)]\n",
      "val_accuracy: [0.8755670785903931, 0.910756528377533, 0.9243669509887695, 0.9289425611495972, 0.9364264011383057, 0.9385396838188171, 0.9410213828086853, 0.9421652555465698, 0.944646954536438, 0.9470316767692566, 0.9478071928024292, 0.9491062164306641, 0.9505021572113037, 0.9503082633018494, 0.9521501660346985, 0.952324628829956, 0.9534685611724854, 0.9529062509536743, 0.9540695548057556, 0.9524215459823608, 0.9537011981010437, 0.9551553130149841, 0.9549614191055298, 0.9548063278198242, 0.9538756608963013, 0.9559114575386047, 0.9553297758102417, 0.9543022513389587, 0.9561828970909119, 0.9565512537956238, 0.9555624723434448, 0.9549614191055298, 0.9556787610054016, 0.9557951092720032, 0.955892026424408, 0.9564349055290222, 0.9563379883766174, 0.9560277462005615, 0.9561440944671631, 0.9564349055290222]\n"
     ]
    },
    {
     "name": "stderr",
     "output_type": "stream",
     "text": [
      "100%|██████████| 118/118 [01:02<00:00,  1.89it/s]\n"
     ]
    },
    {
     "name": "stdout",
     "output_type": "stream",
     "text": [
      "accuracy: [tensor(0.8301), tensor(0.8632), tensor(0.8821), tensor(0.8952), tensor(0.9038), tensor(0.9101), tensor(0.9163), tensor(0.9207), tensor(0.9250), tensor(0.9272), tensor(0.9315), tensor(0.9345), tensor(0.9378), tensor(0.9400), tensor(0.9423), tensor(0.9446), tensor(0.9470), tensor(0.9486), tensor(0.9500), tensor(0.9516), tensor(0.9525), tensor(0.9547), tensor(0.9555), tensor(0.9571), tensor(0.9573), tensor(0.9589), tensor(0.9603), tensor(0.9607), tensor(0.9620), tensor(0.9626), tensor(0.9631), tensor(0.9638), tensor(0.9640), tensor(0.9647), tensor(0.9660), tensor(0.9665), tensor(0.9665), tensor(0.9669), tensor(0.9680), tensor(0.9682), tensor(0.9688)]\n",
      "val_accuracy: [0.8755670785903931, 0.910756528377533, 0.9243669509887695, 0.9289425611495972, 0.9364264011383057, 0.9385396838188171, 0.9410213828086853, 0.9421652555465698, 0.944646954536438, 0.9470316767692566, 0.9478071928024292, 0.9491062164306641, 0.9505021572113037, 0.9503082633018494, 0.9521501660346985, 0.952324628829956, 0.9534685611724854, 0.9529062509536743, 0.9540695548057556, 0.9524215459823608, 0.9537011981010437, 0.9551553130149841, 0.9549614191055298, 0.9548063278198242, 0.9538756608963013, 0.9559114575386047, 0.9553297758102417, 0.9543022513389587, 0.9561828970909119, 0.9565512537956238, 0.9555624723434448, 0.9549614191055298, 0.9556787610054016, 0.9557951092720032, 0.955892026424408, 0.9564349055290222, 0.9563379883766174, 0.9560277462005615, 0.9561440944671631, 0.9564349055290222, 0.9568420648574829]\n"
     ]
    },
    {
     "name": "stderr",
     "output_type": "stream",
     "text": [
      "100%|██████████| 118/118 [01:00<00:00,  1.94it/s]\n"
     ]
    },
    {
     "name": "stdout",
     "output_type": "stream",
     "text": [
      "accuracy: [tensor(0.8301), tensor(0.8632), tensor(0.8821), tensor(0.8952), tensor(0.9038), tensor(0.9101), tensor(0.9163), tensor(0.9207), tensor(0.9250), tensor(0.9272), tensor(0.9315), tensor(0.9345), tensor(0.9378), tensor(0.9400), tensor(0.9423), tensor(0.9446), tensor(0.9470), tensor(0.9486), tensor(0.9500), tensor(0.9516), tensor(0.9525), tensor(0.9547), tensor(0.9555), tensor(0.9571), tensor(0.9573), tensor(0.9589), tensor(0.9603), tensor(0.9607), tensor(0.9620), tensor(0.9626), tensor(0.9631), tensor(0.9638), tensor(0.9640), tensor(0.9647), tensor(0.9660), tensor(0.9665), tensor(0.9665), tensor(0.9669), tensor(0.9680), tensor(0.9682), tensor(0.9688), tensor(0.9695)]\n",
      "val_accuracy: [0.8755670785903931, 0.910756528377533, 0.9243669509887695, 0.9289425611495972, 0.9364264011383057, 0.9385396838188171, 0.9410213828086853, 0.9421652555465698, 0.944646954536438, 0.9470316767692566, 0.9478071928024292, 0.9491062164306641, 0.9505021572113037, 0.9503082633018494, 0.9521501660346985, 0.952324628829956, 0.9534685611724854, 0.9529062509536743, 0.9540695548057556, 0.9524215459823608, 0.9537011981010437, 0.9551553130149841, 0.9549614191055298, 0.9548063278198242, 0.9538756608963013, 0.9559114575386047, 0.9553297758102417, 0.9543022513389587, 0.9561828970909119, 0.9565512537956238, 0.9555624723434448, 0.9549614191055298, 0.9556787610054016, 0.9557951092720032, 0.955892026424408, 0.9564349055290222, 0.9563379883766174, 0.9560277462005615, 0.9561440944671631, 0.9564349055290222, 0.9568420648574829, 0.9565706253051758]\n"
     ]
    },
    {
     "name": "stderr",
     "output_type": "stream",
     "text": [
      "100%|██████████| 118/118 [01:00<00:00,  1.95it/s]\n"
     ]
    },
    {
     "name": "stdout",
     "output_type": "stream",
     "text": [
      "accuracy: [tensor(0.8301), tensor(0.8632), tensor(0.8821), tensor(0.8952), tensor(0.9038), tensor(0.9101), tensor(0.9163), tensor(0.9207), tensor(0.9250), tensor(0.9272), tensor(0.9315), tensor(0.9345), tensor(0.9378), tensor(0.9400), tensor(0.9423), tensor(0.9446), tensor(0.9470), tensor(0.9486), tensor(0.9500), tensor(0.9516), tensor(0.9525), tensor(0.9547), tensor(0.9555), tensor(0.9571), tensor(0.9573), tensor(0.9589), tensor(0.9603), tensor(0.9607), tensor(0.9620), tensor(0.9626), tensor(0.9631), tensor(0.9638), tensor(0.9640), tensor(0.9647), tensor(0.9660), tensor(0.9665), tensor(0.9665), tensor(0.9669), tensor(0.9680), tensor(0.9682), tensor(0.9688), tensor(0.9695), tensor(0.9700)]\n",
      "val_accuracy: [0.8755670785903931, 0.910756528377533, 0.9243669509887695, 0.9289425611495972, 0.9364264011383057, 0.9385396838188171, 0.9410213828086853, 0.9421652555465698, 0.944646954536438, 0.9470316767692566, 0.9478071928024292, 0.9491062164306641, 0.9505021572113037, 0.9503082633018494, 0.9521501660346985, 0.952324628829956, 0.9534685611724854, 0.9529062509536743, 0.9540695548057556, 0.9524215459823608, 0.9537011981010437, 0.9551553130149841, 0.9549614191055298, 0.9548063278198242, 0.9538756608963013, 0.9559114575386047, 0.9553297758102417, 0.9543022513389587, 0.9561828970909119, 0.9565512537956238, 0.9555624723434448, 0.9549614191055298, 0.9556787610054016, 0.9557951092720032, 0.955892026424408, 0.9564349055290222, 0.9563379883766174, 0.9560277462005615, 0.9561440944671631, 0.9564349055290222, 0.9568420648574829, 0.9565706253051758, 0.9561440944671631]\n"
     ]
    },
    {
     "name": "stderr",
     "output_type": "stream",
     "text": [
      "100%|██████████| 118/118 [01:00<00:00,  1.94it/s]\n"
     ]
    },
    {
     "name": "stdout",
     "output_type": "stream",
     "text": [
      "accuracy: [tensor(0.8301), tensor(0.8632), tensor(0.8821), tensor(0.8952), tensor(0.9038), tensor(0.9101), tensor(0.9163), tensor(0.9207), tensor(0.9250), tensor(0.9272), tensor(0.9315), tensor(0.9345), tensor(0.9378), tensor(0.9400), tensor(0.9423), tensor(0.9446), tensor(0.9470), tensor(0.9486), tensor(0.9500), tensor(0.9516), tensor(0.9525), tensor(0.9547), tensor(0.9555), tensor(0.9571), tensor(0.9573), tensor(0.9589), tensor(0.9603), tensor(0.9607), tensor(0.9620), tensor(0.9626), tensor(0.9631), tensor(0.9638), tensor(0.9640), tensor(0.9647), tensor(0.9660), tensor(0.9665), tensor(0.9665), tensor(0.9669), tensor(0.9680), tensor(0.9682), tensor(0.9688), tensor(0.9695), tensor(0.9700), tensor(0.9701)]\n",
      "val_accuracy: [0.8755670785903931, 0.910756528377533, 0.9243669509887695, 0.9289425611495972, 0.9364264011383057, 0.9385396838188171, 0.9410213828086853, 0.9421652555465698, 0.944646954536438, 0.9470316767692566, 0.9478071928024292, 0.9491062164306641, 0.9505021572113037, 0.9503082633018494, 0.9521501660346985, 0.952324628829956, 0.9534685611724854, 0.9529062509536743, 0.9540695548057556, 0.9524215459823608, 0.9537011981010437, 0.9551553130149841, 0.9549614191055298, 0.9548063278198242, 0.9538756608963013, 0.9559114575386047, 0.9553297758102417, 0.9543022513389587, 0.9561828970909119, 0.9565512537956238, 0.9555624723434448, 0.9549614191055298, 0.9556787610054016, 0.9557951092720032, 0.955892026424408, 0.9564349055290222, 0.9563379883766174, 0.9560277462005615, 0.9561440944671631, 0.9564349055290222, 0.9568420648574829, 0.9565706253051758, 0.9561440944671631, 0.9556400179862976]\n"
     ]
    },
    {
     "name": "stderr",
     "output_type": "stream",
     "text": [
      "100%|██████████| 118/118 [01:01<00:00,  1.93it/s]\n"
     ]
    },
    {
     "name": "stdout",
     "output_type": "stream",
     "text": [
      "accuracy: [tensor(0.8301), tensor(0.8632), tensor(0.8821), tensor(0.8952), tensor(0.9038), tensor(0.9101), tensor(0.9163), tensor(0.9207), tensor(0.9250), tensor(0.9272), tensor(0.9315), tensor(0.9345), tensor(0.9378), tensor(0.9400), tensor(0.9423), tensor(0.9446), tensor(0.9470), tensor(0.9486), tensor(0.9500), tensor(0.9516), tensor(0.9525), tensor(0.9547), tensor(0.9555), tensor(0.9571), tensor(0.9573), tensor(0.9589), tensor(0.9603), tensor(0.9607), tensor(0.9620), tensor(0.9626), tensor(0.9631), tensor(0.9638), tensor(0.9640), tensor(0.9647), tensor(0.9660), tensor(0.9665), tensor(0.9665), tensor(0.9669), tensor(0.9680), tensor(0.9682), tensor(0.9688), tensor(0.9695), tensor(0.9700), tensor(0.9701), tensor(0.9709)]\n",
      "val_accuracy: [0.8755670785903931, 0.910756528377533, 0.9243669509887695, 0.9289425611495972, 0.9364264011383057, 0.9385396838188171, 0.9410213828086853, 0.9421652555465698, 0.944646954536438, 0.9470316767692566, 0.9478071928024292, 0.9491062164306641, 0.9505021572113037, 0.9503082633018494, 0.9521501660346985, 0.952324628829956, 0.9534685611724854, 0.9529062509536743, 0.9540695548057556, 0.9524215459823608, 0.9537011981010437, 0.9551553130149841, 0.9549614191055298, 0.9548063278198242, 0.9538756608963013, 0.9559114575386047, 0.9553297758102417, 0.9543022513389587, 0.9561828970909119, 0.9565512537956238, 0.9555624723434448, 0.9549614191055298, 0.9556787610054016, 0.9557951092720032, 0.955892026424408, 0.9564349055290222, 0.9563379883766174, 0.9560277462005615, 0.9561440944671631, 0.9564349055290222, 0.9568420648574829, 0.9565706253051758, 0.9561440944671631, 0.9556400179862976, 0.9553104043006897]\n"
     ]
    },
    {
     "name": "stderr",
     "output_type": "stream",
     "text": [
      "100%|██████████| 118/118 [01:02<00:00,  1.90it/s]\n"
     ]
    },
    {
     "name": "stdout",
     "output_type": "stream",
     "text": [
      "accuracy: [tensor(0.8301), tensor(0.8632), tensor(0.8821), tensor(0.8952), tensor(0.9038), tensor(0.9101), tensor(0.9163), tensor(0.9207), tensor(0.9250), tensor(0.9272), tensor(0.9315), tensor(0.9345), tensor(0.9378), tensor(0.9400), tensor(0.9423), tensor(0.9446), tensor(0.9470), tensor(0.9486), tensor(0.9500), tensor(0.9516), tensor(0.9525), tensor(0.9547), tensor(0.9555), tensor(0.9571), tensor(0.9573), tensor(0.9589), tensor(0.9603), tensor(0.9607), tensor(0.9620), tensor(0.9626), tensor(0.9631), tensor(0.9638), tensor(0.9640), tensor(0.9647), tensor(0.9660), tensor(0.9665), tensor(0.9665), tensor(0.9669), tensor(0.9680), tensor(0.9682), tensor(0.9688), tensor(0.9695), tensor(0.9700), tensor(0.9701), tensor(0.9709), tensor(0.9706)]\n",
      "val_accuracy: [0.8755670785903931, 0.910756528377533, 0.9243669509887695, 0.9289425611495972, 0.9364264011383057, 0.9385396838188171, 0.9410213828086853, 0.9421652555465698, 0.944646954536438, 0.9470316767692566, 0.9478071928024292, 0.9491062164306641, 0.9505021572113037, 0.9503082633018494, 0.9521501660346985, 0.952324628829956, 0.9534685611724854, 0.9529062509536743, 0.9540695548057556, 0.9524215459823608, 0.9537011981010437, 0.9551553130149841, 0.9549614191055298, 0.9548063278198242, 0.9538756608963013, 0.9559114575386047, 0.9553297758102417, 0.9543022513389587, 0.9561828970909119, 0.9565512537956238, 0.9555624723434448, 0.9549614191055298, 0.9556787610054016, 0.9557951092720032, 0.955892026424408, 0.9564349055290222, 0.9563379883766174, 0.9560277462005615, 0.9561440944671631, 0.9564349055290222, 0.9568420648574829, 0.9565706253051758, 0.9561440944671631, 0.9556400179862976, 0.9553104043006897, 0.9565706253051758]\n"
     ]
    },
    {
     "name": "stderr",
     "output_type": "stream",
     "text": [
      "100%|██████████| 118/118 [01:00<00:00,  1.95it/s]\n"
     ]
    },
    {
     "name": "stdout",
     "output_type": "stream",
     "text": [
      "accuracy: [tensor(0.8301), tensor(0.8632), tensor(0.8821), tensor(0.8952), tensor(0.9038), tensor(0.9101), tensor(0.9163), tensor(0.9207), tensor(0.9250), tensor(0.9272), tensor(0.9315), tensor(0.9345), tensor(0.9378), tensor(0.9400), tensor(0.9423), tensor(0.9446), tensor(0.9470), tensor(0.9486), tensor(0.9500), tensor(0.9516), tensor(0.9525), tensor(0.9547), tensor(0.9555), tensor(0.9571), tensor(0.9573), tensor(0.9589), tensor(0.9603), tensor(0.9607), tensor(0.9620), tensor(0.9626), tensor(0.9631), tensor(0.9638), tensor(0.9640), tensor(0.9647), tensor(0.9660), tensor(0.9665), tensor(0.9665), tensor(0.9669), tensor(0.9680), tensor(0.9682), tensor(0.9688), tensor(0.9695), tensor(0.9700), tensor(0.9701), tensor(0.9709), tensor(0.9706), tensor(0.9714)]\n",
      "val_accuracy: [0.8755670785903931, 0.910756528377533, 0.9243669509887695, 0.9289425611495972, 0.9364264011383057, 0.9385396838188171, 0.9410213828086853, 0.9421652555465698, 0.944646954536438, 0.9470316767692566, 0.9478071928024292, 0.9491062164306641, 0.9505021572113037, 0.9503082633018494, 0.9521501660346985, 0.952324628829956, 0.9534685611724854, 0.9529062509536743, 0.9540695548057556, 0.9524215459823608, 0.9537011981010437, 0.9551553130149841, 0.9549614191055298, 0.9548063278198242, 0.9538756608963013, 0.9559114575386047, 0.9553297758102417, 0.9543022513389587, 0.9561828970909119, 0.9565512537956238, 0.9555624723434448, 0.9549614191055298, 0.9556787610054016, 0.9557951092720032, 0.955892026424408, 0.9564349055290222, 0.9563379883766174, 0.9560277462005615, 0.9561440944671631, 0.9564349055290222, 0.9568420648574829, 0.9565706253051758, 0.9561440944671631, 0.9556400179862976, 0.9553104043006897, 0.9565706253051758, 0.955853283405304]\n"
     ]
    },
    {
     "name": "stderr",
     "output_type": "stream",
     "text": [
      "100%|██████████| 118/118 [01:00<00:00,  1.94it/s]\n"
     ]
    },
    {
     "name": "stdout",
     "output_type": "stream",
     "text": [
      "accuracy: [tensor(0.8301), tensor(0.8632), tensor(0.8821), tensor(0.8952), tensor(0.9038), tensor(0.9101), tensor(0.9163), tensor(0.9207), tensor(0.9250), tensor(0.9272), tensor(0.9315), tensor(0.9345), tensor(0.9378), tensor(0.9400), tensor(0.9423), tensor(0.9446), tensor(0.9470), tensor(0.9486), tensor(0.9500), tensor(0.9516), tensor(0.9525), tensor(0.9547), tensor(0.9555), tensor(0.9571), tensor(0.9573), tensor(0.9589), tensor(0.9603), tensor(0.9607), tensor(0.9620), tensor(0.9626), tensor(0.9631), tensor(0.9638), tensor(0.9640), tensor(0.9647), tensor(0.9660), tensor(0.9665), tensor(0.9665), tensor(0.9669), tensor(0.9680), tensor(0.9682), tensor(0.9688), tensor(0.9695), tensor(0.9700), tensor(0.9701), tensor(0.9709), tensor(0.9706), tensor(0.9714), tensor(0.9720)]\n",
      "val_accuracy: [0.8755670785903931, 0.910756528377533, 0.9243669509887695, 0.9289425611495972, 0.9364264011383057, 0.9385396838188171, 0.9410213828086853, 0.9421652555465698, 0.944646954536438, 0.9470316767692566, 0.9478071928024292, 0.9491062164306641, 0.9505021572113037, 0.9503082633018494, 0.9521501660346985, 0.952324628829956, 0.9534685611724854, 0.9529062509536743, 0.9540695548057556, 0.9524215459823608, 0.9537011981010437, 0.9551553130149841, 0.9549614191055298, 0.9548063278198242, 0.9538756608963013, 0.9559114575386047, 0.9553297758102417, 0.9543022513389587, 0.9561828970909119, 0.9565512537956238, 0.9555624723434448, 0.9549614191055298, 0.9556787610054016, 0.9557951092720032, 0.955892026424408, 0.9564349055290222, 0.9563379883766174, 0.9560277462005615, 0.9561440944671631, 0.9564349055290222, 0.9568420648574829, 0.9565706253051758, 0.9561440944671631, 0.9556400179862976, 0.9553104043006897, 0.9565706253051758, 0.955853283405304, 0.955504298210144]\n"
     ]
    },
    {
     "name": "stderr",
     "output_type": "stream",
     "text": [
      "100%|██████████| 118/118 [01:00<00:00,  1.94it/s]\n"
     ]
    },
    {
     "name": "stdout",
     "output_type": "stream",
     "text": [
      "accuracy: [tensor(0.8301), tensor(0.8632), tensor(0.8821), tensor(0.8952), tensor(0.9038), tensor(0.9101), tensor(0.9163), tensor(0.9207), tensor(0.9250), tensor(0.9272), tensor(0.9315), tensor(0.9345), tensor(0.9378), tensor(0.9400), tensor(0.9423), tensor(0.9446), tensor(0.9470), tensor(0.9486), tensor(0.9500), tensor(0.9516), tensor(0.9525), tensor(0.9547), tensor(0.9555), tensor(0.9571), tensor(0.9573), tensor(0.9589), tensor(0.9603), tensor(0.9607), tensor(0.9620), tensor(0.9626), tensor(0.9631), tensor(0.9638), tensor(0.9640), tensor(0.9647), tensor(0.9660), tensor(0.9665), tensor(0.9665), tensor(0.9669), tensor(0.9680), tensor(0.9682), tensor(0.9688), tensor(0.9695), tensor(0.9700), tensor(0.9701), tensor(0.9709), tensor(0.9706), tensor(0.9714), tensor(0.9720), tensor(0.9719)]\n",
      "val_accuracy: [0.8755670785903931, 0.910756528377533, 0.9243669509887695, 0.9289425611495972, 0.9364264011383057, 0.9385396838188171, 0.9410213828086853, 0.9421652555465698, 0.944646954536438, 0.9470316767692566, 0.9478071928024292, 0.9491062164306641, 0.9505021572113037, 0.9503082633018494, 0.9521501660346985, 0.952324628829956, 0.9534685611724854, 0.9529062509536743, 0.9540695548057556, 0.9524215459823608, 0.9537011981010437, 0.9551553130149841, 0.9549614191055298, 0.9548063278198242, 0.9538756608963013, 0.9559114575386047, 0.9553297758102417, 0.9543022513389587, 0.9561828970909119, 0.9565512537956238, 0.9555624723434448, 0.9549614191055298, 0.9556787610054016, 0.9557951092720032, 0.955892026424408, 0.9564349055290222, 0.9563379883766174, 0.9560277462005615, 0.9561440944671631, 0.9564349055290222, 0.9568420648574829, 0.9565706253051758, 0.9561440944671631, 0.9556400179862976, 0.9553104043006897, 0.9565706253051758, 0.955853283405304, 0.955504298210144, 0.9556787610054016]\n"
     ]
    },
    {
     "name": "stderr",
     "output_type": "stream",
     "text": [
      "100%|██████████| 118/118 [01:01<00:00,  1.91it/s]\n"
     ]
    },
    {
     "name": "stdout",
     "output_type": "stream",
     "text": [
      "accuracy: [tensor(0.8301), tensor(0.8632), tensor(0.8821), tensor(0.8952), tensor(0.9038), tensor(0.9101), tensor(0.9163), tensor(0.9207), tensor(0.9250), tensor(0.9272), tensor(0.9315), tensor(0.9345), tensor(0.9378), tensor(0.9400), tensor(0.9423), tensor(0.9446), tensor(0.9470), tensor(0.9486), tensor(0.9500), tensor(0.9516), tensor(0.9525), tensor(0.9547), tensor(0.9555), tensor(0.9571), tensor(0.9573), tensor(0.9589), tensor(0.9603), tensor(0.9607), tensor(0.9620), tensor(0.9626), tensor(0.9631), tensor(0.9638), tensor(0.9640), tensor(0.9647), tensor(0.9660), tensor(0.9665), tensor(0.9665), tensor(0.9669), tensor(0.9680), tensor(0.9682), tensor(0.9688), tensor(0.9695), tensor(0.9700), tensor(0.9701), tensor(0.9709), tensor(0.9706), tensor(0.9714), tensor(0.9720), tensor(0.9719), tensor(0.9728)]\n",
      "val_accuracy: [0.8755670785903931, 0.910756528377533, 0.9243669509887695, 0.9289425611495972, 0.9364264011383057, 0.9385396838188171, 0.9410213828086853, 0.9421652555465698, 0.944646954536438, 0.9470316767692566, 0.9478071928024292, 0.9491062164306641, 0.9505021572113037, 0.9503082633018494, 0.9521501660346985, 0.952324628829956, 0.9534685611724854, 0.9529062509536743, 0.9540695548057556, 0.9524215459823608, 0.9537011981010437, 0.9551553130149841, 0.9549614191055298, 0.9548063278198242, 0.9538756608963013, 0.9559114575386047, 0.9553297758102417, 0.9543022513389587, 0.9561828970909119, 0.9565512537956238, 0.9555624723434448, 0.9549614191055298, 0.9556787610054016, 0.9557951092720032, 0.955892026424408, 0.9564349055290222, 0.9563379883766174, 0.9560277462005615, 0.9561440944671631, 0.9564349055290222, 0.9568420648574829, 0.9565706253051758, 0.9561440944671631, 0.9556400179862976, 0.9553104043006897, 0.9565706253051758, 0.955853283405304, 0.955504298210144, 0.9556787610054016, 0.9548450708389282]\n"
     ]
    }
   ],
   "source": [
    "for epoch in range(EPOCHS):\n",
    "    train_loss = 0\n",
    "    train_accuracy = 0\n",
    "    loss = 0\n",
    "    acc = 0\n",
    "    batch_cnt = 0\n",
    "    model.train()\n",
    "    for X_batch, Y_batch in tqdm(train_dataloader):\n",
    "        batch_cnt += 1\n",
    "        Y_batch_pred = model(X_batch)\n",
    "        loss = loss_fn(\n",
    "            Y_batch_pred.reshape(\n",
    "                -1,\n",
    "                Y_batch_pred.size(dim=-1)),\n",
    "            Y_batch.reshape(-1))\n",
    "        optimizer.zero_grad()\n",
    "        loss.backward()\n",
    "        optimizer.step()\n",
    "        train_loss += loss.item()\n",
    "        with torch.no_grad():\n",
    "            train_accuracy += torch.sum(\n",
    "                torch.mul(\n",
    "                    torch.argmax(\n",
    "                        Y_batch_pred, dim=-1) == Y_batch,\n",
    "                    Y_batch > 0))\n",
    "\n",
    "    model.eval()\n",
    "    with torch.no_grad():\n",
    "        history['accuracy'] += [train_accuracy.item()/torch.sum(Y_train > 0)]\n",
    "        history['loss'] += [train_loss/batch_cnt]\n",
    "        val_loss, val_acc = evaluate(model, loss_fn, val_dataloader)\n",
    "        history['val_loss'] += [val_loss]\n",
    "        history['val_accuracy'] += [val_acc]\n",
    "        print('accuracy:', history['accuracy'])\n",
    "        print('val_accuracy:', history['val_accuracy'])"
   ]
  },
  {
   "attachments": {},
   "cell_type": "markdown",
   "metadata": {},
   "source": [
    "And we visualize the training curves. We compare them with a validation set."
   ]
  },
  {
   "cell_type": "code",
   "execution_count": 70,
   "metadata": {},
   "outputs": [
    {
     "data": {
      "text/plain": [
       "[tensor(0.8301),\n",
       " tensor(0.8632),\n",
       " tensor(0.8821),\n",
       " tensor(0.8952),\n",
       " tensor(0.9038),\n",
       " tensor(0.9101),\n",
       " tensor(0.9163),\n",
       " tensor(0.9207),\n",
       " tensor(0.9250),\n",
       " tensor(0.9272),\n",
       " tensor(0.9315),\n",
       " tensor(0.9345),\n",
       " tensor(0.9378),\n",
       " tensor(0.9400),\n",
       " tensor(0.9423),\n",
       " tensor(0.9446),\n",
       " tensor(0.9470),\n",
       " tensor(0.9486),\n",
       " tensor(0.9500),\n",
       " tensor(0.9516),\n",
       " tensor(0.9525),\n",
       " tensor(0.9547),\n",
       " tensor(0.9555),\n",
       " tensor(0.9571),\n",
       " tensor(0.9573),\n",
       " tensor(0.9589),\n",
       " tensor(0.9603),\n",
       " tensor(0.9607),\n",
       " tensor(0.9620),\n",
       " tensor(0.9626),\n",
       " tensor(0.9631),\n",
       " tensor(0.9638),\n",
       " tensor(0.9640),\n",
       " tensor(0.9647),\n",
       " tensor(0.9660),\n",
       " tensor(0.9665),\n",
       " tensor(0.9665),\n",
       " tensor(0.9669),\n",
       " tensor(0.9680),\n",
       " tensor(0.9682),\n",
       " tensor(0.9688),\n",
       " tensor(0.9695),\n",
       " tensor(0.9700),\n",
       " tensor(0.9701),\n",
       " tensor(0.9709),\n",
       " tensor(0.9706),\n",
       " tensor(0.9714),\n",
       " tensor(0.9720),\n",
       " tensor(0.9719),\n",
       " tensor(0.9728)]"
      ]
     },
     "execution_count": 70,
     "metadata": {},
     "output_type": "execute_result"
    }
   ],
   "source": [
    "history['accuracy']"
   ]
  },
  {
   "cell_type": "code",
   "execution_count": 71,
   "metadata": {},
   "outputs": [
    {
     "data": {
      "text/plain": [
       "[0.8755670785903931,\n",
       " 0.910756528377533,\n",
       " 0.9243669509887695,\n",
       " 0.9289425611495972,\n",
       " 0.9364264011383057,\n",
       " 0.9385396838188171,\n",
       " 0.9410213828086853,\n",
       " 0.9421652555465698,\n",
       " 0.944646954536438,\n",
       " 0.9470316767692566,\n",
       " 0.9478071928024292,\n",
       " 0.9491062164306641,\n",
       " 0.9505021572113037,\n",
       " 0.9503082633018494,\n",
       " 0.9521501660346985,\n",
       " 0.952324628829956,\n",
       " 0.9534685611724854,\n",
       " 0.9529062509536743,\n",
       " 0.9540695548057556,\n",
       " 0.9524215459823608,\n",
       " 0.9537011981010437,\n",
       " 0.9551553130149841,\n",
       " 0.9549614191055298,\n",
       " 0.9548063278198242,\n",
       " 0.9538756608963013,\n",
       " 0.9559114575386047,\n",
       " 0.9553297758102417,\n",
       " 0.9543022513389587,\n",
       " 0.9561828970909119,\n",
       " 0.9565512537956238,\n",
       " 0.9555624723434448,\n",
       " 0.9549614191055298,\n",
       " 0.9556787610054016,\n",
       " 0.9557951092720032,\n",
       " 0.955892026424408,\n",
       " 0.9564349055290222,\n",
       " 0.9563379883766174,\n",
       " 0.9560277462005615,\n",
       " 0.9561440944671631,\n",
       " 0.9564349055290222,\n",
       " 0.9568420648574829,\n",
       " 0.9565706253051758,\n",
       " 0.9561440944671631,\n",
       " 0.9556400179862976,\n",
       " 0.9553104043006897,\n",
       " 0.9565706253051758,\n",
       " 0.955853283405304,\n",
       " 0.955504298210144,\n",
       " 0.9556787610054016,\n",
       " 0.9548450708389282]"
      ]
     },
     "execution_count": 71,
     "metadata": {},
     "output_type": "execute_result"
    }
   ],
   "source": [
    "history['val_accuracy']"
   ]
  },
  {
   "cell_type": "code",
   "execution_count": 72,
   "metadata": {},
   "outputs": [
    {
     "data": {
      "text/plain": [
       "[0.6882448120642517,\n",
       " 0.4671760082749997,\n",
       " 0.39012263538473746,\n",
       " 0.3446153216695381,\n",
       " 0.31670773875410274,\n",
       " 0.2940696025803938,\n",
       " 0.2737097531809645,\n",
       " 0.2588496725943129,\n",
       " 0.24609018192958024,\n",
       " 0.2359069642626633,\n",
       " 0.22085913056034154,\n",
       " 0.2114442901338561,\n",
       " 0.2025246896733672,\n",
       " 0.19559060239185722,\n",
       " 0.18790733561677447,\n",
       " 0.18104387276758582,\n",
       " 0.1723916438423981,\n",
       " 0.16679751759363434,\n",
       " 0.16071446258890426,\n",
       " 0.15801615697347512,\n",
       " 0.1534692477750576,\n",
       " 0.14655146267959626,\n",
       " 0.14419196798639783,\n",
       " 0.13744786457490113,\n",
       " 0.13503220671061741,\n",
       " 0.13261983164791333,\n",
       " 0.12777496640712527,\n",
       " 0.12497685874922801,\n",
       " 0.12102131116188179,\n",
       " 0.11820409491153086,\n",
       " 0.11647850489717419,\n",
       " 0.11469087181454998,\n",
       " 0.11298747947913106,\n",
       " 0.1101784978251336,\n",
       " 0.10696096389980639,\n",
       " 0.10545285156596515,\n",
       " 0.10360677546616327,\n",
       " 0.1024762599776357,\n",
       " 0.09922961260870856,\n",
       " 0.09732272595924846,\n",
       " 0.0960321659064394,\n",
       " 0.09359135658685434,\n",
       " 0.09246112085815708,\n",
       " 0.09114706468910484,\n",
       " 0.0899382137961812,\n",
       " 0.09069825626783452,\n",
       " 0.08614203460135703,\n",
       " 0.0855049708447719,\n",
       " 0.08572275570388567,\n",
       " 0.08340226113796234]"
      ]
     },
     "execution_count": 72,
     "metadata": {},
     "output_type": "execute_result"
    }
   ],
   "source": [
    "history['loss']"
   ]
  },
  {
   "cell_type": "code",
   "execution_count": 73,
   "metadata": {},
   "outputs": [
    {
     "data": {
      "text/plain": [
       "[0.43659940361976624,\n",
       " 0.31827110052108765,\n",
       " 0.27271801233291626,\n",
       " 0.2516217529773712,\n",
       " 0.23790691792964935,\n",
       " 0.22737696766853333,\n",
       " 0.21688441932201385,\n",
       " 0.21372291445732117,\n",
       " 0.20913387835025787,\n",
       " 0.2101304680109024,\n",
       " 0.20393837988376617,\n",
       " 0.20502027869224548,\n",
       " 0.200259268283844,\n",
       " 0.19918116927146912,\n",
       " 0.19640469551086426,\n",
       " 0.19613590836524963,\n",
       " 0.19274021685123444,\n",
       " 0.19405686855316162,\n",
       " 0.19388243556022644,\n",
       " 0.1921864151954651,\n",
       " 0.1964539885520935,\n",
       " 0.1974433958530426,\n",
       " 0.1953456699848175,\n",
       " 0.1864229142665863,\n",
       " 0.19210122525691986,\n",
       " 0.2011488825082779,\n",
       " 0.20130495727062225,\n",
       " 0.2007770538330078,\n",
       " 0.20475682616233826,\n",
       " 0.20160257816314697,\n",
       " 0.19756180047988892,\n",
       " 0.19219042360782623,\n",
       " 0.19555336236953735,\n",
       " 0.20004816353321075,\n",
       " 0.19737644493579865,\n",
       " 0.19426554441452026,\n",
       " 0.20248453319072723,\n",
       " 0.20279888808727264,\n",
       " 0.20217864215373993,\n",
       " 0.20406167209148407,\n",
       " 0.20981965959072113,\n",
       " 0.2118424028158188,\n",
       " 0.21915017068386078,\n",
       " 0.20949172973632812,\n",
       " 0.20983758568763733,\n",
       " 0.21094490587711334,\n",
       " 0.22054719924926758,\n",
       " 0.2175643891096115,\n",
       " 0.21344447135925293,\n",
       " 0.2161806970834732]"
      ]
     },
     "execution_count": 73,
     "metadata": {},
     "output_type": "execute_result"
    }
   ],
   "source": [
    "history['val_loss']"
   ]
  },
  {
   "cell_type": "code",
   "execution_count": 74,
   "metadata": {},
   "outputs": [
    {
     "data": {
      "image/png": "[encoded data removed]",
      "text/plain": [
       "<Figure size 640x480 with 1 Axes>"
      ]
     },
     "metadata": {},
     "output_type": "display_data"
    },
    {
     "data": {
      "image/png": "[encoded data removed]",
      "text/plain": [
       "<Figure size 640x480 with 1 Axes>"
      ]
     },
     "metadata": {},
     "output_type": "display_data"
    }
   ],
   "source": [
    "acc = history['accuracy']\n",
    "loss = history['loss']\n",
    "val_acc = history['val_accuracy']\n",
    "val_loss = history['val_loss']\n",
    "\n",
    "epochs = range(1, len(acc) + 1)\n",
    "plt.plot(epochs, acc, 'bo', label='Training accuracy')\n",
    "plt.plot(epochs, val_acc, 'b', label='Validation accuracy')\n",
    "plt.title('Training and validation accuracies')\n",
    "plt.legend()\n",
    "\n",
    "plt.figure()\n",
    "plt.plot(epochs, loss, 'bo', label='Training loss')\n",
    "plt.plot(epochs, val_loss, 'b', label='Validation loss')\n",
    "plt.title('Training and validation losses')\n",
    "plt.legend()\n",
    "\n",
    "plt.show()"
   ]
  },
  {
   "cell_type": "code",
   "execution_count": 75,
   "metadata": {},
   "outputs": [
    {
     "data": {
      "text/plain": [
       "Model(\n",
       "  (embeddings): Embedding(\n",
       "    (input_embedding): Embedding(402597, 100)\n",
       "    (pos_embedding): Embedding(500, 100)\n",
       "    (dropout): Dropout(p=0.5, inplace=False)\n",
       "  )\n",
       "  (encoder_layer): TransformerEncoderLayer(\n",
       "    (self_attn): MultiheadAttention(\n",
       "      (out_proj): NonDynamicallyQuantizableLinear(in_features=100, out_features=100, bias=True)\n",
       "    )\n",
       "    (linear1): Linear(in_features=100, out_features=128, bias=True)\n",
       "    (dropout): Dropout(p=0.5, inplace=False)\n",
       "    (linear2): Linear(in_features=128, out_features=100, bias=True)\n",
       "    (norm1): LayerNorm((100,), eps=1e-05, elementwise_affine=True)\n",
       "    (norm2): LayerNorm((100,), eps=1e-05, elementwise_affine=True)\n",
       "    (dropout1): Dropout(p=0.5, inplace=False)\n",
       "    (dropout2): Dropout(p=0.5, inplace=False)\n",
       "  )\n",
       "  (encoder): TransformerEncoder(\n",
       "    (layers): ModuleList(\n",
       "      (0-3): 4 x TransformerEncoderLayer(\n",
       "        (self_attn): MultiheadAttention(\n",
       "          (out_proj): NonDynamicallyQuantizableLinear(in_features=100, out_features=100, bias=True)\n",
       "        )\n",
       "        (linear1): Linear(in_features=100, out_features=128, bias=True)\n",
       "        (dropout): Dropout(p=0.5, inplace=False)\n",
       "        (linear2): Linear(in_features=128, out_features=100, bias=True)\n",
       "        (norm1): LayerNorm((100,), eps=1e-05, elementwise_affine=True)\n",
       "        (norm2): LayerNorm((100,), eps=1e-05, elementwise_affine=True)\n",
       "        (dropout1): Dropout(p=0.5, inplace=False)\n",
       "        (dropout2): Dropout(p=0.5, inplace=False)\n",
       "      )\n",
       "    )\n",
       "  )\n",
       "  (fc): Linear(in_features=100, out_features=10, bias=True)\n",
       ")"
      ]
     },
     "execution_count": 75,
     "metadata": {},
     "output_type": "execute_result"
    }
   ],
   "source": [
    "model.eval()"
   ]
  },
  {
   "cell_type": "markdown",
   "metadata": {},
   "source": [
    "We try the model on a test sentence"
   ]
  },
  {
   "cell_type": "code",
   "execution_count": 76,
   "metadata": {},
   "outputs": [],
   "source": [
    "sentence = 'Homer wrote the Iliad .'.lower().split()"
   ]
  },
  {
   "cell_type": "markdown",
   "metadata": {},
   "source": [
    "We convert the sentence words to indices"
   ]
  },
  {
   "cell_type": "code",
   "execution_count": 77,
   "metadata": {},
   "outputs": [],
   "source": [
    "# The indexes or the unknown word idx\n",
    "sentence_word_idxs = torch.LongTensor([word2idx[word]\n",
    "                                       if word in word2idx else 1\n",
    "                                       for word in sentence])"
   ]
  },
  {
   "cell_type": "markdown",
   "metadata": {},
   "source": [
    "The indices. Note the 1 at the end."
   ]
  },
  {
   "cell_type": "code",
   "execution_count": 78,
   "metadata": {},
   "outputs": [
    {
     "name": "stdout",
     "output_type": "stream",
     "text": [
      "Sentence ['homer', 'wrote', 'the', 'iliad', '.']\n",
      "Sentence word indexes tensor([182779, 393044, 359698, 189110,    936])\n"
     ]
    }
   ],
   "source": [
    "print('Sentence', sentence)\n",
    "print('Sentence word indexes', sentence_word_idxs)"
   ]
  },
  {
   "attachments": {},
   "cell_type": "markdown",
   "metadata": {},
   "source": [
    "We predict the tags"
   ]
  },
  {
   "cell_type": "code",
   "execution_count": 79,
   "metadata": {},
   "outputs": [],
   "source": [
    "sent_tag_predictions = model(sentence_word_idxs)"
   ]
  },
  {
   "cell_type": "code",
   "execution_count": 80,
   "metadata": {},
   "outputs": [
    {
     "data": {
      "text/plain": [
       "torch.Size([5, 10])"
      ]
     },
     "execution_count": 80,
     "metadata": {},
     "output_type": "execute_result"
    }
   ],
   "source": [
    "sent_tag_predictions.size()"
   ]
  },
  {
   "attachments": {},
   "cell_type": "markdown",
   "metadata": {},
   "source": [
    "The estimated probabilities of the first tag"
   ]
  },
  {
   "cell_type": "code",
   "execution_count": 81,
   "metadata": {},
   "outputs": [
    {
     "data": {
      "text/plain": [
       "tensor([3.4586e-09, 1.8077e-07, 3.8602e-06, 2.5294e-06, 7.8201e-06, 2.7157e-08,\n",
       "        3.7165e-06, 5.5435e-07, 3.4103e-07, 9.9998e-01],\n",
       "       grad_fn=<SoftmaxBackward0>)"
      ]
     },
     "execution_count": 81,
     "metadata": {},
     "output_type": "execute_result"
    }
   ],
   "source": [
    "F.softmax(sent_tag_predictions[0], dim=-1)"
   ]
  },
  {
   "cell_type": "code",
   "execution_count": 82,
   "metadata": {},
   "outputs": [
    {
     "data": {
      "text/plain": [
       "tensor([9, 9, 9, 3, 9])"
      ]
     },
     "execution_count": 82,
     "metadata": {},
     "output_type": "execute_result"
    }
   ],
   "source": [
    "torch.argmax(F.softmax(sent_tag_predictions, dim=-1), dim=-1)"
   ]
  },
  {
   "attachments": {},
   "cell_type": "markdown",
   "metadata": {},
   "source": [
    "We apply argmax to select the tag"
   ]
  },
  {
   "cell_type": "code",
   "execution_count": 83,
   "metadata": {},
   "outputs": [
    {
     "name": "stdout",
     "output_type": "stream",
     "text": [
      "homer: O\n",
      "wrote: O\n",
      "the: O\n",
      "iliad: B-ORG\n",
      ".: O\n"
     ]
    }
   ],
   "source": [
    "for word_nbr, tag_predictions in enumerate(sent_tag_predictions):\n",
    "    if int(sentence_word_idxs[word_nbr]) in idx2word:\n",
    "        print(idx2word[int(sentence_word_idxs[word_nbr])], end=': ')\n",
    "    else:\n",
    "        print(sentence[word_nbr], '/ukn', end=': ')\n",
    "    print(idx2ner.get(int(torch.argmax(F.softmax(tag_predictions, dim=-1), dim=-1))))"
   ]
  },
  {
   "cell_type": "markdown",
   "metadata": {},
   "source": [
    "## Evaluating the Model"
   ]
  },
  {
   "cell_type": "code",
   "execution_count": 84,
   "metadata": {},
   "outputs": [
    {
     "data": {
      "text/plain": [
       "[[{'FORM': 'SOCCER', 'PPOS': 'NN', 'PCHUNK': 'B-NP', 'NER': 'O'},\n",
       "  {'FORM': '-', 'PPOS': ':', 'PCHUNK': 'O', 'NER': 'O'},\n",
       "  {'FORM': 'JAPAN', 'PPOS': 'NNP', 'PCHUNK': 'B-NP', 'NER': 'B-LOC'},\n",
       "  {'FORM': 'GET', 'PPOS': 'VB', 'PCHUNK': 'B-VP', 'NER': 'O'},\n",
       "  {'FORM': 'LUCKY', 'PPOS': 'NNP', 'PCHUNK': 'B-NP', 'NER': 'O'},\n",
       "  {'FORM': 'WIN', 'PPOS': 'NNP', 'PCHUNK': 'I-NP', 'NER': 'O'},\n",
       "  {'FORM': ',', 'PPOS': ',', 'PCHUNK': 'O', 'NER': 'O'},\n",
       "  {'FORM': 'CHINA', 'PPOS': 'NNP', 'PCHUNK': 'B-NP', 'NER': 'B-PER'},\n",
       "  {'FORM': 'IN', 'PPOS': 'IN', 'PCHUNK': 'B-PP', 'NER': 'O'},\n",
       "  {'FORM': 'SURPRISE', 'PPOS': 'DT', 'PCHUNK': 'B-NP', 'NER': 'O'},\n",
       "  {'FORM': 'DEFEAT', 'PPOS': 'NN', 'PCHUNK': 'I-NP', 'NER': 'O'},\n",
       "  {'FORM': '.', 'PPOS': '.', 'PCHUNK': 'O', 'NER': 'O'}]]"
      ]
     },
     "execution_count": 84,
     "metadata": {},
     "output_type": "execute_result"
    }
   ],
   "source": [
    "test_sentences = read_sentences(test_file)\n",
    "test_dict = split_rows(test_sentences, column_names)\n",
    "test_dict[1:2]"
   ]
  },
  {
   "attachments": {},
   "cell_type": "markdown",
   "metadata": {},
   "source": [
    "We predict the NER tags"
   ]
  },
  {
   "cell_type": "code",
   "execution_count": 85,
   "metadata": {},
   "outputs": [
    {
     "data": {
      "text/plain": [
       "(0.2905119061470032, 0.9412420392036438)"
      ]
     },
     "execution_count": 85,
     "metadata": {},
     "output_type": "execute_result"
    }
   ],
   "source": [
    "test_loss, test_acc = evaluate(model, loss_fn, test_dataloader)\n",
    "test_loss, test_acc"
   ]
  },
  {
   "attachments": {},
   "cell_type": "markdown",
   "metadata": {},
   "source": [
    "We now predict the whole test set and we store the results in each dictionary with the key `pner`"
   ]
  },
  {
   "cell_type": "code",
   "execution_count": 86,
   "metadata": {},
   "outputs": [
    {
     "data": {
      "text/plain": [
       "'-DOCSTART- -X- -X- O'"
      ]
     },
     "execution_count": 86,
     "metadata": {},
     "output_type": "execute_result"
    }
   ],
   "source": [
    "test_sentences[0]"
   ]
  },
  {
   "cell_type": "code",
   "execution_count": 87,
   "metadata": {},
   "outputs": [],
   "source": [
    "Y_test_pred = batch_inference(model, test_dataloader)"
   ]
  },
  {
   "cell_type": "code",
   "execution_count": 88,
   "metadata": {},
   "outputs": [
    {
     "data": {
      "text/plain": [
       "tensor([[9, 0, 0,  ..., 0, 0, 0],\n",
       "        [9, 9, 1,  ..., 0, 0, 0],\n",
       "        [4, 8, 0,  ..., 0, 0, 0],\n",
       "        ...,\n",
       "        [4, 9, 1,  ..., 0, 0, 0],\n",
       "        [9, 9, 1,  ..., 0, 0, 0],\n",
       "        [9, 9, 9,  ..., 0, 0, 0]])"
      ]
     },
     "execution_count": 88,
     "metadata": {},
     "output_type": "execute_result"
    }
   ],
   "source": [
    "Y_test"
   ]
  },
  {
   "cell_type": "code",
   "execution_count": 89,
   "metadata": {},
   "outputs": [
    {
     "data": {
      "text/plain": [
       "tensor([[9, 9, 9,  ..., 9, 9, 9],\n",
       "        [9, 9, 1,  ..., 9, 9, 9],\n",
       "        [8, 8, 7,  ..., 7, 7, 7],\n",
       "        ...,\n",
       "        [3, 9, 1,  ..., 9, 9, 9],\n",
       "        [9, 9, 1,  ..., 9, 9, 9],\n",
       "        [9, 9, 9,  ..., 9, 9, 9]])"
      ]
     },
     "execution_count": 89,
     "metadata": {},
     "output_type": "execute_result"
    }
   ],
   "source": [
    "Y_test_pred_ner = torch.argmax(Y_test_pred, dim=-1)\n",
    "Y_test_pred_ner"
   ]
  },
  {
   "cell_type": "code",
   "execution_count": 90,
   "metadata": {},
   "outputs": [],
   "source": [
    "for sent, y_hat_probs in zip(test_dict, Y_test_pred):\n",
    "    sent_len = len(sent)\n",
    "    y_hat_probs = y_hat_probs[:sent_len]\n",
    "    # y_hat = torch.argmax(y_hat_probs, dim=-1) # This statement sometimes predicts 0 (the padding symbol)\n",
    "    y_hat = torch.argmax(y_hat_probs[:, 1:], dim=-1) + 1  # Never predicts 0\n",
    "    for word, ner_hat in zip(sent, y_hat):\n",
    "        word['PNER'] = idx2ner.get(int(ner_hat))\n",
    "        if word['PNER'] == None:\n",
    "            print(sent)"
   ]
  },
  {
   "attachments": {},
   "cell_type": "markdown",
   "metadata": {},
   "source": [
    "A sentence example: `NER` is the hand annotation and `PNER` is the prediction."
   ]
  },
  {
   "cell_type": "code",
   "execution_count": 91,
   "metadata": {},
   "outputs": [
    {
     "data": {
      "text/plain": [
       "[{'FORM': '-DOCSTART-',\n",
       "  'PPOS': '-X-',\n",
       "  'PCHUNK': '-X-',\n",
       "  'NER': 'O',\n",
       "  'PNER': 'O'}]"
      ]
     },
     "execution_count": 91,
     "metadata": {},
     "output_type": "execute_result"
    }
   ],
   "source": [
    "test_dict[0]"
   ]
  },
  {
   "cell_type": "code",
   "execution_count": 92,
   "metadata": {},
   "outputs": [
    {
     "data": {
      "text/plain": [
       "[{'FORM': 'SOCCER', 'PPOS': 'NN', 'PCHUNK': 'B-NP', 'NER': 'O', 'PNER': 'O'},\n",
       " {'FORM': '-', 'PPOS': ':', 'PCHUNK': 'O', 'NER': 'O', 'PNER': 'O'},\n",
       " {'FORM': 'JAPAN',\n",
       "  'PPOS': 'NNP',\n",
       "  'PCHUNK': 'B-NP',\n",
       "  'NER': 'B-LOC',\n",
       "  'PNER': 'B-LOC'},\n",
       " {'FORM': 'GET', 'PPOS': 'VB', 'PCHUNK': 'B-VP', 'NER': 'O', 'PNER': 'O'},\n",
       " {'FORM': 'LUCKY', 'PPOS': 'NNP', 'PCHUNK': 'B-NP', 'NER': 'O', 'PNER': 'O'},\n",
       " {'FORM': 'WIN', 'PPOS': 'NNP', 'PCHUNK': 'I-NP', 'NER': 'O', 'PNER': 'O'},\n",
       " {'FORM': ',', 'PPOS': ',', 'PCHUNK': 'O', 'NER': 'O', 'PNER': 'O'},\n",
       " {'FORM': 'CHINA',\n",
       "  'PPOS': 'NNP',\n",
       "  'PCHUNK': 'B-NP',\n",
       "  'NER': 'B-PER',\n",
       "  'PNER': 'B-LOC'},\n",
       " {'FORM': 'IN', 'PPOS': 'IN', 'PCHUNK': 'B-PP', 'NER': 'O', 'PNER': 'O'},\n",
       " {'FORM': 'SURPRISE', 'PPOS': 'DT', 'PCHUNK': 'B-NP', 'NER': 'O', 'PNER': 'O'},\n",
       " {'FORM': 'DEFEAT', 'PPOS': 'NN', 'PCHUNK': 'I-NP', 'NER': 'O', 'PNER': 'O'},\n",
       " {'FORM': '.', 'PPOS': '.', 'PCHUNK': 'O', 'NER': 'O', 'PNER': 'O'}]"
      ]
     },
     "execution_count": 92,
     "metadata": {},
     "output_type": "execute_result"
    }
   ],
   "source": [
    "test_dict[1]"
   ]
  },
  {
   "cell_type": "code",
   "execution_count": 93,
   "metadata": {},
   "outputs": [],
   "source": [
    "cnt = 0\n",
    "cnt_corr = 0\n",
    "for s in test_dict:\n",
    "    for w in s:\n",
    "        if w['PNER'] == w['NER']:\n",
    "            cnt_corr += 1\n",
    "        cnt += 1"
   ]
  },
  {
   "cell_type": "code",
   "execution_count": 94,
   "metadata": {},
   "outputs": [
    {
     "data": {
      "text/plain": [
       "0.9412420177431107"
      ]
     },
     "execution_count": 94,
     "metadata": {},
     "output_type": "execute_result"
    }
   ],
   "source": [
    "cnt_corr/cnt"
   ]
  },
  {
   "cell_type": "markdown",
   "metadata": {},
   "source": [
    "We save the test set in a file to evaluate the performance of our model."
   ]
  },
  {
   "cell_type": "code",
   "execution_count": 95,
   "metadata": {},
   "outputs": [],
   "source": [
    "column_names = ['FORM', 'PPOS', 'PCHUNK', 'NER', 'PNER']"
   ]
  },
  {
   "cell_type": "code",
   "execution_count": 96,
   "metadata": {},
   "outputs": [],
   "source": [
    "def save(file, corpus_dict, column_names):\n",
    "    \"\"\"\n",
    "    Saves the corpus in a file\n",
    "    :param file:\n",
    "    :param corpus_dict:\n",
    "    :param column_names:\n",
    "    :return:\n",
    "    \"\"\"\n",
    "    i = 0\n",
    "    with open(file, 'w', encoding='utf8') as f_out:\n",
    "        i += 1\n",
    "        for sentence in corpus_dict:\n",
    "            sentence_lst = []\n",
    "            for row in sentence:\n",
    "                items = map(lambda x: row.get(x, '_'), column_names)\n",
    "                sentence_lst += ' '.join(items) + '\\n'\n",
    "            sentence_lst += '\\n'\n",
    "            f_out.write(''.join(sentence_lst))"
   ]
  },
  {
   "cell_type": "code",
   "execution_count": 97,
   "metadata": {},
   "outputs": [],
   "source": [
    "outfile = 'test_model.out'"
   ]
  },
  {
   "cell_type": "code",
   "execution_count": 98,
   "metadata": {},
   "outputs": [],
   "source": [
    "save(outfile, test_dict, column_names)"
   ]
  },
  {
   "cell_type": "code",
   "execution_count": 99,
   "metadata": {},
   "outputs": [
    {
     "data": {
      "text/plain": [
       "0.7043637574950034"
      ]
     },
     "execution_count": 99,
     "metadata": {},
     "output_type": "execute_result"
    }
   ],
   "source": [
    "lines = open(outfile, encoding='utf8').read().splitlines()\n",
    "res = conlleval.evaluate(lines)\n",
    "chunker_score = res['overall']['chunks']['evals']['f1']\n",
    "chunker_score"
   ]
  },
  {
   "cell_type": "code",
   "execution_count": 100,
   "metadata": {},
   "outputs": [
    {
     "data": {
      "text/plain": [
       "{'EPOCHS': 50,\n",
       " 'num_layers': 4,\n",
       " 'DROPOUT': 0.5,\n",
       " 'EMB_LARGE': True,\n",
       " 'FREEZE_EMBS': False}"
      ]
     },
     "execution_count": 100,
     "metadata": {},
     "output_type": "execute_result"
    }
   ],
   "source": [
    "config"
   ]
  },
  {
   "cell_type": "code",
   "execution_count": null,
   "metadata": {},
   "outputs": [],
   "source": [
    "torch.save(model.state_dict(), 'model.pth')"
   ]
  }
 ],
 "metadata": {
  "kernelspec": {
   "display_name": "Python 3.9.12 ('base')",
   "language": "python",
   "name": "python3"
  },
  "language_info": {
   "codemirror_mode": {
    "name": "ipython",
    "version": 3
   },
   "file_extension": ".py",
   "mimetype": "text/x-python",
   "name": "python",
   "nbconvert_exporter": "python",
   "pygments_lexer": "ipython3",
   "version": "3.1.-1"
  },
  "vscode": {
   "interpreter": {
    "hash": "b97b11a820675205aae8f1d7f2a3f22bbd3a2c30189f44042310baf5b4cd1987"
   }
  }
 },
 "nbformat": 4,
 "nbformat_minor": 4
}
