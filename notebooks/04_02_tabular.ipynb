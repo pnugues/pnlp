{
 "cells": [
  {
   "cell_type": "markdown",
   "metadata": {
    "tags": []
   },
   "source": [
    "# Chapter 4: Encoding and Annotation Schemes\n",
    "## Tabular Datasets\n",
    "Loading tabular datasets"
   ]
  },
  {
   "cell_type": "markdown",
   "metadata": {},
   "source": [
    "Programs from the book: [_Python for Natural Language Processing_](https://link.springer.com/book/9783031575488)\n",
    "\n",
    "__Author__: Pierre Nugues"
   ]
  },
  {
   "cell_type": "code",
   "execution_count": 1,
   "metadata": {},
   "outputs": [],
   "source": [
    "import pandas as pd\n",
    "import csv\n",
    "import requests"
   ]
  },
  {
   "cell_type": "markdown",
   "metadata": {},
   "source": [
    "## Quora Question Pairs"
   ]
  },
  {
   "cell_type": "code",
   "execution_count": 2,
   "metadata": {},
   "outputs": [],
   "source": [
    "qqp_url = 'http://qim.fs.quoracdn.net/quora_duplicate_questions.tsv'"
   ]
  },
  {
   "cell_type": "code",
   "execution_count": 3,
   "metadata": {},
   "outputs": [],
   "source": [
    "col_names = ['id', 'qid1', 'qid2', 'question1', 'question2',\n",
    "             'is_duplicate']"
   ]
  },
  {
   "cell_type": "markdown",
   "metadata": {},
   "source": [
    "## csv"
   ]
  },
  {
   "cell_type": "code",
   "execution_count": 4,
   "metadata": {},
   "outputs": [],
   "source": [
    "qqp_reader = csv.DictReader(\n",
    "    requests.get(qqp_url).text.splitlines(),\n",
    "    delimiter='\\t')"
   ]
  },
  {
   "cell_type": "code",
   "execution_count": 5,
   "metadata": {},
   "outputs": [],
   "source": [
    "qqp_dataset = [row for row in qqp_reader]"
   ]
  },
  {
   "cell_type": "code",
   "execution_count": 6,
   "metadata": {},
   "outputs": [
    {
     "data": {
      "text/plain": [
       "{'id': '447',\n",
       " 'qid1': '892',\n",
       " 'qid2': '893',\n",
       " 'question1': 'What are natural numbers?',\n",
       " 'question2': 'What is a least natural number?',\n",
       " 'is_duplicate': '0'}"
      ]
     },
     "execution_count": 6,
     "metadata": {},
     "output_type": "execute_result"
    }
   ],
   "source": [
    "qqp_dataset[447]"
   ]
  },
  {
   "cell_type": "code",
   "execution_count": 7,
   "metadata": {},
   "outputs": [
    {
     "data": {
      "text/plain": [
       "{'id': '3273',\n",
       " 'qid1': '6488',\n",
       " 'qid2': '6489',\n",
       " 'question1': 'How do you start a bakery?',\n",
       " 'question2': 'How can one start a bakery business?',\n",
       " 'is_duplicate': '1'}"
      ]
     },
     "execution_count": 7,
     "metadata": {},
     "output_type": "execute_result"
    }
   ],
   "source": [
    "qqp_dataset[3273]"
   ]
  },
  {
   "cell_type": "markdown",
   "metadata": {},
   "source": [
    "Where to store the dataset"
   ]
  },
  {
   "cell_type": "code",
   "execution_count": 8,
   "metadata": {},
   "outputs": [],
   "source": [
    "PATH = '../datasets/'"
   ]
  },
  {
   "cell_type": "code",
   "execution_count": 9,
   "metadata": {},
   "outputs": [],
   "source": [
    "with open(PATH + 'qqp.tsv', 'w') as qqp_tsv:\n",
    "    writer = csv.DictWriter(qqp_tsv, fieldnames=col_names)\n",
    "    writer.writeheader()\n",
    "    for row in qqp_dataset:\n",
    "        writer.writerow(row)"
   ]
  },
  {
   "cell_type": "markdown",
   "metadata": {},
   "source": [
    "## Pandas"
   ]
  },
  {
   "cell_type": "code",
   "execution_count": 10,
   "metadata": {},
   "outputs": [],
   "source": [
    "from io import StringIO"
   ]
  },
  {
   "cell_type": "code",
   "execution_count": 11,
   "metadata": {},
   "outputs": [],
   "source": [
    "qqp_pandas = pd.read_csv(\n",
    "    StringIO(requests.get(qqp_url).text),\n",
    "    sep='\\t')"
   ]
  },
  {
   "cell_type": "code",
   "execution_count": 12,
   "metadata": {},
   "outputs": [
    {
     "data": {
      "text/html": [
       "<div>\n",
       "<style scoped>\n",
       "    .dataframe tbody tr th:only-of-type {\n",
       "        vertical-align: middle;\n",
       "    }\n",
       "\n",
       "    .dataframe tbody tr th {\n",
       "        vertical-align: top;\n",
       "    }\n",
       "\n",
       "    .dataframe thead th {\n",
       "        text-align: right;\n",
       "    }\n",
       "</style>\n",
       "<table border=\"1\" class=\"dataframe\">\n",
       "  <thead>\n",
       "    <tr style=\"text-align: right;\">\n",
       "      <th></th>\n",
       "      <th>id</th>\n",
       "      <th>qid1</th>\n",
       "      <th>qid2</th>\n",
       "      <th>question1</th>\n",
       "      <th>question2</th>\n",
       "      <th>is_duplicate</th>\n",
       "    </tr>\n",
       "  </thead>\n",
       "  <tbody>\n",
       "    <tr>\n",
       "      <th>0</th>\n",
       "      <td>0</td>\n",
       "      <td>1</td>\n",
       "      <td>2</td>\n",
       "      <td>What is the step by step guide to invest in sh...</td>\n",
       "      <td>What is the step by step guide to invest in sh...</td>\n",
       "      <td>0</td>\n",
       "    </tr>\n",
       "    <tr>\n",
       "      <th>1</th>\n",
       "      <td>1</td>\n",
       "      <td>3</td>\n",
       "      <td>4</td>\n",
       "      <td>What is the story of Kohinoor (Koh-i-Noor) Dia...</td>\n",
       "      <td>What would happen if the Indian government sto...</td>\n",
       "      <td>0</td>\n",
       "    </tr>\n",
       "    <tr>\n",
       "      <th>2</th>\n",
       "      <td>2</td>\n",
       "      <td>5</td>\n",
       "      <td>6</td>\n",
       "      <td>How can I increase the speed of my internet co...</td>\n",
       "      <td>How can Internet speed be increased by hacking...</td>\n",
       "      <td>0</td>\n",
       "    </tr>\n",
       "    <tr>\n",
       "      <th>3</th>\n",
       "      <td>3</td>\n",
       "      <td>7</td>\n",
       "      <td>8</td>\n",
       "      <td>Why am I mentally very lonely? How can I solve...</td>\n",
       "      <td>Find the remainder when [math]23^{24}[/math] i...</td>\n",
       "      <td>0</td>\n",
       "    </tr>\n",
       "    <tr>\n",
       "      <th>4</th>\n",
       "      <td>4</td>\n",
       "      <td>9</td>\n",
       "      <td>10</td>\n",
       "      <td>Which one dissolve in water quikly sugar, salt...</td>\n",
       "      <td>Which fish would survive in salt water?</td>\n",
       "      <td>0</td>\n",
       "    </tr>\n",
       "    <tr>\n",
       "      <th>...</th>\n",
       "      <td>...</td>\n",
       "      <td>...</td>\n",
       "      <td>...</td>\n",
       "      <td>...</td>\n",
       "      <td>...</td>\n",
       "      <td>...</td>\n",
       "    </tr>\n",
       "    <tr>\n",
       "      <th>404285</th>\n",
       "      <td>404285</td>\n",
       "      <td>433578</td>\n",
       "      <td>379845</td>\n",
       "      <td>How many keywords are there in the Racket prog...</td>\n",
       "      <td>How many keywords are there in PERL Programmin...</td>\n",
       "      <td>0</td>\n",
       "    </tr>\n",
       "    <tr>\n",
       "      <th>404286</th>\n",
       "      <td>404286</td>\n",
       "      <td>18840</td>\n",
       "      <td>155606</td>\n",
       "      <td>Do you believe there is life after death?</td>\n",
       "      <td>Is it true that there is life after death?</td>\n",
       "      <td>1</td>\n",
       "    </tr>\n",
       "    <tr>\n",
       "      <th>404287</th>\n",
       "      <td>404287</td>\n",
       "      <td>537928</td>\n",
       "      <td>537929</td>\n",
       "      <td>What is one coin?</td>\n",
       "      <td>What's this coin?</td>\n",
       "      <td>0</td>\n",
       "    </tr>\n",
       "    <tr>\n",
       "      <th>404288</th>\n",
       "      <td>404288</td>\n",
       "      <td>537930</td>\n",
       "      <td>537931</td>\n",
       "      <td>What is the approx annual cost of living while...</td>\n",
       "      <td>I am having little hairfall problem but I want...</td>\n",
       "      <td>0</td>\n",
       "    </tr>\n",
       "    <tr>\n",
       "      <th>404289</th>\n",
       "      <td>404289</td>\n",
       "      <td>537932</td>\n",
       "      <td>537933</td>\n",
       "      <td>What is like to have sex with cousin?</td>\n",
       "      <td>What is it like to have sex with your cousin?</td>\n",
       "      <td>0</td>\n",
       "    </tr>\n",
       "  </tbody>\n",
       "</table>\n",
       "<p>404290 rows × 6 columns</p>\n",
       "</div>"
      ],
      "text/plain": [
       "            id    qid1    qid2  \\\n",
       "0            0       1       2   \n",
       "1            1       3       4   \n",
       "2            2       5       6   \n",
       "3            3       7       8   \n",
       "4            4       9      10   \n",
       "...        ...     ...     ...   \n",
       "404285  404285  433578  379845   \n",
       "404286  404286   18840  155606   \n",
       "404287  404287  537928  537929   \n",
       "404288  404288  537930  537931   \n",
       "404289  404289  537932  537933   \n",
       "\n",
       "                                                question1  \\\n",
       "0       What is the step by step guide to invest in sh...   \n",
       "1       What is the story of Kohinoor (Koh-i-Noor) Dia...   \n",
       "2       How can I increase the speed of my internet co...   \n",
       "3       Why am I mentally very lonely? How can I solve...   \n",
       "4       Which one dissolve in water quikly sugar, salt...   \n",
       "...                                                   ...   \n",
       "404285  How many keywords are there in the Racket prog...   \n",
       "404286          Do you believe there is life after death?   \n",
       "404287                                  What is one coin?   \n",
       "404288  What is the approx annual cost of living while...   \n",
       "404289              What is like to have sex with cousin?   \n",
       "\n",
       "                                                question2  is_duplicate  \n",
       "0       What is the step by step guide to invest in sh...             0  \n",
       "1       What would happen if the Indian government sto...             0  \n",
       "2       How can Internet speed be increased by hacking...             0  \n",
       "3       Find the remainder when [math]23^{24}[/math] i...             0  \n",
       "4                 Which fish would survive in salt water?             0  \n",
       "...                                                   ...           ...  \n",
       "404285  How many keywords are there in PERL Programmin...             0  \n",
       "404286         Is it true that there is life after death?             1  \n",
       "404287                                  What's this coin?             0  \n",
       "404288  I am having little hairfall problem but I want...             0  \n",
       "404289      What is it like to have sex with your cousin?             0  \n",
       "\n",
       "[404290 rows x 6 columns]"
      ]
     },
     "execution_count": 12,
     "metadata": {},
     "output_type": "execute_result"
    }
   ],
   "source": [
    "qqp_pandas"
   ]
  },
  {
   "cell_type": "code",
   "execution_count": 13,
   "metadata": {},
   "outputs": [
    {
     "data": {
      "text/plain": [
       "id                                          447\n",
       "qid1                                        892\n",
       "qid2                                        893\n",
       "question1             What are natural numbers?\n",
       "question2       What is a least natural number?\n",
       "is_duplicate                                  0\n",
       "Name: 447, dtype: object"
      ]
     },
     "execution_count": 13,
     "metadata": {},
     "output_type": "execute_result"
    }
   ],
   "source": [
    "qqp_pandas.iloc[447]"
   ]
  },
  {
   "cell_type": "code",
   "execution_count": 14,
   "metadata": {},
   "outputs": [
    {
     "data": {
      "text/plain": [
       "{'id': 447,\n",
       " 'qid1': 892,\n",
       " 'qid2': 893,\n",
       " 'question1': 'What are natural numbers?',\n",
       " 'question2': 'What is a least natural number?',\n",
       " 'is_duplicate': 0}"
      ]
     },
     "execution_count": 14,
     "metadata": {},
     "output_type": "execute_result"
    }
   ],
   "source": [
    "qqp_pandas.to_dict('records')[447]"
   ]
  },
  {
   "cell_type": "code",
   "execution_count": 15,
   "metadata": {},
   "outputs": [],
   "source": [
    "qqp_pandas.to_csv(PATH + 'qqp_pd.tsv')"
   ]
  },
  {
   "cell_type": "code",
   "execution_count": 16,
   "metadata": {},
   "outputs": [],
   "source": [
    "import json\n",
    "\n",
    "with open(PATH + 'qqp.json', 'w') as f:\n",
    "    json.dump(qqp_pandas.to_dict('records'), f)"
   ]
  },
  {
   "cell_type": "markdown",
   "metadata": {},
   "source": [
    "## CoNLL"
   ]
  },
  {
   "cell_type": "code",
   "execution_count": 17,
   "metadata": {},
   "outputs": [
    {
     "data": {
      "text/plain": [
       "['1\\tFrom\\tfrom\\tADP\\tIN\\t_\\t3\\tcase\\t3:case\\t_',\n",
       " '2\\tthe\\tthe\\tDET\\tDT\\tDefinite=Def|PronType=Art\\t3\\tdet\\t3:det\\t_',\n",
       " '3\\tAP\\tAP\\tPROPN\\tNNP\\tNumber=Sing\\t4\\tobl\\t4:obl:from\\t_',\n",
       " '4\\tcomes\\tcome\\tVERB\\tVBZ\\tMood=Ind|Number=Sing|Person=3|Tense=Pres|VerbForm=Fin\\t0\\troot\\t0:root\\t_',\n",
       " '5\\tthis\\tthis\\tDET\\tDT\\tNumber=Sing|PronType=Dem\\t6\\tdet\\t6:det\\t_',\n",
       " '6\\tstory\\tstory\\tNOUN\\tNN\\tNumber=Sing\\t4\\tnsubj\\t4:nsubj\\t_',\n",
       " '7\\t:\\t:\\tPUNCT\\t:\\t_\\t4\\tpunct\\t4:punct\\t_']"
      ]
     },
     "execution_count": 17,
     "metadata": {},
     "output_type": "execute_result"
    }
   ],
   "source": [
    "conll_excerpt = \"\"\"1\tFrom\tfrom\tADP\tIN\t_\t3\tcase\t3:case\t_\n",
    "2\tthe\tthe\tDET\tDT\tDefinite=Def|PronType=Art\t3\tdet\t3:det\t_\n",
    "3\tAP\tAP\tPROPN\tNNP\tNumber=Sing\t4\tobl\t4:obl:from\t_\n",
    "4\tcomes\tcome\tVERB\tVBZ\tMood=Ind|Number=Sing|Person=3|Tense=Pres|VerbForm=Fin\t0\troot\t0:root\t_\n",
    "5\tthis\tthis\tDET\tDT\tNumber=Sing|PronType=Dem\t6\tdet\t6:det\t_\n",
    "6\tstory\tstory\tNOUN\tNN\tNumber=Sing\t4\tnsubj\t4:nsubj\t_\n",
    "7\t:\t:\tPUNCT\t:\t_\t4\tpunct\t4:punct\t_\n",
    "\"\"\".strip().splitlines()\n",
    "conll_excerpt"
   ]
  },
  {
   "cell_type": "code",
   "execution_count": 18,
   "metadata": {},
   "outputs": [],
   "source": [
    "col_names = ['ID', 'FORM', 'LEMMA', 'UPOS', 'XPOS', 'FEATS',\n",
    "             'HEAD', 'DEPREL', 'DEPS', 'MISC']"
   ]
  },
  {
   "cell_type": "code",
   "execution_count": 19,
   "metadata": {},
   "outputs": [
    {
     "data": {
      "text/plain": [
       "[{'ID': '1',\n",
       "  'FORM': 'From',\n",
       "  'LEMMA': 'from',\n",
       "  'UPOS': 'ADP',\n",
       "  'XPOS': 'IN',\n",
       "  'FEATS': '_',\n",
       "  'HEAD': '3',\n",
       "  'DEPREL': 'case',\n",
       "  'DEPS': '3:case',\n",
       "  'MISC': '_'},\n",
       " {'ID': '2',\n",
       "  'FORM': 'the',\n",
       "  'LEMMA': 'the',\n",
       "  'UPOS': 'DET',\n",
       "  'XPOS': 'DT',\n",
       "  'FEATS': 'Definite=Def|PronType=Art',\n",
       "  'HEAD': '3',\n",
       "  'DEPREL': 'det',\n",
       "  'DEPS': '3:det',\n",
       "  'MISC': '_'},\n",
       " {'ID': '3',\n",
       "  'FORM': 'AP',\n",
       "  'LEMMA': 'AP',\n",
       "  'UPOS': 'PROPN',\n",
       "  'XPOS': 'NNP',\n",
       "  'FEATS': 'Number=Sing',\n",
       "  'HEAD': '4',\n",
       "  'DEPREL': 'obl',\n",
       "  'DEPS': '4:obl:from',\n",
       "  'MISC': '_'},\n",
       " {'ID': '4',\n",
       "  'FORM': 'comes',\n",
       "  'LEMMA': 'come',\n",
       "  'UPOS': 'VERB',\n",
       "  'XPOS': 'VBZ',\n",
       "  'FEATS': 'Mood=Ind|Number=Sing|Person=3|Tense=Pres|VerbForm=Fin',\n",
       "  'HEAD': '0',\n",
       "  'DEPREL': 'root',\n",
       "  'DEPS': '0:root',\n",
       "  'MISC': '_'},\n",
       " {'ID': '5',\n",
       "  'FORM': 'this',\n",
       "  'LEMMA': 'this',\n",
       "  'UPOS': 'DET',\n",
       "  'XPOS': 'DT',\n",
       "  'FEATS': 'Number=Sing|PronType=Dem',\n",
       "  'HEAD': '6',\n",
       "  'DEPREL': 'det',\n",
       "  'DEPS': '6:det',\n",
       "  'MISC': '_'},\n",
       " {'ID': '6',\n",
       "  'FORM': 'story',\n",
       "  'LEMMA': 'story',\n",
       "  'UPOS': 'NOUN',\n",
       "  'XPOS': 'NN',\n",
       "  'FEATS': 'Number=Sing',\n",
       "  'HEAD': '4',\n",
       "  'DEPREL': 'nsubj',\n",
       "  'DEPS': '4:nsubj',\n",
       "  'MISC': '_'},\n",
       " {'ID': '7',\n",
       "  'FORM': ':',\n",
       "  'LEMMA': ':',\n",
       "  'UPOS': 'PUNCT',\n",
       "  'XPOS': ':',\n",
       "  'FEATS': '_',\n",
       "  'HEAD': '4',\n",
       "  'DEPREL': 'punct',\n",
       "  'DEPS': '4:punct',\n",
       "  'MISC': '_'}]"
      ]
     },
     "execution_count": 19,
     "metadata": {},
     "output_type": "execute_result"
    }
   ],
   "source": [
    "list(csv.DictReader(conll_excerpt, fieldnames=col_names, delimiter='\\t'))"
   ]
  },
  {
   "cell_type": "markdown",
   "metadata": {},
   "source": [
    "Reading from GitHub"
   ]
  },
  {
   "cell_type": "code",
   "execution_count": 20,
   "metadata": {},
   "outputs": [],
   "source": [
    "base_url = 'https://raw.githubusercontent.com/UniversalDependencies/UD_English-EWT/master/'\n",
    "ewt_train_url = base_url + 'en_ewt-ud-train.conllu'\n",
    "ewt_dev_url = base_url + 'en_ewt-ud-dev.conllu'\n",
    "ewt_test_url = base_url + 'en_ewt-ud-test.conllu'"
   ]
  },
  {
   "cell_type": "markdown",
   "metadata": {},
   "source": [
    "The `csv` module"
   ]
  },
  {
   "cell_type": "code",
   "execution_count": 21,
   "metadata": {},
   "outputs": [],
   "source": [
    "conll_reader = csv.DictReader(\n",
    "    requests.get(ewt_dev_url).text.splitlines(),\n",
    "    fieldnames=col_names,\n",
    "    delimiter='\\t')"
   ]
  },
  {
   "cell_type": "code",
   "execution_count": 22,
   "metadata": {},
   "outputs": [],
   "source": [
    "conll_dataset = [row for row in conll_reader]"
   ]
  },
  {
   "cell_type": "code",
   "execution_count": 23,
   "metadata": {},
   "outputs": [
    {
     "data": {
      "text/plain": [
       "[{'ID': '1',\n",
       "  'FORM': 'From',\n",
       "  'LEMMA': 'from',\n",
       "  'UPOS': 'ADP',\n",
       "  'XPOS': 'IN',\n",
       "  'FEATS': '_',\n",
       "  'HEAD': '3',\n",
       "  'DEPREL': 'case',\n",
       "  'DEPS': '3:case',\n",
       "  'MISC': '_'},\n",
       " {'ID': '2',\n",
       "  'FORM': 'the',\n",
       "  'LEMMA': 'the',\n",
       "  'UPOS': 'DET',\n",
       "  'XPOS': 'DT',\n",
       "  'FEATS': 'Definite=Def|PronType=Art',\n",
       "  'HEAD': '3',\n",
       "  'DEPREL': 'det',\n",
       "  'DEPS': '3:det',\n",
       "  'MISC': '_'},\n",
       " {'ID': '3',\n",
       "  'FORM': 'AP',\n",
       "  'LEMMA': 'AP',\n",
       "  'UPOS': 'PROPN',\n",
       "  'XPOS': 'NNP',\n",
       "  'FEATS': 'Number=Sing',\n",
       "  'HEAD': '4',\n",
       "  'DEPREL': 'obl',\n",
       "  'DEPS': '4:obl:from',\n",
       "  'MISC': '_'},\n",
       " {'ID': '4',\n",
       "  'FORM': 'comes',\n",
       "  'LEMMA': 'come',\n",
       "  'UPOS': 'VERB',\n",
       "  'XPOS': 'VBZ',\n",
       "  'FEATS': 'Mood=Ind|Number=Sing|Person=3|Tense=Pres|VerbForm=Fin',\n",
       "  'HEAD': '0',\n",
       "  'DEPREL': 'root',\n",
       "  'DEPS': '0:root',\n",
       "  'MISC': '_'},\n",
       " {'ID': '5',\n",
       "  'FORM': 'this',\n",
       "  'LEMMA': 'this',\n",
       "  'UPOS': 'DET',\n",
       "  'XPOS': 'DT',\n",
       "  'FEATS': 'Number=Sing|PronType=Dem',\n",
       "  'HEAD': '6',\n",
       "  'DEPREL': 'det',\n",
       "  'DEPS': '6:det',\n",
       "  'MISC': '_'},\n",
       " {'ID': '6',\n",
       "  'FORM': 'story',\n",
       "  'LEMMA': 'story',\n",
       "  'UPOS': 'NOUN',\n",
       "  'XPOS': 'NN',\n",
       "  'FEATS': 'Number=Sing',\n",
       "  'HEAD': '4',\n",
       "  'DEPREL': 'nsubj',\n",
       "  'DEPS': '4:nsubj',\n",
       "  'MISC': '_'},\n",
       " {'ID': '7',\n",
       "  'FORM': ':',\n",
       "  'LEMMA': ':',\n",
       "  'UPOS': 'PUNCT',\n",
       "  'XPOS': ':',\n",
       "  'FEATS': '_',\n",
       "  'HEAD': '4',\n",
       "  'DEPREL': 'punct',\n",
       "  'DEPS': '4:punct',\n",
       "  'MISC': '_'}]"
      ]
     },
     "execution_count": 23,
     "metadata": {},
     "output_type": "execute_result"
    }
   ],
   "source": [
    "conll_dataset[4:11]"
   ]
  },
  {
   "cell_type": "markdown",
   "metadata": {},
   "source": [
    "## Pandas"
   ]
  },
  {
   "cell_type": "code",
   "execution_count": 24,
   "metadata": {},
   "outputs": [],
   "source": [
    "conll_pandas = pd.read_csv(\n",
    "    ewt_dev_url,\n",
    "    sep='\\t',\n",
    "    names=col_names,\n",
    "    usecols=[0, 1, 2, 3, 4, 5])"
   ]
  },
  {
   "cell_type": "code",
   "execution_count": 25,
   "metadata": {},
   "outputs": [
    {
     "data": {
      "text/html": [
       "<div>\n",
       "<style scoped>\n",
       "    .dataframe tbody tr th:only-of-type {\n",
       "        vertical-align: middle;\n",
       "    }\n",
       "\n",
       "    .dataframe tbody tr th {\n",
       "        vertical-align: top;\n",
       "    }\n",
       "\n",
       "    .dataframe thead th {\n",
       "        text-align: right;\n",
       "    }\n",
       "</style>\n",
       "<table border=\"1\" class=\"dataframe\">\n",
       "  <thead>\n",
       "    <tr style=\"text-align: right;\">\n",
       "      <th></th>\n",
       "      <th>ID</th>\n",
       "      <th>FORM</th>\n",
       "      <th>LEMMA</th>\n",
       "      <th>UPOS</th>\n",
       "      <th>XPOS</th>\n",
       "      <th>FEATS</th>\n",
       "    </tr>\n",
       "  </thead>\n",
       "  <tbody>\n",
       "    <tr>\n",
       "      <th>0</th>\n",
       "      <td># newdoc id = weblog-blogspot.com_nominations_...</td>\n",
       "      <td>NaN</td>\n",
       "      <td>NaN</td>\n",
       "      <td>NaN</td>\n",
       "      <td>NaN</td>\n",
       "      <td>NaN</td>\n",
       "    </tr>\n",
       "    <tr>\n",
       "      <th>1</th>\n",
       "      <td># sent_id = weblog-blogspot.com_nominations_20...</td>\n",
       "      <td>NaN</td>\n",
       "      <td>NaN</td>\n",
       "      <td>NaN</td>\n",
       "      <td>NaN</td>\n",
       "      <td>NaN</td>\n",
       "    </tr>\n",
       "    <tr>\n",
       "      <th>2</th>\n",
       "      <td># newpar id = weblog-blogspot.com_nominations_...</td>\n",
       "      <td>NaN</td>\n",
       "      <td>NaN</td>\n",
       "      <td>NaN</td>\n",
       "      <td>NaN</td>\n",
       "      <td>NaN</td>\n",
       "    </tr>\n",
       "    <tr>\n",
       "      <th>3</th>\n",
       "      <td># text = From the AP comes this story :</td>\n",
       "      <td>NaN</td>\n",
       "      <td>NaN</td>\n",
       "      <td>NaN</td>\n",
       "      <td>NaN</td>\n",
       "      <td>NaN</td>\n",
       "    </tr>\n",
       "    <tr>\n",
       "      <th>4</th>\n",
       "      <td>1</td>\n",
       "      <td>From</td>\n",
       "      <td>from</td>\n",
       "      <td>ADP</td>\n",
       "      <td>IN</td>\n",
       "      <td>_</td>\n",
       "    </tr>\n",
       "    <tr>\n",
       "      <th>...</th>\n",
       "      <td>...</td>\n",
       "      <td>...</td>\n",
       "      <td>...</td>\n",
       "      <td>...</td>\n",
       "      <td>...</td>\n",
       "      <td>...</td>\n",
       "    </tr>\n",
       "    <tr>\n",
       "      <th>30523</th>\n",
       "      <td>8</td>\n",
       "      <td>and</td>\n",
       "      <td>and</td>\n",
       "      <td>CCONJ</td>\n",
       "      <td>CC</td>\n",
       "      <td>_</td>\n",
       "    </tr>\n",
       "    <tr>\n",
       "      <th>30524</th>\n",
       "      <td>9</td>\n",
       "      <td>a</td>\n",
       "      <td>a</td>\n",
       "      <td>DET</td>\n",
       "      <td>DT</td>\n",
       "      <td>Definite=Ind|PronType=Art</td>\n",
       "    </tr>\n",
       "    <tr>\n",
       "      <th>30525</th>\n",
       "      <td>10</td>\n",
       "      <td>very</td>\n",
       "      <td>very</td>\n",
       "      <td>ADV</td>\n",
       "      <td>RB</td>\n",
       "      <td>_</td>\n",
       "    </tr>\n",
       "    <tr>\n",
       "      <th>30526</th>\n",
       "      <td>11</td>\n",
       "      <td>knowledgeable</td>\n",
       "      <td>knowledgeable</td>\n",
       "      <td>ADJ</td>\n",
       "      <td>JJ</td>\n",
       "      <td>Degree=Pos</td>\n",
       "    </tr>\n",
       "    <tr>\n",
       "      <th>30527</th>\n",
       "      <td>12</td>\n",
       "      <td>staff</td>\n",
       "      <td>staff</td>\n",
       "      <td>NOUN</td>\n",
       "      <td>NN</td>\n",
       "      <td>Number=Sing</td>\n",
       "    </tr>\n",
       "  </tbody>\n",
       "</table>\n",
       "<p>30528 rows × 6 columns</p>\n",
       "</div>"
      ],
      "text/plain": [
       "                                                      ID           FORM  \\\n",
       "0      # newdoc id = weblog-blogspot.com_nominations_...            NaN   \n",
       "1      # sent_id = weblog-blogspot.com_nominations_20...            NaN   \n",
       "2      # newpar id = weblog-blogspot.com_nominations_...            NaN   \n",
       "3                # text = From the AP comes this story :            NaN   \n",
       "4                                                      1           From   \n",
       "...                                                  ...            ...   \n",
       "30523                                                  8            and   \n",
       "30524                                                  9              a   \n",
       "30525                                                 10           very   \n",
       "30526                                                 11  knowledgeable   \n",
       "30527                                                 12          staff   \n",
       "\n",
       "               LEMMA   UPOS XPOS                      FEATS  \n",
       "0                NaN    NaN  NaN                        NaN  \n",
       "1                NaN    NaN  NaN                        NaN  \n",
       "2                NaN    NaN  NaN                        NaN  \n",
       "3                NaN    NaN  NaN                        NaN  \n",
       "4               from    ADP   IN                          _  \n",
       "...              ...    ...  ...                        ...  \n",
       "30523            and  CCONJ   CC                          _  \n",
       "30524              a    DET   DT  Definite=Ind|PronType=Art  \n",
       "30525           very    ADV   RB                          _  \n",
       "30526  knowledgeable    ADJ   JJ                 Degree=Pos  \n",
       "30527          staff   NOUN   NN                Number=Sing  \n",
       "\n",
       "[30528 rows x 6 columns]"
      ]
     },
     "execution_count": 25,
     "metadata": {},
     "output_type": "execute_result"
    }
   ],
   "source": [
    "conll_pandas"
   ]
  },
  {
   "cell_type": "code",
   "execution_count": 26,
   "metadata": {},
   "outputs": [
    {
     "data": {
      "text/html": [
       "<div>\n",
       "<style scoped>\n",
       "    .dataframe tbody tr th:only-of-type {\n",
       "        vertical-align: middle;\n",
       "    }\n",
       "\n",
       "    .dataframe tbody tr th {\n",
       "        vertical-align: top;\n",
       "    }\n",
       "\n",
       "    .dataframe thead th {\n",
       "        text-align: right;\n",
       "    }\n",
       "</style>\n",
       "<table border=\"1\" class=\"dataframe\">\n",
       "  <thead>\n",
       "    <tr style=\"text-align: right;\">\n",
       "      <th></th>\n",
       "      <th>ID</th>\n",
       "      <th>FORM</th>\n",
       "      <th>LEMMA</th>\n",
       "      <th>UPOS</th>\n",
       "      <th>XPOS</th>\n",
       "      <th>FEATS</th>\n",
       "    </tr>\n",
       "  </thead>\n",
       "  <tbody>\n",
       "    <tr>\n",
       "      <th>4</th>\n",
       "      <td>1</td>\n",
       "      <td>From</td>\n",
       "      <td>from</td>\n",
       "      <td>ADP</td>\n",
       "      <td>IN</td>\n",
       "      <td>_</td>\n",
       "    </tr>\n",
       "    <tr>\n",
       "      <th>5</th>\n",
       "      <td>2</td>\n",
       "      <td>the</td>\n",
       "      <td>the</td>\n",
       "      <td>DET</td>\n",
       "      <td>DT</td>\n",
       "      <td>Definite=Def|PronType=Art</td>\n",
       "    </tr>\n",
       "    <tr>\n",
       "      <th>6</th>\n",
       "      <td>3</td>\n",
       "      <td>AP</td>\n",
       "      <td>AP</td>\n",
       "      <td>PROPN</td>\n",
       "      <td>NNP</td>\n",
       "      <td>Number=Sing</td>\n",
       "    </tr>\n",
       "    <tr>\n",
       "      <th>7</th>\n",
       "      <td>4</td>\n",
       "      <td>comes</td>\n",
       "      <td>come</td>\n",
       "      <td>VERB</td>\n",
       "      <td>VBZ</td>\n",
       "      <td>Mood=Ind|Number=Sing|Person=3|Tense=Pres|VerbF...</td>\n",
       "    </tr>\n",
       "    <tr>\n",
       "      <th>8</th>\n",
       "      <td>5</td>\n",
       "      <td>this</td>\n",
       "      <td>this</td>\n",
       "      <td>DET</td>\n",
       "      <td>DT</td>\n",
       "      <td>Number=Sing|PronType=Dem</td>\n",
       "    </tr>\n",
       "    <tr>\n",
       "      <th>9</th>\n",
       "      <td>6</td>\n",
       "      <td>story</td>\n",
       "      <td>story</td>\n",
       "      <td>NOUN</td>\n",
       "      <td>NN</td>\n",
       "      <td>Number=Sing</td>\n",
       "    </tr>\n",
       "    <tr>\n",
       "      <th>10</th>\n",
       "      <td>7</td>\n",
       "      <td>:</td>\n",
       "      <td>:</td>\n",
       "      <td>PUNCT</td>\n",
       "      <td>:</td>\n",
       "      <td>_</td>\n",
       "    </tr>\n",
       "  </tbody>\n",
       "</table>\n",
       "</div>"
      ],
      "text/plain": [
       "   ID   FORM  LEMMA   UPOS XPOS  \\\n",
       "4   1   From   from    ADP   IN   \n",
       "5   2    the    the    DET   DT   \n",
       "6   3     AP     AP  PROPN  NNP   \n",
       "7   4  comes   come   VERB  VBZ   \n",
       "8   5   this   this    DET   DT   \n",
       "9   6  story  story   NOUN   NN   \n",
       "10  7      :      :  PUNCT    :   \n",
       "\n",
       "                                                FEATS  \n",
       "4                                                   _  \n",
       "5                           Definite=Def|PronType=Art  \n",
       "6                                         Number=Sing  \n",
       "7   Mood=Ind|Number=Sing|Person=3|Tense=Pres|VerbF...  \n",
       "8                            Number=Sing|PronType=Dem  \n",
       "9                                         Number=Sing  \n",
       "10                                                  _  "
      ]
     },
     "execution_count": 26,
     "metadata": {},
     "output_type": "execute_result"
    }
   ],
   "source": [
    "conll_pandas.iloc[4:11]"
   ]
  },
  {
   "cell_type": "code",
   "execution_count": 27,
   "metadata": {},
   "outputs": [
    {
     "data": {
      "text/plain": [
       "[{'ID': '1',\n",
       "  'FORM': 'From',\n",
       "  'LEMMA': 'from',\n",
       "  'UPOS': 'ADP',\n",
       "  'XPOS': 'IN',\n",
       "  'FEATS': '_'},\n",
       " {'ID': '2',\n",
       "  'FORM': 'the',\n",
       "  'LEMMA': 'the',\n",
       "  'UPOS': 'DET',\n",
       "  'XPOS': 'DT',\n",
       "  'FEATS': 'Definite=Def|PronType=Art'},\n",
       " {'ID': '3',\n",
       "  'FORM': 'AP',\n",
       "  'LEMMA': 'AP',\n",
       "  'UPOS': 'PROPN',\n",
       "  'XPOS': 'NNP',\n",
       "  'FEATS': 'Number=Sing'},\n",
       " {'ID': '4',\n",
       "  'FORM': 'comes',\n",
       "  'LEMMA': 'come',\n",
       "  'UPOS': 'VERB',\n",
       "  'XPOS': 'VBZ',\n",
       "  'FEATS': 'Mood=Ind|Number=Sing|Person=3|Tense=Pres|VerbForm=Fin'},\n",
       " {'ID': '5',\n",
       "  'FORM': 'this',\n",
       "  'LEMMA': 'this',\n",
       "  'UPOS': 'DET',\n",
       "  'XPOS': 'DT',\n",
       "  'FEATS': 'Number=Sing|PronType=Dem'},\n",
       " {'ID': '6',\n",
       "  'FORM': 'story',\n",
       "  'LEMMA': 'story',\n",
       "  'UPOS': 'NOUN',\n",
       "  'XPOS': 'NN',\n",
       "  'FEATS': 'Number=Sing'},\n",
       " {'ID': '7',\n",
       "  'FORM': ':',\n",
       "  'LEMMA': ':',\n",
       "  'UPOS': 'PUNCT',\n",
       "  'XPOS': ':',\n",
       "  'FEATS': '_'}]"
      ]
     },
     "execution_count": 27,
     "metadata": {},
     "output_type": "execute_result"
    }
   ],
   "source": [
    "conll_pandas.to_dict('records')[4:11]"
   ]
  }
 ],
 "metadata": {
  "kernelspec": {
   "display_name": "base",
   "language": "python",
   "name": "python3"
  },
  "language_info": {
   "codemirror_mode": {
    "name": "ipython",
    "version": 3
   },
   "file_extension": ".py",
   "mimetype": "text/x-python",
   "name": "python",
   "nbconvert_exporter": "python",
   "pygments_lexer": "ipython3",
   "version": "3.13.5"
  }
 },
 "nbformat": 4,
 "nbformat_minor": 4
}
