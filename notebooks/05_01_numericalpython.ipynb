{
 "cells": [
  {
   "cell_type": "markdown",
   "metadata": {},
   "source": [
    "# Chapter 5: Python for Numerical Computations\n",
    "An introduction to linear algebra with NumPy and PyTorch\n",
    "by Pierre Nugues"
   ]
  },
  {
   "cell_type": "markdown",
   "metadata": {},
   "source": [
    "Programs from the book: [_Python for Natural Language Processing_](https://link.springer.com/book/9783031575488)\n",
    "\n",
    "__Author__: Pierre Nugues"
   ]
  },
  {
   "cell_type": "markdown",
   "metadata": {},
   "source": [
    "## The Corpus\n",
    "We create a dictionary with URLs"
   ]
  },
  {
   "cell_type": "code",
   "execution_count": 1,
   "metadata": {},
   "outputs": [],
   "source": [
    "classics_url = {'iliad': 'http://classics.mit.edu/Homer/iliad.mb.txt',\n",
    "                'odyssey': 'http://classics.mit.edu/Homer/odyssey.mb.txt',\n",
    "                'eclogue': 'http://classics.mit.edu/Virgil/eclogue.mb.txt',\n",
    "                'georgics': 'http://classics.mit.edu/Virgil/georgics.mb.txt',\n",
    "                'aeneid': 'http://classics.mit.edu/Virgil/aeneid.mb.txt'}"
   ]
  },
  {
   "cell_type": "markdown",
   "metadata": {},
   "source": [
    "We read the texts from the URLs"
   ]
  },
  {
   "cell_type": "code",
   "execution_count": 2,
   "metadata": {},
   "outputs": [],
   "source": [
    "import requests\n",
    "\n",
    "classics = {}\n",
    "for key in classics_url:\n",
    "    classics[key] = requests.get(classics_url[key], verify=False).text"
   ]
  },
  {
   "cell_type": "markdown",
   "metadata": {},
   "source": [
    "We remove the license information to keep only the text"
   ]
  },
  {
   "cell_type": "code",
   "execution_count": 3,
   "metadata": {},
   "outputs": [],
   "source": [
    "import regex as re"
   ]
  },
  {
   "cell_type": "code",
   "execution_count": 4,
   "metadata": {},
   "outputs": [],
   "source": [
    "for key in classics:\n",
    "    classics[key] = re.search(r'^-+$(.+)^-+$',\n",
    "                              classics[key],\n",
    "                              re.M | re.S).group(1)"
   ]
  },
  {
   "cell_type": "code",
   "execution_count": 5,
   "metadata": {},
   "outputs": [
    {
     "data": {
      "text/plain": [
       "'\\n\\nBOOK I\\n\\nSing, O goddess, the anger of Achilles s'"
      ]
     },
     "execution_count": 5,
     "metadata": {},
     "output_type": "execute_result"
    }
   ],
   "source": [
    "classics['iliad'][:50]"
   ]
  },
  {
   "cell_type": "markdown",
   "metadata": {},
   "source": [
    "We additionally write the _Iliad_ and the _Odyssey_ in two text files"
   ]
  },
  {
   "cell_type": "code",
   "execution_count": 6,
   "metadata": {},
   "outputs": [],
   "source": [
    "PATH = '../datasets/classics/'"
   ]
  },
  {
   "cell_type": "code",
   "execution_count": 7,
   "metadata": {},
   "outputs": [],
   "source": [
    "with open(PATH + 'iliad.txt', 'w') as f_il, open(PATH + 'odyssey.txt', 'w') as f_od:\n",
    "    f_il.write(classics['iliad'])\n",
    "    f_od.write(classics['odyssey'])"
   ]
  },
  {
   "cell_type": "markdown",
   "metadata": {},
   "source": [
    "We store the corpus in a JSON file"
   ]
  },
  {
   "cell_type": "code",
   "execution_count": 8,
   "metadata": {},
   "outputs": [],
   "source": [
    "import json"
   ]
  },
  {
   "cell_type": "code",
   "execution_count": 9,
   "metadata": {},
   "outputs": [],
   "source": [
    "with open(PATH + 'classics.json', 'w') as f:\n",
    "    json.dump(classics, f)"
   ]
  },
  {
   "cell_type": "markdown",
   "metadata": {},
   "source": [
    "We read it again"
   ]
  },
  {
   "cell_type": "code",
   "execution_count": 10,
   "metadata": {},
   "outputs": [],
   "source": [
    "with open(PATH + 'classics.json', 'r') as f:\n",
    "    classics = json.loads(f.read())"
   ]
  },
  {
   "cell_type": "markdown",
   "metadata": {},
   "source": [
    "## Utilities"
   ]
  },
  {
   "cell_type": "code",
   "execution_count": 11,
   "metadata": {},
   "outputs": [],
   "source": [
    "alphabet = 'abcdefghijklmnopqrstuvwxyz'"
   ]
  },
  {
   "cell_type": "code",
   "execution_count": 12,
   "metadata": {},
   "outputs": [],
   "source": [
    "class Text:\n",
    "    \"\"\"Text class to hold and process text\"\"\"\n",
    "\n",
    "    alphabet = 'abcdefghijklmnopqrstuvwxyz'\n",
    "\n",
    "    def __init__(self, text: str = None):\n",
    "        \"\"\"The constructor called when an object\n",
    "        is created\"\"\"\n",
    "\n",
    "        self.content = text\n",
    "        self.length = len(text)\n",
    "        self.letter_counts = {}\n",
    "\n",
    "    def count_letters(self, lc: bool = True) -> dict[str, int]:\n",
    "        \"\"\"Function to count the letters of a text\"\"\"\n",
    "\n",
    "        letter_counts = {}\n",
    "        if lc:\n",
    "            text = self.content.lower()\n",
    "        else:\n",
    "            text = self.content\n",
    "        for letter in text:\n",
    "            if letter.lower() in self.alphabet:\n",
    "                if letter in letter_counts:\n",
    "                    letter_counts[letter] += 1\n",
    "                else:\n",
    "                    letter_counts[letter] = 1\n",
    "        self.letter_counts = letter_counts\n",
    "        return letter_counts"
   ]
  },
  {
   "cell_type": "markdown",
   "metadata": {},
   "source": [
    "## Imports"
   ]
  },
  {
   "cell_type": "code",
   "execution_count": 13,
   "metadata": {},
   "outputs": [],
   "source": [
    "import math\n",
    "import random\n",
    "import numpy as np\n",
    "import torch"
   ]
  },
  {
   "cell_type": "code",
   "execution_count": 14,
   "metadata": {},
   "outputs": [
    {
     "data": {
      "text/plain": [
       "<torch._C.Generator at 0x11bf6a930>"
      ]
     },
     "execution_count": 14,
     "metadata": {},
     "output_type": "execute_result"
    }
   ],
   "source": [
    "random.seed(4321)\n",
    "np.random.seed(4321)\n",
    "torch.manual_seed(4321)"
   ]
  },
  {
   "cell_type": "markdown",
   "metadata": {},
   "source": [
    "## The Dataset"
   ]
  },
  {
   "cell_type": "markdown",
   "metadata": {},
   "source": [
    "Let us read Homer's _Iliad_ and _Odyssey_ and Virgil's _Eclogue_, _Georgics_, and _Aeneid_."
   ]
  },
  {
   "cell_type": "code",
   "execution_count": 15,
   "metadata": {},
   "outputs": [
    {
     "data": {
      "text/plain": [
       "['iliad', 'odyssey', 'eclogue', 'georgics', 'aeneid']"
      ]
     },
     "execution_count": 15,
     "metadata": {},
     "output_type": "execute_result"
    }
   ],
   "source": [
    "titles = list(classics.keys())\n",
    "titles"
   ]
  },
  {
   "cell_type": "code",
   "execution_count": 16,
   "metadata": {},
   "outputs": [],
   "source": [
    "texts = []\n",
    "for title in titles:\n",
    "    texts += [classics[title]]"
   ]
  },
  {
   "cell_type": "code",
   "execution_count": 17,
   "metadata": {},
   "outputs": [],
   "source": [
    "cnt_dicts = []\n",
    "for text in texts:\n",
    "    cnt_dicts += [Text(text).count_letters()]"
   ]
  },
  {
   "cell_type": "code",
   "execution_count": 18,
   "metadata": {},
   "outputs": [],
   "source": [
    "cnt_lists = []\n",
    "for cnt_dict in cnt_dicts:\n",
    "    cnt_lists += [list(map(lambda x: cnt_dict.get(x, 0),\n",
    "                           alphabet))]"
   ]
  },
  {
   "cell_type": "code",
   "execution_count": 19,
   "metadata": {},
   "outputs": [
    {
     "data": {
      "text/plain": [
       "[51016, 8938, 11558]"
      ]
     },
     "execution_count": 19,
     "metadata": {},
     "output_type": "execute_result"
    }
   ],
   "source": [
    "cnt_lists[0][:3]"
   ]
  },
  {
   "cell_type": "code",
   "execution_count": 20,
   "metadata": {},
   "outputs": [
    {
     "name": "stdout",
     "output_type": "stream",
     "text": [
      "iliad [51016, 8938, 11558, 28331, 77461, 16114, 12595, 50192, 38149, 1624]\n",
      "odyssey [37627, 6595, 8580, 20736, 59777, 10449, 9803, 34785, 28793, 424]\n",
      "eclogue [2716, 577, 722, 1440, 4363, 846, 806, 2508, 2250, 22]\n",
      "georgics [6841, 1618, 2016, 4027, 12110, 2424, 2147, 6987, 6035, 59]\n",
      "aeneid [36675, 6867, 10023, 23862, 55367, 11618, 9606, 33055, 30576, 907]\n"
     ]
    }
   ],
   "source": [
    "for i, cnt_list in enumerate(cnt_lists):\n",
    "    print(titles[i], cnt_lists[i][:10])"
   ]
  },
  {
   "cell_type": "markdown",
   "metadata": {
    "tags": []
   },
   "source": [
    "## Vectors\n",
    "### NumPy"
   ]
  },
  {
   "cell_type": "code",
   "execution_count": 21,
   "metadata": {},
   "outputs": [
    {
     "data": {
      "text/plain": [
       "array([1, 2, 3])"
      ]
     },
     "execution_count": 21,
     "metadata": {},
     "output_type": "execute_result"
    }
   ],
   "source": [
    "np.array([2, 3])\n",
    "np.array([1, 2, 3])"
   ]
  },
  {
   "cell_type": "markdown",
   "metadata": {},
   "source": [
    "Vectors of letter counts"
   ]
  },
  {
   "cell_type": "code",
   "execution_count": 22,
   "metadata": {},
   "outputs": [],
   "source": [
    "iliad_cnt = np.array(cnt_lists[0])\n",
    "odyssey_cnt = np.array(cnt_lists[1])\n",
    "eclogue_cnt = np.array(cnt_lists[2])\n",
    "georgics_cnt = np.array(cnt_lists[3])\n",
    "aeneid_cnt = np.array(cnt_lists[4])"
   ]
  },
  {
   "cell_type": "code",
   "execution_count": 23,
   "metadata": {},
   "outputs": [
    {
     "data": {
      "text/plain": [
       "array([51016,  8938, 11558, 28331, 77461, 16114, 12595, 50192, 38149,\n",
       "        1624,  4413, 25307, 16646, 42193, 51269,  9104,   283, 36454,\n",
       "       41241, 54173, 18407,  6060, 15665,   597, 11906,   284])"
      ]
     },
     "execution_count": 23,
     "metadata": {},
     "output_type": "execute_result"
    }
   ],
   "source": [
    "iliad_cnt"
   ]
  },
  {
   "cell_type": "code",
   "execution_count": 24,
   "metadata": {},
   "outputs": [
    {
     "data": {
      "text/plain": [
       "array([37627,  6595,  8580, 20736, 59777, 10449,  9803, 34785, 28793,\n",
       "         424,  3631, 18948, 13058, 31888, 38776,  6679,   256, 25665,\n",
       "       31348, 40479, 15404,  4803, 12989,   350, 10970,   124])"
      ]
     },
     "execution_count": 24,
     "metadata": {},
     "output_type": "execute_result"
    }
   ],
   "source": [
    "odyssey_cnt"
   ]
  },
  {
   "cell_type": "markdown",
   "metadata": {},
   "source": [
    "### The datatype"
   ]
  },
  {
   "cell_type": "code",
   "execution_count": 25,
   "metadata": {},
   "outputs": [
    {
     "data": {
      "text/plain": [
       "dtype('int64')"
      ]
     },
     "execution_count": 25,
     "metadata": {},
     "output_type": "execute_result"
    }
   ],
   "source": [
    "odyssey_cnt.dtype"
   ]
  },
  {
   "cell_type": "code",
   "execution_count": 26,
   "metadata": {},
   "outputs": [
    {
     "data": {
      "text/plain": [
       "array([1, 2, 3], dtype=int32)"
      ]
     },
     "execution_count": 26,
     "metadata": {},
     "output_type": "execute_result"
    }
   ],
   "source": [
    "vector = np.array([1, 2, 3], dtype='int32')\n",
    "vector"
   ]
  },
  {
   "cell_type": "code",
   "execution_count": 27,
   "metadata": {},
   "outputs": [
    {
     "data": {
      "text/plain": [
       "dtype('int32')"
      ]
     },
     "execution_count": 27,
     "metadata": {},
     "output_type": "execute_result"
    }
   ],
   "source": [
    "vector.dtype"
   ]
  },
  {
   "cell_type": "code",
   "execution_count": 28,
   "metadata": {},
   "outputs": [
    {
     "data": {
      "text/plain": [
       "array([1., 2., 3.])"
      ]
     },
     "execution_count": 28,
     "metadata": {},
     "output_type": "execute_result"
    }
   ],
   "source": [
    "vector = np.array([1, 2, 3], dtype='float64')\n",
    "vector"
   ]
  },
  {
   "cell_type": "code",
   "execution_count": 29,
   "metadata": {},
   "outputs": [
    {
     "data": {
      "text/plain": [
       "array([False,  True,  True,  True])"
      ]
     },
     "execution_count": 29,
     "metadata": {},
     "output_type": "execute_result"
    }
   ],
   "source": [
    "np.array([0, 1, 2, 3], dtype='bool')"
   ]
  },
  {
   "cell_type": "markdown",
   "metadata": {},
   "source": [
    "### The vector size"
   ]
  },
  {
   "cell_type": "code",
   "execution_count": 30,
   "metadata": {},
   "outputs": [
    {
     "data": {
      "text/plain": [
       "(26,)"
      ]
     },
     "execution_count": 30,
     "metadata": {},
     "output_type": "execute_result"
    }
   ],
   "source": [
    "odyssey_cnt.shape"
   ]
  },
  {
   "cell_type": "markdown",
   "metadata": {},
   "source": [
    "### Indices and Slices"
   ]
  },
  {
   "cell_type": "code",
   "execution_count": 31,
   "metadata": {},
   "outputs": [
    {
     "data": {
      "text/plain": [
       "array([2, 3])"
      ]
     },
     "execution_count": 31,
     "metadata": {},
     "output_type": "execute_result"
    }
   ],
   "source": [
    "vector = np.array([1, 2, 3, 4])\n",
    "vector[1]   # 2\n",
    "vector[:1]  # array([1])\n",
    "vector[1:3]  # array([2, 3])"
   ]
  },
  {
   "cell_type": "markdown",
   "metadata": {},
   "source": [
    "### Operations"
   ]
  },
  {
   "cell_type": "code",
   "execution_count": 32,
   "metadata": {},
   "outputs": [
    {
     "data": {
      "text/plain": [
       "array([5, 7, 9])"
      ]
     },
     "execution_count": 32,
     "metadata": {},
     "output_type": "execute_result"
    }
   ],
   "source": [
    "np.array([1, 2, 3]) + np.array([4, 5, 6])"
   ]
  },
  {
   "cell_type": "code",
   "execution_count": 33,
   "metadata": {},
   "outputs": [
    {
     "data": {
      "text/plain": [
       "array([3, 6, 9])"
      ]
     },
     "execution_count": 33,
     "metadata": {},
     "output_type": "execute_result"
    }
   ],
   "source": [
    "3 * np.array([1, 2, 3])"
   ]
  },
  {
   "cell_type": "code",
   "execution_count": 34,
   "metadata": {},
   "outputs": [
    {
     "data": {
      "text/plain": [
       "array([ 88643,  15533,  20138,  49067, 137238,  26563,  22398,  84977,\n",
       "        66942,   2048,   8044,  44255,  29704,  74081,  90045,  15783,\n",
       "          539,  62119,  72589,  94652,  33811,  10863,  28654,    947,\n",
       "        22876,    408])"
      ]
     },
     "execution_count": 34,
     "metadata": {},
     "output_type": "execute_result"
    }
   ],
   "source": [
    "iliad_cnt + odyssey_cnt      # array([88643,  15533,  20138, ...])"
   ]
  },
  {
   "cell_type": "code",
   "execution_count": 35,
   "metadata": {},
   "outputs": [
    {
     "data": {
      "text/plain": [
       "array([13389,  2343,  2978,  7595, 17684,  5665,  2792, 15407,  9356,\n",
       "        1200,   782,  6359,  3588, 10305, 12493,  2425,    27, 10789,\n",
       "        9893, 13694,  3003,  1257,  2676,   247,   936,   160])"
      ]
     },
     "execution_count": 35,
     "metadata": {},
     "output_type": "execute_result"
    }
   ],
   "source": [
    "iliad_cnt - odyssey_cnt      # array([13389,  2343,  2978, ...])"
   ]
  },
  {
   "cell_type": "code",
   "execution_count": 36,
   "metadata": {},
   "outputs": [
    {
     "data": {
      "text/plain": [
       "array([-24238,  -4252,  -5602, -13141, -42093,  -4784,  -7011, -19378,\n",
       "       -19437,    776,  -2849, -12589,  -9470, -21583, -26283,  -4254,\n",
       "         -229, -14876, -21455, -26785, -12401,  -3546, -10313,   -103,\n",
       "       -10034,     36])"
      ]
     },
     "execution_count": 36,
     "metadata": {},
     "output_type": "execute_result"
    }
   ],
   "source": [
    "\n",
    "iliad_cnt - 2 * odyssey_cnt  # array([-24238,  -4252,  ...])"
   ]
  },
  {
   "cell_type": "markdown",
   "metadata": {},
   "source": [
    "### Comparison with lists"
   ]
  },
  {
   "cell_type": "code",
   "execution_count": 37,
   "metadata": {},
   "outputs": [
    {
     "data": {
      "text/plain": [
       "[1, 2, 3, 4, 5, 6]"
      ]
     },
     "execution_count": 37,
     "metadata": {},
     "output_type": "execute_result"
    }
   ],
   "source": [
    "[1, 2, 3] + [4, 5, 6]"
   ]
  },
  {
   "cell_type": "code",
   "execution_count": 38,
   "metadata": {},
   "outputs": [
    {
     "data": {
      "text/plain": [
       "[1, 2, 3, 1, 2, 3, 1, 2, 3]"
      ]
     },
     "execution_count": 38,
     "metadata": {},
     "output_type": "execute_result"
    }
   ],
   "source": [
    "3 * [1, 2, 3]"
   ]
  },
  {
   "cell_type": "markdown",
   "metadata": {},
   "source": [
    "### PyTorch\n",
    "#### Tensors"
   ]
  },
  {
   "cell_type": "code",
   "execution_count": 39,
   "metadata": {},
   "outputs": [
    {
     "data": {
      "text/plain": [
       "tensor([1, 2, 3])"
      ]
     },
     "execution_count": 39,
     "metadata": {},
     "output_type": "execute_result"
    }
   ],
   "source": [
    "torch.tensor([2, 3])\n",
    "torch.tensor([1, 2, 3])"
   ]
  },
  {
   "cell_type": "code",
   "execution_count": 40,
   "metadata": {},
   "outputs": [],
   "source": [
    "iliad_cnt_pt = torch.tensor(cnt_lists[0])"
   ]
  },
  {
   "cell_type": "code",
   "execution_count": 41,
   "metadata": {},
   "outputs": [
    {
     "data": {
      "text/plain": [
       "tensor([51016,  8938, 11558, 28331, 77461, 16114, 12595, 50192, 38149,  1624,\n",
       "         4413, 25307, 16646, 42193, 51269,  9104,   283, 36454, 41241, 54173,\n",
       "        18407,  6060, 15665,   597, 11906,   284])"
      ]
     },
     "execution_count": 41,
     "metadata": {},
     "output_type": "execute_result"
    }
   ],
   "source": [
    "iliad_cnt_pt"
   ]
  },
  {
   "cell_type": "markdown",
   "metadata": {},
   "source": [
    "#### Types"
   ]
  },
  {
   "cell_type": "code",
   "execution_count": 42,
   "metadata": {},
   "outputs": [
    {
     "data": {
      "text/plain": [
       "torch.int64"
      ]
     },
     "execution_count": 42,
     "metadata": {},
     "output_type": "execute_result"
    }
   ],
   "source": [
    "torch.tensor([1, 2, 3]).dtype"
   ]
  },
  {
   "cell_type": "code",
   "execution_count": 43,
   "metadata": {},
   "outputs": [
    {
     "data": {
      "text/plain": [
       "tensor([1., 2., 3.], dtype=torch.float64)"
      ]
     },
     "execution_count": 43,
     "metadata": {},
     "output_type": "execute_result"
    }
   ],
   "source": [
    "torch.tensor([1, 2, 3], dtype=torch.float64)"
   ]
  },
  {
   "cell_type": "code",
   "execution_count": 44,
   "metadata": {},
   "outputs": [
    {
     "data": {
      "text/plain": [
       "tensor([False,  True,  True,  True])"
      ]
     },
     "execution_count": 44,
     "metadata": {},
     "output_type": "execute_result"
    }
   ],
   "source": [
    "torch.tensor([0, 1, 2, 3], dtype=torch.bool)"
   ]
  },
  {
   "cell_type": "markdown",
   "metadata": {},
   "source": [
    "#### Size"
   ]
  },
  {
   "cell_type": "code",
   "execution_count": 45,
   "metadata": {},
   "outputs": [
    {
     "data": {
      "text/plain": [
       "torch.Size([26])"
      ]
     },
     "execution_count": 45,
     "metadata": {},
     "output_type": "execute_result"
    }
   ],
   "source": [
    "iliad_cnt_pt.size()"
   ]
  },
  {
   "cell_type": "markdown",
   "metadata": {},
   "source": [
    "#### NumPy/PyTorch Conversion"
   ]
  },
  {
   "cell_type": "code",
   "execution_count": 46,
   "metadata": {},
   "outputs": [
    {
     "data": {
      "text/plain": [
       "tensor([1, 2, 3])"
      ]
     },
     "execution_count": 46,
     "metadata": {},
     "output_type": "execute_result"
    }
   ],
   "source": [
    "np_array = np.array([1, 2, 3])\n",
    "tensor = torch.from_numpy(np_array)\n",
    "tensor"
   ]
  },
  {
   "cell_type": "code",
   "execution_count": 47,
   "metadata": {},
   "outputs": [
    {
     "data": {
      "text/plain": [
       "array([1, 2, 3])"
      ]
     },
     "execution_count": 47,
     "metadata": {},
     "output_type": "execute_result"
    }
   ],
   "source": [
    "tensor = torch.tensor([1, 2, 3])\n",
    "np_array = tensor.numpy()\n",
    "np_array"
   ]
  },
  {
   "cell_type": "markdown",
   "metadata": {},
   "source": [
    "#### Device"
   ]
  },
  {
   "cell_type": "code",
   "execution_count": 48,
   "metadata": {},
   "outputs": [
    {
     "data": {
      "text/plain": [
       "False"
      ]
     },
     "execution_count": 48,
     "metadata": {},
     "output_type": "execute_result"
    }
   ],
   "source": [
    "torch.cuda.is_available()"
   ]
  },
  {
   "cell_type": "code",
   "execution_count": 49,
   "metadata": {},
   "outputs": [
    {
     "data": {
      "text/plain": [
       "True"
      ]
     },
     "execution_count": 49,
     "metadata": {},
     "output_type": "execute_result"
    }
   ],
   "source": [
    "torch.backends.mps.is_available()"
   ]
  },
  {
   "cell_type": "code",
   "execution_count": 50,
   "metadata": {},
   "outputs": [
    {
     "data": {
      "text/plain": [
       "device(type='cpu')"
      ]
     },
     "execution_count": 50,
     "metadata": {},
     "output_type": "execute_result"
    }
   ],
   "source": [
    "torch.device('cpu')"
   ]
  },
  {
   "cell_type": "code",
   "execution_count": 51,
   "metadata": {},
   "outputs": [
    {
     "data": {
      "text/plain": [
       "device(type='mps')"
      ]
     },
     "execution_count": 51,
     "metadata": {},
     "output_type": "execute_result"
    }
   ],
   "source": [
    "torch.device('mps')"
   ]
  },
  {
   "cell_type": "code",
   "execution_count": 52,
   "metadata": {},
   "outputs": [
    {
     "data": {
      "text/plain": [
       "device(type='cpu')"
      ]
     },
     "execution_count": 52,
     "metadata": {},
     "output_type": "execute_result"
    }
   ],
   "source": [
    "tensor = torch.tensor([1, 2, 3])\n",
    "tensor.device"
   ]
  },
  {
   "cell_type": "code",
   "execution_count": 53,
   "metadata": {},
   "outputs": [],
   "source": [
    "if torch.cuda.is_available():\n",
    "    device = torch.device('cuda')\n",
    "elif torch.backends.mps.is_available():\n",
    "    device = torch.device('mps')\n",
    "else:\n",
    "    device = torch.device('cpu')"
   ]
  },
  {
   "cell_type": "code",
   "execution_count": 54,
   "metadata": {},
   "outputs": [
    {
     "data": {
      "text/plain": [
       "device(type='mps')"
      ]
     },
     "execution_count": 54,
     "metadata": {},
     "output_type": "execute_result"
    }
   ],
   "source": [
    "device"
   ]
  },
  {
   "cell_type": "code",
   "execution_count": 55,
   "metadata": {},
   "outputs": [
    {
     "data": {
      "text/plain": [
       "tensor([1, 2, 3], device='mps:0')"
      ]
     },
     "execution_count": 55,
     "metadata": {},
     "output_type": "execute_result"
    }
   ],
   "source": [
    "tensor = torch.tensor([1, 2, 3], device=device)\n",
    "tensor"
   ]
  },
  {
   "cell_type": "code",
   "execution_count": 56,
   "metadata": {},
   "outputs": [
    {
     "data": {
      "text/plain": [
       "tensor([1, 2, 3], device='mps:0')"
      ]
     },
     "execution_count": 56,
     "metadata": {},
     "output_type": "execute_result"
    }
   ],
   "source": [
    "tensor = torch.tensor([1, 2, 3])\n",
    "tensor.to(device)"
   ]
  },
  {
   "cell_type": "markdown",
   "metadata": {},
   "source": [
    "## NumPy Functions"
   ]
  },
  {
   "cell_type": "code",
   "execution_count": 57,
   "metadata": {},
   "outputs": [],
   "source": [
    "np.set_printoptions(precision=3)"
   ]
  },
  {
   "cell_type": "code",
   "execution_count": 58,
   "metadata": {},
   "outputs": [
    {
     "data": {
      "text/plain": [
       "array([225.867,  94.541, 107.508, 168.318, 278.318, 126.941, 112.227,\n",
       "       224.036, 195.318,  40.299,  66.43 , 159.082, 129.019, 205.409,\n",
       "       226.427,  95.415,  16.823, 190.929, 203.079, 232.751, 135.672,\n",
       "        77.846, 125.16 ,  24.434, 109.115,  16.852])"
      ]
     },
     "execution_count": 58,
     "metadata": {},
     "output_type": "execute_result"
    }
   ],
   "source": [
    "np.sqrt(iliad_cnt)"
   ]
  },
  {
   "cell_type": "code",
   "execution_count": 59,
   "metadata": {},
   "outputs": [
    {
     "data": {
      "text/plain": [
       "array([-0.948, -0.986, -0.997,  0.993, -0.315, -0.717, -0.938, -0.338,\n",
       "       -0.802, -0.979, -0.592, -0.099, -0.268,  0.159, -0.22 ,  0.944,\n",
       "        0.967,  0.505, -0.255,  0.812, -0.918, -0.991,  0.524,  0.995,\n",
       "        0.804,  0.309])"
      ]
     },
     "execution_count": 59,
     "metadata": {},
     "output_type": "execute_result"
    }
   ],
   "source": [
    "np.cos(iliad_cnt)"
   ]
  },
  {
   "cell_type": "code",
   "execution_count": 60,
   "metadata": {},
   "outputs": [
    {
     "ename": "TypeError",
     "evalue": "only length-1 arrays can be converted to Python scalars",
     "output_type": "error",
     "traceback": [
      "\u001b[0;31m---------------------------------------------------------------------------\u001b[0m",
      "\u001b[0;31mTypeError\u001b[0m                                 Traceback (most recent call last)",
      "Cell \u001b[0;32mIn[60], line 1\u001b[0m\n\u001b[0;32m----> 1\u001b[0m math\u001b[38;5;241m.\u001b[39msqrt(iliad_cnt)\n",
      "\u001b[0;31mTypeError\u001b[0m: only length-1 arrays can be converted to Python scalars"
     ]
    }
   ],
   "source": [
    "math.sqrt(iliad_cnt)"
   ]
  },
  {
   "cell_type": "code",
   "execution_count": 61,
   "metadata": {},
   "outputs": [
    {
     "data": {
      "text/plain": [
       "array([225.867,  94.541, 107.508, 168.318, 278.318, 126.941, 112.227,\n",
       "       224.036, 195.318,  40.299,  66.43 , 159.082, 129.019, 205.409,\n",
       "       226.427,  95.415,  16.823, 190.929, 203.079, 232.751, 135.672,\n",
       "        77.846, 125.16 ,  24.434, 109.115,  16.852])"
      ]
     },
     "execution_count": 61,
     "metadata": {},
     "output_type": "execute_result"
    }
   ],
   "source": [
    "np_sqrt = np.vectorize(math.sqrt)\n",
    "np_sqrt(iliad_cnt)"
   ]
  },
  {
   "cell_type": "code",
   "execution_count": 62,
   "metadata": {},
   "outputs": [
    {
     "data": {
      "text/plain": [
       "472937"
      ]
     },
     "execution_count": 62,
     "metadata": {},
     "output_type": "execute_result"
    }
   ],
   "source": [
    "np.sum(odyssey_cnt)"
   ]
  },
  {
   "cell_type": "code",
   "execution_count": 63,
   "metadata": {},
   "outputs": [],
   "source": [
    "iliad_dist = iliad_cnt / np.sum(iliad_cnt)\n",
    "odyssey_dist = odyssey_cnt / np.sum(odyssey_cnt)"
   ]
  },
  {
   "cell_type": "code",
   "execution_count": 64,
   "metadata": {},
   "outputs": [
    {
     "data": {
      "text/plain": [
       "array([0.081, 0.014, 0.018, 0.045, 0.123, 0.026, 0.02 , 0.08 , 0.061,\n",
       "       0.003, 0.007, 0.04 , 0.026, 0.067, 0.081, 0.014, 0.   , 0.058,\n",
       "       0.065, 0.086, 0.029, 0.01 , 0.025, 0.001, 0.019, 0.   ])"
      ]
     },
     "execution_count": 64,
     "metadata": {},
     "output_type": "execute_result"
    }
   ],
   "source": [
    "iliad_dist"
   ]
  },
  {
   "cell_type": "code",
   "execution_count": 65,
   "metadata": {},
   "outputs": [
    {
     "data": {
      "text/plain": [
       "array([0.08 , 0.014, 0.018, 0.044, 0.126, 0.022, 0.021, 0.074, 0.061,\n",
       "       0.001, 0.008, 0.04 , 0.028, 0.067, 0.082, 0.014, 0.001, 0.054,\n",
       "       0.066, 0.086, 0.033, 0.01 , 0.027, 0.001, 0.023, 0.   ])"
      ]
     },
     "execution_count": 65,
     "metadata": {},
     "output_type": "execute_result"
    }
   ],
   "source": [
    "odyssey_dist"
   ]
  },
  {
   "cell_type": "markdown",
   "metadata": {},
   "source": [
    "PyTorch"
   ]
  },
  {
   "cell_type": "code",
   "execution_count": 66,
   "metadata": {},
   "outputs": [
    {
     "data": {
      "text/plain": [
       "tensor([225.8672,  94.5410, 107.5081, 168.3181, 278.3182, 126.9409, 112.2274,\n",
       "        224.0357, 195.3177,  40.2989,  66.4304, 159.0817, 129.0194, 205.4093,\n",
       "        226.4266,  95.4149,  16.8226, 190.9293, 203.0788, 232.7509, 135.6724,\n",
       "         77.8460, 125.1599,  24.4336, 109.1146,  16.8523])"
      ]
     },
     "execution_count": 66,
     "metadata": {},
     "output_type": "execute_result"
    }
   ],
   "source": [
    "torch.sqrt(iliad_cnt_pt)"
   ]
  },
  {
   "cell_type": "code",
   "execution_count": 67,
   "metadata": {},
   "outputs": [
    {
     "data": {
      "text/plain": [
       "tensor(629980)"
      ]
     },
     "execution_count": 67,
     "metadata": {},
     "output_type": "execute_result"
    }
   ],
   "source": [
    "torch.sum(iliad_cnt_pt)"
   ]
  },
  {
   "cell_type": "markdown",
   "metadata": {},
   "source": [
    "## Dot Product\n"
   ]
  },
  {
   "cell_type": "code",
   "execution_count": 68,
   "metadata": {},
   "outputs": [
    {
     "data": {
      "text/plain": [
       "0.06581149298284382"
      ]
     },
     "execution_count": 68,
     "metadata": {},
     "output_type": "execute_result"
    }
   ],
   "source": [
    "np.dot(iliad_dist, odyssey_dist)"
   ]
  },
  {
   "cell_type": "code",
   "execution_count": 69,
   "metadata": {},
   "outputs": [
    {
     "data": {
      "text/plain": [
       "0.06581149298284382"
      ]
     },
     "execution_count": 69,
     "metadata": {},
     "output_type": "execute_result"
    }
   ],
   "source": [
    "iliad_dist @ odyssey_dist"
   ]
  },
  {
   "cell_type": "code",
   "execution_count": 70,
   "metadata": {},
   "outputs": [
    {
     "data": {
      "text/plain": [
       "tensor(0.0658, dtype=torch.float64)"
      ]
     },
     "execution_count": 70,
     "metadata": {},
     "output_type": "execute_result"
    }
   ],
   "source": [
    "torch.dot(torch.tensor(iliad_dist), torch.tensor(odyssey_dist))"
   ]
  },
  {
   "cell_type": "markdown",
   "metadata": {},
   "source": [
    "### Norm"
   ]
  },
  {
   "cell_type": "code",
   "execution_count": 71,
   "metadata": {},
   "outputs": [
    {
     "data": {
      "text/plain": [
       "3.7416573867739413"
      ]
     },
     "execution_count": 71,
     "metadata": {},
     "output_type": "execute_result"
    }
   ],
   "source": [
    "np.linalg.norm([1.0, 2.0, 3.0])"
   ]
  },
  {
   "cell_type": "code",
   "execution_count": 72,
   "metadata": {},
   "outputs": [
    {
     "data": {
      "text/plain": [
       "tensor(3.7417)"
      ]
     },
     "execution_count": 72,
     "metadata": {},
     "output_type": "execute_result"
    }
   ],
   "source": [
    "torch.linalg.vector_norm(torch.tensor([1.0, 2.0, 3.0]))"
   ]
  },
  {
   "cell_type": "markdown",
   "metadata": {},
   "source": [
    "#### Cosine"
   ]
  },
  {
   "cell_type": "markdown",
   "metadata": {},
   "source": [
    "Finally, we compute the cosine \n",
    "$$\n",
    "\\frac{\\mathbf{x} \\cdot \\mathbf{y}}{||\\mathbf{x}|| . ||\\mathbf{y}||}.\n",
    "$$"
   ]
  },
  {
   "cell_type": "code",
   "execution_count": 73,
   "metadata": {},
   "outputs": [
    {
     "data": {
      "text/plain": [
       "0.9990787113863586"
      ]
     },
     "execution_count": 73,
     "metadata": {},
     "output_type": "execute_result"
    }
   ],
   "source": [
    "(iliad_dist @ odyssey_dist) / (\n",
    "    np.linalg.norm(iliad_dist) *\n",
    "    np.linalg.norm(odyssey_dist))"
   ]
  },
  {
   "cell_type": "markdown",
   "metadata": {
    "tags": []
   },
   "source": [
    "## Matrices"
   ]
  },
  {
   "cell_type": "markdown",
   "metadata": {},
   "source": [
    "### NumPy"
   ]
  },
  {
   "cell_type": "markdown",
   "metadata": {},
   "source": [
    "We create a matrix from the list of lists"
   ]
  },
  {
   "cell_type": "code",
   "execution_count": 74,
   "metadata": {},
   "outputs": [
    {
     "data": {
      "text/plain": [
       "array([[51016,  8938, 11558, 28331, 77461, 16114, 12595, 50192, 38149,\n",
       "         1624,  4413, 25307, 16646, 42193, 51269,  9104,   283, 36454,\n",
       "        41241, 54173, 18407,  6060, 15665,   597, 11906,   284],\n",
       "       [37627,  6595,  8580, 20736, 59777, 10449,  9803, 34785, 28793,\n",
       "          424,  3631, 18948, 13058, 31888, 38776,  6679,   256, 25665,\n",
       "        31348, 40479, 15404,  4803, 12989,   350, 10970,   124],\n",
       "       [ 2716,   577,   722,  1440,  4363,   846,   806,  2508,  2250,\n",
       "           22,   268,  1807,  1043,  2248,  2947,   569,    12,  2235,\n",
       "         2617,  2939,  1030,   360,  1023,    38,   905,    22],\n",
       "       [ 6841,  1618,  2016,  4027, 12110,  2424,  2147,  6987,  6035,\n",
       "           59,   782,  4308,  2027,  6552,  6957,  1669,    53,  6702,\n",
       "         7142,  8712,  2583,   902,  2480,    85,  1457,    64],\n",
       "       [36675,  6867, 10023, 23862, 55367, 11618,  9606, 33055, 30576,\n",
       "          907,  2702, 18766, 10201, 32254, 32594,  8343,   530, 32074,\n",
       "        36429, 39478, 13714,  4374, 11097,   560,  8053,   270]])"
      ]
     },
     "execution_count": 74,
     "metadata": {},
     "output_type": "execute_result"
    }
   ],
   "source": [
    "hv_cnts = np.array(cnt_lists)\n",
    "hv_cnts"
   ]
  },
  {
   "cell_type": "markdown",
   "metadata": {},
   "source": [
    "The size"
   ]
  },
  {
   "cell_type": "code",
   "execution_count": 75,
   "metadata": {},
   "outputs": [
    {
     "data": {
      "text/plain": [
       "(5, 26)"
      ]
     },
     "execution_count": 75,
     "metadata": {},
     "output_type": "execute_result"
    }
   ],
   "source": [
    "hv_cnts.shape"
   ]
  },
  {
   "cell_type": "markdown",
   "metadata": {},
   "source": [
    "The data type"
   ]
  },
  {
   "cell_type": "code",
   "execution_count": 76,
   "metadata": {},
   "outputs": [
    {
     "data": {
      "text/plain": [
       "dtype('int64')"
      ]
     },
     "execution_count": 76,
     "metadata": {},
     "output_type": "execute_result"
    }
   ],
   "source": [
    "hv_cnts.dtype"
   ]
  },
  {
   "cell_type": "markdown",
   "metadata": {},
   "source": [
    "### Indices and Slices"
   ]
  },
  {
   "cell_type": "code",
   "execution_count": 77,
   "metadata": {},
   "outputs": [
    {
     "data": {
      "text/plain": [
       "11558"
      ]
     },
     "execution_count": 77,
     "metadata": {},
     "output_type": "execute_result"
    }
   ],
   "source": [
    "iliad_cnt[2]"
   ]
  },
  {
   "cell_type": "code",
   "execution_count": 78,
   "metadata": {},
   "outputs": [
    {
     "data": {
      "text/plain": [
       "8580"
      ]
     },
     "execution_count": 78,
     "metadata": {},
     "output_type": "execute_result"
    }
   ],
   "source": [
    "hv_cnts[1, 2]"
   ]
  },
  {
   "cell_type": "markdown",
   "metadata": {},
   "source": [
    "Slices"
   ]
  },
  {
   "cell_type": "code",
   "execution_count": 79,
   "metadata": {},
   "outputs": [
    {
     "data": {
      "text/plain": [
       "array([11558,  8580,   722,  2016, 10023])"
      ]
     },
     "execution_count": 79,
     "metadata": {},
     "output_type": "execute_result"
    }
   ],
   "source": [
    "hv_cnts[:, 2]"
   ]
  },
  {
   "cell_type": "code",
   "execution_count": 80,
   "metadata": {},
   "outputs": [
    {
     "data": {
      "text/plain": [
       "array([37627,  6595,  8580, 20736, 59777, 10449,  9803, 34785, 28793,\n",
       "         424,  3631, 18948, 13058, 31888, 38776,  6679,   256, 25665,\n",
       "       31348, 40479, 15404,  4803, 12989,   350, 10970,   124])"
      ]
     },
     "execution_count": 80,
     "metadata": {},
     "output_type": "execute_result"
    }
   ],
   "source": [
    "hv_cnts[1, :]"
   ]
  },
  {
   "cell_type": "code",
   "execution_count": 81,
   "metadata": {},
   "outputs": [
    {
     "data": {
      "text/plain": [
       "array([37627,  6595])"
      ]
     },
     "execution_count": 81,
     "metadata": {},
     "output_type": "execute_result"
    }
   ],
   "source": [
    "hv_cnts[1, :2]"
   ]
  },
  {
   "cell_type": "code",
   "execution_count": 82,
   "metadata": {},
   "outputs": [
    {
     "data": {
      "text/plain": [
       "array([2016, 4027])"
      ]
     },
     "execution_count": 82,
     "metadata": {},
     "output_type": "execute_result"
    }
   ],
   "source": [
    "hv_cnts[3, 2:4]"
   ]
  },
  {
   "cell_type": "code",
   "execution_count": 83,
   "metadata": {},
   "outputs": [
    {
     "data": {
      "text/plain": [
       "array([[ 2016,  4027],\n",
       "       [10023, 23862]])"
      ]
     },
     "execution_count": 83,
     "metadata": {},
     "output_type": "execute_result"
    }
   ],
   "source": [
    "hv_cnts[3:, 2:4]"
   ]
  },
  {
   "cell_type": "markdown",
   "metadata": {},
   "source": [
    "### Number of indices"
   ]
  },
  {
   "cell_type": "code",
   "execution_count": 84,
   "metadata": {},
   "outputs": [
    {
     "data": {
      "text/plain": [
       "1"
      ]
     },
     "execution_count": 84,
     "metadata": {},
     "output_type": "execute_result"
    }
   ],
   "source": [
    "odyssey_cnt.ndim"
   ]
  },
  {
   "cell_type": "code",
   "execution_count": 85,
   "metadata": {},
   "outputs": [
    {
     "data": {
      "text/plain": [
       "2"
      ]
     },
     "execution_count": 85,
     "metadata": {},
     "output_type": "execute_result"
    }
   ],
   "source": [
    "hv_cnts.ndim"
   ]
  },
  {
   "cell_type": "markdown",
   "metadata": {},
   "source": [
    "## Addition and multiplication by a scalar"
   ]
  },
  {
   "cell_type": "code",
   "execution_count": 86,
   "metadata": {},
   "outputs": [
    {
     "data": {
      "text/plain": [
       "array([[-51016,  -8938, -11558, -28331, -77461, -16114, -12595, -50192,\n",
       "        -38149,  -1624,  -4413, -25307, -16646, -42193, -51269,  -9104,\n",
       "          -283, -36454, -41241, -54173, -18407,  -6060, -15665,   -597,\n",
       "        -11906,   -284],\n",
       "       [-37627,  -6595,  -8580, -20736, -59777, -10449,  -9803, -34785,\n",
       "        -28793,   -424,  -3631, -18948, -13058, -31888, -38776,  -6679,\n",
       "          -256, -25665, -31348, -40479, -15404,  -4803, -12989,   -350,\n",
       "        -10970,   -124],\n",
       "       [ -2716,   -577,   -722,  -1440,  -4363,   -846,   -806,  -2508,\n",
       "         -2250,    -22,   -268,  -1807,  -1043,  -2248,  -2947,   -569,\n",
       "           -12,  -2235,  -2617,  -2939,  -1030,   -360,  -1023,    -38,\n",
       "          -905,    -22],\n",
       "       [ -6841,  -1618,  -2016,  -4027, -12110,  -2424,  -2147,  -6987,\n",
       "         -6035,    -59,   -782,  -4308,  -2027,  -6552,  -6957,  -1669,\n",
       "           -53,  -6702,  -7142,  -8712,  -2583,   -902,  -2480,    -85,\n",
       "         -1457,    -64],\n",
       "       [-36675,  -6867, -10023, -23862, -55367, -11618,  -9606, -33055,\n",
       "        -30576,   -907,  -2702, -18766, -10201, -32254, -32594,  -8343,\n",
       "          -530, -32074, -36429, -39478, -13714,  -4374, -11097,   -560,\n",
       "         -8053,   -270]])"
      ]
     },
     "execution_count": 86,
     "metadata": {},
     "output_type": "execute_result"
    }
   ],
   "source": [
    "hv_cnts - 2 * hv_cnts"
   ]
  },
  {
   "cell_type": "markdown",
   "metadata": {},
   "source": [
    "### PyTorch"
   ]
  },
  {
   "cell_type": "code",
   "execution_count": 87,
   "metadata": {},
   "outputs": [
    {
     "data": {
      "text/plain": [
       "tensor([[51016,  8938, 11558, 28331, 77461, 16114, 12595, 50192, 38149,  1624,\n",
       "          4413, 25307, 16646, 42193, 51269,  9104,   283, 36454, 41241, 54173,\n",
       "         18407,  6060, 15665,   597, 11906,   284],\n",
       "        [37627,  6595,  8580, 20736, 59777, 10449,  9803, 34785, 28793,   424,\n",
       "          3631, 18948, 13058, 31888, 38776,  6679,   256, 25665, 31348, 40479,\n",
       "         15404,  4803, 12989,   350, 10970,   124],\n",
       "        [ 2716,   577,   722,  1440,  4363,   846,   806,  2508,  2250,    22,\n",
       "           268,  1807,  1043,  2248,  2947,   569,    12,  2235,  2617,  2939,\n",
       "          1030,   360,  1023,    38,   905,    22],\n",
       "        [ 6841,  1618,  2016,  4027, 12110,  2424,  2147,  6987,  6035,    59,\n",
       "           782,  4308,  2027,  6552,  6957,  1669,    53,  6702,  7142,  8712,\n",
       "          2583,   902,  2480,    85,  1457,    64],\n",
       "        [36675,  6867, 10023, 23862, 55367, 11618,  9606, 33055, 30576,   907,\n",
       "          2702, 18766, 10201, 32254, 32594,  8343,   530, 32074, 36429, 39478,\n",
       "         13714,  4374, 11097,   560,  8053,   270]])"
      ]
     },
     "execution_count": 87,
     "metadata": {},
     "output_type": "execute_result"
    }
   ],
   "source": [
    "hv_cnts_pt = torch.tensor(cnt_lists)\n",
    "hv_cnts_pt"
   ]
  },
  {
   "cell_type": "code",
   "execution_count": 88,
   "metadata": {},
   "outputs": [
    {
     "data": {
      "text/plain": [
       "torch.int64"
      ]
     },
     "execution_count": 88,
     "metadata": {},
     "output_type": "execute_result"
    }
   ],
   "source": [
    "hv_cnts_pt.dtype"
   ]
  },
  {
   "cell_type": "code",
   "execution_count": 89,
   "metadata": {},
   "outputs": [
    {
     "data": {
      "text/plain": [
       "2"
      ]
     },
     "execution_count": 89,
     "metadata": {},
     "output_type": "execute_result"
    }
   ],
   "source": [
    "hv_cnts_pt.dim()"
   ]
  },
  {
   "cell_type": "code",
   "execution_count": 90,
   "metadata": {},
   "outputs": [
    {
     "data": {
      "text/plain": [
       "torch.Size([5, 26])"
      ]
     },
     "execution_count": 90,
     "metadata": {},
     "output_type": "execute_result"
    }
   ],
   "source": [
    "hv_cnts_pt.size()"
   ]
  },
  {
   "cell_type": "code",
   "execution_count": 91,
   "metadata": {},
   "outputs": [
    {
     "data": {
      "text/plain": [
       "5"
      ]
     },
     "execution_count": 91,
     "metadata": {},
     "output_type": "execute_result"
    }
   ],
   "source": [
    "hv_cnts_pt.size(dim=0)   # 5"
   ]
  },
  {
   "cell_type": "code",
   "execution_count": 92,
   "metadata": {},
   "outputs": [
    {
     "data": {
      "text/plain": [
       "26"
      ]
     },
     "execution_count": 92,
     "metadata": {},
     "output_type": "execute_result"
    }
   ],
   "source": [
    "hv_cnts_pt.size(dim=1)   # 26"
   ]
  },
  {
   "cell_type": "code",
   "execution_count": 93,
   "metadata": {},
   "outputs": [
    {
     "data": {
      "text/plain": [
       "26"
      ]
     },
     "execution_count": 93,
     "metadata": {},
     "output_type": "execute_result"
    }
   ],
   "source": [
    "hv_cnts_pt.size(dim=-1)  # 26"
   ]
  },
  {
   "cell_type": "code",
   "execution_count": 94,
   "metadata": {},
   "outputs": [
    {
     "data": {
      "text/plain": [
       "5"
      ]
     },
     "execution_count": 94,
     "metadata": {},
     "output_type": "execute_result"
    }
   ],
   "source": [
    "hv_cnts_pt.size(dim=-2)"
   ]
  },
  {
   "cell_type": "markdown",
   "metadata": {},
   "source": [
    "### NumPy Functions"
   ]
  },
  {
   "cell_type": "code",
   "execution_count": 95,
   "metadata": {},
   "outputs": [],
   "source": [
    "np.set_printoptions(precision=3)"
   ]
  },
  {
   "cell_type": "code",
   "execution_count": 96,
   "metadata": {},
   "outputs": [
    {
     "data": {
      "text/plain": [
       "array([[-0.948, -0.986, -0.997,  0.993, -0.315, -0.717, -0.938, -0.338,\n",
       "        -0.802, -0.979, -0.592, -0.099, -0.268,  0.159, -0.22 ,  0.944,\n",
       "         0.967,  0.505, -0.255,  0.812, -0.918, -0.991,  0.524,  0.995,\n",
       "         0.804,  0.309],\n",
       "       [-0.99 , -0.699, -0.952,  0.082,  0.339,  0.998,  0.333,  0.281,\n",
       "        -0.954, -0.993,  0.777, -0.493,  0.03 ,  0.671, -0.779,  1.   ,\n",
       "        -0.04 , -0.239,  0.373, -0.913, -0.717, -0.88 , -0.085, -0.284,\n",
       "         0.904, -0.093],\n",
       "       [-0.093,  0.495,  0.844,  0.408, -0.782, -0.613, -0.18 ,  0.533,\n",
       "         0.814, -1.   , -0.57 , -0.834,  1.   ,  0.189,  0.983, -0.932,\n",
       "         0.844, -0.241, -0.999,  0.04 ,  0.904, -0.284,  0.4  ,  0.955,\n",
       "         0.976, -1.   ],\n",
       "       [ 0.181, -0.997,  0.62 ,  0.867, -0.668,  0.258, -0.275,  0.995,\n",
       "        -1.   , -0.771, -0.967, -0.64 , -0.782,  0.207,  0.057, -0.686,\n",
       "        -0.918, -0.555, -0.399, -0.935,  0.819, -0.935, -0.283, -0.984,\n",
       "         0.765,  0.392],\n",
       "       [ 0.999,  0.867,  0.249,  0.033,  0.909,  0.925,  0.548,  0.669,\n",
       "        -0.435, -0.606,  0.974, -0.299, -0.969, -0.744, -1.   ,  0.48 ,\n",
       "        -0.599, -0.09 ,  0.615,  0.734, -0.583,  0.619,  0.626,  0.699,\n",
       "        -0.455,  0.984]])"
      ]
     },
     "execution_count": 96,
     "metadata": {},
     "output_type": "execute_result"
    }
   ],
   "source": [
    "np.cos(hv_cnts)"
   ]
  },
  {
   "cell_type": "code",
   "execution_count": 97,
   "metadata": {},
   "outputs": [
    {
     "data": {
      "text/plain": [
       "1705964"
      ]
     },
     "execution_count": 97,
     "metadata": {},
     "output_type": "execute_result"
    }
   ],
   "source": [
    "np.sum(hv_cnts)"
   ]
  },
  {
   "cell_type": "code",
   "execution_count": 98,
   "metadata": {},
   "outputs": [
    {
     "data": {
      "text/plain": [
       "array([134875,  24595,  32899,  78396, 209078,  41451,  34957, 127527,\n",
       "       105803,   3036,  11796,  69136,  42975, 115135, 132543,  26364,\n",
       "         1134, 103130, 118777, 145781,  51138,  16499,  43254,   1630,\n",
       "        33291,    764])"
      ]
     },
     "execution_count": 98,
     "metadata": {},
     "output_type": "execute_result"
    }
   ],
   "source": [
    "np.sum(hv_cnts, axis=0)"
   ]
  },
  {
   "cell_type": "code",
   "execution_count": 99,
   "metadata": {},
   "outputs": [
    {
     "data": {
      "text/plain": [
       "array([629980, 472937,  36313,  96739, 469995])"
      ]
     },
     "execution_count": 99,
     "metadata": {},
     "output_type": "execute_result"
    }
   ],
   "source": [
    "np.sum(hv_cnts, axis=1)"
   ]
  },
  {
   "cell_type": "markdown",
   "metadata": {},
   "source": [
    "### PyTorch"
   ]
  },
  {
   "cell_type": "code",
   "execution_count": 100,
   "metadata": {},
   "outputs": [
    {
     "data": {
      "text/plain": [
       "tensor(1705964)"
      ]
     },
     "execution_count": 100,
     "metadata": {},
     "output_type": "execute_result"
    }
   ],
   "source": [
    "torch.sum(hv_cnts_pt)"
   ]
  },
  {
   "cell_type": "code",
   "execution_count": 101,
   "metadata": {},
   "outputs": [
    {
     "data": {
      "text/plain": [
       "tensor([134875,  24595,  32899,  78396, 209078,  41451,  34957, 127527, 105803,\n",
       "          3036,  11796,  69136,  42975, 115135, 132543,  26364,   1134, 103130,\n",
       "        118777, 145781,  51138,  16499,  43254,   1630,  33291,    764])"
      ]
     },
     "execution_count": 101,
     "metadata": {},
     "output_type": "execute_result"
    }
   ],
   "source": [
    "torch.sum(hv_cnts_pt, dim=0)  # array([ 134885,  24605,  32901, ...])"
   ]
  },
  {
   "cell_type": "code",
   "execution_count": 102,
   "metadata": {},
   "outputs": [
    {
     "data": {
      "text/plain": [
       "tensor([629980, 472937,  36313,  96739, 469995])"
      ]
     },
     "execution_count": 102,
     "metadata": {},
     "output_type": "execute_result"
    }
   ],
   "source": [
    "torch.sum(hv_cnts_pt, dim=1)  # array([630019, 472978,  36332,  96758, 470034])"
   ]
  },
  {
   "cell_type": "markdown",
   "metadata": {},
   "source": [
    "### Transposing and Reshaping Arrays"
   ]
  },
  {
   "cell_type": "code",
   "execution_count": 103,
   "metadata": {},
   "outputs": [
    {
     "data": {
      "text/plain": [
       "array([[51016, 37627,  2716,  6841, 36675],\n",
       "       [ 8938,  6595,   577,  1618,  6867],\n",
       "       [11558,  8580,   722,  2016, 10023],\n",
       "       [28331, 20736,  1440,  4027, 23862],\n",
       "       [77461, 59777,  4363, 12110, 55367],\n",
       "       [16114, 10449,   846,  2424, 11618],\n",
       "       [12595,  9803,   806,  2147,  9606],\n",
       "       [50192, 34785,  2508,  6987, 33055],\n",
       "       [38149, 28793,  2250,  6035, 30576],\n",
       "       [ 1624,   424,    22,    59,   907],\n",
       "       [ 4413,  3631,   268,   782,  2702],\n",
       "       [25307, 18948,  1807,  4308, 18766],\n",
       "       [16646, 13058,  1043,  2027, 10201],\n",
       "       [42193, 31888,  2248,  6552, 32254],\n",
       "       [51269, 38776,  2947,  6957, 32594],\n",
       "       [ 9104,  6679,   569,  1669,  8343],\n",
       "       [  283,   256,    12,    53,   530],\n",
       "       [36454, 25665,  2235,  6702, 32074],\n",
       "       [41241, 31348,  2617,  7142, 36429],\n",
       "       [54173, 40479,  2939,  8712, 39478],\n",
       "       [18407, 15404,  1030,  2583, 13714],\n",
       "       [ 6060,  4803,   360,   902,  4374],\n",
       "       [15665, 12989,  1023,  2480, 11097],\n",
       "       [  597,   350,    38,    85,   560],\n",
       "       [11906, 10970,   905,  1457,  8053],\n",
       "       [  284,   124,    22,    64,   270]])"
      ]
     },
     "execution_count": 103,
     "metadata": {},
     "output_type": "execute_result"
    }
   ],
   "source": [
    "hv_cnts.T"
   ]
  },
  {
   "cell_type": "code",
   "execution_count": 104,
   "metadata": {},
   "outputs": [
    {
     "data": {
      "text/plain": [
       "array([51016,  8938, 11558, 28331, 77461, 16114, 12595, 50192, 38149,\n",
       "        1624,  4413, 25307, 16646, 42193, 51269,  9104,   283, 36454,\n",
       "       41241, 54173, 18407,  6060, 15665,   597, 11906,   284])"
      ]
     },
     "execution_count": 104,
     "metadata": {},
     "output_type": "execute_result"
    }
   ],
   "source": [
    "iliad_cnt.T"
   ]
  },
  {
   "cell_type": "code",
   "execution_count": 105,
   "metadata": {},
   "outputs": [
    {
     "data": {
      "text/plain": [
       "array([[51016,  8938, 11558, 28331, 77461, 16114, 12595, 50192, 38149,\n",
       "         1624,  4413, 25307, 16646, 42193, 51269,  9104,   283, 36454,\n",
       "        41241, 54173, 18407,  6060, 15665,   597, 11906,   284]])"
      ]
     },
     "execution_count": 105,
     "metadata": {},
     "output_type": "execute_result"
    }
   ],
   "source": [
    "np.array([iliad_cnt])"
   ]
  },
  {
   "cell_type": "code",
   "execution_count": 106,
   "metadata": {},
   "outputs": [
    {
     "data": {
      "text/plain": [
       "(1, 26)"
      ]
     },
     "execution_count": 106,
     "metadata": {},
     "output_type": "execute_result"
    }
   ],
   "source": [
    "np.array([iliad_cnt]).shape"
   ]
  },
  {
   "cell_type": "code",
   "execution_count": 107,
   "metadata": {},
   "outputs": [
    {
     "data": {
      "text/plain": [
       "array([[51016],\n",
       "       [ 8938],\n",
       "       [11558],\n",
       "       [28331],\n",
       "       [77461],\n",
       "       [16114],\n",
       "       [12595],\n",
       "       [50192],\n",
       "       [38149],\n",
       "       [ 1624],\n",
       "       [ 4413],\n",
       "       [25307],\n",
       "       [16646],\n",
       "       [42193],\n",
       "       [51269],\n",
       "       [ 9104],\n",
       "       [  283],\n",
       "       [36454],\n",
       "       [41241],\n",
       "       [54173],\n",
       "       [18407],\n",
       "       [ 6060],\n",
       "       [15665],\n",
       "       [  597],\n",
       "       [11906],\n",
       "       [  284]])"
      ]
     },
     "execution_count": 107,
     "metadata": {},
     "output_type": "execute_result"
    }
   ],
   "source": [
    "np.array([iliad_cnt]).T"
   ]
  },
  {
   "cell_type": "code",
   "execution_count": 108,
   "metadata": {},
   "outputs": [
    {
     "data": {
      "text/plain": [
       "array([[51016,  8938, 11558, 28331, 77461, 16114, 12595, 50192, 38149,\n",
       "         1624,  4413, 25307, 16646, 42193, 51269,  9104,   283, 36454,\n",
       "        41241, 54173, 18407,  6060, 15665,   597, 11906,   284]])"
      ]
     },
     "execution_count": 108,
     "metadata": {},
     "output_type": "execute_result"
    }
   ],
   "source": [
    "iliad_cnt.reshape(1, -1)"
   ]
  },
  {
   "cell_type": "code",
   "execution_count": 109,
   "metadata": {},
   "outputs": [
    {
     "data": {
      "text/plain": [
       "array([[51016],\n",
       "       [ 8938],\n",
       "       [11558],\n",
       "       [28331],\n",
       "       [77461],\n",
       "       [16114],\n",
       "       [12595],\n",
       "       [50192],\n",
       "       [38149],\n",
       "       [ 1624],\n",
       "       [ 4413],\n",
       "       [25307],\n",
       "       [16646],\n",
       "       [42193],\n",
       "       [51269],\n",
       "       [ 9104],\n",
       "       [  283],\n",
       "       [36454],\n",
       "       [41241],\n",
       "       [54173],\n",
       "       [18407],\n",
       "       [ 6060],\n",
       "       [15665],\n",
       "       [  597],\n",
       "       [11906],\n",
       "       [  284]])"
      ]
     },
     "execution_count": 109,
     "metadata": {},
     "output_type": "execute_result"
    }
   ],
   "source": [
    "iliad_cnt.reshape(-1, 1)"
   ]
  },
  {
   "cell_type": "code",
   "execution_count": 110,
   "metadata": {},
   "outputs": [
    {
     "data": {
      "text/plain": [
       "tensor([[1],\n",
       "        [2],\n",
       "        [3]])"
      ]
     },
     "execution_count": 110,
     "metadata": {},
     "output_type": "execute_result"
    }
   ],
   "source": [
    "torch.unsqueeze(torch.tensor([1, 2, 3]), 1)"
   ]
  },
  {
   "cell_type": "markdown",
   "metadata": {},
   "source": [
    "### Broadcasting"
   ]
  },
  {
   "cell_type": "markdown",
   "metadata": {},
   "source": [
    "Relative frequencies of the letter counts"
   ]
  },
  {
   "cell_type": "code",
   "execution_count": 111,
   "metadata": {},
   "outputs": [],
   "source": [
    "iliad_dist = (1/np.sum(iliad_cnt)) * iliad_cnt\n",
    "odyssey_dist = (1/np.sum(odyssey_cnt)) * odyssey_cnt"
   ]
  },
  {
   "cell_type": "code",
   "execution_count": 112,
   "metadata": {},
   "outputs": [
    {
     "data": {
      "text/plain": [
       "array([0.081, 0.014, 0.018, 0.045, 0.123, 0.026, 0.02 , 0.08 , 0.061,\n",
       "       0.003, 0.007, 0.04 , 0.026, 0.067, 0.081, 0.014, 0.   , 0.058,\n",
       "       0.065, 0.086, 0.029, 0.01 , 0.025, 0.001, 0.019, 0.   ])"
      ]
     },
     "execution_count": 112,
     "metadata": {},
     "output_type": "execute_result"
    }
   ],
   "source": [
    "iliad_cnt / np.sum(iliad_cnt)"
   ]
  },
  {
   "cell_type": "code",
   "execution_count": 113,
   "metadata": {},
   "outputs": [
    {
     "data": {
      "text/plain": [
       "array([0.08 , 0.014, 0.018, 0.044, 0.126, 0.022, 0.021, 0.074, 0.061,\n",
       "       0.001, 0.008, 0.04 , 0.028, 0.067, 0.082, 0.014, 0.001, 0.054,\n",
       "       0.066, 0.086, 0.033, 0.01 , 0.027, 0.001, 0.023, 0.   ])"
      ]
     },
     "execution_count": 113,
     "metadata": {},
     "output_type": "execute_result"
    }
   ],
   "source": [
    "odyssey_cnt / np.sum(odyssey_cnt)"
   ]
  },
  {
   "cell_type": "markdown",
   "metadata": {},
   "source": [
    "We can apply an elementwise multiplication or division"
   ]
  },
  {
   "cell_type": "code",
   "execution_count": 114,
   "metadata": {},
   "outputs": [
    {
     "data": {
      "text/plain": [
       "array([[629980],\n",
       "       [472937],\n",
       "       [ 36313],\n",
       "       [ 96739],\n",
       "       [469995]])"
      ]
     },
     "execution_count": 114,
     "metadata": {},
     "output_type": "execute_result"
    }
   ],
   "source": [
    "np.array([np.sum(hv_cnts, axis=1)]).T"
   ]
  },
  {
   "cell_type": "code",
   "execution_count": 115,
   "metadata": {},
   "outputs": [
    {
     "data": {
      "text/plain": [
       "array([[0.081, 0.014, 0.018, 0.045, 0.123, 0.026, 0.02 , 0.08 , 0.061,\n",
       "        0.003, 0.007, 0.04 , 0.026, 0.067, 0.081, 0.014, 0.   , 0.058,\n",
       "        0.065, 0.086, 0.029, 0.01 , 0.025, 0.001, 0.019, 0.   ],\n",
       "       [0.08 , 0.014, 0.018, 0.044, 0.126, 0.022, 0.021, 0.074, 0.061,\n",
       "        0.001, 0.008, 0.04 , 0.028, 0.067, 0.082, 0.014, 0.001, 0.054,\n",
       "        0.066, 0.086, 0.033, 0.01 , 0.027, 0.001, 0.023, 0.   ],\n",
       "       [0.075, 0.016, 0.02 , 0.04 , 0.12 , 0.023, 0.022, 0.069, 0.062,\n",
       "        0.001, 0.007, 0.05 , 0.029, 0.062, 0.081, 0.016, 0.   , 0.062,\n",
       "        0.072, 0.081, 0.028, 0.01 , 0.028, 0.001, 0.025, 0.001],\n",
       "       [0.071, 0.017, 0.021, 0.042, 0.125, 0.025, 0.022, 0.072, 0.062,\n",
       "        0.001, 0.008, 0.045, 0.021, 0.068, 0.072, 0.017, 0.001, 0.069,\n",
       "        0.074, 0.09 , 0.027, 0.009, 0.026, 0.001, 0.015, 0.001],\n",
       "       [0.078, 0.015, 0.021, 0.051, 0.118, 0.025, 0.02 , 0.07 , 0.065,\n",
       "        0.002, 0.006, 0.04 , 0.022, 0.069, 0.069, 0.018, 0.001, 0.068,\n",
       "        0.078, 0.084, 0.029, 0.009, 0.024, 0.001, 0.017, 0.001]])"
      ]
     },
     "execution_count": 115,
     "metadata": {},
     "output_type": "execute_result"
    }
   ],
   "source": [
    "hv_dist = hv_cnts / np.array([np.sum(hv_cnts, axis=1)]).T\n",
    "hv_dist"
   ]
  },
  {
   "cell_type": "markdown",
   "metadata": {},
   "source": [
    "The Hadamard product"
   ]
  },
  {
   "cell_type": "code",
   "execution_count": 116,
   "metadata": {},
   "outputs": [
    {
     "data": {
      "text/plain": [
       "array([[6.558e-03, 2.013e-04, 3.366e-04, 2.022e-03, 1.512e-02, 6.543e-04,\n",
       "        3.997e-04, 6.348e-03, 3.667e-03, 6.645e-06, 4.907e-05, 1.614e-03,\n",
       "        6.982e-04, 4.486e-03, 6.623e-03, 2.088e-04, 2.018e-07, 3.348e-03,\n",
       "        4.286e-03, 7.395e-03, 8.537e-04, 9.253e-05, 6.183e-04, 8.980e-07,\n",
       "        3.572e-04, 2.032e-07],\n",
       "       [6.330e-03, 1.945e-04, 3.291e-04, 1.922e-03, 1.598e-02, 4.881e-04,\n",
       "        4.296e-04, 5.410e-03, 3.707e-03, 8.038e-07, 5.894e-05, 1.605e-03,\n",
       "        7.623e-04, 4.546e-03, 6.722e-03, 1.994e-04, 2.930e-07, 2.945e-03,\n",
       "        4.394e-03, 7.326e-03, 1.061e-03, 1.031e-04, 7.543e-04, 5.477e-07,\n",
       "        5.380e-04, 6.874e-08],\n",
       "       [5.594e-03, 2.525e-04, 3.953e-04, 1.573e-03, 1.444e-02, 5.428e-04,\n",
       "        4.927e-04, 4.770e-03, 3.839e-03, 3.670e-07, 5.447e-05, 2.476e-03,\n",
       "        8.250e-04, 3.832e-03, 6.586e-03, 2.455e-04, 1.092e-07, 3.788e-03,\n",
       "        5.194e-03, 6.551e-03, 8.045e-04, 9.828e-05, 7.936e-04, 1.095e-06,\n",
       "        6.211e-04, 3.670e-07],\n",
       "       [5.001e-03, 2.797e-04, 4.343e-04, 1.733e-03, 1.567e-02, 6.279e-04,\n",
       "        4.926e-04, 5.216e-03, 3.892e-03, 3.720e-07, 6.534e-05, 1.983e-03,\n",
       "        4.390e-04, 4.587e-03, 5.172e-03, 2.977e-04, 3.002e-07, 4.800e-03,\n",
       "        5.451e-03, 8.110e-03, 7.129e-04, 8.694e-05, 6.572e-04, 7.720e-07,\n",
       "        2.268e-04, 4.377e-07],\n",
       "       [6.089e-03, 2.135e-04, 4.548e-04, 2.578e-03, 1.388e-02, 6.110e-04,\n",
       "        4.177e-04, 4.946e-03, 4.232e-03, 3.724e-06, 3.305e-05, 1.594e-03,\n",
       "        4.711e-04, 4.710e-03, 4.809e-03, 3.151e-04, 1.272e-06, 4.657e-03,\n",
       "        6.008e-03, 7.055e-03, 8.514e-04, 8.661e-05, 5.575e-04, 1.420e-06,\n",
       "        2.936e-04, 3.300e-07]])"
      ]
     },
     "execution_count": 116,
     "metadata": {},
     "output_type": "execute_result"
    }
   ],
   "source": [
    "hv_dist * hv_dist"
   ]
  },
  {
   "cell_type": "markdown",
   "metadata": {},
   "source": [
    "## Matrix Products"
   ]
  },
  {
   "cell_type": "markdown",
   "metadata": {},
   "source": [
    "### Matrix-Vector Multiplication"
   ]
  },
  {
   "cell_type": "markdown",
   "metadata": {},
   "source": [
    "The product of a matrix  ${X}$ by a vector $\\mathbf{y}$, ${X}\\mathbf{y}$, is a sequence of dot products between the matrix rows and the vector resulting in a column vector:\n",
    "$$\n",
    "{X}\\mathbf{y} = \n",
    "\\begin{bmatrix*}\n",
    "{X}_{1 .} \\cdot \\mathbf{y} \\\\\n",
    "{X}_{2 .} \\cdot \\mathbf{y} \\\\\n",
    "...\\\\\n",
    "{X}_{n .} \\cdot \\mathbf{y} \\\\\n",
    "\\end{bmatrix*},\n",
    "$$\n",
    "where ${X}_{i .}$ denotes the $i^\\text{th}$ row of matrix ${X}$. If ${X}$ consists of only one row, we have a matrix product of a row vector by a column vector, which is equivalent to a dot product:\n",
    "$$\n",
    "\\mathbf{x} \\cdot \\mathbf{y} =\n",
    "\\begin{bmatrix*}\n",
    "x_1,&x_2,& ...& x_n\\\\\n",
    "\\end{bmatrix*}\n",
    "\\begin{bmatrix*}\n",
    "y_1\\\\\n",
    "y_2\\\\ \n",
    "...\\\\\n",
    "y_n\\\\\n",
    "\\end{bmatrix*}\n",
    "= \\sum_{i = 1}^n x_i y_i.\n",
    "$$"
   ]
  },
  {
   "cell_type": "code",
   "execution_count": 117,
   "metadata": {},
   "outputs": [
    {
     "data": {
      "text/plain": [
       "array([0.066])"
      ]
     },
     "execution_count": 117,
     "metadata": {},
     "output_type": "execute_result"
    }
   ],
   "source": [
    "hv_dist[0, :].reshape(1, -1) @ hv_dist[1, :]"
   ]
  },
  {
   "cell_type": "code",
   "execution_count": 118,
   "metadata": {},
   "outputs": [
    {
     "data": {
      "text/plain": [
       "0.06581149298284382"
      ]
     },
     "execution_count": 118,
     "metadata": {},
     "output_type": "execute_result"
    }
   ],
   "source": [
    "np.dot(hv_dist[0, :], hv_dist[1, :])"
   ]
  },
  {
   "cell_type": "code",
   "execution_count": 119,
   "metadata": {},
   "outputs": [
    {
     "data": {
      "text/plain": [
       "0.06581149298284382"
      ]
     },
     "execution_count": 119,
     "metadata": {},
     "output_type": "execute_result"
    }
   ],
   "source": [
    "hv_dist[0, :] @ hv_dist[1, :]"
   ]
  },
  {
   "cell_type": "markdown",
   "metadata": {},
   "source": [
    "### Document Cosines"
   ]
  },
  {
   "cell_type": "markdown",
   "metadata": {},
   "source": [
    "We will now compute the cosine of all the pairs of vectors representing the works in the `hv_dist` matrix, _i.e._ the rows of the matrix. For this, we will first compute the dot products of all the pairs, $\\mathbf{u} \\cdot \\mathbf{v}$, then the norms $||\\mathbf{u}||$ and  $||\\mathbf{v}||$, the products of the norms, $||\\mathbf{u}|| \\cdot||\\mathbf{v}||$, and finally the cosines, $\\displaystyle{\\frac{\\mathbf{u} \\cdot \\mathbf{v}}{||\\mathbf{u}|| \\cdot||\\mathbf{v}||}}$."
   ]
  },
  {
   "cell_type": "markdown",
   "metadata": {},
   "source": [
    "The dot product, $\\mathbf{u} \\cdot \\mathbf{v}$, of all the rows of a matrix $\\mathbf{X}$ is simply $\\mathbf{X} \\mathbf{X}^\\intercal$:"
   ]
  },
  {
   "cell_type": "code",
   "execution_count": 120,
   "metadata": {},
   "outputs": [
    {
     "data": {
      "text/plain": [
       "array([[0.066, 0.066, 0.065, 0.066, 0.065],\n",
       "       [0.066, 0.066, 0.065, 0.066, 0.065],\n",
       "       [0.065, 0.065, 0.064, 0.065, 0.064],\n",
       "       [0.066, 0.066, 0.065, 0.066, 0.065],\n",
       "       [0.065, 0.065, 0.064, 0.065, 0.065]])"
      ]
     },
     "execution_count": 120,
     "metadata": {},
     "output_type": "execute_result"
    }
   ],
   "source": [
    "hv_dot = hv_dist @ hv_dist.T\n",
    "hv_dot"
   ]
  },
  {
   "cell_type": "markdown",
   "metadata": {},
   "source": [
    "For the vector noms, $||\\mathbf{u}||$ and  $||\\mathbf{v}||$, we can use `np.linalg.norm()`. Here we will break down the computation with elementary operations. We will apply the Hadamard product to have the square of the coordinates, then sum along the rows, and finally extract the square root:"
   ]
  },
  {
   "cell_type": "code",
   "execution_count": 121,
   "metadata": {},
   "outputs": [
    {
     "data": {
      "text/plain": [
       "array([0.257, 0.257, 0.253, 0.257, 0.255])"
      ]
     },
     "execution_count": 121,
     "metadata": {},
     "output_type": "execute_result"
    }
   ],
   "source": [
    "hv_norm = np.sqrt(np.sum(hv_dist * hv_dist, axis=1))\n",
    "hv_norm"
   ]
  },
  {
   "cell_type": "markdown",
   "metadata": {},
   "source": [
    "We compute the product of the norms, $||\\mathbf{u}|| \\cdot||\\mathbf{v}||$, as a matrix product of a column vector by a row vector as with:\n",
    "$$\n",
    "\\begin{bmatrix*}\n",
    "x_1\\\\\n",
    "x_2\\\\\n",
    " ...\\\\\n",
    " x_n\\\\\n",
    "\\end{bmatrix*}\n",
    "\\begin{bmatrix*}\n",
    "y_1, y_2, ..., y_n\\\\\n",
    "\\end{bmatrix*}\n",
    "=\n",
    "\\begin{bmatrix*}\n",
    "x_1 y_1& x_1 y_2&...&x_1 y_n\\\\\n",
    "x_2 y_1& x_2 y_1&...&x_2 y_n\\\\\n",
    " ...\\\\\n",
    " x_ny_1& x_n y_2&...&x_n y_n \\\\\n",
    "\\end{bmatrix*}. \n",
    "$$\n"
   ]
  },
  {
   "cell_type": "code",
   "execution_count": 122,
   "metadata": {},
   "outputs": [
    {
     "data": {
      "text/plain": [
       "array([[0.066, 0.066, 0.065, 0.066, 0.065],\n",
       "       [0.066, 0.066, 0.065, 0.066, 0.065],\n",
       "       [0.065, 0.065, 0.064, 0.065, 0.064],\n",
       "       [0.066, 0.066, 0.065, 0.066, 0.065],\n",
       "       [0.065, 0.065, 0.064, 0.065, 0.065]])"
      ]
     },
     "execution_count": 122,
     "metadata": {},
     "output_type": "execute_result"
    }
   ],
   "source": [
    "hv_norm_pairs = hv_norm.reshape(-1, 1) @ hv_norm.reshape(1, -1)\n",
    "hv_norm_pairs"
   ]
  },
  {
   "cell_type": "markdown",
   "metadata": {},
   "source": [
    "We now nearly done with the cosine. We only need to divide the matrix elements by the norm products, $\\displaystyle{\\frac{\\mathbf{u} \\cdot \\mathbf{v}}{||\\mathbf{u}|| \\cdot||\\mathbf{v}||}}$"
   ]
  },
  {
   "cell_type": "code",
   "execution_count": 123,
   "metadata": {},
   "outputs": [
    {
     "data": {
      "text/plain": [
       "array([[1.   , 0.999, 0.997, 0.996, 0.995],\n",
       "       [0.999, 1.   , 0.997, 0.995, 0.994],\n",
       "       [0.997, 0.997, 1.   , 0.996, 0.995],\n",
       "       [0.996, 0.995, 0.996, 1.   , 0.998],\n",
       "       [0.995, 0.994, 0.995, 0.998, 1.   ]])"
      ]
     },
     "execution_count": 123,
     "metadata": {},
     "output_type": "execute_result"
    }
   ],
   "source": [
    "hv_cos = hv_dot / hv_norm_pairs\n",
    "hv_cos"
   ]
  },
  {
   "cell_type": "markdown",
   "metadata": {},
   "source": [
    "## Elementary Mathematical Background for Matrices"
   ]
  },
  {
   "cell_type": "code",
   "execution_count": 124,
   "metadata": {},
   "outputs": [
    {
     "data": {
      "text/plain": [
       "array([17, 39])"
      ]
     },
     "execution_count": 124,
     "metadata": {},
     "output_type": "execute_result"
    }
   ],
   "source": [
    "A = np.array([[1, 2],\n",
    "              [3, 4]])\n",
    "A @ np.array([5, 6])"
   ]
  },
  {
   "cell_type": "markdown",
   "metadata": {},
   "source": [
    "### Matrices and Rotations"
   ]
  },
  {
   "cell_type": "markdown",
   "metadata": {},
   "source": [
    "To finish this notebook, we will have a look at vector rotation. From algebra courses, we know that we can use a matrix to compute a rotation of angle $\\theta$. For a two-dimensional vector, the rotation matrix is:\n",
    "$$\n",
    "{R}_{\\theta} =\n",
    "\\begin{bmatrix*}\n",
    "\\cos \\theta &-\\sin \\theta \\\\\n",
    "\\sin \\theta & \\cos \\theta \\\\\n",
    "\\end{bmatrix*}.\n",
    "$$"
   ]
  },
  {
   "cell_type": "code",
   "execution_count": 125,
   "metadata": {},
   "outputs": [
    {
     "data": {
      "text/plain": [
       "array([[ 0.707, -0.707],\n",
       "       [ 0.707,  0.707]])"
      ]
     },
     "execution_count": 125,
     "metadata": {},
     "output_type": "execute_result"
    }
   ],
   "source": [
    "theta_45 = np.pi/4\n",
    "rot_mat_45 = np.array([[np.cos(theta_45), -np.sin(theta_45)],\n",
    "                       [np.sin(theta_45), np.cos(theta_45)]])\n",
    "rot_mat_45"
   ]
  },
  {
   "cell_type": "markdown",
   "metadata": {},
   "source": [
    "we rotate vector (1, 1) by this angle"
   ]
  },
  {
   "cell_type": "code",
   "execution_count": 126,
   "metadata": {},
   "outputs": [
    {
     "data": {
      "text/plain": [
       "array([1.110e-16, 1.414e+00])"
      ]
     },
     "execution_count": 126,
     "metadata": {},
     "output_type": "execute_result"
    }
   ],
   "source": [
    "rot_mat_45 @ np.array([1, 1])"
   ]
  },
  {
   "cell_type": "markdown",
   "metadata": {},
   "source": [
    "The matrix of a sequence of rotations, for instance a rotation of $\\pi/6$ followed by a rotation of $\\pi/4$, is simply the matrix product of the individual rotations ${R}_{{\\theta}_1} {R}_{{\\theta}_2}  = {R}_{{\\theta}_1 + {\\theta}_2}$, here ${R}_{\\pi/4} {R}_{\\pi/6}  = {R}_{5\\pi/12}$. "
   ]
  },
  {
   "cell_type": "code",
   "execution_count": 127,
   "metadata": {},
   "outputs": [
    {
     "data": {
      "text/plain": [
       "array([[ 0.866, -0.5  ],\n",
       "       [ 0.5  ,  0.866]])"
      ]
     },
     "execution_count": 127,
     "metadata": {},
     "output_type": "execute_result"
    }
   ],
   "source": [
    "theta_30 = np.pi/6\n",
    "rot_mat_30 = np.array([[np.cos(theta_30), -np.sin(theta_30)],\n",
    "                       [np.sin(theta_30), np.cos(theta_30)]])\n",
    "rot_mat_30"
   ]
  },
  {
   "cell_type": "markdown",
   "metadata": {},
   "source": [
    "rot_mat_30 @ rot_mat_45\n"
   ]
  },
  {
   "cell_type": "code",
   "execution_count": 128,
   "metadata": {},
   "outputs": [
    {
     "data": {
      "text/plain": [
       "array([[ 0.259, -0.966],\n",
       "       [ 0.966,  0.259]])"
      ]
     },
     "execution_count": 128,
     "metadata": {},
     "output_type": "execute_result"
    }
   ],
   "source": [
    "rot_mat_45 @ rot_mat_30"
   ]
  },
  {
   "cell_type": "code",
   "execution_count": 129,
   "metadata": {},
   "outputs": [
    {
     "data": {
      "text/plain": [
       "1.3089969339255036"
      ]
     },
     "execution_count": 129,
     "metadata": {},
     "output_type": "execute_result"
    }
   ],
   "source": [
    "np.arccos(0.25881905)"
   ]
  },
  {
   "cell_type": "code",
   "execution_count": 130,
   "metadata": {},
   "outputs": [
    {
     "data": {
      "text/plain": [
       "1.308996938995747"
      ]
     },
     "execution_count": 130,
     "metadata": {},
     "output_type": "execute_result"
    }
   ],
   "source": [
    "np.pi/4 + np.pi/6"
   ]
  },
  {
   "cell_type": "markdown",
   "metadata": {},
   "source": [
    "### Inverting a Matrix"
   ]
  },
  {
   "cell_type": "code",
   "execution_count": 131,
   "metadata": {},
   "outputs": [
    {
     "data": {
      "text/plain": [
       "array([[ 0.866,  0.5  ],\n",
       "       [-0.5  ,  0.866]])"
      ]
     },
     "execution_count": 131,
     "metadata": {},
     "output_type": "execute_result"
    }
   ],
   "source": [
    "np.linalg.inv(rot_mat_30)"
   ]
  },
  {
   "cell_type": "code",
   "execution_count": 132,
   "metadata": {},
   "outputs": [
    {
     "data": {
      "text/plain": [
       "array([[1.000e+00, 7.437e-18],\n",
       "       [6.295e-17, 1.000e+00]])"
      ]
     },
     "execution_count": 132,
     "metadata": {},
     "output_type": "execute_result"
    }
   ],
   "source": [
    "np.linalg.inv(rot_mat_30) @ rot_mat_30"
   ]
  },
  {
   "cell_type": "code",
   "execution_count": 133,
   "metadata": {},
   "outputs": [
    {
     "data": {
      "text/plain": [
       "tensor([[ 0.8660,  0.5000],\n",
       "        [-0.5000,  0.8660]], dtype=torch.float64)"
      ]
     },
     "execution_count": 133,
     "metadata": {},
     "output_type": "execute_result"
    }
   ],
   "source": [
    "torch.linalg.inv(torch.from_numpy(rot_mat_30))"
   ]
  },
  {
   "cell_type": "code",
   "execution_count": 134,
   "metadata": {},
   "outputs": [
    {
     "data": {
      "text/plain": [
       "tensor([[ 1.0000e+00, -4.0637e-17],\n",
       "        [ 6.2948e-17,  1.0000e+00]], dtype=torch.float64)"
      ]
     },
     "execution_count": 134,
     "metadata": {},
     "output_type": "execute_result"
    }
   ],
   "source": [
    "torch.linalg.inv(torch.from_numpy(rot_mat_30)) @ torch.from_numpy(rot_mat_30)"
   ]
  },
  {
   "cell_type": "markdown",
   "metadata": {},
   "source": [
    "## Application to Neural Netwoks"
   ]
  },
  {
   "cell_type": "markdown",
   "metadata": {},
   "source": [
    "### PyTorch"
   ]
  },
  {
   "cell_type": "code",
   "execution_count": 135,
   "metadata": {},
   "outputs": [],
   "source": [
    "layer1 = torch.nn.Linear(3, 4, bias=False)"
   ]
  },
  {
   "cell_type": "code",
   "execution_count": 136,
   "metadata": {},
   "outputs": [
    {
     "data": {
      "text/plain": [
       "Parameter containing:\n",
       "tensor([[-0.4324,  0.0435,  0.1806],\n",
       "        [-0.5352,  0.0966,  0.2330],\n",
       "        [-0.2231,  0.5196, -0.0784],\n",
       "        [-0.2372,  0.1172, -0.3739]], requires_grad=True)"
      ]
     },
     "execution_count": 136,
     "metadata": {},
     "output_type": "execute_result"
    }
   ],
   "source": [
    "layer1.weight"
   ]
  },
  {
   "cell_type": "code",
   "execution_count": 137,
   "metadata": {},
   "outputs": [],
   "source": [
    "x = torch.tensor([1.0, 2.0, 3.0])"
   ]
  },
  {
   "cell_type": "code",
   "execution_count": 138,
   "metadata": {},
   "outputs": [
    {
     "data": {
      "text/plain": [
       "tensor([ 0.1963,  0.3571,  0.5810, -1.1245], grad_fn=<SqueezeBackward4>)"
      ]
     },
     "execution_count": 138,
     "metadata": {},
     "output_type": "execute_result"
    }
   ],
   "source": [
    "layer1(x)"
   ]
  },
  {
   "cell_type": "code",
   "execution_count": 139,
   "metadata": {},
   "outputs": [
    {
     "data": {
      "text/plain": [
       "tensor([ 0.1963,  0.3571,  0.5810, -1.1245], grad_fn=<MvBackward0>)"
      ]
     },
     "execution_count": 139,
     "metadata": {},
     "output_type": "execute_result"
    }
   ],
   "source": [
    "layer1.weight @ x"
   ]
  },
  {
   "cell_type": "markdown",
   "metadata": {},
   "source": [
    "Or see: https://pytorch.org/docs/stable/generated/torch.nn.Linear.html"
   ]
  },
  {
   "cell_type": "code",
   "execution_count": 140,
   "metadata": {},
   "outputs": [
    {
     "data": {
      "text/plain": [
       "tensor([ 0.1963,  0.3571,  0.5810, -1.1245], grad_fn=<SqueezeBackward4>)"
      ]
     },
     "execution_count": 140,
     "metadata": {},
     "output_type": "execute_result"
    }
   ],
   "source": [
    "x @ layer1.weight.T"
   ]
  },
  {
   "cell_type": "markdown",
   "metadata": {},
   "source": [
    "### More Layers"
   ]
  },
  {
   "cell_type": "code",
   "execution_count": 141,
   "metadata": {},
   "outputs": [],
   "source": [
    "layer1 = torch.nn.Linear(3, 4, bias=False)\n",
    "layer2 = torch.nn.Linear(4, 2, bias=False)\n",
    "layer3 = torch.nn.Linear(2, 1, bias=False)"
   ]
  },
  {
   "cell_type": "code",
   "execution_count": 142,
   "metadata": {},
   "outputs": [
    {
     "data": {
      "text/plain": [
       "(Parameter containing:\n",
       " tensor([[ 0.5711, -0.2106,  0.5642],\n",
       "         [-0.1257,  0.3728, -0.4489],\n",
       "         [-0.1961, -0.0592, -0.0630],\n",
       "         [-0.4868,  0.2738,  0.5165]], requires_grad=True),\n",
       " Parameter containing:\n",
       " tensor([[ 0.3872,  0.2588,  0.3612, -0.1009],\n",
       "         [ 0.2428, -0.2557, -0.2185, -0.2425]], requires_grad=True),\n",
       " Parameter containing:\n",
       " tensor([[-0.7031, -0.4677]], requires_grad=True))"
      ]
     },
     "execution_count": 142,
     "metadata": {},
     "output_type": "execute_result"
    }
   ],
   "source": [
    "(layer1.weight, layer2.weight, layer3.weight)"
   ]
  },
  {
   "cell_type": "code",
   "execution_count": 143,
   "metadata": {},
   "outputs": [
    {
     "data": {
      "text/plain": [
       "tensor([-0.2923], grad_fn=<SqueezeBackward4>)"
      ]
     },
     "execution_count": 143,
     "metadata": {},
     "output_type": "execute_result"
    }
   ],
   "source": [
    "layer3(layer2(layer1(x)))"
   ]
  },
  {
   "cell_type": "code",
   "execution_count": 144,
   "metadata": {},
   "outputs": [
    {
     "data": {
      "text/plain": [
       "tensor([-0.2923], grad_fn=<SqueezeBackward4>)"
      ]
     },
     "execution_count": 144,
     "metadata": {},
     "output_type": "execute_result"
    }
   ],
   "source": [
    "x @ layer1.weight.T @ layer2.weight.T @ layer3.weight.T"
   ]
  },
  {
   "cell_type": "markdown",
   "metadata": {},
   "source": [
    "## Automatic Differentiation"
   ]
  },
  {
   "cell_type": "markdown",
   "metadata": {},
   "source": [
    "A 3D curve:\n",
    "$$\n",
    "z = x^2 + xy + y^2\n",
    "$$\n",
    "Its gradient:\n",
    "$$\n",
    "\\begin{array}{lcl}\n",
    "\\frac{\\partial z}{\\partial x} &=& 2x + y\\\\\n",
    "\\frac{\\partial z}{\\partial y} &=& x + 2y\\\\\n",
    "\\end{array}\n",
    "$$"
   ]
  },
  {
   "cell_type": "code",
   "execution_count": 145,
   "metadata": {},
   "outputs": [],
   "source": [
    "def f(x, y):\n",
    "    return x**2 + x * y + y**2"
   ]
  },
  {
   "cell_type": "code",
   "execution_count": 146,
   "metadata": {},
   "outputs": [],
   "source": [
    "x = torch.tensor(3.0, requires_grad=True)\n",
    "y = torch.tensor(4.0, requires_grad=True)"
   ]
  },
  {
   "cell_type": "code",
   "execution_count": 147,
   "metadata": {},
   "outputs": [
    {
     "data": {
      "text/plain": [
       "tensor(37., grad_fn=<AddBackward0>)"
      ]
     },
     "execution_count": 147,
     "metadata": {},
     "output_type": "execute_result"
    }
   ],
   "source": [
    "z = f(x, y)\n",
    "z"
   ]
  },
  {
   "cell_type": "markdown",
   "metadata": {},
   "source": [
    "The `retain_graph` is necessary to visualize the graph below"
   ]
  },
  {
   "cell_type": "code",
   "execution_count": 148,
   "metadata": {},
   "outputs": [],
   "source": [
    "z.backward(retain_graph=True)"
   ]
  },
  {
   "cell_type": "code",
   "execution_count": 149,
   "metadata": {},
   "outputs": [
    {
     "data": {
      "text/plain": [
       "tensor(37., grad_fn=<AddBackward0>)"
      ]
     },
     "execution_count": 149,
     "metadata": {},
     "output_type": "execute_result"
    }
   ],
   "source": [
    "z"
   ]
  },
  {
   "cell_type": "code",
   "execution_count": 150,
   "metadata": {},
   "outputs": [
    {
     "data": {
      "text/plain": [
       "<AddBackward0 at 0x12fb25750>"
      ]
     },
     "execution_count": 150,
     "metadata": {},
     "output_type": "execute_result"
    }
   ],
   "source": [
    "z.grad_fn"
   ]
  },
  {
   "cell_type": "code",
   "execution_count": 151,
   "metadata": {},
   "outputs": [
    {
     "data": {
      "text/plain": [
       "((<AddBackward0 at 0x12fb269e0>, 0), (<PowBackward0 at 0x12fb240d0>, 0))"
      ]
     },
     "execution_count": 151,
     "metadata": {},
     "output_type": "execute_result"
    }
   ],
   "source": [
    "z.grad_fn.next_functions"
   ]
  },
  {
   "cell_type": "code",
   "execution_count": 152,
   "metadata": {},
   "outputs": [
    {
     "data": {
      "text/plain": [
       "((<PowBackward0 at 0x12fb24a30>, 0), (<MulBackward0 at 0x12fb26da0>, 0))"
      ]
     },
     "execution_count": 152,
     "metadata": {},
     "output_type": "execute_result"
    }
   ],
   "source": [
    "z.grad_fn.next_functions[0][0].next_functions"
   ]
  },
  {
   "cell_type": "code",
   "execution_count": 153,
   "metadata": {},
   "outputs": [
    {
     "data": {
      "text/plain": [
       "((<AccumulateGrad at 0x12fb26920>, 0),)"
      ]
     },
     "execution_count": 153,
     "metadata": {},
     "output_type": "execute_result"
    }
   ],
   "source": [
    "z.grad_fn.next_functions[0][0].next_functions[0][0].next_functions"
   ]
  },
  {
   "cell_type": "code",
   "execution_count": 154,
   "metadata": {},
   "outputs": [
    {
     "data": {
      "text/plain": [
       "()"
      ]
     },
     "execution_count": 154,
     "metadata": {},
     "output_type": "execute_result"
    }
   ],
   "source": [
    "z.grad_fn.next_functions[0][0].next_functions[0][0].next_functions[0][0].next_functions"
   ]
  },
  {
   "cell_type": "code",
   "execution_count": 155,
   "metadata": {},
   "outputs": [
    {
     "data": {
      "text/plain": [
       "(tensor(10.), tensor(11.))"
      ]
     },
     "execution_count": 155,
     "metadata": {},
     "output_type": "execute_result"
    }
   ],
   "source": [
    "x.grad, y.grad"
   ]
  },
  {
   "cell_type": "code",
   "execution_count": 156,
   "metadata": {},
   "outputs": [],
   "source": [
    "from torchviz import make_dot"
   ]
  },
  {
   "cell_type": "code",
   "execution_count": 157,
   "metadata": {},
   "outputs": [
    {
     "data": {
      "text/plain": [
       "'autograd_torchviz.png'"
      ]
     },
     "execution_count": 157,
     "metadata": {},
     "output_type": "execute_result"
    }
   ],
   "source": [
    "make_dot(z, params={'x': x, 'y': y, 'z': z}, show_attrs=True).render(\n",
    "    \"autograd_torchviz\", format=\"png\")"
   ]
  },
  {
   "cell_type": "code",
   "execution_count": 158,
   "metadata": {},
   "outputs": [
    {
     "data": {
      "image/svg+xml": [
       "<?xml version=\"1.0\" encoding=\"UTF-8\" standalone=\"no\"?>\n",
       "<!DOCTYPE svg PUBLIC \"-//W3C//DTD SVG 1.1//EN\"\n",
       " \"http://www.w3.org/Graphics/SVG/1.1/DTD/svg11.dtd\">\n",
       "<!-- Generated by graphviz version 7.1.0 (20230121.1956)\n",
       " -->\n",
       "<!-- Pages: 1 -->\n",
       "<svg width=\"439pt\" height=\"412pt\"\n",
       " viewBox=\"0.00 0.00 439.00 412.00\" xmlns=\"http://www.w3.org/2000/svg\" xmlns:xlink=\"http://www.w3.org/1999/xlink\">\n",
       "<g id=\"graph0\" class=\"graph\" transform=\"scale(1 1) rotate(0) translate(4 408)\">\n",
       "<polygon fill=\"white\" stroke=\"none\" points=\"-4,4 -4,-408 435,-408 435,4 -4,4\"/>\n",
       "<!-- 5775013648 -->\n",
       "<g id=\"node1\" class=\"node\">\n",
       "<title>5775013648</title>\n",
       "<polygon fill=\"#caff70\" stroke=\"black\" points=\"178.5,-30 124.5,-30 124.5,0 178.5,0 178.5,-30\"/>\n",
       "<text text-anchor=\"middle\" x=\"151.5\" y=\"-18\" font-family=\"monospace\" font-size=\"10.00\">z</text>\n",
       "<text text-anchor=\"middle\" x=\"151.5\" y=\"-7\" font-family=\"monospace\" font-size=\"10.00\"> ()</text>\n",
       "</g>\n",
       "<!-- 5095184208 -->\n",
       "<g id=\"node2\" class=\"node\">\n",
       "<title>5095184208</title>\n",
       "<polygon fill=\"lightgrey\" stroke=\"black\" points=\"196,-107 107,-107 107,-66 196,-66 196,-107\"/>\n",
       "<text text-anchor=\"middle\" x=\"151.5\" y=\"-95\" font-family=\"monospace\" font-size=\"10.00\">AddBackward0</text>\n",
       "<text text-anchor=\"middle\" x=\"151.5\" y=\"-84\" font-family=\"monospace\" font-size=\"10.00\">&#45;&#45;&#45;&#45;&#45;&#45;&#45;&#45;&#45;&#45;&#45;&#45;</text>\n",
       "<text text-anchor=\"middle\" x=\"151.5\" y=\"-73\" font-family=\"monospace\" font-size=\"10.00\">alpha: 1</text>\n",
       "</g>\n",
       "<!-- 5095184208&#45;&gt;5775013648 -->\n",
       "<g id=\"edge11\" class=\"edge\">\n",
       "<title>5095184208&#45;&gt;5775013648</title>\n",
       "<path fill=\"none\" stroke=\"black\" d=\"M151.5,-65.77C151.5,-58.31 151.5,-49.7 151.5,-41.77\"/>\n",
       "<polygon fill=\"black\" stroke=\"black\" points=\"155,-41.99 151.5,-31.99 148,-41.99 155,-41.99\"/>\n",
       "</g>\n",
       "<!-- 5095188960 -->\n",
       "<g id=\"node3\" class=\"node\">\n",
       "<title>5095188960</title>\n",
       "<polygon fill=\"lightgrey\" stroke=\"black\" points=\"268,-189.5 179,-189.5 179,-148.5 268,-148.5 268,-189.5\"/>\n",
       "<text text-anchor=\"middle\" x=\"223.5\" y=\"-177.5\" font-family=\"monospace\" font-size=\"10.00\">AddBackward0</text>\n",
       "<text text-anchor=\"middle\" x=\"223.5\" y=\"-166.5\" font-family=\"monospace\" font-size=\"10.00\">&#45;&#45;&#45;&#45;&#45;&#45;&#45;&#45;&#45;&#45;&#45;&#45;</text>\n",
       "<text text-anchor=\"middle\" x=\"223.5\" y=\"-155.5\" font-family=\"monospace\" font-size=\"10.00\">alpha: 1</text>\n",
       "</g>\n",
       "<!-- 5095188960&#45;&gt;5095184208 -->\n",
       "<g id=\"edge1\" class=\"edge\">\n",
       "<title>5095188960&#45;&gt;5095184208</title>\n",
       "<path fill=\"none\" stroke=\"black\" d=\"M205.7,-148.1C197.05,-138.43 186.49,-126.62 177,-116.01\"/>\n",
       "<polygon fill=\"black\" stroke=\"black\" points=\"179.63,-113.7 170.35,-108.58 174.41,-118.36 179.63,-113.7\"/>\n",
       "</g>\n",
       "<!-- 5095180848 -->\n",
       "<g id=\"node4\" class=\"node\">\n",
       "<title>5095180848</title>\n",
       "<polygon fill=\"lightgrey\" stroke=\"black\" points=\"431,-283 270,-283 270,-231 431,-231 431,-283\"/>\n",
       "<text text-anchor=\"middle\" x=\"350.5\" y=\"-271\" font-family=\"monospace\" font-size=\"10.00\">PowBackward0</text>\n",
       "<text text-anchor=\"middle\" x=\"350.5\" y=\"-260\" font-family=\"monospace\" font-size=\"10.00\">&#45;&#45;&#45;&#45;&#45;&#45;&#45;&#45;&#45;&#45;&#45;&#45;&#45;&#45;&#45;&#45;&#45;&#45;&#45;&#45;&#45;&#45;&#45;&#45;</text>\n",
       "<text text-anchor=\"middle\" x=\"350.5\" y=\"-249\" font-family=\"monospace\" font-size=\"10.00\">exponent: &#160;&#160;&#160;&#160;&#160;&#160;&#160;&#160;&#160;&#160;&#160;&#160;&#160;2</text>\n",
       "<text text-anchor=\"middle\" x=\"350.5\" y=\"-238\" font-family=\"monospace\" font-size=\"10.00\">self &#160;&#160;&#160;: [saved tensor]</text>\n",
       "</g>\n",
       "<!-- 5095180848&#45;&gt;5095188960 -->\n",
       "<g id=\"edge2\" class=\"edge\">\n",
       "<title>5095180848&#45;&gt;5095188960</title>\n",
       "<path fill=\"none\" stroke=\"black\" d=\"M313.08,-230.66C297.06,-219.81 278.35,-207.14 262.19,-196.2\"/>\n",
       "<polygon fill=\"black\" stroke=\"black\" points=\"264.5,-193.54 254.26,-190.83 260.58,-199.33 264.5,-193.54\"/>\n",
       "</g>\n",
       "<!-- 5095188768 -->\n",
       "<g id=\"node5\" class=\"node\">\n",
       "<title>5095188768</title>\n",
       "<polygon fill=\"lightgrey\" stroke=\"black\" points=\"350,-338 249,-338 249,-319 350,-319 350,-338\"/>\n",
       "<text text-anchor=\"middle\" x=\"299.5\" y=\"-326\" font-family=\"monospace\" font-size=\"10.00\">AccumulateGrad</text>\n",
       "</g>\n",
       "<!-- 5095188768&#45;&gt;5095180848 -->\n",
       "<g id=\"edge3\" class=\"edge\">\n",
       "<title>5095188768&#45;&gt;5095180848</title>\n",
       "<path fill=\"none\" stroke=\"black\" d=\"M305.96,-318.7C310.87,-312 317.98,-302.31 325.08,-292.64\"/>\n",
       "<polygon fill=\"black\" stroke=\"black\" points=\"327.83,-294.81 330.92,-284.68 322.18,-290.67 327.83,-294.81\"/>\n",
       "</g>\n",
       "<!-- 5095189920 -->\n",
       "<g id=\"node7\" class=\"node\">\n",
       "<title>5095189920</title>\n",
       "<polygon fill=\"lightgrey\" stroke=\"black\" points=\"252,-283 109,-283 109,-231 252,-231 252,-283\"/>\n",
       "<text text-anchor=\"middle\" x=\"180.5\" y=\"-271\" font-family=\"monospace\" font-size=\"10.00\">MulBackward0</text>\n",
       "<text text-anchor=\"middle\" x=\"180.5\" y=\"-260\" font-family=\"monospace\" font-size=\"10.00\">&#45;&#45;&#45;&#45;&#45;&#45;&#45;&#45;&#45;&#45;&#45;&#45;&#45;&#45;&#45;&#45;&#45;&#45;&#45;&#45;&#45;</text>\n",
       "<text text-anchor=\"middle\" x=\"180.5\" y=\"-249\" font-family=\"monospace\" font-size=\"10.00\">other: [saved tensor]</text>\n",
       "<text text-anchor=\"middle\" x=\"180.5\" y=\"-238\" font-family=\"monospace\" font-size=\"10.00\">self : [saved tensor]</text>\n",
       "</g>\n",
       "<!-- 5095188768&#45;&gt;5095189920 -->\n",
       "<g id=\"edge6\" class=\"edge\">\n",
       "<title>5095188768&#45;&gt;5095189920</title>\n",
       "<path fill=\"none\" stroke=\"black\" d=\"M284.43,-318.7C271.6,-311.21 252.37,-299.97 233.92,-289.2\"/>\n",
       "<polygon fill=\"black\" stroke=\"black\" points=\"235.8,-286.25 225.4,-284.22 232.27,-292.29 235.8,-286.25\"/>\n",
       "</g>\n",
       "<!-- 5775011152 -->\n",
       "<g id=\"node6\" class=\"node\">\n",
       "<title>5775011152</title>\n",
       "<polygon fill=\"lightblue\" stroke=\"black\" points=\"326.5,-404 272.5,-404 272.5,-374 326.5,-374 326.5,-404\"/>\n",
       "<text text-anchor=\"middle\" x=\"299.5\" y=\"-392\" font-family=\"monospace\" font-size=\"10.00\">x</text>\n",
       "<text text-anchor=\"middle\" x=\"299.5\" y=\"-381\" font-family=\"monospace\" font-size=\"10.00\"> ()</text>\n",
       "</g>\n",
       "<!-- 5775011152&#45;&gt;5095188768 -->\n",
       "<g id=\"edge4\" class=\"edge\">\n",
       "<title>5775011152&#45;&gt;5095188768</title>\n",
       "<path fill=\"none\" stroke=\"black\" d=\"M299.5,-373.54C299.5,-366.34 299.5,-357.53 299.5,-349.68\"/>\n",
       "<polygon fill=\"black\" stroke=\"black\" points=\"303,-349.69 299.5,-339.69 296,-349.69 303,-349.69\"/>\n",
       "</g>\n",
       "<!-- 5095189920&#45;&gt;5095188960 -->\n",
       "<g id=\"edge5\" class=\"edge\">\n",
       "<title>5095189920&#45;&gt;5095188960</title>\n",
       "<path fill=\"none\" stroke=\"black\" d=\"M193.17,-230.66C197.94,-221.13 203.4,-210.19 208.37,-200.26\"/>\n",
       "<polygon fill=\"black\" stroke=\"black\" points=\"211.49,-201.84 212.83,-191.33 205.23,-198.71 211.49,-201.84\"/>\n",
       "</g>\n",
       "<!-- 5095963472 -->\n",
       "<g id=\"node8\" class=\"node\">\n",
       "<title>5095963472</title>\n",
       "<polygon fill=\"lightgrey\" stroke=\"black\" points=\"181,-338 80,-338 80,-319 181,-319 181,-338\"/>\n",
       "<text text-anchor=\"middle\" x=\"130.5\" y=\"-326\" font-family=\"monospace\" font-size=\"10.00\">AccumulateGrad</text>\n",
       "</g>\n",
       "<!-- 5095963472&#45;&gt;5095189920 -->\n",
       "<g id=\"edge7\" class=\"edge\">\n",
       "<title>5095963472&#45;&gt;5095189920</title>\n",
       "<path fill=\"none\" stroke=\"black\" d=\"M136.83,-318.7C141.65,-312 148.62,-302.31 155.58,-292.64\"/>\n",
       "<polygon fill=\"black\" stroke=\"black\" points=\"158.3,-294.85 161.3,-284.69 152.62,-290.76 158.3,-294.85\"/>\n",
       "</g>\n",
       "<!-- 5095178448 -->\n",
       "<g id=\"node10\" class=\"node\">\n",
       "<title>5095178448</title>\n",
       "<polygon fill=\"lightgrey\" stroke=\"black\" points=\"161,-195 0,-195 0,-143 161,-143 161,-195\"/>\n",
       "<text text-anchor=\"middle\" x=\"80.5\" y=\"-183\" font-family=\"monospace\" font-size=\"10.00\">PowBackward0</text>\n",
       "<text text-anchor=\"middle\" x=\"80.5\" y=\"-172\" font-family=\"monospace\" font-size=\"10.00\">&#45;&#45;&#45;&#45;&#45;&#45;&#45;&#45;&#45;&#45;&#45;&#45;&#45;&#45;&#45;&#45;&#45;&#45;&#45;&#45;&#45;&#45;&#45;&#45;</text>\n",
       "<text text-anchor=\"middle\" x=\"80.5\" y=\"-161\" font-family=\"monospace\" font-size=\"10.00\">exponent: &#160;&#160;&#160;&#160;&#160;&#160;&#160;&#160;&#160;&#160;&#160;&#160;&#160;2</text>\n",
       "<text text-anchor=\"middle\" x=\"80.5\" y=\"-150\" font-family=\"monospace\" font-size=\"10.00\">self &#160;&#160;&#160;: [saved tensor]</text>\n",
       "</g>\n",
       "<!-- 5095963472&#45;&gt;5095178448 -->\n",
       "<g id=\"edge10\" class=\"edge\">\n",
       "<title>5095963472&#45;&gt;5095178448</title>\n",
       "<path fill=\"none\" stroke=\"black\" d=\"M122.55,-318.66C115.35,-310.15 105.05,-296.6 99.5,-283 89.51,-258.53 84.77,-229.03 82.53,-206.31\"/>\n",
       "<polygon fill=\"black\" stroke=\"black\" points=\"86.04,-206.28 81.69,-196.61 79.06,-206.87 86.04,-206.28\"/>\n",
       "</g>\n",
       "<!-- 5775009616 -->\n",
       "<g id=\"node9\" class=\"node\">\n",
       "<title>5775009616</title>\n",
       "<polygon fill=\"lightblue\" stroke=\"black\" points=\"157.5,-404 103.5,-404 103.5,-374 157.5,-374 157.5,-404\"/>\n",
       "<text text-anchor=\"middle\" x=\"130.5\" y=\"-392\" font-family=\"monospace\" font-size=\"10.00\">y</text>\n",
       "<text text-anchor=\"middle\" x=\"130.5\" y=\"-381\" font-family=\"monospace\" font-size=\"10.00\"> ()</text>\n",
       "</g>\n",
       "<!-- 5775009616&#45;&gt;5095963472 -->\n",
       "<g id=\"edge8\" class=\"edge\">\n",
       "<title>5775009616&#45;&gt;5095963472</title>\n",
       "<path fill=\"none\" stroke=\"black\" d=\"M130.5,-373.54C130.5,-366.34 130.5,-357.53 130.5,-349.68\"/>\n",
       "<polygon fill=\"black\" stroke=\"black\" points=\"134,-349.69 130.5,-339.69 127,-349.69 134,-349.69\"/>\n",
       "</g>\n",
       "<!-- 5095178448&#45;&gt;5095184208 -->\n",
       "<g id=\"edge9\" class=\"edge\">\n",
       "<title>5095178448&#45;&gt;5095184208</title>\n",
       "<path fill=\"none\" stroke=\"black\" d=\"M102.96,-142.53C110.38,-134.12 118.68,-124.71 126.29,-116.08\"/>\n",
       "<polygon fill=\"black\" stroke=\"black\" points=\"128.91,-118.4 132.9,-108.59 123.66,-113.77 128.91,-118.4\"/>\n",
       "</g>\n",
       "</g>\n",
       "</svg>\n"
      ],
      "text/plain": [
       "<graphviz.graphs.Digraph at 0x12fb4bb90>"
      ]
     },
     "execution_count": 158,
     "metadata": {},
     "output_type": "execute_result"
    }
   ],
   "source": [
    "make_dot(z, params={'x': x, 'y': y, 'z': z}, show_attrs=True)"
   ]
  }
 ],
 "metadata": {
  "anaconda-cloud": {},
  "kernelspec": {
   "display_name": "Python 3.9.12 ('base')",
   "language": "python",
   "name": "python3"
  },
  "language_info": {
   "codemirror_mode": {
    "name": "ipython",
    "version": 3
   },
   "file_extension": ".py",
   "mimetype": "text/x-python",
   "name": "python",
   "nbconvert_exporter": "python",
   "pygments_lexer": "ipython3",
   "version": "3.11.7"
  },
  "vscode": {
   "interpreter": {
    "hash": "b97b11a820675205aae8f1d7f2a3f22bbd3a2c30189f44042310baf5b4cd1987"
   }
  }
 },
 "nbformat": 4,
 "nbformat_minor": 4
}
