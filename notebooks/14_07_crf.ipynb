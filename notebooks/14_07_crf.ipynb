{
 "cells": [
  {
   "cell_type": "markdown",
   "metadata": {},
   "source": [
    "# Conditional Random Fields\n",
    "The conditional random fields layer follows the algorithm described in [_Natural language processing (almost) from scratch_ by Collobert et al. (2011)](https://arxiv.org/abs/1103.0398), Sect. 3.3.2., notably for the computation of $\\delta$.\n",
    "\n",
    "Programs from the book: [_Python for Natural Language Processing_](https://link.springer.com/book/9783031575488)\n",
    "\n",
    "__Author__: Pierre Nugues"
   ]
  },
  {
   "cell_type": "code",
   "execution_count": 1,
   "metadata": {},
   "outputs": [],
   "source": [
    "import torch\n",
    "import torch.nn as nn"
   ]
  },
  {
   "cell_type": "code",
   "execution_count": 2,
   "metadata": {},
   "outputs": [],
   "source": [
    "class CRF(nn.Module):\n",
    "    def __init__(self, tagset_size):\n",
    "        super(CRF, self).__init__()\n",
    "        self.tagset_size = tagset_size\n",
    "        self.start_transitions = nn.Parameter(torch.empty(tagset_size))\n",
    "        self.end_transitions = nn.Parameter(torch.empty(tagset_size))\n",
    "        self.transitions = nn.Parameter(torch.empty(tagset_size, tagset_size))\n",
    "\n",
    "        nn.init.uniform_(self.start_transitions, -0.1, 0.1)\n",
    "        nn.init.uniform_(self.end_transitions, -0.1, 0.1)\n",
    "        nn.init.uniform_(self.transitions, -0.1, 0.1)\n",
    "\n",
    "    def _compute_deltas(self, logits):\n",
    "        delta = (self.start_transitions + logits[0]).unsqueeze(dim=0)\n",
    "        for logit in logits[1:]:\n",
    "            logadd = torch.logsumexp(\n",
    "                delta.T + self.transitions,\n",
    "                dim=0).unsqueeze(dim=0)\n",
    "            delta = logadd + logit\n",
    "        delta += self.end_transitions\n",
    "        return torch.logsumexp(delta, dim=1).squeeze()\n",
    "\n",
    "    def _compute_sentence_score(self, logits, tags):\n",
    "        correct_path_score = self.start_transitions[tags[0]\n",
    "                                                    ] + logits[0][tags[0]]\n",
    "        for i, logit in enumerate(logits[1:]):\n",
    "            correct_path_score += self.transitions[tags[i],\n",
    "                                                   tags[i + 1]] + logit[tags[i + 1]]\n",
    "        correct_path_score += self.end_transitions[tags[-1]]\n",
    "        return correct_path_score\n",
    "\n",
    "    def _viterbi_decode(self, logits):\n",
    "        backpointers = []\n",
    "        max_llhoods = self.start_transitions + logits[0]\n",
    "\n",
    "        for logit in logits[1:]:\n",
    "            backpointers_t = []\n",
    "            max_llhoods_t = []\n",
    "            for next_tag in range(self.tagset_size):\n",
    "                llhoods = max_llhoods + self.transitions[:, next_tag]\n",
    "                best_tag_id = torch.argmax(llhoods).item()\n",
    "                backpointers_t += [best_tag_id]\n",
    "                max_llhoods_t += [llhoods[best_tag_id]]\n",
    "            max_llhoods = (torch.tensor(max_llhoods_t) + logit)\n",
    "            backpointers += [backpointers_t]\n",
    "\n",
    "        max_llhoods += self.end_transitions\n",
    "        best_tag_id = torch.argmax(max_llhoods).item()\n",
    "        path_score = max_llhoods[best_tag_id]\n",
    "\n",
    "        best_path = [best_tag_id]\n",
    "        for backpointers_t in backpointers[::-1]:\n",
    "            best_tag_id = backpointers_t[best_tag_id]\n",
    "            best_path += [best_tag_id]\n",
    "        return path_score, best_path[::-1]\n",
    "\n",
    "    def forward(self, logits, targets=None):\n",
    "        if targets is not None:\n",
    "            sent_score = self._compute_sentence_score(logits, targets)\n",
    "            normalizing_score = self._compute_deltas(logits)\n",
    "            return sent_score - normalizing_score\n",
    "        else:\n",
    "            return self._viterbi_decode(logits)"
   ]
  },
  {
   "cell_type": "markdown",
   "metadata": {},
   "source": [
    "We set the tagset size and the length of the sequence"
   ]
  },
  {
   "cell_type": "code",
   "execution_count": 3,
   "metadata": {},
   "outputs": [],
   "source": [
    "tagset_size = 10\n",
    "seq_length = 15"
   ]
  },
  {
   "cell_type": "markdown",
   "metadata": {},
   "source": [
    "We create a CRF object with the tagset size"
   ]
  },
  {
   "cell_type": "code",
   "execution_count": 4,
   "metadata": {},
   "outputs": [],
   "source": [
    "crf = CRF(tagset_size)"
   ]
  },
  {
   "cell_type": "markdown",
   "metadata": {},
   "source": [
    "The input corresponds typically to logits"
   ]
  },
  {
   "cell_type": "code",
   "execution_count": 5,
   "metadata": {},
   "outputs": [
    {
     "data": {
      "text/plain": [
       "tensor([[0.1525, 0.1313, 0.5306, 0.4148, 0.7014, 0.7169, 0.1856, 0.7635, 0.5954,\n",
       "         0.7533],\n",
       "        [0.4602, 0.7714, 0.4050, 0.6981, 0.5786, 0.5871, 0.8359, 0.5807, 0.6846,\n",
       "         0.9374],\n",
       "        [0.6913, 0.4968, 0.2297, 0.0448, 0.4424, 0.8568, 0.1832, 0.6979, 0.9804,\n",
       "         0.6524]])"
      ]
     },
     "execution_count": 5,
     "metadata": {},
     "output_type": "execute_result"
    }
   ],
   "source": [
    "inputs = torch.rand((seq_length, tagset_size))\n",
    "inputs[:3]"
   ]
  },
  {
   "cell_type": "code",
   "execution_count": 6,
   "metadata": {},
   "outputs": [
    {
     "data": {
      "text/plain": [
       "tensor([3, 7, 0, 8, 4, 0, 1, 5, 8, 4, 8, 3, 6, 9, 4])"
      ]
     },
     "execution_count": 6,
     "metadata": {},
     "output_type": "execute_result"
    }
   ],
   "source": [
    "true_tags = torch.randint(0, tagset_size, (seq_length,))\n",
    "true_tags"
   ]
  },
  {
   "cell_type": "markdown",
   "metadata": {},
   "source": [
    "We compute the log-likelihood with respect to a sequence of tags"
   ]
  },
  {
   "cell_type": "code",
   "execution_count": 7,
   "metadata": {},
   "outputs": [
    {
     "data": {
      "text/plain": [
       "tensor(-35.5360, grad_fn=<SubBackward0>)"
      ]
     },
     "execution_count": 7,
     "metadata": {},
     "output_type": "execute_result"
    }
   ],
   "source": [
    "crf(inputs, true_tags)"
   ]
  },
  {
   "cell_type": "markdown",
   "metadata": {},
   "source": [
    "We compute the optimal log-likelihood and sequence given the logits"
   ]
  },
  {
   "cell_type": "code",
   "execution_count": 8,
   "metadata": {},
   "outputs": [
    {
     "data": {
      "text/plain": [
       "(tensor(13.8228, grad_fn=<SelectBackward0>),\n",
       " [5, 9, 8, 6, 2, 9, 2, 8, 5, 0, 7, 2, 7, 9, 1])"
      ]
     },
     "execution_count": 8,
     "metadata": {},
     "output_type": "execute_result"
    }
   ],
   "source": [
    "best_loglikelihood, best_tags = crf(inputs)\n",
    "best_loglikelihood, best_tags"
   ]
  }
 ],
 "metadata": {
  "kernelspec": {
   "display_name": "base",
   "language": "python",
   "name": "python3"
  },
  "language_info": {
   "codemirror_mode": {
    "name": "ipython",
    "version": 3
   },
   "file_extension": ".py",
   "mimetype": "text/x-python",
   "name": "python",
   "nbconvert_exporter": "python",
   "pygments_lexer": "ipython3",
   "version": "3.12.4"
  }
 },
 "nbformat": 4,
 "nbformat_minor": 2
}
