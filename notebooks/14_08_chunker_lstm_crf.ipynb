{
 "cells": [
  {
   "attachments": {},
   "cell_type": "markdown",
   "metadata": {},
   "source": [
    "# Chapter 14: Part-of-Speech and Sequence Annotation\n",
    "## Extraction of Named Entities with Conditional Random Fields"
   ]
  },
  {
   "cell_type": "markdown",
   "metadata": {},
   "source": [
    "Programs from the book: [_Python for Natural Language Processing_](https://link.springer.com/book/9783031575488)\n",
    "\n",
    "__Author__: Pierre Nugues"
   ]
  },
  {
   "attachments": {},
   "cell_type": "markdown",
   "metadata": {},
   "source": [
    "## Modules"
   ]
  },
  {
   "cell_type": "code",
   "execution_count": 1,
   "metadata": {},
   "outputs": [],
   "source": [
    "import os"
   ]
  },
  {
   "cell_type": "code",
   "execution_count": 2,
   "metadata": {},
   "outputs": [],
   "source": [
    "import matplotlib.pyplot as plt\n",
    "from tqdm import tqdm\n",
    "import random\n",
    "\n",
    "import torch\n",
    "import torch.nn as nn\n",
    "import torch.nn.functional as F\n",
    "from torch.nn.utils.rnn import pad_sequence\n",
    "from torch.utils.data import TensorDataset, DataLoader\n",
    "\n",
    "from torchcrf import CRF"
   ]
  },
  {
   "cell_type": "markdown",
   "metadata": {},
   "source": [
    "## Seeds\n",
    "Making things reproduceable"
   ]
  },
  {
   "cell_type": "code",
   "execution_count": 3,
   "metadata": {},
   "outputs": [
    {
     "data": {
      "text/plain": [
       "<torch._C.Generator at 0x1270cf730>"
      ]
     },
     "execution_count": 3,
     "metadata": {},
     "output_type": "execute_result"
    }
   ],
   "source": [
    "random.seed(1234)\n",
    "torch.manual_seed(1234)"
   ]
  },
  {
   "cell_type": "markdown",
   "metadata": {},
   "source": [
    "## Constants"
   ]
  },
  {
   "cell_type": "code",
   "execution_count": 4,
   "metadata": {},
   "outputs": [],
   "source": [
    "BATCH_SIZE = 32\n",
    "EPOCHS = 7  # 15\n",
    "LSTM_HIDDEN_DIM = 128\n",
    "LSTM_LAYERS = 2\n",
    "DROPOUT = 0.20\n",
    "EMB_LARGE = True  # GloVe 50 or 100\n",
    "FREEZE_EMBS = True\n",
    "LARGE_MEM = False\n",
    "LR = 0.001\n",
    "LOWERCASE = True"
   ]
  },
  {
   "cell_type": "code",
   "execution_count": 5,
   "metadata": {},
   "outputs": [],
   "source": [
    "config = {'EPOCHS': EPOCHS,\n",
    "          'LSTM_HIDDEN_DIM': LSTM_HIDDEN_DIM,\n",
    "          'LSTM_LAYERS': LSTM_LAYERS,\n",
    "          'DROPOUT': DROPOUT,\n",
    "          'EMB_LARGE': EMB_LARGE,\n",
    "          'FREEZE_EMBS': FREEZE_EMBS}"
   ]
  },
  {
   "cell_type": "markdown",
   "metadata": {},
   "source": [
    "## Datasets"
   ]
  },
  {
   "cell_type": "code",
   "execution_count": 6,
   "metadata": {},
   "outputs": [],
   "source": [
    "PATH = '../datasets/'"
   ]
  },
  {
   "cell_type": "markdown",
   "metadata": {},
   "source": [
    "Install conlleval and download the dataset if not on your machine."
   ]
  },
  {
   "cell_type": "code",
   "execution_count": 7,
   "metadata": {},
   "outputs": [],
   "source": [
    "#!pip install conlleval\n",
    "#!pip install pytorch-crf"
   ]
  },
  {
   "cell_type": "code",
   "execution_count": 8,
   "metadata": {},
   "outputs": [],
   "source": [
    "import conlleval"
   ]
  },
  {
   "cell_type": "markdown",
   "metadata": {},
   "source": [
    "Uncomment and run this cell to download the CoNLL 2003 dataset"
   ]
  },
  {
   "cell_type": "code",
   "execution_count": 9,
   "metadata": {},
   "outputs": [
    {
     "data": {
      "text/plain": [
       "'!wget https://data.deepai.org/conll2003.zip\\n!unzip -u conll2003.zip\\n!mkdir ../datasets/conll2003\\n!mv train.txt valid.txt test.txt ../datasets/conll2003\\n!rm conll2003.zip'"
      ]
     },
     "execution_count": 9,
     "metadata": {},
     "output_type": "execute_result"
    }
   ],
   "source": [
    "\"\"\"!wget https://data.deepai.org/conll2003.zip\n",
    "!unzip -u conll2003.zip\n",
    "!mkdir ../datasets/conll2003\n",
    "!mv train.txt valid.txt test.txt ../datasets/conll2003\n",
    "!rm conll2003.zip\"\"\""
   ]
  },
  {
   "cell_type": "markdown",
   "metadata": {},
   "source": [
    "You may need to adjust the paths to load the datasets from your machine."
   ]
  },
  {
   "cell_type": "code",
   "execution_count": 10,
   "metadata": {},
   "outputs": [],
   "source": [
    "train_file = PATH + 'conll2003/train.txt'\n",
    "val_file = PATH + 'conll2003/valid.txt'\n",
    "test_file = PATH + 'conll2003/test.txt'"
   ]
  },
  {
   "cell_type": "markdown",
   "metadata": {},
   "source": [
    "## Reading the files"
   ]
  },
  {
   "cell_type": "markdown",
   "metadata": {},
   "source": [
    "### Loading the Embeddings\n",
    "We will use GloVe embeddings and load them"
   ]
  },
  {
   "cell_type": "code",
   "execution_count": 11,
   "metadata": {},
   "outputs": [],
   "source": [
    "if EMB_LARGE:\n",
    "    embedding_file = PATH + 'embeddings/glove.6B.100d.txt'\n",
    "    EMBEDDING_DIM = 100\n",
    "else:\n",
    "    embedding_file = PATH + 'embeddings/glove.6B.50d.txt'\n",
    "    EMBEDDING_DIM = 50"
   ]
  },
  {
   "cell_type": "code",
   "execution_count": 12,
   "metadata": {},
   "outputs": [],
   "source": [
    "def read_embeddings(file: str) -> dict[str, torch.FloatTensor]:\n",
    "    \"\"\"\n",
    "    Return the embeddings in the from of a dictionary\n",
    "    :param file:\n",
    "    :return:\n",
    "    \"\"\"\n",
    "    embeddings = {}\n",
    "    with open(file) as glove:\n",
    "        for line in glove:\n",
    "            values = line.strip().split()\n",
    "            word = values[0]\n",
    "            vector = torch.FloatTensor(\n",
    "                list(map(float, values[1:])))\n",
    "            embeddings[word] = vector\n",
    "    return embeddings"
   ]
  },
  {
   "cell_type": "code",
   "execution_count": 13,
   "metadata": {},
   "outputs": [],
   "source": [
    "embeddings_dict = read_embeddings(embedding_file)"
   ]
  },
  {
   "cell_type": "code",
   "execution_count": 14,
   "metadata": {},
   "outputs": [
    {
     "data": {
      "text/plain": [
       "tensor([-0.6145,  0.8969,  0.5677,  0.3910, -0.2244,  0.4904,  0.1087,  0.2741,\n",
       "        -0.2383, -0.5215,  0.7355, -0.3265,  0.5130,  0.3241, -0.4671,  0.6805,\n",
       "        -0.2550, -0.0405, -0.5442, -1.0548, -0.4669,  0.2356,  0.3123, -0.3454,\n",
       "         0.1479, -0.5375, -0.4322, -0.4872, -0.5102, -0.9051, -0.1792, -0.0184,\n",
       "         0.0972, -0.3162,  0.7512,  0.9224, -0.4997,  0.1404, -0.2830, -0.9744,\n",
       "        -0.0094, -0.6294,  0.1471, -0.9438,  0.0075,  0.1857, -0.9917,  0.0728,\n",
       "        -0.1847, -0.5290,  0.3900, -0.4568, -0.2193,  1.3723, -0.2964, -2.2342,\n",
       "        -0.3667,  0.0499,  0.6342,  0.5328, -0.5396,  0.3140, -0.4470, -0.3839,\n",
       "         0.0667, -0.0217,  0.2056,  0.5946, -0.2489, -0.5279, -0.3761,  0.0771,\n",
       "         0.7522, -0.2647, -0.0587,  0.6754, -0.1656, -0.4928, -0.2633, -0.2121,\n",
       "         0.2432,  0.1701, -0.2926, -0.5009, -0.5664, -0.4038, -0.4845, -0.3254,\n",
       "         0.7529,  0.0050, -0.3212,  0.2890, -0.0424,  0.6386, -0.2033, -0.4678,\n",
       "        -0.1566,  0.2179,  1.4143,  0.4003])"
      ]
     },
     "execution_count": 14,
     "metadata": {},
     "output_type": "execute_result"
    }
   ],
   "source": [
    "embeddings_dict['table']"
   ]
  },
  {
   "cell_type": "markdown",
   "metadata": {},
   "source": [
    "You will now convert the dataset in a Python data structure. Read the functions below to load the datasets. They store the corpus in a list of sentences. Each sentence is a list of rows, where each row is a dictionary."
   ]
  },
  {
   "cell_type": "markdown",
   "metadata": {},
   "source": [
    "### Loading the Corpus"
   ]
  },
  {
   "cell_type": "code",
   "execution_count": 15,
   "metadata": {},
   "outputs": [],
   "source": [
    "def read_sentences(file):\n",
    "    \"\"\"\n",
    "    Creates a list of sentences from the corpus\n",
    "    Each sentence is a string\n",
    "    :param file:\n",
    "    :return:\n",
    "    \"\"\"\n",
    "    f = open(file).read().strip()\n",
    "    sentences = f.split('\\n\\n')\n",
    "    return sentences"
   ]
  },
  {
   "cell_type": "code",
   "execution_count": 16,
   "metadata": {},
   "outputs": [],
   "source": [
    "def split_rows(sentences, column_names):\n",
    "    \"\"\"\n",
    "    Creates a list of sentence where each sentence is a list of lines\n",
    "    Each line is a dictionary of columns\n",
    "    :param sentences:\n",
    "    :param column_names:\n",
    "    :return:\n",
    "    \"\"\"\n",
    "    new_sentences = []\n",
    "    for sentence in sentences:\n",
    "        rows = sentence.split('\\n')\n",
    "        sentence = [dict(zip(column_names, row.split())) for row in rows]\n",
    "        new_sentences.append(sentence)\n",
    "    return new_sentences"
   ]
  },
  {
   "cell_type": "markdown",
   "metadata": {},
   "source": [
    "### Loading dictionaries"
   ]
  },
  {
   "attachments": {},
   "cell_type": "markdown",
   "metadata": {},
   "source": [
    "The CoNLL 2002 files have four columns: The wordform, `form`, its predicted part of speech, `ppos`, the predicted tag denoting the syntactic group also called the chunk tag, `pchunk`, and finally the named entity tag `ner`."
   ]
  },
  {
   "cell_type": "code",
   "execution_count": 17,
   "metadata": {},
   "outputs": [],
   "source": [
    "column_names = ['FORM', 'PPOS', 'PCHUNK', 'NER']"
   ]
  },
  {
   "cell_type": "markdown",
   "metadata": {},
   "source": [
    "We load the corpus as a list of dictionaries"
   ]
  },
  {
   "cell_type": "code",
   "execution_count": 18,
   "metadata": {},
   "outputs": [
    {
     "data": {
      "text/plain": [
       "[{'FORM': 'EU', 'PPOS': 'NNP', 'PCHUNK': 'B-NP', 'NER': 'B-ORG'},\n",
       " {'FORM': 'rejects', 'PPOS': 'VBZ', 'PCHUNK': 'B-VP', 'NER': 'O'},\n",
       " {'FORM': 'German', 'PPOS': 'JJ', 'PCHUNK': 'B-NP', 'NER': 'B-MISC'},\n",
       " {'FORM': 'call', 'PPOS': 'NN', 'PCHUNK': 'I-NP', 'NER': 'O'},\n",
       " {'FORM': 'to', 'PPOS': 'TO', 'PCHUNK': 'B-VP', 'NER': 'O'},\n",
       " {'FORM': 'boycott', 'PPOS': 'VB', 'PCHUNK': 'I-VP', 'NER': 'O'},\n",
       " {'FORM': 'British', 'PPOS': 'JJ', 'PCHUNK': 'B-NP', 'NER': 'B-MISC'},\n",
       " {'FORM': 'lamb', 'PPOS': 'NN', 'PCHUNK': 'I-NP', 'NER': 'O'},\n",
       " {'FORM': '.', 'PPOS': '.', 'PCHUNK': 'O', 'NER': 'O'}]"
      ]
     },
     "execution_count": 18,
     "metadata": {},
     "output_type": "execute_result"
    }
   ],
   "source": [
    "train_sentences = read_sentences(train_file)\n",
    "train_dict = split_rows(train_sentences, column_names)\n",
    "\n",
    "val_sentences = read_sentences(val_file)\n",
    "val_dict = split_rows(val_sentences, column_names)\n",
    "\n",
    "test_sentences = read_sentences(test_file)\n",
    "test_dict = split_rows(test_sentences, column_names)\n",
    "\n",
    "train_dict[1]"
   ]
  },
  {
   "cell_type": "markdown",
   "metadata": {},
   "source": [
    "### Function to build the two-way sequences\n",
    "Two vectors: $\\mathbf{x}$ and $\\mathbf{y}$"
   ]
  },
  {
   "cell_type": "code",
   "execution_count": 19,
   "metadata": {},
   "outputs": [],
   "source": [
    "def extract_cols(sent_dict, x='FORM', y='NER'):\n",
    "    (input, target) = ([], [])\n",
    "    for word in sent_dict:\n",
    "        input += [word[x]]\n",
    "        target += [word.get(y, None)]\n",
    "    return input, target"
   ]
  },
  {
   "cell_type": "code",
   "execution_count": 20,
   "metadata": {},
   "outputs": [],
   "source": [
    "train_cols = [extract_cols(sent_dict)\n",
    "              for sent_dict in train_dict]\n",
    "val_cols = [extract_cols(sent_dict)\n",
    "            for sent_dict in val_dict]\n",
    "test_cols = [extract_cols(sent_dict)\n",
    "             for sent_dict in test_dict]"
   ]
  },
  {
   "cell_type": "code",
   "execution_count": 21,
   "metadata": {},
   "outputs": [],
   "source": [
    "train_sent_words, train_sent_ner = zip(*train_cols)\n",
    "val_sent_words, val_sent_ner = zip(*val_cols)\n",
    "test_sent_words, test_sent_ner = zip(*test_cols)"
   ]
  },
  {
   "cell_type": "code",
   "execution_count": 22,
   "metadata": {},
   "outputs": [
    {
     "data": {
      "text/plain": [
       "['He',\n",
       " 'said',\n",
       " 'Talbott',\n",
       " ',',\n",
       " 'who',\n",
       " 'was',\n",
       " 'scheduled',\n",
       " 'to',\n",
       " 'return',\n",
       " 'on',\n",
       " 'Tuesday',\n",
       " ',',\n",
       " 'would',\n",
       " 'also',\n",
       " 'to',\n",
       " 'meet',\n",
       " 'his',\n",
       " 'Canadian',\n",
       " 'counterpart',\n",
       " ',',\n",
       " 'Gordon',\n",
       " 'Smith',\n",
       " ',',\n",
       " 'in',\n",
       " 'Ottawa',\n",
       " 'for',\n",
       " 'talks',\n",
       " 'that',\n",
       " 'would',\n",
       " 'include',\n",
       " 'the',\n",
       " 'situation',\n",
       " 'in',\n",
       " 'Haiti',\n",
       " '.']"
      ]
     },
     "execution_count": 22,
     "metadata": {},
     "output_type": "execute_result"
    }
   ],
   "source": [
    "train_sent_words[8131]"
   ]
  },
  {
   "cell_type": "code",
   "execution_count": 23,
   "metadata": {},
   "outputs": [],
   "source": [
    "if LOWERCASE:\n",
    "    train_sent_words = [list(map(str.lower, sentence))\n",
    "                        for sentence in train_sent_words]\n",
    "    val_sent_words = [list(map(str.lower, sentence))\n",
    "                      for sentence in val_sent_words]\n",
    "    test_sent_words = [list(map(str.lower, sentence))\n",
    "                       for sentence in test_sent_words]"
   ]
  },
  {
   "cell_type": "code",
   "execution_count": 24,
   "metadata": {},
   "outputs": [
    {
     "data": {
      "text/plain": [
       "['eu', 'rejects', 'german', 'call', 'to', 'boycott', 'british', 'lamb', '.']"
      ]
     },
     "execution_count": 24,
     "metadata": {},
     "output_type": "execute_result"
    }
   ],
   "source": [
    "train_sent_words[1]"
   ]
  },
  {
   "cell_type": "code",
   "execution_count": 25,
   "metadata": {},
   "outputs": [
    {
     "data": {
      "text/plain": [
       "['B-ORG', 'O', 'B-MISC', 'O', 'O', 'O', 'B-MISC', 'O', 'O']"
      ]
     },
     "execution_count": 25,
     "metadata": {},
     "output_type": "execute_result"
    }
   ],
   "source": [
    "train_sent_ner[1]"
   ]
  },
  {
   "cell_type": "markdown",
   "metadata": {},
   "source": [
    "### Extracting the Unique Words and Parts of Speech"
   ]
  },
  {
   "cell_type": "code",
   "execution_count": 26,
   "metadata": {},
   "outputs": [],
   "source": [
    "corpus_words = sorted(set([word\n",
    "                           for sentence in train_sent_words\n",
    "                           for word in sentence]))"
   ]
  },
  {
   "cell_type": "code",
   "execution_count": 27,
   "metadata": {},
   "outputs": [],
   "source": [
    "ner_list = sorted(set([pos\n",
    "                  for sentence in train_sent_ner\n",
    "                  for pos in sentence]))"
   ]
  },
  {
   "cell_type": "code",
   "execution_count": 28,
   "metadata": {},
   "outputs": [
    {
     "data": {
      "text/plain": [
       "['B-LOC', 'B-MISC', 'B-ORG', 'B-PER', 'I-LOC', 'I-MISC', 'I-ORG', 'I-PER', 'O']"
      ]
     },
     "execution_count": 28,
     "metadata": {},
     "output_type": "execute_result"
    }
   ],
   "source": [
    "ner_list"
   ]
  },
  {
   "cell_type": "code",
   "execution_count": 29,
   "metadata": {},
   "outputs": [
    {
     "data": {
      "text/plain": [
       "9"
      ]
     },
     "execution_count": 29,
     "metadata": {},
     "output_type": "execute_result"
    }
   ],
   "source": [
    "NB_CLASSES = len(ner_list)\n",
    "NB_CLASSES"
   ]
  },
  {
   "cell_type": "markdown",
   "metadata": {},
   "source": [
    "### We create the dictionary\n",
    "We add two words for the padding symbol and unknown words"
   ]
  },
  {
   "cell_type": "code",
   "execution_count": 30,
   "metadata": {},
   "outputs": [
    {
     "name": "stdout",
     "output_type": "stream",
     "text": [
      "Words in GloVe: 400000\n",
      "# unique words in the vocabulary: embeddings and corpus: 402597\n"
     ]
    }
   ],
   "source": [
    "embeddings_words = embeddings_dict.keys()\n",
    "print('Words in GloVe:',  len(embeddings_dict.keys()))\n",
    "vocabulary = sorted(list(set(corpus_words +\n",
    "                             list(embeddings_words))))\n",
    "cnt_uniq = len(vocabulary) + 2\n",
    "print('# unique words in the vocabulary: embeddings and corpus:',\n",
    "      cnt_uniq)"
   ]
  },
  {
   "cell_type": "markdown",
   "metadata": {},
   "source": [
    "### Function to convert the words or parts of speech to indices"
   ]
  },
  {
   "cell_type": "code",
   "execution_count": 31,
   "metadata": {},
   "outputs": [
    {
     "name": "stdout",
     "output_type": "stream",
     "text": [
      "word index: [('!', 2), ('!!', 3), ('!!!', 4), ('!!!!', 5), ('!!!!!', 6), ('!?', 7), ('!?!', 8), ('\"', 9), ('#', 10), ('##', 11)]\n",
      "NER index: [('B-LOC', 1), ('B-MISC', 2), ('B-ORG', 3), ('B-PER', 4), ('I-LOC', 5), ('I-MISC', 6), ('I-ORG', 7), ('I-PER', 8), ('O', 9)]\n"
     ]
    }
   ],
   "source": [
    "# We start at one to make provision for the padding symbol 0\n",
    "# in RNN and LSTMs and 1 for the unknown words\n",
    "idx2word = dict(enumerate(vocabulary, start=2))\n",
    "idx2ner = dict(enumerate(ner_list, start=1))\n",
    "word2idx = {v: k for k, v in idx2word.items()}\n",
    "ner2idx = {v: k for k, v in idx2ner.items()}\n",
    "print('word index:', list(word2idx.items())[:10])\n",
    "print('NER index:', list(ner2idx.items())[:10])"
   ]
  },
  {
   "cell_type": "code",
   "execution_count": 32,
   "metadata": {},
   "outputs": [],
   "source": [
    "def to_index(X: list[list[str]],\n",
    "             word2idx: dict[str, int],\n",
    "             unk: int = 1) -> torch.LongTensor:\n",
    "    \"\"\"\n",
    "    Convert the word lists (or POS lists) to indexes\n",
    "    :param X: List of word (or POS) lists\n",
    "    :param idx: word to idx dictionary\n",
    "    :return:\n",
    "    \"\"\"\n",
    "    X_idx = []\n",
    "    for x in X:\n",
    "        # We map the unknown words to one\n",
    "        x_idx = torch.LongTensor(\n",
    "            list(map(lambda x:\n",
    "                     word2idx.get(x, unk), x)))\n",
    "        X_idx += [x_idx]\n",
    "    return X_idx"
   ]
  },
  {
   "cell_type": "markdown",
   "metadata": {},
   "source": [
    "### We create the indexes"
   ]
  },
  {
   "cell_type": "code",
   "execution_count": 33,
   "metadata": {},
   "outputs": [
    {
     "name": "stdout",
     "output_type": "stream",
     "text": [
      "First sentences, word indices [tensor([935]), tensor([142143, 307143, 161836,  91321, 363368,  83766,  85852, 218260,    936]), tensor([284434,  79019])]\n",
      "First sentences, NER indices [tensor([9]), tensor([3, 9, 2, 9, 9, 9, 2, 9, 9]), tensor([4, 8])]\n"
     ]
    }
   ],
   "source": [
    "# We create the parallel sequences of indexes\n",
    "X_train_idx = to_index(train_sent_words, word2idx)\n",
    "Y_train_idx = to_index(train_sent_ner, ner2idx)\n",
    "\n",
    "X_val_idx = to_index(val_sent_words, word2idx)\n",
    "Y_val_idx = to_index(val_sent_ner, ner2idx)\n",
    "\n",
    "X_test_idx = to_index(test_sent_words, word2idx)\n",
    "Y_test_idx = to_index(test_sent_ner, ner2idx)\n",
    "\n",
    "print('First sentences, word indices', X_train_idx[:3])\n",
    "print('First sentences, NER indices', Y_train_idx[:3])"
   ]
  },
  {
   "cell_type": "markdown",
   "metadata": {},
   "source": [
    "### We pad the sentences\n",
    "We keep the traditional order to avoid changing the dataloader"
   ]
  },
  {
   "cell_type": "code",
   "execution_count": 34,
   "metadata": {},
   "outputs": [],
   "source": [
    "X_train = pad_sequence(X_train_idx, batch_first=True)\n",
    "Y_train = pad_sequence(Y_train_idx, batch_first=True)\n",
    "\n",
    "X_val = pad_sequence(X_val_idx, batch_first=True)\n",
    "Y_val = pad_sequence(Y_val_idx, batch_first=True)\n",
    "\n",
    "X_test = pad_sequence(X_test_idx, batch_first=True)\n",
    "Y_test = pad_sequence(Y_test_idx, batch_first=True)"
   ]
  },
  {
   "cell_type": "code",
   "execution_count": 35,
   "metadata": {},
   "outputs": [
    {
     "data": {
      "text/plain": [
       "tensor([[9, 0, 0,  ..., 0, 0, 0],\n",
       "        [3, 9, 2,  ..., 0, 0, 0],\n",
       "        [4, 8, 0,  ..., 0, 0, 0],\n",
       "        ...,\n",
       "        [3, 9, 3,  ..., 0, 0, 0],\n",
       "        [9, 9, 0,  ..., 0, 0, 0],\n",
       "        [3, 9, 3,  ..., 0, 0, 0]])"
      ]
     },
     "execution_count": 35,
     "metadata": {},
     "output_type": "execute_result"
    }
   ],
   "source": [
    "Y_train"
   ]
  },
  {
   "cell_type": "code",
   "execution_count": 36,
   "metadata": {},
   "outputs": [
    {
     "data": {
      "text/plain": [
       "[tensor([176967, 318004, 354554,    517, 389433, 386048, 322755, 363368, 309292,\n",
       "         271939, 369376,    517, 392694,  53898, 363368, 241803, 181212,  92077,\n",
       "         111905,    517, 166368, 337765,    517, 190291, 274846, 153033, 354663,\n",
       "         359644, 392694, 190648, 359698, 335549, 190291, 173081,    936]),\n",
       " tensor([935]),\n",
       " tensor([371668, 245894, 182065, 236839, 325743, 344614, 369376,    679, 365911,\n",
       "            936])]"
      ]
     },
     "execution_count": 36,
     "metadata": {},
     "output_type": "execute_result"
    }
   ],
   "source": [
    "X_train_idx[8131:8134]"
   ]
  },
  {
   "cell_type": "code",
   "execution_count": 37,
   "metadata": {},
   "outputs": [
    {
     "data": {
      "text/plain": [
       "tensor([[176967, 318004, 354554,    517, 389433, 386048, 322755, 363368, 309292,\n",
       "         271939, 369376,    517, 392694,  53898, 363368, 241803, 181212,  92077,\n",
       "         111905,    517, 166368, 337765,    517, 190291, 274846, 153033, 354663,\n",
       "         359644, 392694, 190648, 359698, 335549, 190291, 173081,    936],\n",
       "        [   935,      0,      0,      0,      0,      0,      0,      0,      0,\n",
       "              0,      0,      0,      0,      0,      0,      0,      0,      0,\n",
       "              0,      0,      0,      0,      0,      0,      0,      0,      0,\n",
       "              0,      0,      0,      0,      0,      0,      0,      0],\n",
       "        [371668, 245894, 182065, 236839, 325743, 344614, 369376,    679, 365911,\n",
       "            936,      0,      0,      0,      0,      0,      0,      0,      0,\n",
       "              0,      0,      0,      0,      0,      0,      0,      0,      0,\n",
       "              0,      0,      0,      0,      0,      0,      0,      0]])"
      ]
     },
     "execution_count": 37,
     "metadata": {},
     "output_type": "execute_result"
    }
   ],
   "source": [
    "pad_sequence(X_train_idx[8131:8134], batch_first=True)"
   ]
  },
  {
   "cell_type": "code",
   "execution_count": 38,
   "metadata": {},
   "outputs": [
    {
     "data": {
      "text/plain": [
       "tensor([[176967,    935, 371668],\n",
       "        [318004,      0, 245894],\n",
       "        [354554,      0, 182065],\n",
       "        [   517,      0, 236839],\n",
       "        [389433,      0, 325743],\n",
       "        [386048,      0, 344614],\n",
       "        [322755,      0, 369376],\n",
       "        [363368,      0,    679],\n",
       "        [309292,      0, 365911],\n",
       "        [271939,      0,    936],\n",
       "        [369376,      0,      0],\n",
       "        [   517,      0,      0],\n",
       "        [392694,      0,      0],\n",
       "        [ 53898,      0,      0],\n",
       "        [363368,      0,      0],\n",
       "        [241803,      0,      0],\n",
       "        [181212,      0,      0],\n",
       "        [ 92077,      0,      0],\n",
       "        [111905,      0,      0],\n",
       "        [   517,      0,      0],\n",
       "        [166368,      0,      0],\n",
       "        [337765,      0,      0],\n",
       "        [   517,      0,      0],\n",
       "        [190291,      0,      0],\n",
       "        [274846,      0,      0],\n",
       "        [153033,      0,      0],\n",
       "        [354663,      0,      0],\n",
       "        [359644,      0,      0],\n",
       "        [392694,      0,      0],\n",
       "        [190648,      0,      0],\n",
       "        [359698,      0,      0],\n",
       "        [335549,      0,      0],\n",
       "        [190291,      0,      0],\n",
       "        [173081,      0,      0],\n",
       "        [   936,      0,      0]])"
      ]
     },
     "execution_count": 38,
     "metadata": {},
     "output_type": "execute_result"
    }
   ],
   "source": [
    "pad_sequence(X_train_idx[8131:8134])"
   ]
  },
  {
   "cell_type": "markdown",
   "metadata": {},
   "source": [
    "### We create an embedding matrix\n",
    "0 is the padding symbol and index one is a unknown word"
   ]
  },
  {
   "cell_type": "code",
   "execution_count": 39,
   "metadata": {},
   "outputs": [],
   "source": [
    "embedding_table = torch.randn(\n",
    "    (len(vocabulary) + 2, EMBEDDING_DIM))/10\n",
    "# embedding_table = torch.rand(\n",
    "#    (len(vocabulary) + 2, EMBEDDING_DIM))/10 - 0.05  # range: -0.05, 0.05,"
   ]
  },
  {
   "cell_type": "code",
   "execution_count": 40,
   "metadata": {},
   "outputs": [],
   "source": [
    "for word in vocabulary:\n",
    "    if word in embeddings_dict:\n",
    "        # If the words are in the embeddings, we fill them with a value\n",
    "        embedding_table[word2idx[word]] = embeddings_dict[word]"
   ]
  },
  {
   "cell_type": "code",
   "execution_count": 41,
   "metadata": {},
   "outputs": [
    {
     "data": {
      "text/plain": [
       "torch.Size([402597, 100])"
      ]
     },
     "execution_count": 41,
     "metadata": {},
     "output_type": "execute_result"
    }
   ],
   "source": [
    "embedding_table.size()"
   ]
  },
  {
   "cell_type": "markdown",
   "metadata": {},
   "source": [
    "Embedding of table"
   ]
  },
  {
   "cell_type": "code",
   "execution_count": 42,
   "metadata": {},
   "outputs": [
    {
     "data": {
      "text/plain": [
       "tensor([-0.6145,  0.8969,  0.5677,  0.3910, -0.2244,  0.4904,  0.1087,  0.2741,\n",
       "        -0.2383, -0.5215,  0.7355, -0.3265,  0.5130,  0.3241, -0.4671,  0.6805,\n",
       "        -0.2550, -0.0405, -0.5442, -1.0548, -0.4669,  0.2356,  0.3123, -0.3454,\n",
       "         0.1479, -0.5375, -0.4322, -0.4872, -0.5102, -0.9051, -0.1792, -0.0184,\n",
       "         0.0972, -0.3162,  0.7512,  0.9224, -0.4997,  0.1404, -0.2830, -0.9744,\n",
       "        -0.0094, -0.6294,  0.1471, -0.9438,  0.0075,  0.1857, -0.9917,  0.0728,\n",
       "        -0.1847, -0.5290,  0.3900, -0.4568, -0.2193,  1.3723, -0.2964, -2.2342,\n",
       "        -0.3667,  0.0499,  0.6342,  0.5328, -0.5396,  0.3140, -0.4470, -0.3839,\n",
       "         0.0667, -0.0217,  0.2056,  0.5946, -0.2489, -0.5279, -0.3761,  0.0771,\n",
       "         0.7522, -0.2647, -0.0587,  0.6754, -0.1656, -0.4928, -0.2633, -0.2121,\n",
       "         0.2432,  0.1701, -0.2926, -0.5009, -0.5664, -0.4038, -0.4845, -0.3254,\n",
       "         0.7529,  0.0050, -0.3212,  0.2890, -0.0424,  0.6386, -0.2033, -0.4678,\n",
       "        -0.1566,  0.2179,  1.4143,  0.4003])"
      ]
     },
     "execution_count": 42,
     "metadata": {},
     "output_type": "execute_result"
    }
   ],
   "source": [
    "embedding_table[word2idx['table']]"
   ]
  },
  {
   "cell_type": "markdown",
   "metadata": {},
   "source": [
    "Embedding of the padding symbol, idx 0, random numbers"
   ]
  },
  {
   "cell_type": "code",
   "execution_count": 43,
   "metadata": {},
   "outputs": [
    {
     "data": {
      "text/plain": [
       "tensor([-0.0112, -0.0497,  0.0163, -0.0882,  0.0054,  0.0668, -0.0060, -0.0467,\n",
       "        -0.0215,  0.0884, -0.0758, -0.0369, -0.0342, -0.1402,  0.0321, -0.1022,\n",
       "         0.0799, -0.0092, -0.0705, -0.1602,  0.0289,  0.0490, -0.0385, -0.0712,\n",
       "        -0.0171, -0.1459,  0.0221,  0.0246, -0.1325,  0.0697, -0.0663,  0.1216,\n",
       "        -0.1495,  0.0881, -0.1179, -0.0934, -0.0568, -0.0277, -0.2183,  0.0367,\n",
       "         0.0938,  0.0008, -0.0314, -0.1157,  0.1841, -0.1017,  0.1219,  0.0160,\n",
       "         0.1598, -0.0047, -0.1527, -0.2014, -0.1517,  0.0388, -0.1185,  0.0690,\n",
       "         0.1323,  0.1817,  0.0681,  0.0724,  0.0032, -0.1659, -0.1877,  0.0737,\n",
       "         0.0926,  0.0925,  0.0183, -0.0074,  0.0315, -0.1037,  0.0210,  0.0614,\n",
       "         0.0063, -0.0330, -0.1797,  0.0873,  0.0767, -0.0114, -0.0943,  0.0754,\n",
       "         0.0141, -0.0694, -0.0616, -0.0730,  0.0431,  0.0286, -0.0248,  0.0204,\n",
       "         0.0852, -0.1410, -0.0107, -0.0802,  0.0277,  0.2560, -0.1695,  0.0189,\n",
       "         0.0739,  0.1590, -0.0195, -0.0241])"
      ]
     },
     "execution_count": 43,
     "metadata": {},
     "output_type": "execute_result"
    }
   ],
   "source": [
    "embedding_table[0]"
   ]
  },
  {
   "cell_type": "markdown",
   "metadata": {},
   "source": [
    "## Embedding Matrix"
   ]
  },
  {
   "attachments": {},
   "cell_type": "markdown",
   "metadata": {},
   "source": [
    "Create a numpy matrix of dimensions $(M, N)$, where $M$ will be the size of the vocabulary: The unique words in the training set and the words in GloVe, and $N$, the dimension of the embeddings.\n",
    "The padding symbol and the unknown word symbol will be part of the vocabulary at respectively index 0 and 1. \n",
    "\n",
    "Initialize the matrix with random values with the `torch.rand()`"
   ]
  },
  {
   "attachments": {},
   "cell_type": "markdown",
   "metadata": {},
   "source": [
    "The shape of your matrix is: (402597, 100) or (402597, 50)"
   ]
  },
  {
   "cell_type": "code",
   "execution_count": 44,
   "metadata": {},
   "outputs": [
    {
     "data": {
      "text/plain": [
       "torch.Size([402597, 100])"
      ]
     },
     "execution_count": 44,
     "metadata": {},
     "output_type": "execute_result"
    }
   ],
   "source": [
    "embedding_table.size()"
   ]
  },
  {
   "cell_type": "markdown",
   "metadata": {},
   "source": [
    "## Network Architecture"
   ]
  },
  {
   "cell_type": "markdown",
   "metadata": {},
   "source": [
    "We create your network consisting of one embedding layer, a simple recurrent neural network, either RNN or LSTM, and a linear layer. We initialize the embedding layer with `embedding_matrix` using `from_pretrained()`. We may try other configurations after. As number of RNN/LSTM units, we use 128."
   ]
  },
  {
   "cell_type": "code",
   "execution_count": 45,
   "metadata": {},
   "outputs": [],
   "source": [
    "class Model(nn.Module):\n",
    "\n",
    "    def __init__(self, embedding_table,\n",
    "                 hidden_size,\n",
    "                 nbr_classes,\n",
    "                 freeze_embs=True,\n",
    "                 num_layers=1,\n",
    "                 bidirectional=False):\n",
    "        super().__init__()\n",
    "        embedding_dim = embedding_table.size(dim=-1)\n",
    "        self.embeddings = nn.Embedding.from_pretrained(\n",
    "            embedding_table, freeze=freeze_embs, padding_idx=0)\n",
    "        self.dropout = nn.Dropout(DROPOUT)\n",
    "        self.lstm = nn.LSTM(embedding_dim, hidden_size, num_layers=num_layers,\n",
    "                            dropout=DROPOUT, batch_first=True, bidirectional=bidirectional)\n",
    "        if not bidirectional:\n",
    "            self.fc = nn.Linear(hidden_size, nbr_classes)\n",
    "        else:\n",
    "            # twice the units if bidirectional\n",
    "            self.fc = nn.Linear(2*hidden_size, nbr_classes)\n",
    "        self.crf = CRF(nbr_classes, batch_first=True)\n",
    "\n",
    "    def _get_nn_logits(self, sentence):\n",
    "        embeds = self.embeddings(sentence)\n",
    "        # embeds = self.dropout(embeds)\n",
    "        rec_out, _ = self.lstm(embeds)\n",
    "        # rec_out = F.relu(rec_out)\n",
    "        # rec_out = self.dropout(rec_out)\n",
    "        logits = self.fc(rec_out)\n",
    "        return logits\n",
    "\n",
    "    def forward(self, sentence, tags=None, mask=None):\n",
    "        nn_logits = self._get_nn_logits(sentence)\n",
    "        if tags is not None:\n",
    "            return -self.crf(nn_logits, tags, mask=mask)\n",
    "        else:\n",
    "            return self.crf.decode(nn_logits, mask=mask)"
   ]
  },
  {
   "cell_type": "markdown",
   "metadata": {},
   "source": [
    "We create a model"
   ]
  },
  {
   "cell_type": "code",
   "execution_count": 46,
   "metadata": {},
   "outputs": [],
   "source": [
    "model = Model(embedding_table,\n",
    "              LSTM_HIDDEN_DIM,\n",
    "              NB_CLASSES + 1,\n",
    "              freeze_embs=FREEZE_EMBS,\n",
    "              num_layers=LSTM_LAYERS,\n",
    "              bidirectional=True)"
   ]
  },
  {
   "cell_type": "code",
   "execution_count": 47,
   "metadata": {},
   "outputs": [
    {
     "data": {
      "text/plain": [
       "Model(\n",
       "  (embeddings): Embedding(402597, 100, padding_idx=0)\n",
       "  (dropout): Dropout(p=0.2, inplace=False)\n",
       "  (lstm): LSTM(100, 128, num_layers=2, batch_first=True, dropout=0.2, bidirectional=True)\n",
       "  (fc): Linear(in_features=256, out_features=10, bias=True)\n",
       "  (crf): CRF(num_tags=10)\n",
       ")"
      ]
     },
     "execution_count": 47,
     "metadata": {},
     "output_type": "execute_result"
    }
   ],
   "source": [
    "model"
   ]
  },
  {
   "attachments": {},
   "cell_type": "markdown",
   "metadata": {},
   "source": [
    "The optimizer `optimizer`"
   ]
  },
  {
   "cell_type": "code",
   "execution_count": null,
   "metadata": {},
   "outputs": [],
   "source": [
    "optimizer = torch.optim.NAdam(model.parameters(), lr=LR)\n",
    "# optimizer = torch.optim.RMSprop(model.parameters(), lr=LR)"
   ]
  },
  {
   "cell_type": "markdown",
   "metadata": {},
   "source": [
    "## Data Loaders"
   ]
  },
  {
   "cell_type": "code",
   "execution_count": 49,
   "metadata": {},
   "outputs": [],
   "source": [
    "train_dataset = TensorDataset(X_train, Y_train)\n",
    "train_dataloader = DataLoader(\n",
    "    train_dataset, batch_size=BATCH_SIZE, shuffle=True)\n",
    "\n",
    "val_dataset = TensorDataset(X_val, Y_val)\n",
    "val_dataloader = DataLoader(\n",
    "    val_dataset, batch_size=2048, shuffle=False)\n",
    "\n",
    "test_dataset = TensorDataset(X_test, Y_test)\n",
    "test_dataloader = DataLoader(\n",
    "    test_dataset, batch_size=2048, shuffle=False)"
   ]
  },
  {
   "attachments": {},
   "cell_type": "markdown",
   "metadata": {},
   "source": [
    "## A Few Experiments\n",
    "\n",
    "### Flattening the tensors"
   ]
  },
  {
   "cell_type": "code",
   "execution_count": 50,
   "metadata": {},
   "outputs": [
    {
     "data": {
      "text/plain": [
       "torch.Size([14987, 113])"
      ]
     },
     "execution_count": 50,
     "metadata": {},
     "output_type": "execute_result"
    }
   ],
   "source": [
    "Y_train.size()"
   ]
  },
  {
   "cell_type": "code",
   "execution_count": 51,
   "metadata": {},
   "outputs": [
    {
     "data": {
      "text/plain": [
       "tensor([9, 0, 0,  ..., 0, 0, 0])"
      ]
     },
     "execution_count": 51,
     "metadata": {},
     "output_type": "execute_result"
    }
   ],
   "source": [
    "Y_train.reshape(-1)"
   ]
  },
  {
   "cell_type": "code",
   "execution_count": 52,
   "metadata": {},
   "outputs": [
    {
     "data": {
      "text/plain": [
       "torch.Size([1693531])"
      ]
     },
     "execution_count": 52,
     "metadata": {},
     "output_type": "execute_result"
    }
   ],
   "source": [
    "Y_train.reshape(-1).size()"
   ]
  },
  {
   "attachments": {},
   "cell_type": "markdown",
   "metadata": {},
   "source": [
    "### Applying the Model"
   ]
  },
  {
   "attachments": {},
   "cell_type": "markdown",
   "metadata": {},
   "source": [
    "We apply the model to the whole training set. You can do it in one shot with the statements below. This can use up all your memory. Do not do it you do not have a lot of memory."
   ]
  },
  {
   "attachments": {},
   "cell_type": "markdown",
   "metadata": {},
   "source": [
    "It is preferable to use smaller batches instead. This is less legible but safer. "
   ]
  },
  {
   "cell_type": "code",
   "execution_count": 53,
   "metadata": {},
   "outputs": [],
   "source": [
    "def batch_inference(model, dataloader):\n",
    "    with torch.no_grad():\n",
    "        y_pred = []\n",
    "        for X_batch, _ in dataloader:\n",
    "            mask = (X_batch != 0)\n",
    "            y_pred += [model(X_batch, mask=mask)]\n",
    "    return y_pred"
   ]
  },
  {
   "cell_type": "code",
   "execution_count": 54,
   "metadata": {},
   "outputs": [
    {
     "data": {
      "text/plain": [
       "tensor([[   935,      0,      0,      0,      0,      0,      0,      0,      0,\n",
       "              0,      0,      0,      0,      0,      0,      0,      0,      0,\n",
       "              0,      0,      0,      0,      0,      0,      0,      0,      0,\n",
       "              0,      0,      0,      0,      0,      0,      0,      0,      0,\n",
       "              0,      0,      0,      0,      0,      0,      0,      0,      0,\n",
       "              0,      0,      0,      0,      0,      0,      0,      0,      0,\n",
       "              0,      0,      0,      0,      0,      0,      0,      0,      0,\n",
       "              0,      0,      0,      0,      0,      0,      0,      0,      0,\n",
       "              0,      0,      0,      0,      0,      0,      0,      0,      0,\n",
       "              0,      0,      0,      0,      0,      0,      0,      0,      0,\n",
       "              0,      0,      0,      0,      0,      0,      0,      0,      0,\n",
       "              0,      0,      0,      0,      0,      0,      0,      0,      0,\n",
       "              0,      0,      0,      0,      0],\n",
       "        [142143, 307143, 161836,  91321, 363368,  83766,  85852, 218260,    936,\n",
       "              0,      0,      0,      0,      0,      0,      0,      0,      0,\n",
       "              0,      0,      0,      0,      0,      0,      0,      0,      0,\n",
       "              0,      0,      0,      0,      0,      0,      0,      0,      0,\n",
       "              0,      0,      0,      0,      0,      0,      0,      0,      0,\n",
       "              0,      0,      0,      0,      0,      0,      0,      0,      0,\n",
       "              0,      0,      0,      0,      0,      0,      0,      0,      0,\n",
       "              0,      0,      0,      0,      0,      0,      0,      0,      0,\n",
       "              0,      0,      0,      0,      0,      0,      0,      0,      0,\n",
       "              0,      0,      0,      0,      0,      0,      0,      0,      0,\n",
       "              0,      0,      0,      0,      0,      0,      0,      0,      0,\n",
       "              0,      0,      0,      0,      0,      0,      0,      0,      0,\n",
       "              0,      0,      0,      0,      0],\n",
       "        [284434,  79019,      0,      0,      0,      0,      0,      0,      0,\n",
       "              0,      0,      0,      0,      0,      0,      0,      0,      0,\n",
       "              0,      0,      0,      0,      0,      0,      0,      0,      0,\n",
       "              0,      0,      0,      0,      0,      0,      0,      0,      0,\n",
       "              0,      0,      0,      0,      0,      0,      0,      0,      0,\n",
       "              0,      0,      0,      0,      0,      0,      0,      0,      0,\n",
       "              0,      0,      0,      0,      0,      0,      0,      0,      0,\n",
       "              0,      0,      0,      0,      0,      0,      0,      0,      0,\n",
       "              0,      0,      0,      0,      0,      0,      0,      0,      0,\n",
       "              0,      0,      0,      0,      0,      0,      0,      0,      0,\n",
       "              0,      0,      0,      0,      0,      0,      0,      0,      0,\n",
       "              0,      0,      0,      0,      0,      0,      0,      0,      0,\n",
       "              0,      0,      0,      0,      0]])"
      ]
     },
     "execution_count": 54,
     "metadata": {},
     "output_type": "execute_result"
    }
   ],
   "source": [
    "X_train[:3]"
   ]
  },
  {
   "cell_type": "markdown",
   "metadata": {},
   "source": [
    "## Training the Model"
   ]
  },
  {
   "attachments": {},
   "cell_type": "markdown",
   "metadata": {},
   "source": [
    "We create a dictionary to store the accuracy and the loss. We compute them in the training loop. We exclude the the padding symbols from your counts. To do this, we use a multiplicative mask with the terms Y_train > 0 or Y_val > 0. This is not critical though as we will evaluate the final results with another script. "
   ]
  },
  {
   "cell_type": "code",
   "execution_count": 55,
   "metadata": {},
   "outputs": [],
   "source": [
    "def evaluate(model,\n",
    "             dataloader) -> tuple[float, float]:\n",
    "    model.eval()\n",
    "    with torch.no_grad():\n",
    "        loss = 0\n",
    "        accuracy = 0\n",
    "        t_words = 0\n",
    "        for X_batch, Y_batch in dataloader:\n",
    "            mask = (Y_batch != 0)\n",
    "            loss += model(X_batch, Y_batch, mask=mask).item()\n",
    "            Y_batch_pred = model(X_batch, mask=mask)\n",
    "            t_words += mask.sum().item()\n",
    "            Y_batch_pred = map(torch.tensor, Y_batch_pred)\n",
    "            Y_batch_pred = pad_sequence(\n",
    "                    Y_batch_pred, batch_first=True)\n",
    "            sz = Y_batch_pred.size()\n",
    "            accuracy += torch.mul(Y_batch_pred == Y_batch[:, :sz[1]],\n",
    "                                  Y_batch[:, :sz[1]] > 0).sum().item()\n",
    "        return loss/t_words, accuracy/t_words"
   ]
  },
  {
   "cell_type": "code",
   "execution_count": 56,
   "metadata": {},
   "outputs": [],
   "source": [
    "history = {}\n",
    "history['accuracy'] = []\n",
    "history['loss'] = []\n",
    "history['val_accuracy'] = []\n",
    "history['val_loss'] = []"
   ]
  },
  {
   "cell_type": "markdown",
   "metadata": {},
   "source": [
    "We fit the model"
   ]
  },
  {
   "cell_type": "code",
   "execution_count": 57,
   "metadata": {},
   "outputs": [
    {
     "name": "stderr",
     "output_type": "stream",
     "text": [
      "100%|██████████| 469/469 [01:11<00:00,  6.59it/s]\n",
      "100%|██████████| 469/469 [01:14<00:00,  6.30it/s]\n",
      "100%|██████████| 469/469 [01:12<00:00,  6.50it/s]\n",
      "100%|██████████| 469/469 [01:11<00:00,  6.59it/s]\n",
      "100%|██████████| 469/469 [01:11<00:00,  6.58it/s]\n",
      "100%|██████████| 469/469 [01:12<00:00,  6.51it/s]\n",
      "100%|██████████| 469/469 [01:12<00:00,  6.49it/s]\n"
     ]
    }
   ],
   "source": [
    "for epoch in range(EPOCHS):\n",
    "    train_loss = 0\n",
    "    train_accuracy = 0\n",
    "    t_words = 0\n",
    "    for X_batch, Y_batch in tqdm(train_dataloader):\n",
    "        model.train()\n",
    "        mask = (Y_batch != 0)\n",
    "        loss = model(X_batch, Y_batch, mask=mask)\n",
    "        optimizer.zero_grad()\n",
    "        loss.backward()\n",
    "        optimizer.step()\n",
    "        model.eval()\n",
    "        with torch.no_grad():\n",
    "            train_loss += loss.item()\n",
    "            Y_batch_pred = model(X_batch, mask=mask)\n",
    "            Y_batch_pred = map(torch.tensor, Y_batch_pred)\n",
    "            Y_batch_pred = pad_sequence(\n",
    "                Y_batch_pred, batch_first=True)\n",
    "            sz = Y_batch_pred.size()\n",
    "            train_accuracy += torch.mul(Y_batch_pred == Y_batch[:, :sz[1]],\n",
    "                                  Y_batch[:, :sz[1]] > 0).sum().item()\n",
    "            n_words = torch.sum(Y_batch > 0).item()\n",
    "            t_words += n_words\n",
    "    model.eval()\n",
    "    with torch.no_grad():\n",
    "        history['accuracy'] += [\n",
    "            train_accuracy/t_words]\n",
    "        history['loss'] += [train_loss/t_words]\n",
    "        val_loss, val_acc = evaluate(model,\n",
    "                                     val_dataloader)\n",
    "        history['val_loss'] += [val_loss]\n",
    "        history['val_accuracy'] += [val_acc]"
   ]
  },
  {
   "attachments": {},
   "cell_type": "markdown",
   "metadata": {},
   "source": [
    "And we visualize the training curves. We compare them with a validation set."
   ]
  },
  {
   "cell_type": "code",
   "execution_count": 58,
   "metadata": {},
   "outputs": [
    {
     "data": {
      "text/plain": [
       "[0.958005351118694,\n",
       " 0.9695606653999768,\n",
       " 0.9727209275272403,\n",
       " 0.9752995463181977,\n",
       " 0.9761526232114467,\n",
       " 0.9771220287719571,\n",
       " 0.9764046686571795]"
      ]
     },
     "execution_count": 58,
     "metadata": {},
     "output_type": "execute_result"
    }
   ],
   "source": [
    "history['val_accuracy']"
   ]
  },
  {
   "cell_type": "code",
   "execution_count": 59,
   "metadata": {},
   "outputs": [
    {
     "data": {
      "text/plain": [
       "[0.2978155256273964,\n",
       " 0.1128332432676012,\n",
       " 0.08213287798253156,\n",
       " 0.06290393127717914,\n",
       " 0.05020501771690884,\n",
       " 0.039352914493291535,\n",
       " 0.03156677933623903]"
      ]
     },
     "execution_count": 59,
     "metadata": {},
     "output_type": "execute_result"
    }
   ],
   "source": [
    "history['loss']"
   ]
  },
  {
   "cell_type": "code",
   "execution_count": 60,
   "metadata": {},
   "outputs": [
    {
     "data": {
      "text/plain": [
       "[0.13811558862457105,\n",
       " 0.09750811271278452,\n",
       " 0.08535773820036523,\n",
       " 0.07631723376639507,\n",
       " 0.07255712118129944,\n",
       " 0.0724499161918599,\n",
       " 0.07781169219358908]"
      ]
     },
     "execution_count": 60,
     "metadata": {},
     "output_type": "execute_result"
    }
   ],
   "source": [
    "history['val_loss']"
   ]
  },
  {
   "cell_type": "code",
   "execution_count": 61,
   "metadata": {},
   "outputs": [
    {
     "data": {
      "image/png": "[encoded data removed]",
      "text/plain": [
       "<Figure size 640x480 with 1 Axes>"
      ]
     },
     "metadata": {},
     "output_type": "display_data"
    },
    {
     "data": {
      "image/png": "[encoded data removed]",
      "text/plain": [
       "<Figure size 640x480 with 1 Axes>"
      ]
     },
     "metadata": {},
     "output_type": "display_data"
    }
   ],
   "source": [
    "acc = history['accuracy']\n",
    "loss = history['loss']\n",
    "val_acc = history['val_accuracy']\n",
    "val_loss = history['val_loss']\n",
    "\n",
    "epochs = range(1, len(acc) + 1)\n",
    "plt.plot(epochs, acc, 'bo', label='Training accuracy')\n",
    "plt.plot(epochs, val_acc, 'b', label='Validation accuracy')\n",
    "plt.title('Training and validation accuracies')\n",
    "plt.legend()\n",
    "\n",
    "plt.figure()\n",
    "plt.plot(epochs, loss, 'bo', label='Training loss')\n",
    "plt.plot(epochs, val_loss, 'b', label='Validation loss')\n",
    "plt.title('Training and validation losses')\n",
    "plt.legend()\n",
    "\n",
    "plt.show()"
   ]
  },
  {
   "cell_type": "code",
   "execution_count": 62,
   "metadata": {},
   "outputs": [
    {
     "data": {
      "text/plain": [
       "Model(\n",
       "  (embeddings): Embedding(402597, 100, padding_idx=0)\n",
       "  (dropout): Dropout(p=0.2, inplace=False)\n",
       "  (lstm): LSTM(100, 128, num_layers=2, batch_first=True, dropout=0.2, bidirectional=True)\n",
       "  (fc): Linear(in_features=256, out_features=10, bias=True)\n",
       "  (crf): CRF(num_tags=10)\n",
       ")"
      ]
     },
     "execution_count": 62,
     "metadata": {},
     "output_type": "execute_result"
    }
   ],
   "source": [
    "model.eval()"
   ]
  },
  {
   "cell_type": "markdown",
   "metadata": {},
   "source": [
    "We try the model on a test sentence"
   ]
  },
  {
   "cell_type": "code",
   "execution_count": 63,
   "metadata": {},
   "outputs": [],
   "source": [
    "sentence = 'Homer wrote the Iliad .'.lower().split()"
   ]
  },
  {
   "cell_type": "markdown",
   "metadata": {},
   "source": [
    "Convert the sentence words to indices"
   ]
  },
  {
   "cell_type": "code",
   "execution_count": 64,
   "metadata": {},
   "outputs": [],
   "source": [
    "# The indexes or the unknown word idx\n",
    "sentence_word_idxs = torch.LongTensor([word2idx[word]\n",
    "                                       if word in word2idx else 1\n",
    "                                       for word in sentence])"
   ]
  },
  {
   "cell_type": "markdown",
   "metadata": {},
   "source": [
    "The indices. Note the 1 at the end."
   ]
  },
  {
   "cell_type": "code",
   "execution_count": 65,
   "metadata": {},
   "outputs": [
    {
     "name": "stdout",
     "output_type": "stream",
     "text": [
      "Sentence ['homer', 'wrote', 'the', 'iliad', '.']\n",
      "Sentence word indexes tensor([182779, 393044, 359698, 189110,    936])\n"
     ]
    }
   ],
   "source": [
    "print('Sentence', sentence)\n",
    "print('Sentence word indexes', sentence_word_idxs)"
   ]
  },
  {
   "attachments": {},
   "cell_type": "markdown",
   "metadata": {},
   "source": [
    "Predict the tags. Call the variable `sent_tag_predictions`"
   ]
  },
  {
   "cell_type": "code",
   "execution_count": 66,
   "metadata": {},
   "outputs": [
    {
     "name": "stderr",
     "output_type": "stream",
     "text": [
      "/opt/anaconda3/lib/python3.12/site-packages/torchcrf/__init__.py:305: UserWarning: where received a uint8 condition tensor. This behavior is deprecated and will be removed in a future version of PyTorch. Use a boolean condition instead. (Triggered internally at /Users/runner/work/pytorch/pytorch/pytorch/aten/src/ATen/native/TensorCompare.cpp:529.)\n",
      "  score = torch.where(mask[i].unsqueeze(1), next_score, score)\n"
     ]
    }
   ],
   "source": [
    "# Write your code\n",
    "sent_tag_predictions = model(sentence_word_idxs.unsqueeze(dim=0))"
   ]
  },
  {
   "cell_type": "code",
   "execution_count": 67,
   "metadata": {},
   "outputs": [
    {
     "data": {
      "text/plain": [
       "['O', 'O', 'O', 'B-MISC', 'O']"
      ]
     },
     "execution_count": 67,
     "metadata": {},
     "output_type": "execute_result"
    }
   ],
   "source": [
    "list(map(idx2ner.get, sent_tag_predictions[0]))"
   ]
  },
  {
   "cell_type": "markdown",
   "metadata": {},
   "source": [
    "## Evaluating the Model"
   ]
  },
  {
   "cell_type": "code",
   "execution_count": 68,
   "metadata": {},
   "outputs": [
    {
     "data": {
      "text/plain": [
       "[[{'FORM': 'SOCCER', 'PPOS': 'NN', 'PCHUNK': 'B-NP', 'NER': 'O'},\n",
       "  {'FORM': '-', 'PPOS': ':', 'PCHUNK': 'O', 'NER': 'O'},\n",
       "  {'FORM': 'JAPAN', 'PPOS': 'NNP', 'PCHUNK': 'B-NP', 'NER': 'B-LOC'},\n",
       "  {'FORM': 'GET', 'PPOS': 'VB', 'PCHUNK': 'B-VP', 'NER': 'O'},\n",
       "  {'FORM': 'LUCKY', 'PPOS': 'NNP', 'PCHUNK': 'B-NP', 'NER': 'O'},\n",
       "  {'FORM': 'WIN', 'PPOS': 'NNP', 'PCHUNK': 'I-NP', 'NER': 'O'},\n",
       "  {'FORM': ',', 'PPOS': ',', 'PCHUNK': 'O', 'NER': 'O'},\n",
       "  {'FORM': 'CHINA', 'PPOS': 'NNP', 'PCHUNK': 'B-NP', 'NER': 'B-PER'},\n",
       "  {'FORM': 'IN', 'PPOS': 'IN', 'PCHUNK': 'B-PP', 'NER': 'O'},\n",
       "  {'FORM': 'SURPRISE', 'PPOS': 'DT', 'PCHUNK': 'B-NP', 'NER': 'O'},\n",
       "  {'FORM': 'DEFEAT', 'PPOS': 'NN', 'PCHUNK': 'I-NP', 'NER': 'O'},\n",
       "  {'FORM': '.', 'PPOS': '.', 'PCHUNK': 'O', 'NER': 'O'}]]"
      ]
     },
     "execution_count": 68,
     "metadata": {},
     "output_type": "execute_result"
    }
   ],
   "source": [
    "test_sentences = read_sentences(test_file)\n",
    "test_dict = split_rows(test_sentences, column_names)\n",
    "test_dict[1:2]"
   ]
  },
  {
   "attachments": {},
   "cell_type": "markdown",
   "metadata": {},
   "source": [
    "Predict the NER tags."
   ]
  },
  {
   "cell_type": "code",
   "execution_count": 69,
   "metadata": {},
   "outputs": [
    {
     "data": {
      "text/plain": [
       "(0.11804931651088318, 0.9650923584622637)"
      ]
     },
     "execution_count": 69,
     "metadata": {},
     "output_type": "execute_result"
    }
   ],
   "source": [
    "test_loss, test_acc = evaluate(model, test_dataloader)\n",
    "test_loss, test_acc"
   ]
  },
  {
   "attachments": {},
   "cell_type": "markdown",
   "metadata": {},
   "source": [
    "We now predict the whole test set and we store the results in each dictionary with the key `pner`"
   ]
  },
  {
   "cell_type": "code",
   "execution_count": 70,
   "metadata": {},
   "outputs": [
    {
     "data": {
      "text/plain": [
       "'-DOCSTART- -X- -X- O'"
      ]
     },
     "execution_count": 70,
     "metadata": {},
     "output_type": "execute_result"
    }
   ],
   "source": [
    "test_sentences[0]"
   ]
  },
  {
   "cell_type": "code",
   "execution_count": 71,
   "metadata": {},
   "outputs": [],
   "source": [
    "Y_test_pred = batch_inference(model, test_dataloader)"
   ]
  },
  {
   "cell_type": "code",
   "execution_count": 72,
   "metadata": {},
   "outputs": [],
   "source": [
    "Y_test_pred = [y_pred for batch in Y_test_pred for y_pred in batch]"
   ]
  },
  {
   "cell_type": "code",
   "execution_count": 73,
   "metadata": {},
   "outputs": [
    {
     "data": {
      "text/plain": [
       "tensor([[9, 0, 0,  ..., 0, 0, 0],\n",
       "        [9, 9, 1,  ..., 0, 0, 0],\n",
       "        [4, 8, 0,  ..., 0, 0, 0],\n",
       "        ...,\n",
       "        [4, 9, 1,  ..., 0, 0, 0],\n",
       "        [9, 9, 1,  ..., 0, 0, 0],\n",
       "        [9, 9, 9,  ..., 0, 0, 0]])"
      ]
     },
     "execution_count": 73,
     "metadata": {},
     "output_type": "execute_result"
    }
   ],
   "source": [
    "Y_test"
   ]
  },
  {
   "cell_type": "code",
   "execution_count": 74,
   "metadata": {},
   "outputs": [],
   "source": [
    "for sent, y_hat in zip(test_dict, Y_test_pred):\n",
    "    for word, ner_hat in zip(sent, y_hat):\n",
    "        word['PNER'] = idx2ner.get(int(ner_hat))\n",
    "        if word['PNER'] == None:\n",
    "            print(sent)"
   ]
  },
  {
   "attachments": {},
   "cell_type": "markdown",
   "metadata": {},
   "source": [
    "A sentence example: `NER` is the hand annotation and `PNER` is the prediction."
   ]
  },
  {
   "cell_type": "code",
   "execution_count": 75,
   "metadata": {},
   "outputs": [
    {
     "data": {
      "text/plain": [
       "[{'FORM': 'SOCCER', 'PPOS': 'NN', 'PCHUNK': 'B-NP', 'NER': 'O', 'PNER': 'O'},\n",
       " {'FORM': '-', 'PPOS': ':', 'PCHUNK': 'O', 'NER': 'O', 'PNER': 'O'},\n",
       " {'FORM': 'JAPAN',\n",
       "  'PPOS': 'NNP',\n",
       "  'PCHUNK': 'B-NP',\n",
       "  'NER': 'B-LOC',\n",
       "  'PNER': 'B-LOC'},\n",
       " {'FORM': 'GET', 'PPOS': 'VB', 'PCHUNK': 'B-VP', 'NER': 'O', 'PNER': 'O'},\n",
       " {'FORM': 'LUCKY', 'PPOS': 'NNP', 'PCHUNK': 'B-NP', 'NER': 'O', 'PNER': 'O'},\n",
       " {'FORM': 'WIN', 'PPOS': 'NNP', 'PCHUNK': 'I-NP', 'NER': 'O', 'PNER': 'O'},\n",
       " {'FORM': ',', 'PPOS': ',', 'PCHUNK': 'O', 'NER': 'O', 'PNER': 'O'},\n",
       " {'FORM': 'CHINA',\n",
       "  'PPOS': 'NNP',\n",
       "  'PCHUNK': 'B-NP',\n",
       "  'NER': 'B-PER',\n",
       "  'PNER': 'B-LOC'},\n",
       " {'FORM': 'IN', 'PPOS': 'IN', 'PCHUNK': 'B-PP', 'NER': 'O', 'PNER': 'O'},\n",
       " {'FORM': 'SURPRISE', 'PPOS': 'DT', 'PCHUNK': 'B-NP', 'NER': 'O', 'PNER': 'O'},\n",
       " {'FORM': 'DEFEAT', 'PPOS': 'NN', 'PCHUNK': 'I-NP', 'NER': 'O', 'PNER': 'O'},\n",
       " {'FORM': '.', 'PPOS': '.', 'PCHUNK': 'O', 'NER': 'O', 'PNER': 'O'}]"
      ]
     },
     "execution_count": 75,
     "metadata": {},
     "output_type": "execute_result"
    }
   ],
   "source": [
    "test_dict[1]"
   ]
  },
  {
   "cell_type": "code",
   "execution_count": 76,
   "metadata": {},
   "outputs": [
    {
     "data": {
      "text/plain": [
       "[{'FORM': 'SOCCER', 'PPOS': 'NN', 'PCHUNK': 'B-NP', 'NER': 'O', 'PNER': 'O'},\n",
       " {'FORM': '-', 'PPOS': ':', 'PCHUNK': 'O', 'NER': 'O', 'PNER': 'O'},\n",
       " {'FORM': 'JAPAN',\n",
       "  'PPOS': 'NNP',\n",
       "  'PCHUNK': 'B-NP',\n",
       "  'NER': 'B-LOC',\n",
       "  'PNER': 'B-LOC'},\n",
       " {'FORM': 'GET', 'PPOS': 'VB', 'PCHUNK': 'B-VP', 'NER': 'O', 'PNER': 'O'},\n",
       " {'FORM': 'LUCKY', 'PPOS': 'NNP', 'PCHUNK': 'B-NP', 'NER': 'O', 'PNER': 'O'},\n",
       " {'FORM': 'WIN', 'PPOS': 'NNP', 'PCHUNK': 'I-NP', 'NER': 'O', 'PNER': 'O'},\n",
       " {'FORM': ',', 'PPOS': ',', 'PCHUNK': 'O', 'NER': 'O', 'PNER': 'O'},\n",
       " {'FORM': 'CHINA',\n",
       "  'PPOS': 'NNP',\n",
       "  'PCHUNK': 'B-NP',\n",
       "  'NER': 'B-PER',\n",
       "  'PNER': 'B-LOC'},\n",
       " {'FORM': 'IN', 'PPOS': 'IN', 'PCHUNK': 'B-PP', 'NER': 'O', 'PNER': 'O'},\n",
       " {'FORM': 'SURPRISE', 'PPOS': 'DT', 'PCHUNK': 'B-NP', 'NER': 'O', 'PNER': 'O'},\n",
       " {'FORM': 'DEFEAT', 'PPOS': 'NN', 'PCHUNK': 'I-NP', 'NER': 'O', 'PNER': 'O'},\n",
       " {'FORM': '.', 'PPOS': '.', 'PCHUNK': 'O', 'NER': 'O', 'PNER': 'O'}]"
      ]
     },
     "execution_count": 76,
     "metadata": {},
     "output_type": "execute_result"
    }
   ],
   "source": [
    "test_dict[1]"
   ]
  },
  {
   "cell_type": "code",
   "execution_count": 77,
   "metadata": {},
   "outputs": [],
   "source": [
    "cnt = 0\n",
    "cnt_corr = 0\n",
    "for s in test_dict:\n",
    "    for w in s:\n",
    "        if w['PNER'] == w['NER']:\n",
    "            cnt_corr += 1\n",
    "        cnt += 1"
   ]
  },
  {
   "cell_type": "code",
   "execution_count": 78,
   "metadata": {},
   "outputs": [
    {
     "data": {
      "text/plain": [
       "0.9650923584622637"
      ]
     },
     "execution_count": 78,
     "metadata": {},
     "output_type": "execute_result"
    }
   ],
   "source": [
    "cnt_corr/cnt"
   ]
  },
  {
   "cell_type": "markdown",
   "metadata": {},
   "source": [
    "We save the test set in a file to evaluate the performance of our model."
   ]
  },
  {
   "cell_type": "code",
   "execution_count": 79,
   "metadata": {},
   "outputs": [],
   "source": [
    "column_names = ['FORM', 'PPOS', 'PCHUNK', 'NER', 'PNER']"
   ]
  },
  {
   "cell_type": "code",
   "execution_count": 80,
   "metadata": {},
   "outputs": [],
   "source": [
    "def save(file, corpus_dict, column_names):\n",
    "    \"\"\"\n",
    "    Saves the corpus in a file\n",
    "    :param file:\n",
    "    :param corpus_dict:\n",
    "    :param column_names:\n",
    "    :return:\n",
    "    \"\"\"\n",
    "    i = 0\n",
    "    with open(file, 'w', encoding='utf8') as f_out:\n",
    "        i += 1\n",
    "        for sentence in corpus_dict:\n",
    "            sentence_lst = []\n",
    "            for row in sentence:\n",
    "                items = map(lambda x: row.get(x, '_'), column_names)\n",
    "                sentence_lst += ' '.join(items) + '\\n'\n",
    "            sentence_lst += '\\n'\n",
    "            f_out.write(''.join(sentence_lst))"
   ]
  },
  {
   "cell_type": "code",
   "execution_count": 81,
   "metadata": {},
   "outputs": [],
   "source": [
    "outfile = 'test_model.out'"
   ]
  },
  {
   "cell_type": "code",
   "execution_count": 82,
   "metadata": {},
   "outputs": [],
   "source": [
    "save(outfile, test_dict, column_names)"
   ]
  },
  {
   "cell_type": "code",
   "execution_count": 83,
   "metadata": {},
   "outputs": [
    {
     "data": {
      "text/plain": [
       "0.8498695691283619"
      ]
     },
     "execution_count": 83,
     "metadata": {},
     "output_type": "execute_result"
    }
   ],
   "source": [
    "lines = open(outfile, encoding='utf8').read().splitlines()\n",
    "res = conlleval.evaluate(lines)\n",
    "chunker_score = res['overall']['chunks']['evals']['f1']\n",
    "chunker_score"
   ]
  },
  {
   "cell_type": "code",
   "execution_count": 84,
   "metadata": {},
   "outputs": [
    {
     "data": {
      "text/plain": [
       "{'EPOCHS': 7,\n",
       " 'LSTM_HIDDEN_DIM': 128,\n",
       " 'LSTM_LAYERS': 2,\n",
       " 'DROPOUT': 0.2,\n",
       " 'EMB_LARGE': True,\n",
       " 'FREEZE_EMBS': True}"
      ]
     },
     "execution_count": 84,
     "metadata": {},
     "output_type": "execute_result"
    }
   ],
   "source": [
    "config"
   ]
  },
  {
   "cell_type": "code",
   "execution_count": 85,
   "metadata": {},
   "outputs": [],
   "source": [
    "torch.save(model.state_dict(), 'model.pth')"
   ]
  }
 ],
 "metadata": {
  "kernelspec": {
   "display_name": "base",
   "language": "python",
   "name": "python3"
  },
  "language_info": {
   "codemirror_mode": {
    "name": "ipython",
    "version": 3
   },
   "file_extension": ".py",
   "mimetype": "text/x-python",
   "name": "python",
   "nbconvert_exporter": "python",
   "pygments_lexer": "ipython3",
   "version": "3.12.4"
  }
 },
 "nbformat": 4,
 "nbformat_minor": 4
}
